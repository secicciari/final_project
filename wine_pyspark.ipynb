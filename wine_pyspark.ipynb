{
  "nbformat": 4,
  "nbformat_minor": 0,
  "metadata": {
    "colab": {
      "name": "wine_pyspark.ipynb",
      "provenance": [],
      "collapsed_sections": []
    },
    "kernelspec": {
      "name": "python3",
      "display_name": "Python 3"
    },
    "language_info": {
      "name": "python"
    }
  },
  "cells": [
    {
      "cell_type": "code",
      "metadata": {
        "colab": {
          "base_uri": "https://localhost:8080/"
        },
        "id": "6BwscHGwv_-G",
        "outputId": "0989fd90-45d1-4c7c-e8e1-0fb48f7d2efe"
      },
      "source": [
        "import pandas as pd\n",
        "import io\n",
        "\n",
        "# Import RDS password\n",
        "from config import rds_pwd\n",
        "\n",
        "import os\n",
        "# Find the latest version of spark 2.0  from http://www-us.apache.org/dist/spark/ and enter as the spark version\n",
        "spark_version = 'spark-3.0.2'\n",
        "os.environ['SPARK_VERSION']=spark_version\n",
        "\n",
        "# Install Spark and Java\n",
        "!apt-get update\n",
        "!apt-get install openjdk-11-jdk-headless -qq > /dev/null\n",
        "!wget -q http://www-us.apache.org/dist/spark/$SPARK_VERSION/$SPARK_VERSION-bin-hadoop2.7.tgz\n",
        "!tar xf $SPARK_VERSION-bin-hadoop2.7.tgz\n",
        "!pip install -q findspark\n",
        "\n",
        "# Set Environment Variables\n",
        "import os\n",
        "os.environ[\"JAVA_HOME\"] = \"/usr/lib/jvm/java-11-openjdk-amd64\"\n",
        "os.environ[\"SPARK_HOME\"] = f\"/content/{spark_version}-bin-hadoop2.7\"\n",
        "\n",
        "# Start a SparkSession\n",
        "import findspark\n",
        "findspark.init()"
      ],
      "execution_count": 1,
      "outputs": [
        {
          "output_type": "stream",
          "text": [
            "\r0% [Working]\r            \rGet:1 http://security.ubuntu.com/ubuntu bionic-security InRelease [88.7 kB]\n",
            "Ign:2 https://developer.download.nvidia.com/compute/cuda/repos/ubuntu1804/x86_64  InRelease\n",
            "Hit:3 http://ppa.launchpad.net/c2d4u.team/c2d4u4.0+/ubuntu bionic InRelease\n",
            "Ign:4 https://developer.download.nvidia.com/compute/machine-learning/repos/ubuntu1804/x86_64  InRelease\n",
            "Hit:5 https://developer.download.nvidia.com/compute/cuda/repos/ubuntu1804/x86_64  Release\n",
            "Hit:6 http://archive.ubuntu.com/ubuntu bionic InRelease\n",
            "Hit:7 https://developer.download.nvidia.com/compute/machine-learning/repos/ubuntu1804/x86_64  Release\n",
            "Hit:8 https://cloud.r-project.org/bin/linux/ubuntu bionic-cran40/ InRelease\n",
            "Hit:9 http://archive.ubuntu.com/ubuntu bionic-updates InRelease\n",
            "Hit:10 http://ppa.launchpad.net/cran/libgit2/ubuntu bionic InRelease\n",
            "Hit:11 http://archive.ubuntu.com/ubuntu bionic-backports InRelease\n",
            "Hit:12 http://ppa.launchpad.net/deadsnakes/ppa/ubuntu bionic InRelease\n",
            "Hit:13 http://ppa.launchpad.net/graphics-drivers/ppa/ubuntu bionic InRelease\n",
            "Fetched 88.7 kB in 3s (29.8 kB/s)\n",
            "Reading package lists... Done\n"
          ],
          "name": "stdout"
        }
      ]
    },
    {
      "cell_type": "code",
      "metadata": {
        "colab": {
          "base_uri": "https://localhost:8080/"
        },
        "id": "nhx4tcuJwJKc",
        "outputId": "ae049a5f-3831-4354-d4cc-155a4ec3eb32"
      },
      "source": [
        "# Download the Postgres driver that will allow Spark to interact with Postgres.\n",
        "!wget https://jdbc.postgresql.org/download/postgresql-42.2.16.jar"
      ],
      "execution_count": 2,
      "outputs": [
        {
          "output_type": "stream",
          "text": [
            "--2021-05-13 00:55:28--  https://jdbc.postgresql.org/download/postgresql-42.2.16.jar\n",
            "Resolving jdbc.postgresql.org (jdbc.postgresql.org)... 72.32.157.228, 2001:4800:3e1:1::228\n",
            "Connecting to jdbc.postgresql.org (jdbc.postgresql.org)|72.32.157.228|:443... connected.\n",
            "HTTP request sent, awaiting response... 200 OK\n",
            "Length: 1002883 (979K) [application/java-archive]\n",
            "Saving to: ‘postgresql-42.2.16.jar.1’\n",
            "\n",
            "postgresql-42.2.16. 100%[===================>] 979.38K  --.-KB/s    in 0.09s   \n",
            "\n",
            "2021-05-13 00:55:28 (10.3 MB/s) - ‘postgresql-42.2.16.jar.1’ saved [1002883/1002883]\n",
            "\n"
          ],
          "name": "stdout"
        }
      ]
    },
    {
      "cell_type": "code",
      "metadata": {
        "id": "iMN2CfyIwL_4"
      },
      "source": [
        "from pyspark.sql import SparkSession\n",
        "spark = SparkSession.builder.appName(\"Wine-Project\").config(\"spark.driver.extraClassPath\",\"/content/postgresql-42.2.16.jar\").getOrCreate()"
      ],
      "execution_count": 3,
      "outputs": []
    },
    {
      "cell_type": "markdown",
      "metadata": {
        "id": "CQ8UUehpwXMz"
      },
      "source": [
        "**Load Data into Spark DataFrame**"
      ]
    },
    {
      "cell_type": "code",
      "metadata": {
        "id": "oOdzCvVlP0-2",
        "colab": {
          "base_uri": "https://localhost:8080/"
        },
        "outputId": "9fb80534-0f78-48ab-a767-7c0033ac457a"
      },
      "source": [
        "from pyspark import SparkFiles\n",
        "url = \"https://green-team-wine.s3.us-east-2.amazonaws.com/wine_reviews_cleaned.csv\"\n",
        "spark.sparkContext.addFile(url)\n",
        "wine_df = spark.read.csv(SparkFiles.get(\"wine_reviews_cleaned.csv\"), sep=\",\", header=True, inferSchema=True)\n",
        "wine_df.show()"
      ],
      "execution_count": 4,
      "outputs": [
        {
          "output_type": "stream",
          "text": [
            "+---+-------+------+------------------+-------------------+--------------------+\n",
            "|_c0|country|points|           variety|             winery|       winery_search|\n",
            "+---+-------+------+------------------+-------------------+--------------------+\n",
            "|  3|     US|    87|          Riesling|         St. Julian|St. Julian winery US|\n",
            "|  4|     US|    87|        Pinot Noir|       Sweet Cheeks|Sweet Cheeks wine...|\n",
            "| 10|     US|    87|Cabernet Sauvignon| Kirkland Signature|Kirkland Signatur...|\n",
            "| 12|     US|    87|Cabernet Sauvignon|   Louis M. Martini|Louis M. Martini ...|\n",
            "| 14|     US|    87|        Chardonnay|           Mirassou|  Mirassou winery US|\n",
            "| 15|Germany|    87|          Riesling|    Richard Böcking|Richard Böcking w...|\n",
            "| 21|     US|    87|        Pinot Noir|            Acrobat|   Acrobat winery US|\n",
            "| 23|     US|    87|            Merlot|            Bianchi|   Bianchi winery US|\n",
            "| 25|     US|    87|        Pinot Noir|Castello di Amorosa|Castello di Amoro...|\n",
            "| 34|     US|    86|   Sauvignon Blanc|            Envolve|   Envolve winery US|\n",
            "| 35|     US|    86|        Pinot Noir|              Erath|     Erath winery US|\n",
            "| 37|  Italy|    86|Cabernet Sauvignon|Feudi del Pisciotto|Feudi del Pisciot...|\n",
            "| 41|     US|    86|        Pinot Noir|    Hawkins Cellars|Hawkins Cellars w...|\n",
            "| 43|     US|    86|   Sauvignon Blanc|        Robert Hall|Robert Hall winer...|\n",
            "| 44|  Chile|    86|            Merlot|           Sundance|Sundance winery C...|\n",
            "| 47|     US|    86|          Riesling|   The White Knight|The White Knight ...|\n",
            "| 48|     US|    86|   Sauvignon Blanc|              Trump|     Trump winery US|\n",
            "| 55|     US|    85|        Chardonnay|          RustRidge| RustRidge winery US|\n",
            "| 56|     US|    85|        Chardonnay|          Souverain| Souverain winery US|\n",
            "| 58|  Chile|    85|        Pinot Noir|      Tres Palacios|Tres Palacios win...|\n",
            "+---+-------+------+------------------+-------------------+--------------------+\n",
            "only showing top 20 rows\n",
            "\n"
          ],
          "name": "stdout"
        }
      ]
    },
    {
      "cell_type": "code",
      "metadata": {
        "id": "YSz7RNm-wgQn",
        "colab": {
          "base_uri": "https://localhost:8080/"
        },
        "outputId": "f191a1d5-6aa5-4829-e95c-21c1a6524537"
      },
      "source": [
        "wine_df.count()"
      ],
      "execution_count": 5,
      "outputs": [
        {
          "output_type": "execute_result",
          "data": {
            "text/plain": [
              "55461"
            ]
          },
          "metadata": {
            "tags": []
          },
          "execution_count": 5
        }
      ]
    },
    {
      "cell_type": "code",
      "metadata": {
        "colab": {
          "base_uri": "https://localhost:8080/"
        },
        "id": "m2K8hrrCYgIJ",
        "outputId": "a95df218-62bb-45a1-9403-9ac2d3824ccd"
      },
      "source": [
        "url = \"https://green-team-wine.s3.us-east-2.amazonaws.com/winery_weather.csv\"\n",
        "spark.sparkContext.addFile(url)\n",
        "weather_df = spark.read.csv(SparkFiles.get(\"winery_weather.csv\"), sep=\",\", header=True, inferSchema=True)\n",
        "weather_df.show()"
      ],
      "execution_count": 6,
      "outputs": [
        {
          "output_type": "stream",
          "text": [
            "+---+--------------------+----------------------------+--------------------------+--------------------+--------------------------------+\n",
            "|_c0|              Winery|Average Temperature (Kelvin)|Average Air Pressure (hPa)|Average Humidity (%)|Average Daily Precipitation (mm)|\n",
            "+---+--------------------+----------------------------+--------------------------+--------------------+--------------------------------+\n",
            "|  0|St. Julian winery US|          269.63750000000005|        1018.1500000000001|   79.24000000000001|                          0.0725|\n",
            "|  1|Sweet Cheeks wine...|                     276.025|                 1019.8875|   85.45249999999999|            0.057499999999999996|\n",
            "|  2|Kirkland Signatur...|                     277.375|                 1020.0125|   79.19749999999999|             0.23500000000000001|\n",
            "|  3|Louis M. Martini ...|          281.03249999999997|                    1018.5|              79.155|                          0.0775|\n",
            "|  4|Richard Böcking w...|                      275.71|                 1014.9425|              92.215|                           0.135|\n",
            "|  5|   Bianchi winery US|                     279.685|                   1018.23|               73.42|                           0.025|\n",
            "|  6|Castello di Amoro...|          281.03249999999997|                    1018.5|              79.155|                          0.0775|\n",
            "|  7|   Envolve winery US|                    281.7425|        1019.1525000000001|   70.48750000000001|                           0.125|\n",
            "|  8|     Erath winery US|          276.21999999999997|                 1020.7575|              76.705|                            0.14|\n",
            "|  9|Feudi del Pisciot...|          282.53499999999997|                   1014.39|             75.9475|                           0.055|\n",
            "| 10|Hawkins Cellars w...|                    276.0775|                 1020.8975|             74.8725|                           0.135|\n",
            "| 11|Robert Hall winer...|                     279.685|                   1018.23|               73.42|                           0.025|\n",
            "| 12|Sundance winery C...|                     269.755|        1013.9599999999999|                58.3|                            0.01|\n",
            "| 13|     Trump winery US|                    277.4675|        1019.2974999999999|               70.09|                          0.1225|\n",
            "| 14| RustRidge winery US|          281.03249999999997|                    1018.5|              79.155|                          0.0775|\n",
            "| 15| Souverain winery US|          281.03249999999997|                    1018.5|              79.155|                          0.0775|\n",
            "| 16|Tres Palacios win...|          294.26750000000004|        1004.5550000000001|   47.05500000000001|                             0.0|\n",
            "| 17|     Okapi winery US|          278.52750000000003|                 1020.1275|             76.5975|                          0.2175|\n",
            "| 18|    Sevtap winery US|                      285.08|                  1018.895|             58.4075|                            0.01|\n",
            "| 19|Simonnet-Febvre w...|                     276.745|        1020.5049999999999|   88.98249999999999|                          0.1075|\n",
            "+---+--------------------+----------------------------+--------------------------+--------------------+--------------------------------+\n",
            "only showing top 20 rows\n",
            "\n"
          ],
          "name": "stdout"
        }
      ]
    },
    {
      "cell_type": "code",
      "metadata": {
        "colab": {
          "base_uri": "https://localhost:8080/"
        },
        "id": "6anzv1THYggd",
        "outputId": "5cb593ce-b772-44e4-c5d6-301d5b5536cb"
      },
      "source": [
        "weather_df.count()"
      ],
      "execution_count": 7,
      "outputs": [
        {
          "output_type": "execute_result",
          "data": {
            "text/plain": [
              "7892"
            ]
          },
          "metadata": {
            "tags": []
          },
          "execution_count": 7
        }
      ]
    },
    {
      "cell_type": "code",
      "metadata": {
        "colab": {
          "base_uri": "https://localhost:8080/"
        },
        "id": "ZivbaiKFzFAv",
        "outputId": "f073b401-1ee7-4f33-d77d-4c7fe41353fc"
      },
      "source": [
        "url = \"https://green-team-wine.s3.us-east-2.amazonaws.com/uscounty_weather.csv\"\n",
        "spark.sparkContext.addFile(url)\n",
        "uscounty_weather_df = spark.read.csv(SparkFiles.get(\"uscounty_weather.csv\"), sep=\",\", header=True, inferSchema=True)\n",
        "uscounty_weather_df.show()"
      ],
      "execution_count": 8,
      "outputs": [
        {
          "output_type": "stream",
          "text": [
            "+---+----+--------+---------+------------+--------+-------------+------------+----------------------------+--------------------------+--------------------+--------------------------------+\n",
            "|_c0| zip|     lat|      lng|        city|state_id|   state_name| county_name|Average Temperature (Kelvin)|Average Air Pressure (hPa)|Average Humidity (%)|Average Daily Precipitation (mm)|\n",
            "+---+----+--------+---------+------------+--------+-------------+------------+----------------------------+--------------------------+--------------------+--------------------------------+\n",
            "|  0|1001|42.06259|-72.62589|      Agawam|      MA|Massachusetts|     Hampden|                     270.805|                 1016.1225|              72.215|                           0.125|\n",
            "|  1|1002|42.37492| -72.4621|     Amherst|      MA|Massachusetts|   Hampshire|                     270.805|                 1016.1225|              72.215|                           0.125|\n",
            "|  2|1005|42.42017|-72.10615|       Barre|      MA|Massachusetts|   Worcester|                     270.725|                   1014.96|             71.7525|                           0.135|\n",
            "|  3|1029|42.19632|-73.04836|   East Otis|      MA|Massachusetts|   Berkshire|                     270.805|                 1016.1225|              72.215|                           0.125|\n",
            "|  4|1054|42.47363|-72.48746|    Leverett|      MA|Massachusetts|    Franklin|                     270.805|                 1016.1225|              72.215|                           0.125|\n",
            "|  5|1431|42.67652|-71.82322|       Ashby|      MA|Massachusetts|   Middlesex|                     270.665|                  1016.715|              69.785|                          0.1325|\n",
            "|  6|1810|42.64655|-71.16505|     Andover|      MA|Massachusetts|       Essex|                     270.665|                  1016.715|              69.785|                          0.1325|\n",
            "|  7|2019|42.07774|-71.47409|  Bellingham|      MA|Massachusetts|     Norfolk|                     272.165|                   1016.14|             71.2475|                           0.135|\n",
            "|  8|2043|42.21678|-70.88499|     Hingham|      MA|Massachusetts|    Plymouth|                     271.775|                  1016.035|             69.2525|                           0.135|\n",
            "|  9|2048|42.01626|-71.21868|   Mansfield|      MA|Massachusetts|     Bristol|                     272.165|                   1016.14|             71.2475|                           0.135|\n",
            "| 10|2108|42.35767|-71.06505|      Boston|      MA|Massachusetts|     Suffolk|                    271.7475|                 1016.0925|              69.655|                           0.135|\n",
            "| 11|2532|41.75162|-70.59728|Buzzards Bay|      MA|Massachusetts|  Barnstable|                     272.165|                   1016.14|             71.2475|                           0.135|\n",
            "| 12|2535|41.34896|-70.74629|    Chilmark|      MA|Massachusetts|       Dukes|                     272.165|                   1016.14|             71.2475|                           0.135|\n",
            "| 13|2554|41.28538|-70.07982|   Nantucket|      MA|Massachusetts|   Nantucket|                     272.165|                   1016.14|             71.2475|                           0.135|\n",
            "| 14|2802|41.95195|-71.45534|      Albion|      RI| Rhode Island|  Providence|                     272.165|                   1016.14|             71.2475|                           0.135|\n",
            "| 15|2804|41.43188|-71.77236|     Ashaway|      RI| Rhode Island|  Washington|                     272.165|                   1016.14|             71.2475|                           0.135|\n",
            "| 16|2816|41.69086|-71.61977|    Coventry|      RI| Rhode Island|        Kent|                     272.165|                   1016.14|             71.2475|                           0.135|\n",
            "| 17|2835|41.51497| -71.3771|   Jamestown|      RI| Rhode Island|     Newport|                     272.165|                   1016.14|             71.2475|                           0.135|\n",
            "| 18|3031|42.87036| -71.6079|     Amherst|      NH|New Hampshire|Hillsborough|                    269.7375|                  1015.325|             69.2625|                          0.0975|\n",
            "| 19|3032| 42.9906|-71.34379|      Auburn|      NH|New Hampshire|  Rockingham|                    269.7375|                  1015.325|             69.2625|                          0.0975|\n",
            "+---+----+--------+---------+------------+--------+-------------+------------+----------------------------+--------------------------+--------------------+--------------------------------+\n",
            "only showing top 20 rows\n",
            "\n"
          ],
          "name": "stdout"
        }
      ]
    },
    {
      "cell_type": "code",
      "metadata": {
        "colab": {
          "base_uri": "https://localhost:8080/"
        },
        "id": "cC3C-yqpzKkt",
        "outputId": "1e99c870-1105-47ca-9407-a4b8b8a5ea64"
      },
      "source": [
        "uscounty_weather_df.count()"
      ],
      "execution_count": 9,
      "outputs": [
        {
          "output_type": "execute_result",
          "data": {
            "text/plain": [
              "1797"
            ]
          },
          "metadata": {
            "tags": []
          },
          "execution_count": 9
        }
      ]
    },
    {
      "cell_type": "code",
      "metadata": {
        "colab": {
          "base_uri": "https://localhost:8080/"
        },
        "id": "bt19JcgBN1Wh",
        "outputId": "a0c66e34-4588-4806-d146-79f7917334cb"
      },
      "source": [
        "from pyspark import SparkFiles\n",
        "url = \"https://green-team-wine.s3.us-east-2.amazonaws.com/weather_mapscaled.csv\"\n",
        "spark.sparkContext.addFile(url)\n",
        "weather_mapscaled_df = spark.read.csv(SparkFiles.get(\"weather_mapscaled.csv\"), sep=\",\", header=True, inferSchema=True)\n",
        "weather_mapscaled_df.show()"
      ],
      "execution_count": 6,
      "outputs": [
        {
          "output_type": "stream",
          "text": [
            "+--------------------+----------+------------+----------------------------+--------------------------+--------------------+--------------------------------+-------+------+------------------+------------------+\n",
            "|  winery_search_term|  latitude|   longitude|Average Temperature (Kelvin)|Average Air Pressure (hPa)|Average Humidity (%)|Average Daily Precipitation (mm)|country|points|           variety|            winery|\n",
            "+--------------------+----------+------------+----------------------------+--------------------------+--------------------+--------------------------------+-------+------+------------------+------------------+\n",
            "|St. Julian winery US|42.2122513| -85.8917127|          269.63750000000005|                   1018.15|   79.24000000000002|                          0.0725|     US|    87|          Riesling|        St. Julian|\n",
            "|St. Julian winery US|42.2122513| -85.8917127|          269.63750000000005|                   1018.15|   79.24000000000002|                          0.0725|     US|    86|          Riesling|        St. Julian|\n",
            "|St. Julian winery US|42.2122513| -85.8917127|          269.63750000000005|                   1018.15|   79.24000000000002|                          0.0725|     US|    86|          Riesling|        St. Julian|\n",
            "|Sweet Cheeks wine...|43.9566698|-123.2791353|                     276.025|                 1019.8875|   85.45249999999999|                          0.0575|     US|    87|        Pinot Noir|      Sweet Cheeks|\n",
            "|Sweet Cheeks wine...|43.9566698|-123.2791353|                     276.025|                 1019.8875|   85.45249999999999|                          0.0575|     US|    88|          Riesling|      Sweet Cheeks|\n",
            "|Sweet Cheeks wine...|43.9566698|-123.2791353|                     276.025|                 1019.8875|   85.45249999999999|                          0.0575|     US|    90|             Syrah|      Sweet Cheeks|\n",
            "|Sweet Cheeks wine...|43.9566698|-123.2791353|                     276.025|                 1019.8875|   85.45249999999999|                          0.0575|     US|    87|        Pinot Noir|      Sweet Cheeks|\n",
            "|Sweet Cheeks wine...|43.9566698|-123.2791353|                     276.025|                 1019.8875|   85.45249999999999|                          0.0575|     US|    85|        Pinot Noir|      Sweet Cheeks|\n",
            "|Sweet Cheeks wine...|43.9566698|-123.2791353|                     276.025|                 1019.8875|   85.45249999999999|                          0.0575|     US|    85|            Merlot|      Sweet Cheeks|\n",
            "|Sweet Cheeks wine...|43.9566698|-123.2791353|                     276.025|                 1019.8875|   85.45249999999999|                          0.0575|     US|    87|        Pinot Noir|      Sweet Cheeks|\n",
            "|Sweet Cheeks wine...|43.9566698|-123.2791353|                     276.025|                 1019.8875|   85.45249999999999|                          0.0575|     US|    82|             Syrah|      Sweet Cheeks|\n",
            "|Sweet Cheeks wine...|43.9566698|-123.2791353|                     276.025|                 1019.8875|   85.45249999999999|                          0.0575|     US|    87|             Syrah|      Sweet Cheeks|\n",
            "|Sweet Cheeks wine...|43.9566698|-123.2791353|                     276.025|                 1019.8875|   85.45249999999999|                          0.0575|     US|    87|        Pinot Noir|      Sweet Cheeks|\n",
            "|Sweet Cheeks wine...|43.9566698|-123.2791353|                     276.025|                 1019.8875|   85.45249999999999|                          0.0575|     US|    88|   Sauvignon Blanc|      Sweet Cheeks|\n",
            "|Kirkland Signatur...|35.8967132| -84.1405455|                     277.375|                 1020.0125|   79.19749999999998|                           0.235|     US|    87|Cabernet Sauvignon|Kirkland Signature|\n",
            "|Kirkland Signatur...|35.8967132| -84.1405455|                     277.375|                 1020.0125|   79.19749999999998|                           0.235|     US|    87|Cabernet Sauvignon|Kirkland Signature|\n",
            "|Kirkland Signatur...|35.8967132| -84.1405455|                     277.375|                 1020.0125|   79.19749999999998|                           0.235|     US|    84|        Pinot Noir|Kirkland Signature|\n",
            "|Kirkland Signatur...|35.8967132| -84.1405455|                     277.375|                 1020.0125|   79.19749999999998|                           0.235|     US|    87|            Merlot|Kirkland Signature|\n",
            "|Kirkland Signatur...|35.8967132| -84.1405455|                     277.375|                 1020.0125|   79.19749999999998|                           0.235|     US|    90|        Chardonnay|Kirkland Signature|\n",
            "|Kirkland Signatur...|35.8967132| -84.1405455|                     277.375|                 1020.0125|   79.19749999999998|                           0.235|     US|    91|Cabernet Sauvignon|Kirkland Signature|\n",
            "+--------------------+----------+------------+----------------------------+--------------------------+--------------------+--------------------------------+-------+------+------------------+------------------+\n",
            "only showing top 20 rows\n",
            "\n"
          ],
          "name": "stdout"
        }
      ]
    },
    {
      "cell_type": "code",
      "metadata": {
        "colab": {
          "base_uri": "https://localhost:8080/"
        },
        "id": "a0l1IH0QN69N",
        "outputId": "cb6a6cba-5cd2-428d-b1e8-3ff7ff23d89c"
      },
      "source": [
        "weather_mapscaled_df.count()"
      ],
      "execution_count": 7,
      "outputs": [
        {
          "output_type": "execute_result",
          "data": {
            "text/plain": [
              "52906"
            ]
          },
          "metadata": {
            "tags": []
          },
          "execution_count": 7
        }
      ]
    },
    {
      "cell_type": "markdown",
      "metadata": {
        "id": "5tK_3qLVXd9D"
      },
      "source": [
        "**Create DataFrames to match tables**"
      ]
    },
    {
      "cell_type": "code",
      "metadata": {
        "colab": {
          "base_uri": "https://localhost:8080/"
        },
        "id": "ICHnLi0nUCwo",
        "outputId": "627bc194-72f6-4d0b-d22d-7a74411e2422"
      },
      "source": [
        "#Select only the columns that will be stored into the RDS database\n",
        "\n",
        "from pyspark.sql.functions import col\n",
        "\n",
        "wine_table_df = wine_df.select(col(\"country\").alias(\"country\"), col(\"points\").alias(\"points\"), col(\"variety\").alias(\"variety\"), col(\"winery\").alias(\"winery\"), col(\"winery_search\").alias(\"winery_country\")).where(col(\"country\").isNotNull())\n",
        "wine_table_df.show()"
      ],
      "execution_count": 10,
      "outputs": [
        {
          "output_type": "stream",
          "text": [
            "+-------+------+------------------+-------------------+--------------------+\n",
            "|country|points|           variety|             winery|      winery_country|\n",
            "+-------+------+------------------+-------------------+--------------------+\n",
            "|     US|    87|          Riesling|         St. Julian|St. Julian winery US|\n",
            "|     US|    87|        Pinot Noir|       Sweet Cheeks|Sweet Cheeks wine...|\n",
            "|     US|    87|Cabernet Sauvignon| Kirkland Signature|Kirkland Signatur...|\n",
            "|     US|    87|Cabernet Sauvignon|   Louis M. Martini|Louis M. Martini ...|\n",
            "|     US|    87|        Chardonnay|           Mirassou|  Mirassou winery US|\n",
            "|Germany|    87|          Riesling|    Richard Böcking|Richard Böcking w...|\n",
            "|     US|    87|        Pinot Noir|            Acrobat|   Acrobat winery US|\n",
            "|     US|    87|            Merlot|            Bianchi|   Bianchi winery US|\n",
            "|     US|    87|        Pinot Noir|Castello di Amorosa|Castello di Amoro...|\n",
            "|     US|    86|   Sauvignon Blanc|            Envolve|   Envolve winery US|\n",
            "|     US|    86|        Pinot Noir|              Erath|     Erath winery US|\n",
            "|  Italy|    86|Cabernet Sauvignon|Feudi del Pisciotto|Feudi del Pisciot...|\n",
            "|     US|    86|        Pinot Noir|    Hawkins Cellars|Hawkins Cellars w...|\n",
            "|     US|    86|   Sauvignon Blanc|        Robert Hall|Robert Hall winer...|\n",
            "|  Chile|    86|            Merlot|           Sundance|Sundance winery C...|\n",
            "|     US|    86|          Riesling|   The White Knight|The White Knight ...|\n",
            "|     US|    86|   Sauvignon Blanc|              Trump|     Trump winery US|\n",
            "|     US|    85|        Chardonnay|          RustRidge| RustRidge winery US|\n",
            "|     US|    85|        Chardonnay|          Souverain| Souverain winery US|\n",
            "|  Chile|    85|        Pinot Noir|      Tres Palacios|Tres Palacios win...|\n",
            "+-------+------+------------------+-------------------+--------------------+\n",
            "only showing top 20 rows\n",
            "\n"
          ],
          "name": "stdout"
        }
      ]
    },
    {
      "cell_type": "code",
      "metadata": {
        "colab": {
          "base_uri": "https://localhost:8080/"
        },
        "id": "wZFx2eMTYJbX",
        "outputId": "d921ce6c-06bd-4d7a-e697-781c6a779f7b"
      },
      "source": [
        "wine_table_df.printSchema()"
      ],
      "execution_count": 11,
      "outputs": [
        {
          "output_type": "stream",
          "text": [
            "root\n",
            " |-- country: string (nullable = true)\n",
            " |-- points: integer (nullable = true)\n",
            " |-- variety: string (nullable = true)\n",
            " |-- winery: string (nullable = true)\n",
            " |-- winery_country: string (nullable = true)\n",
            "\n"
          ],
          "name": "stdout"
        }
      ]
    },
    {
      "cell_type": "code",
      "metadata": {
        "colab": {
          "base_uri": "https://localhost:8080/"
        },
        "id": "77XDk9sGVx-N",
        "outputId": "3e253b60-5743-4cca-99af-0c950e1dabf9"
      },
      "source": [
        "wine_table_df.count()"
      ],
      "execution_count": 12,
      "outputs": [
        {
          "output_type": "execute_result",
          "data": {
            "text/plain": [
              "55446"
            ]
          },
          "metadata": {
            "tags": []
          },
          "execution_count": 12
        }
      ]
    },
    {
      "cell_type": "code",
      "metadata": {
        "colab": {
          "base_uri": "https://localhost:8080/"
        },
        "id": "GvvvtM1gn8BM",
        "outputId": "2ce978e2-c88b-4ce0-da7a-8e7b60f8522b"
      },
      "source": [
        "weather_df.printSchema()"
      ],
      "execution_count": 13,
      "outputs": [
        {
          "output_type": "stream",
          "text": [
            "root\n",
            " |-- _c0: integer (nullable = true)\n",
            " |-- Winery: string (nullable = true)\n",
            " |-- Average Temperature (Kelvin): double (nullable = true)\n",
            " |-- Average Air Pressure (hPa): double (nullable = true)\n",
            " |-- Average Humidity (%): double (nullable = true)\n",
            " |-- Average Daily Precipitation (mm): double (nullable = true)\n",
            "\n"
          ],
          "name": "stdout"
        }
      ]
    },
    {
      "cell_type": "code",
      "metadata": {
        "colab": {
          "base_uri": "https://localhost:8080/"
        },
        "id": "OtEDDZ57ops7",
        "outputId": "aa295692-1054-44e5-d9b8-9b2e5934dfe1"
      },
      "source": [
        "#Select only the columns that will be stored into the RDS database\n",
        "\n",
        "from pyspark.sql.functions import col\n",
        "\n",
        "weather_table_df = weather_df.select(col(\"Winery\").alias(\"winery_search\"), col(\"Average Temperature (Kelvin)\").alias(\"avg_temp\"), col(\"Average Air Pressure (hPa)\").alias(\"avg_airp\"), col(\"Average Humidity (%)\").alias(\"avg_humid\"), col(\"Average Daily Precipitation (mm)\").alias(\"avg_precip\"))\n",
        "weather_table_df.show()"
      ],
      "execution_count": 14,
      "outputs": [
        {
          "output_type": "stream",
          "text": [
            "+--------------------+------------------+------------------+-----------------+--------------------+\n",
            "|       winery_search|          avg_temp|          avg_airp|        avg_humid|          avg_precip|\n",
            "+--------------------+------------------+------------------+-----------------+--------------------+\n",
            "|St. Julian winery US|269.63750000000005|1018.1500000000001|79.24000000000001|              0.0725|\n",
            "|Sweet Cheeks wine...|           276.025|         1019.8875|85.45249999999999|0.057499999999999996|\n",
            "|Kirkland Signatur...|           277.375|         1020.0125|79.19749999999999| 0.23500000000000001|\n",
            "|Louis M. Martini ...|281.03249999999997|            1018.5|           79.155|              0.0775|\n",
            "|Richard Böcking w...|            275.71|         1014.9425|           92.215|               0.135|\n",
            "|   Bianchi winery US|           279.685|           1018.23|            73.42|               0.025|\n",
            "|Castello di Amoro...|281.03249999999997|            1018.5|           79.155|              0.0775|\n",
            "|   Envolve winery US|          281.7425|1019.1525000000001|70.48750000000001|               0.125|\n",
            "|     Erath winery US|276.21999999999997|         1020.7575|           76.705|                0.14|\n",
            "|Feudi del Pisciot...|282.53499999999997|           1014.39|          75.9475|               0.055|\n",
            "|Hawkins Cellars w...|          276.0775|         1020.8975|          74.8725|               0.135|\n",
            "|Robert Hall winer...|           279.685|           1018.23|            73.42|               0.025|\n",
            "|Sundance winery C...|           269.755|1013.9599999999999|             58.3|                0.01|\n",
            "|     Trump winery US|          277.4675|1019.2974999999999|            70.09|              0.1225|\n",
            "| RustRidge winery US|281.03249999999997|            1018.5|           79.155|              0.0775|\n",
            "| Souverain winery US|281.03249999999997|            1018.5|           79.155|              0.0775|\n",
            "|Tres Palacios win...|294.26750000000004|1004.5550000000001|47.05500000000001|                 0.0|\n",
            "|     Okapi winery US|278.52750000000003|         1020.1275|          76.5975|              0.2175|\n",
            "|    Sevtap winery US|            285.08|          1018.895|          58.4075|                0.01|\n",
            "|Simonnet-Febvre w...|           276.745|1020.5049999999999|88.98249999999999|              0.1075|\n",
            "+--------------------+------------------+------------------+-----------------+--------------------+\n",
            "only showing top 20 rows\n",
            "\n"
          ],
          "name": "stdout"
        }
      ]
    },
    {
      "cell_type": "code",
      "metadata": {
        "colab": {
          "base_uri": "https://localhost:8080/"
        },
        "id": "3gO_HGN_r8eF",
        "outputId": "6d73135a-7ef1-4d18-a7d9-e14a3ae3596f"
      },
      "source": [
        "weather_table_df.count()"
      ],
      "execution_count": 15,
      "outputs": [
        {
          "output_type": "execute_result",
          "data": {
            "text/plain": [
              "7892"
            ]
          },
          "metadata": {
            "tags": []
          },
          "execution_count": 15
        }
      ]
    },
    {
      "cell_type": "code",
      "metadata": {
        "colab": {
          "base_uri": "https://localhost:8080/"
        },
        "id": "rmUn82ikzZ1E",
        "outputId": "c4619776-6ae4-4fb2-fec3-bb30d1d79a92"
      },
      "source": [
        "#Select only the columns that will be stored into the RDS database\n",
        "\n",
        "from pyspark.sql.functions import col\n",
        "\n",
        "uscounty_weather_table_df = uscounty_weather_df.select(col(\"zip\").alias(\"zip\"), col(\"lat\").alias(\"lat\"), col(\"lng\").alias(\"lng\"), col(\"city\").alias(\"city\"), col(\"state_id\").alias(\"state_id\"), col(\"state_name\").alias(\"state_name\"), col(\"county_name\").alias(\"county_name\"), col(\"Average Temperature (Kelvin)\").alias(\"avg_temp\"), col(\"Average Air Pressure (hPa)\").alias(\"avg_airp\"), col(\"Average Humidity (%)\").alias(\"avg_humid\"), col(\"Average Daily Precipitation (mm)\").alias(\"avg_precip\"))\n",
        "uscounty_weather_table_df.show()"
      ],
      "execution_count": 16,
      "outputs": [
        {
          "output_type": "stream",
          "text": [
            "+----+--------+---------+------------+--------+-------------+------------+--------+---------+---------+----------+\n",
            "| zip|     lat|      lng|        city|state_id|   state_name| county_name|avg_temp| avg_airp|avg_humid|avg_precip|\n",
            "+----+--------+---------+------------+--------+-------------+------------+--------+---------+---------+----------+\n",
            "|1001|42.06259|-72.62589|      Agawam|      MA|Massachusetts|     Hampden| 270.805|1016.1225|   72.215|     0.125|\n",
            "|1002|42.37492| -72.4621|     Amherst|      MA|Massachusetts|   Hampshire| 270.805|1016.1225|   72.215|     0.125|\n",
            "|1005|42.42017|-72.10615|       Barre|      MA|Massachusetts|   Worcester| 270.725|  1014.96|  71.7525|     0.135|\n",
            "|1029|42.19632|-73.04836|   East Otis|      MA|Massachusetts|   Berkshire| 270.805|1016.1225|   72.215|     0.125|\n",
            "|1054|42.47363|-72.48746|    Leverett|      MA|Massachusetts|    Franklin| 270.805|1016.1225|   72.215|     0.125|\n",
            "|1431|42.67652|-71.82322|       Ashby|      MA|Massachusetts|   Middlesex| 270.665| 1016.715|   69.785|    0.1325|\n",
            "|1810|42.64655|-71.16505|     Andover|      MA|Massachusetts|       Essex| 270.665| 1016.715|   69.785|    0.1325|\n",
            "|2019|42.07774|-71.47409|  Bellingham|      MA|Massachusetts|     Norfolk| 272.165|  1016.14|  71.2475|     0.135|\n",
            "|2043|42.21678|-70.88499|     Hingham|      MA|Massachusetts|    Plymouth| 271.775| 1016.035|  69.2525|     0.135|\n",
            "|2048|42.01626|-71.21868|   Mansfield|      MA|Massachusetts|     Bristol| 272.165|  1016.14|  71.2475|     0.135|\n",
            "|2108|42.35767|-71.06505|      Boston|      MA|Massachusetts|     Suffolk|271.7475|1016.0925|   69.655|     0.135|\n",
            "|2532|41.75162|-70.59728|Buzzards Bay|      MA|Massachusetts|  Barnstable| 272.165|  1016.14|  71.2475|     0.135|\n",
            "|2535|41.34896|-70.74629|    Chilmark|      MA|Massachusetts|       Dukes| 272.165|  1016.14|  71.2475|     0.135|\n",
            "|2554|41.28538|-70.07982|   Nantucket|      MA|Massachusetts|   Nantucket| 272.165|  1016.14|  71.2475|     0.135|\n",
            "|2802|41.95195|-71.45534|      Albion|      RI| Rhode Island|  Providence| 272.165|  1016.14|  71.2475|     0.135|\n",
            "|2804|41.43188|-71.77236|     Ashaway|      RI| Rhode Island|  Washington| 272.165|  1016.14|  71.2475|     0.135|\n",
            "|2816|41.69086|-71.61977|    Coventry|      RI| Rhode Island|        Kent| 272.165|  1016.14|  71.2475|     0.135|\n",
            "|2835|41.51497| -71.3771|   Jamestown|      RI| Rhode Island|     Newport| 272.165|  1016.14|  71.2475|     0.135|\n",
            "|3031|42.87036| -71.6079|     Amherst|      NH|New Hampshire|Hillsborough|269.7375| 1015.325|  69.2625|    0.0975|\n",
            "|3032| 42.9906|-71.34379|      Auburn|      NH|New Hampshire|  Rockingham|269.7375| 1015.325|  69.2625|    0.0975|\n",
            "+----+--------+---------+------------+--------+-------------+------------+--------+---------+---------+----------+\n",
            "only showing top 20 rows\n",
            "\n"
          ],
          "name": "stdout"
        }
      ]
    },
    {
      "cell_type": "code",
      "metadata": {
        "colab": {
          "base_uri": "https://localhost:8080/"
        },
        "id": "LEAHoZhF1Hkg",
        "outputId": "a7daccad-06fc-4a8d-c0c3-ee441deaacd9"
      },
      "source": [
        "uscounty_weather_table_df.printSchema()"
      ],
      "execution_count": 17,
      "outputs": [
        {
          "output_type": "stream",
          "text": [
            "root\n",
            " |-- zip: integer (nullable = true)\n",
            " |-- lat: double (nullable = true)\n",
            " |-- lng: double (nullable = true)\n",
            " |-- city: string (nullable = true)\n",
            " |-- state_id: string (nullable = true)\n",
            " |-- state_name: string (nullable = true)\n",
            " |-- county_name: string (nullable = true)\n",
            " |-- avg_temp: double (nullable = true)\n",
            " |-- avg_airp: double (nullable = true)\n",
            " |-- avg_humid: double (nullable = true)\n",
            " |-- avg_precip: double (nullable = true)\n",
            "\n"
          ],
          "name": "stdout"
        }
      ]
    },
    {
      "cell_type": "code",
      "metadata": {
        "colab": {
          "base_uri": "https://localhost:8080/"
        },
        "id": "k8ExSE4i1vzj",
        "outputId": "ca0f52c9-1663-4292-8955-924a0dca004c"
      },
      "source": [
        "uscounty_weather_table_df.count()"
      ],
      "execution_count": 22,
      "outputs": [
        {
          "output_type": "execute_result",
          "data": {
            "text/plain": [
              "1797"
            ]
          },
          "metadata": {
            "tags": []
          },
          "execution_count": 22
        }
      ]
    },
    {
      "cell_type": "code",
      "metadata": {
        "colab": {
          "base_uri": "https://localhost:8080/"
        },
        "id": "hIMHY4y_OoSD",
        "outputId": "337c8282-16a7-40bc-e306-386f7c6687a0"
      },
      "source": [
        "#Select only the columns that will be stored into the RDS database\n",
        "\n",
        "from pyspark.sql.functions import col\n",
        "\n",
        "weather_mapscaled_df = weather_mapscaled_df.select(col(\"winery_search_term\").alias(\"winery_search_term\"), col(\"latitude\").alias(\"lat\"), col(\"longitude\").alias(\"lng\"), col(\"Average Temperature (Kelvin)\").alias(\"avg_temp\"), col(\"Average Air Pressure (hPa)\").alias(\"avg_airp\"), col(\"Average Humidity (%)\").alias(\"avg_humid\"), col(\"Average Daily Precipitation (mm)\").alias(\"avg_precip\"), col(\"country\").alias(\"country\"), col(\"points\").alias(\"points\"), col(\"variety\").alias(\"variety\"), col(\"winery\").alias(\"winery\"))\n",
        "weather_mapscaled_df.show()"
      ],
      "execution_count": 8,
      "outputs": [
        {
          "output_type": "stream",
          "text": [
            "+--------------------+----------+------------+------------------+---------+-----------------+----------+-------+------+------------------+------------------+\n",
            "|  winery_search_term|       lat|         lng|          avg_temp| avg_airp|        avg_humid|avg_precip|country|points|           variety|            winery|\n",
            "+--------------------+----------+------------+------------------+---------+-----------------+----------+-------+------+------------------+------------------+\n",
            "|St. Julian winery US|42.2122513| -85.8917127|269.63750000000005|  1018.15|79.24000000000002|    0.0725|     US|    87|          Riesling|        St. Julian|\n",
            "|St. Julian winery US|42.2122513| -85.8917127|269.63750000000005|  1018.15|79.24000000000002|    0.0725|     US|    86|          Riesling|        St. Julian|\n",
            "|St. Julian winery US|42.2122513| -85.8917127|269.63750000000005|  1018.15|79.24000000000002|    0.0725|     US|    86|          Riesling|        St. Julian|\n",
            "|Sweet Cheeks wine...|43.9566698|-123.2791353|           276.025|1019.8875|85.45249999999999|    0.0575|     US|    87|        Pinot Noir|      Sweet Cheeks|\n",
            "|Sweet Cheeks wine...|43.9566698|-123.2791353|           276.025|1019.8875|85.45249999999999|    0.0575|     US|    88|          Riesling|      Sweet Cheeks|\n",
            "|Sweet Cheeks wine...|43.9566698|-123.2791353|           276.025|1019.8875|85.45249999999999|    0.0575|     US|    90|             Syrah|      Sweet Cheeks|\n",
            "|Sweet Cheeks wine...|43.9566698|-123.2791353|           276.025|1019.8875|85.45249999999999|    0.0575|     US|    87|        Pinot Noir|      Sweet Cheeks|\n",
            "|Sweet Cheeks wine...|43.9566698|-123.2791353|           276.025|1019.8875|85.45249999999999|    0.0575|     US|    85|        Pinot Noir|      Sweet Cheeks|\n",
            "|Sweet Cheeks wine...|43.9566698|-123.2791353|           276.025|1019.8875|85.45249999999999|    0.0575|     US|    85|            Merlot|      Sweet Cheeks|\n",
            "|Sweet Cheeks wine...|43.9566698|-123.2791353|           276.025|1019.8875|85.45249999999999|    0.0575|     US|    87|        Pinot Noir|      Sweet Cheeks|\n",
            "|Sweet Cheeks wine...|43.9566698|-123.2791353|           276.025|1019.8875|85.45249999999999|    0.0575|     US|    82|             Syrah|      Sweet Cheeks|\n",
            "|Sweet Cheeks wine...|43.9566698|-123.2791353|           276.025|1019.8875|85.45249999999999|    0.0575|     US|    87|             Syrah|      Sweet Cheeks|\n",
            "|Sweet Cheeks wine...|43.9566698|-123.2791353|           276.025|1019.8875|85.45249999999999|    0.0575|     US|    87|        Pinot Noir|      Sweet Cheeks|\n",
            "|Sweet Cheeks wine...|43.9566698|-123.2791353|           276.025|1019.8875|85.45249999999999|    0.0575|     US|    88|   Sauvignon Blanc|      Sweet Cheeks|\n",
            "|Kirkland Signatur...|35.8967132| -84.1405455|           277.375|1020.0125|79.19749999999998|     0.235|     US|    87|Cabernet Sauvignon|Kirkland Signature|\n",
            "|Kirkland Signatur...|35.8967132| -84.1405455|           277.375|1020.0125|79.19749999999998|     0.235|     US|    87|Cabernet Sauvignon|Kirkland Signature|\n",
            "|Kirkland Signatur...|35.8967132| -84.1405455|           277.375|1020.0125|79.19749999999998|     0.235|     US|    84|        Pinot Noir|Kirkland Signature|\n",
            "|Kirkland Signatur...|35.8967132| -84.1405455|           277.375|1020.0125|79.19749999999998|     0.235|     US|    87|            Merlot|Kirkland Signature|\n",
            "|Kirkland Signatur...|35.8967132| -84.1405455|           277.375|1020.0125|79.19749999999998|     0.235|     US|    90|        Chardonnay|Kirkland Signature|\n",
            "|Kirkland Signatur...|35.8967132| -84.1405455|           277.375|1020.0125|79.19749999999998|     0.235|     US|    91|Cabernet Sauvignon|Kirkland Signature|\n",
            "+--------------------+----------+------------+------------------+---------+-----------------+----------+-------+------+------------------+------------------+\n",
            "only showing top 20 rows\n",
            "\n"
          ],
          "name": "stdout"
        }
      ]
    },
    {
      "cell_type": "code",
      "metadata": {
        "colab": {
          "base_uri": "https://localhost:8080/"
        },
        "id": "7aeEMawwO7Fc",
        "outputId": "caef955b-c964-43d4-caa3-b960e9b4f5a9"
      },
      "source": [
        "weather_mapscaled_df.count()"
      ],
      "execution_count": 9,
      "outputs": [
        {
          "output_type": "execute_result",
          "data": {
            "text/plain": [
              "52906"
            ]
          },
          "metadata": {
            "tags": []
          },
          "execution_count": 9
        }
      ]
    },
    {
      "cell_type": "markdown",
      "metadata": {
        "id": "ulKAWgu3PLi2"
      },
      "source": [
        "**Connect to the AWS RDS instance and write each DataFrame to its table**"
      ]
    },
    {
      "cell_type": "code",
      "metadata": {
        "id": "vY70t7KxPODD"
      },
      "source": [
        "# Configure settings for RDS\n",
        "mode = \"append\"\n",
        "#jdbc_url=\"jdbc:postgresql://<connection string>:5432/<database-name>\"\n",
        "jdbc_url=\"jdbc:postgresql://wine-final-project.czqkltznl3rl.us-east-2.rds.amazonaws.com/winedb\"\n",
        "#config = {\"user\":\"postgres\",\n",
        "          #\"password\": \"<password>\",\n",
        "          #\"driver\":\"org.postgresql.Driver\"}\n",
        "config = {\"user\":\"wineuser\",\n",
        "          \"password\": rds_pwd,\n",
        "          \"driver\":\"org.postgresql.Driver\"}"
      ],
      "execution_count": 11,
      "outputs": []
    },
    {
      "cell_type": "code",
      "metadata": {
        "colab": {
          "base_uri": "https://localhost:8080/"
        },
        "id": "hjSk3aXzllWF",
        "outputId": "f6fd9f4c-df41-4f31-e7ef-a7e13e440400"
      },
      "source": [
        "wine_table_df"
      ],
      "execution_count": 20,
      "outputs": [
        {
          "output_type": "execute_result",
          "data": {
            "text/plain": [
              "DataFrame[country: string, points: int, variety: string, winery: string, winery_country: string]"
            ]
          },
          "metadata": {
            "tags": []
          },
          "execution_count": 20
        }
      ]
    },
    {
      "cell_type": "code",
      "metadata": {
        "id": "-CQuJbnkPwhe"
      },
      "source": [
        "# Write wine_table_df to table in RDS\n",
        "wine_table_df.write.jdbc(url=jdbc_url, table='wine', mode=mode, properties=config)"
      ],
      "execution_count": 21,
      "outputs": []
    },
    {
      "cell_type": "code",
      "metadata": {
        "id": "NcPdxuZDmZQU"
      },
      "source": [
        "# Write weather_table_df to table in RDS\n",
        "weather_table_df.write.jdbc(url=jdbc_url, table='weather', mode=mode, properties=config)"
      ],
      "execution_count": 23,
      "outputs": []
    },
    {
      "cell_type": "code",
      "metadata": {
        "id": "z2EVznY01PdJ"
      },
      "source": [
        "# Write uscounty_weather_table_df to table in RDS\n",
        "uscounty_weather_table_df.write.jdbc(url=jdbc_url, table='uscounty', mode=mode, properties=config)"
      ],
      "execution_count": 24,
      "outputs": []
    },
    {
      "cell_type": "code",
      "metadata": {
        "id": "cO9R8vEKPozl"
      },
      "source": [
        "# Write weather_mapscaled_df to table in RDS\n",
        "weather_mapscaled_df.write.jdbc(url=jdbc_url, table='weather_mapscaled', mode=mode, properties=config)"
      ],
      "execution_count": 12,
      "outputs": []
    },
    {
      "cell_type": "code",
      "metadata": {
        "colab": {
          "base_uri": "https://localhost:8080/"
        },
        "id": "gVJDgFOXtSXW",
        "outputId": "c22202e6-e491-4227-91b1-1f1021a9b3ae"
      },
      "source": [
        "# Read wine table from RDS\n",
        "spark.read.jdbc(url=jdbc_url, table='wine', properties=config).limit(10).show()"
      ],
      "execution_count": 8,
      "outputs": [
        {
          "output_type": "stream",
          "text": [
            "+-------+------+------------------+-------------------+--------------------+\n",
            "|country|points|           variety|             winery|      winery_country|\n",
            "+-------+------+------------------+-------------------+--------------------+\n",
            "|     US|    87|          Riesling|         St. Julian|St. Julian winery US|\n",
            "|     US|    87|        Pinot Noir|       Sweet Cheeks|Sweet Cheeks wine...|\n",
            "|     US|    87|Cabernet Sauvignon| Kirkland Signature|Kirkland Signatur...|\n",
            "|     US|    87|Cabernet Sauvignon|   Louis M. Martini|Louis M. Martini ...|\n",
            "|     US|    87|        Chardonnay|           Mirassou|  Mirassou winery US|\n",
            "|Germany|    87|          Riesling|    Richard Böcking|Richard Böcking w...|\n",
            "|     US|    87|        Pinot Noir|            Acrobat|   Acrobat winery US|\n",
            "|     US|    87|            Merlot|            Bianchi|   Bianchi winery US|\n",
            "|     US|    87|        Pinot Noir|Castello di Amorosa|Castello di Amoro...|\n",
            "|     US|    86|   Sauvignon Blanc|            Envolve|   Envolve winery US|\n",
            "+-------+------+------------------+-------------------+--------------------+\n",
            "\n"
          ],
          "name": "stdout"
        }
      ]
    },
    {
      "cell_type": "code",
      "metadata": {
        "colab": {
          "base_uri": "https://localhost:8080/"
        },
        "id": "fr-B0Ol1tSKV",
        "outputId": "1d2922cd-1d0f-4907-861c-33394e3af4ac"
      },
      "source": [
        "# Read weather table from RDS\n",
        "spark.read.jdbc(url=jdbc_url, table='weather', properties=config).limit(10).show()"
      ],
      "execution_count": 26,
      "outputs": [
        {
          "output_type": "stream",
          "text": [
            "+--------------------+--------------------+--------------------+--------------------+--------------------+\n",
            "|       winery_search|            avg_temp|            avg_airp|           avg_humid|          avg_precip|\n",
            "+--------------------+--------------------+--------------------+--------------------+--------------------+\n",
            "|St. Julian winery US|269.6375000000000...|1018.150000000000...|79.24000000000000...|0.072500000000000000|\n",
            "|Sweet Cheeks wine...|276.0250000000000...|1019.887500000000...|85.45250000000000...|0.057500000000000000|\n",
            "|Kirkland Signatur...|277.3750000000000...|1020.012500000000...|79.19750000000000...|0.235000000000000000|\n",
            "|Louis M. Martini ...|281.0325000000000...|1018.500000000000...|79.15500000000000...|0.077500000000000000|\n",
            "|Richard Böcking w...|275.7100000000000...|1014.942500000000...|92.21500000000000...|0.135000000000000000|\n",
            "|   Bianchi winery US|279.6850000000000...|1018.230000000000...|73.42000000000000...|0.025000000000000000|\n",
            "|Castello di Amoro...|281.0325000000000...|1018.500000000000...|79.15500000000000...|0.077500000000000000|\n",
            "|   Envolve winery US|281.7425000000000...|1019.152500000000...|70.48750000000000...|0.125000000000000000|\n",
            "|     Erath winery US|276.2200000000000...|1020.757500000000...|76.70500000000000...|0.140000000000000000|\n",
            "|Feudi del Pisciot...|282.5350000000000...|1014.390000000000...|75.94750000000000...|0.055000000000000000|\n",
            "+--------------------+--------------------+--------------------+--------------------+--------------------+\n",
            "\n"
          ],
          "name": "stdout"
        }
      ]
    },
    {
      "cell_type": "code",
      "metadata": {
        "colab": {
          "base_uri": "https://localhost:8080/"
        },
        "id": "HGmlub4d2d6n",
        "outputId": "69cc209a-e28b-4205-e954-6b117b7359d4"
      },
      "source": [
        "# Read uscounty table from RDS\n",
        "spark.read.jdbc(url=jdbc_url, table='uscounty', properties=config).limit(10).show()"
      ],
      "execution_count": 27,
      "outputs": [
        {
          "output_type": "stream",
          "text": [
            "+----+---+---+----------+--------+-------------+-----------+--------------------+--------------------+--------------------+--------------------+\n",
            "| zip|lat|lng|      city|state_id|   state_name|county_name|            avg_temp|            avg_airp|           avg_humid|          avg_precip|\n",
            "+----+---+---+----------+--------+-------------+-----------+--------------------+--------------------+--------------------+--------------------+\n",
            "|1001| 42|-73|    Agawam|      MA|Massachusetts|    Hampden|270.8050000000000...|1016.122500000000...|72.21500000000000...|0.125000000000000000|\n",
            "|1002| 42|-72|   Amherst|      MA|Massachusetts|  Hampshire|270.8050000000000...|1016.122500000000...|72.21500000000000...|0.125000000000000000|\n",
            "|1005| 42|-72|     Barre|      MA|Massachusetts|  Worcester|270.7250000000000...|1014.960000000000...|71.75250000000000...|0.135000000000000000|\n",
            "|1029| 42|-73| East Otis|      MA|Massachusetts|  Berkshire|270.8050000000000...|1016.122500000000...|72.21500000000000...|0.125000000000000000|\n",
            "|1054| 42|-72|  Leverett|      MA|Massachusetts|   Franklin|270.8050000000000...|1016.122500000000...|72.21500000000000...|0.125000000000000000|\n",
            "|1431| 43|-72|     Ashby|      MA|Massachusetts|  Middlesex|270.6650000000000...|1016.715000000000...|69.78500000000000...|0.132500000000000000|\n",
            "|1810| 43|-71|   Andover|      MA|Massachusetts|      Essex|270.6650000000000...|1016.715000000000...|69.78500000000000...|0.132500000000000000|\n",
            "|2019| 42|-71|Bellingham|      MA|Massachusetts|    Norfolk|272.1650000000000...|1016.140000000000...|71.24750000000000...|0.135000000000000000|\n",
            "|2043| 42|-71|   Hingham|      MA|Massachusetts|   Plymouth|271.7750000000000...|1016.035000000000...|69.25250000000000...|0.135000000000000000|\n",
            "|2048| 42|-71| Mansfield|      MA|Massachusetts|    Bristol|272.1650000000000...|1016.140000000000...|71.24750000000000...|0.135000000000000000|\n",
            "+----+---+---+----------+--------+-------------+-----------+--------------------+--------------------+--------------------+--------------------+\n",
            "\n"
          ],
          "name": "stdout"
        }
      ]
    },
    {
      "cell_type": "code",
      "metadata": {
        "colab": {
          "base_uri": "https://localhost:8080/"
        },
        "id": "ISBcgVuxP0-7",
        "outputId": "2bbd8778-4762-47b2-8e76-38c312cb1177"
      },
      "source": [
        "# Read weather_mapscaled table from RDS\n",
        "spark.read.jdbc(url=jdbc_url, table='weather_mapscaled', properties=config).limit(10).show()"
      ],
      "execution_count": 13,
      "outputs": [
        {
          "output_type": "stream",
          "text": [
            "+--------------------+---+----+--------------------+--------------------+--------------------+--------------------+-------+------+---------------+-------------+\n",
            "|  winery_search_term|lat| lng|            avg_temp|            avg_airp|           avg_humid|          avg_precip|country|points|        variety|       winery|\n",
            "+--------------------+---+----+--------------------+--------------------+--------------------+--------------------+-------+------+---------------+-------------+\n",
            "|   LaZarre winery US| 36|-121|279.6850000000000...|1018.230000000000...|73.42000000000000...|0.025000000000000000|     US|    88|     Chardonnay|      LaZarre|\n",
            "|Negretti winery I...| 45|   8|275.6025000000000...|1016.337500000000...|79.04000000000000...|0.070000000000000000|  Italy|    88|     Chardonnay|     Negretti|\n",
            "|Pico Maccario win...| 45|   8|280.6950000000000...|1017.880000000000...|70.50250000000000...|0.147500000000000000|  Italy|    85|     Chardonnay|Pico Maccario|\n",
            "|Farnese winery Italy| 43|  12|278.1475000000000...|1014.445000000000...|81.86750000000000...|0.182500000000000000|  Italy|    85|     Chardonnay|      Farnese|\n",
            "|Farnese winery Italy| 43|  12|278.1475000000000...|1014.445000000000...|81.86750000000000...|0.182500000000000000|  Italy|    86|     Chardonnay|      Farnese|\n",
            "|Farnese winery Italy| 43|  12|278.1475000000000...|1014.445000000000...|81.86750000000000...|0.182500000000000000|  Italy|    85|     Chardonnay|      Farnese|\n",
            "|Farnese winery Italy| 43|  12|278.1475000000000...|1014.445000000000...|81.86750000000000...|0.182500000000000000|  Italy|    88|     Chardonnay|      Farnese|\n",
            "|Castellargo winer...| 46|  13|277.6100000000000...|1016.707500000000...|79.63250000000000...|0.147500000000000000|  Italy|    85|     Chardonnay|  Castellargo|\n",
            "|Di Lenardo winery...| 46|  13|277.6100000000000...|1016.707500000000...|79.63250000000000...|0.147500000000000000|  Italy|    85|Sauvignon Blanc|   Di Lenardo|\n",
            "|Di Lenardo winery...| 46|  13|277.6100000000000...|1016.707500000000...|79.63250000000000...|0.147500000000000000|  Italy|    86|     Chardonnay|   Di Lenardo|\n",
            "+--------------------+---+----+--------------------+--------------------+--------------------+--------------------+-------+------+---------------+-------------+\n",
            "\n"
          ],
          "name": "stdout"
        }
      ]
    },
    {
      "cell_type": "code",
      "metadata": {
        "colab": {
          "base_uri": "https://localhost:8080/"
        },
        "id": "Skx_05ypogny",
        "outputId": "91dd1965-48ca-48ed-8435-3bbd312c253b"
      },
      "source": [
        "select_sql = \"(SELECT winery FROM wine) AS wineryalias\"\n",
        "spark.read.jdbc(url=jdbc_url, table=select_sql, properties=config).show()"
      ],
      "execution_count": 28,
      "outputs": [
        {
          "output_type": "stream",
          "text": [
            "+-------------------+\n",
            "|             winery|\n",
            "+-------------------+\n",
            "|         St. Julian|\n",
            "|       Sweet Cheeks|\n",
            "| Kirkland Signature|\n",
            "|   Louis M. Martini|\n",
            "|           Mirassou|\n",
            "|    Richard Böcking|\n",
            "|            Acrobat|\n",
            "|            Bianchi|\n",
            "|Castello di Amorosa|\n",
            "|            Envolve|\n",
            "|              Erath|\n",
            "|Feudi del Pisciotto|\n",
            "|    Hawkins Cellars|\n",
            "|        Robert Hall|\n",
            "|           Sundance|\n",
            "|   The White Knight|\n",
            "|              Trump|\n",
            "|          RustRidge|\n",
            "|          Souverain|\n",
            "|      Tres Palacios|\n",
            "+-------------------+\n",
            "only showing top 20 rows\n",
            "\n"
          ],
          "name": "stdout"
        }
      ]
    },
    {
      "cell_type": "code",
      "metadata": {
        "colab": {
          "base_uri": "https://localhost:8080/"
        },
        "id": "UzQiMz51p8Jp",
        "outputId": "699fe6ca-8547-49c0-9c78-67cb7b590a50"
      },
      "source": [
        "select_sql = \"(SELECT count(DISTINCT winery) FROM wine) AS wineryalias\"\n",
        "spark.read.jdbc(url=jdbc_url, table=select_sql, properties=config).show()"
      ],
      "execution_count": 29,
      "outputs": [
        {
          "output_type": "stream",
          "text": [
            "+-----+\n",
            "|count|\n",
            "+-----+\n",
            "| 8614|\n",
            "+-----+\n",
            "\n"
          ],
          "name": "stdout"
        }
      ]
    },
    {
      "cell_type": "code",
      "metadata": {
        "colab": {
          "base_uri": "https://localhost:8080/"
        },
        "id": "YXKeOFZuqE0z",
        "outputId": "a135f266-49ee-4d93-8aa7-ed43e8880301"
      },
      "source": [
        "select_sql = \"(SELECT winery, country, points, variety, winery_search, avg_temp, avg_airp, avg_humid, avg_precip FROM wine AS wi, weather AS we WHERE wi.winery_country = we.winery_search) AS wineryalias\"\n",
        "spark.read.jdbc(url=jdbc_url, table=select_sql, properties=config).show()"
      ],
      "execution_count": 28,
      "outputs": [
        {
          "output_type": "stream",
          "text": [
            "+-------------------+-------+------+------------------+--------------------+--------------------+--------------------+--------------------+--------------------+\n",
            "|             winery|country|points|           variety|       winery_search|            avg_temp|            avg_airp|           avg_humid|          avg_precip|\n",
            "+-------------------+-------+------+------------------+--------------------+--------------------+--------------------+--------------------+--------------------+\n",
            "|         St. Julian|     US|    87|          Riesling|St. Julian winery US|269.6375000000000...|1018.150000000000...|79.24000000000000...|0.072500000000000000|\n",
            "|       Sweet Cheeks|     US|    87|        Pinot Noir|Sweet Cheeks wine...|276.0250000000000...|1019.887500000000...|85.45250000000000...|0.057500000000000000|\n",
            "| Kirkland Signature|     US|    87|Cabernet Sauvignon|Kirkland Signatur...|277.3750000000000...|1020.012500000000...|79.19750000000000...|0.235000000000000000|\n",
            "|   Louis M. Martini|     US|    87|Cabernet Sauvignon|Louis M. Martini ...|281.0325000000000...|1018.500000000000...|79.15500000000000...|0.077500000000000000|\n",
            "|    Richard Böcking|Germany|    87|          Riesling|Richard Böcking w...|275.7100000000000...|1014.942500000000...|92.21500000000000...|0.135000000000000000|\n",
            "|            Bianchi|     US|    87|            Merlot|   Bianchi winery US|279.6850000000000...|1018.230000000000...|73.42000000000000...|0.025000000000000000|\n",
            "|Castello di Amorosa|     US|    87|        Pinot Noir|Castello di Amoro...|281.0325000000000...|1018.500000000000...|79.15500000000000...|0.077500000000000000|\n",
            "|            Envolve|     US|    86|   Sauvignon Blanc|   Envolve winery US|281.7425000000000...|1019.152500000000...|70.48750000000000...|0.125000000000000000|\n",
            "|              Erath|     US|    86|        Pinot Noir|     Erath winery US|276.2200000000000...|1020.757500000000...|76.70500000000000...|0.140000000000000000|\n",
            "|Feudi del Pisciotto|  Italy|    86|Cabernet Sauvignon|Feudi del Pisciot...|282.5350000000000...|1014.390000000000...|75.94750000000000...|0.055000000000000000|\n",
            "|    Hawkins Cellars|     US|    86|        Pinot Noir|Hawkins Cellars w...|276.0775000000000...|1020.897500000000...|74.87250000000000...|0.135000000000000000|\n",
            "|        Robert Hall|     US|    86|   Sauvignon Blanc|Robert Hall winer...|279.6850000000000...|1018.230000000000...|73.42000000000000...|0.025000000000000000|\n",
            "|           Sundance|  Chile|    86|            Merlot|Sundance winery C...|269.7550000000000...|1013.960000000000...|58.30000000000000...|0.010000000000000000|\n",
            "|              Trump|     US|    86|   Sauvignon Blanc|     Trump winery US|277.4675000000000...|1019.297500000000...|70.09000000000000...|0.122500000000000000|\n",
            "|          RustRidge|     US|    85|        Chardonnay| RustRidge winery US|281.0325000000000...|1018.500000000000...|79.15500000000000...|0.077500000000000000|\n",
            "|          Souverain|     US|    85|        Chardonnay| Souverain winery US|281.0325000000000...|1018.500000000000...|79.15500000000000...|0.077500000000000000|\n",
            "|      Tres Palacios|  Chile|    85|        Pinot Noir|Tres Palacios win...|294.2675000000000...|1004.555000000000...|47.05500000000000...|               0E-18|\n",
            "|              Okapi|     US|    86|Cabernet Sauvignon|     Okapi winery US|278.5275000000000...|1020.127500000000...|76.59750000000000...|0.217500000000000000|\n",
            "|             Sevtap|     US|    86|   Sauvignon Blanc|    Sevtap winery US|285.0800000000000...|1018.895000000000...|58.40750000000000...|0.010000000000000000|\n",
            "|    Simonnet-Febvre| France|    86|        Chardonnay|Simonnet-Febvre w...|276.7450000000000...|1020.505000000000...|88.98250000000000...|0.107500000000000000|\n",
            "+-------------------+-------+------+------------------+--------------------+--------------------+--------------------+--------------------+--------------------+\n",
            "only showing top 20 rows\n",
            "\n"
          ],
          "name": "stdout"
        }
      ]
    },
    {
      "cell_type": "code",
      "metadata": {
        "id": "cDAUlG3z0lHO"
      },
      "source": [
        "#select_sql = \"(SELECT winery, country, points, variety, winery_search, avg_temp, avg_airp, avg_humid, avg_precip FROM wine LEFT JOIN weather ON (wine.winery_country = weather.winery_search)) AS wineryalias\"\n",
        "#spark.read.jdbc(url=jdbc_url, table=select_sql, properties=config).show()"
      ],
      "execution_count": null,
      "outputs": []
    },
    {
      "cell_type": "code",
      "metadata": {
        "colab": {
          "base_uri": "https://localhost:8080/"
        },
        "id": "T6guc1hS4fWv",
        "outputId": "9107ff16-3be3-4e0c-c183-747c2f65c7b2"
      },
      "source": [
        "#Join tables wine and weather\n",
        "select_sql = \"(SELECT winery, country, points, variety, winery_search, avg_temp, avg_airp, avg_humid, avg_precip FROM wine INNER JOIN weather ON (wine.winery_country = weather.winery_search)) AS wineryalias\"\n",
        "spark.read.jdbc(url=jdbc_url, table=select_sql, properties=config).show()"
      ],
      "execution_count": 33,
      "outputs": [
        {
          "output_type": "stream",
          "text": [
            "+-------------------+-------+------+------------------+--------------------+--------------------+--------------------+--------------------+--------------------+\n",
            "|             winery|country|points|           variety|       winery_search|            avg_temp|            avg_airp|           avg_humid|          avg_precip|\n",
            "+-------------------+-------+------+------------------+--------------------+--------------------+--------------------+--------------------+--------------------+\n",
            "|         St. Julian|     US|    87|          Riesling|St. Julian winery US|269.6375000000000...|1018.150000000000...|79.24000000000000...|0.072500000000000000|\n",
            "|       Sweet Cheeks|     US|    87|        Pinot Noir|Sweet Cheeks wine...|276.0250000000000...|1019.887500000000...|85.45250000000000...|0.057500000000000000|\n",
            "| Kirkland Signature|     US|    87|Cabernet Sauvignon|Kirkland Signatur...|277.3750000000000...|1020.012500000000...|79.19750000000000...|0.235000000000000000|\n",
            "|   Louis M. Martini|     US|    87|Cabernet Sauvignon|Louis M. Martini ...|281.0325000000000...|1018.500000000000...|79.15500000000000...|0.077500000000000000|\n",
            "|    Richard Böcking|Germany|    87|          Riesling|Richard Böcking w...|275.7100000000000...|1014.942500000000...|92.21500000000000...|0.135000000000000000|\n",
            "|            Bianchi|     US|    87|            Merlot|   Bianchi winery US|279.6850000000000...|1018.230000000000...|73.42000000000000...|0.025000000000000000|\n",
            "|Castello di Amorosa|     US|    87|        Pinot Noir|Castello di Amoro...|281.0325000000000...|1018.500000000000...|79.15500000000000...|0.077500000000000000|\n",
            "|            Envolve|     US|    86|   Sauvignon Blanc|   Envolve winery US|281.7425000000000...|1019.152500000000...|70.48750000000000...|0.125000000000000000|\n",
            "|              Erath|     US|    86|        Pinot Noir|     Erath winery US|276.2200000000000...|1020.757500000000...|76.70500000000000...|0.140000000000000000|\n",
            "|Feudi del Pisciotto|  Italy|    86|Cabernet Sauvignon|Feudi del Pisciot...|282.5350000000000...|1014.390000000000...|75.94750000000000...|0.055000000000000000|\n",
            "|    Hawkins Cellars|     US|    86|        Pinot Noir|Hawkins Cellars w...|276.0775000000000...|1020.897500000000...|74.87250000000000...|0.135000000000000000|\n",
            "|        Robert Hall|     US|    86|   Sauvignon Blanc|Robert Hall winer...|279.6850000000000...|1018.230000000000...|73.42000000000000...|0.025000000000000000|\n",
            "|           Sundance|  Chile|    86|            Merlot|Sundance winery C...|269.7550000000000...|1013.960000000000...|58.30000000000000...|0.010000000000000000|\n",
            "|              Trump|     US|    86|   Sauvignon Blanc|     Trump winery US|277.4675000000000...|1019.297500000000...|70.09000000000000...|0.122500000000000000|\n",
            "|          RustRidge|     US|    85|        Chardonnay| RustRidge winery US|281.0325000000000...|1018.500000000000...|79.15500000000000...|0.077500000000000000|\n",
            "|          Souverain|     US|    85|        Chardonnay| Souverain winery US|281.0325000000000...|1018.500000000000...|79.15500000000000...|0.077500000000000000|\n",
            "|      Tres Palacios|  Chile|    85|        Pinot Noir|Tres Palacios win...|294.2675000000000...|1004.555000000000...|47.05500000000000...|               0E-18|\n",
            "|              Okapi|     US|    86|Cabernet Sauvignon|     Okapi winery US|278.5275000000000...|1020.127500000000...|76.59750000000000...|0.217500000000000000|\n",
            "|             Sevtap|     US|    86|   Sauvignon Blanc|    Sevtap winery US|285.0800000000000...|1018.895000000000...|58.40750000000000...|0.010000000000000000|\n",
            "|    Simonnet-Febvre| France|    86|        Chardonnay|Simonnet-Febvre w...|276.7450000000000...|1020.505000000000...|88.98250000000000...|0.107500000000000000|\n",
            "+-------------------+-------+------+------------------+--------------------+--------------------+--------------------+--------------------+--------------------+\n",
            "only showing top 20 rows\n",
            "\n"
          ],
          "name": "stdout"
        }
      ]
    },
    {
      "cell_type": "code",
      "metadata": {
        "id": "3UHiAi_DwJu1"
      },
      "source": [
        "select_sql = \"(SELECT winery, country, points, variety, winery_search, avg_temp, avg_airp, avg_humid, avg_precip FROM wine INNER JOIN weather ON (wine.winery_country = weather.winery_search)) AS wineryalias\"\n",
        "machine_learning_table_df = spark.read.jdbc(url=jdbc_url, table=select_sql, properties=config)"
      ],
      "execution_count": 34,
      "outputs": []
    },
    {
      "cell_type": "code",
      "metadata": {
        "id": "3mdWo6Sjwk5k"
      },
      "source": [
        "# Write machine_learning_table_df to table in RDS\n",
        "machine_learning_table_df.write.jdbc(url=jdbc_url, table='machine', mode=mode, properties=config)"
      ],
      "execution_count": 35,
      "outputs": []
    },
    {
      "cell_type": "code",
      "metadata": {
        "colab": {
          "base_uri": "https://localhost:8080/"
        },
        "id": "VVYcbLi4xU6n",
        "outputId": "7b6d4331-a16a-4681-bdc5-bc12a578c96d"
      },
      "source": [
        "# Read machine table from RDS\n",
        "spark.read.jdbc(url=jdbc_url, table='machine', properties=config).limit(10).show()"
      ],
      "execution_count": 36,
      "outputs": [
        {
          "output_type": "stream",
          "text": [
            "+-------------------+-------+------+------------------+--------------------+--------------------+--------------------+--------------------+--------------------+\n",
            "|             winery|country|points|           variety|       winery_search|            avg_temp|            avg_airp|           avg_humid|          avg_precip|\n",
            "+-------------------+-------+------+------------------+--------------------+--------------------+--------------------+--------------------+--------------------+\n",
            "|         St. Julian|     US|    87|          Riesling|St. Julian winery US|269.6375000000000...|1018.150000000000...|79.24000000000000...|0.072500000000000000|\n",
            "|       Sweet Cheeks|     US|    87|        Pinot Noir|Sweet Cheeks wine...|276.0250000000000...|1019.887500000000...|85.45250000000000...|0.057500000000000000|\n",
            "| Kirkland Signature|     US|    87|Cabernet Sauvignon|Kirkland Signatur...|277.3750000000000...|1020.012500000000...|79.19750000000000...|0.235000000000000000|\n",
            "|   Louis M. Martini|     US|    87|Cabernet Sauvignon|Louis M. Martini ...|281.0325000000000...|1018.500000000000...|79.15500000000000...|0.077500000000000000|\n",
            "|    Richard Böcking|Germany|    87|          Riesling|Richard Böcking w...|275.7100000000000...|1014.942500000000...|92.21500000000000...|0.135000000000000000|\n",
            "|            Bianchi|     US|    87|            Merlot|   Bianchi winery US|279.6850000000000...|1018.230000000000...|73.42000000000000...|0.025000000000000000|\n",
            "|Castello di Amorosa|     US|    87|        Pinot Noir|Castello di Amoro...|281.0325000000000...|1018.500000000000...|79.15500000000000...|0.077500000000000000|\n",
            "|            Envolve|     US|    86|   Sauvignon Blanc|   Envolve winery US|281.7425000000000...|1019.152500000000...|70.48750000000000...|0.125000000000000000|\n",
            "|              Erath|     US|    86|        Pinot Noir|     Erath winery US|276.2200000000000...|1020.757500000000...|76.70500000000000...|0.140000000000000000|\n",
            "|Feudi del Pisciotto|  Italy|    86|Cabernet Sauvignon|Feudi del Pisciot...|282.5350000000000...|1014.390000000000...|75.94750000000000...|0.055000000000000000|\n",
            "+-------------------+-------+------+------------------+--------------------+--------------------+--------------------+--------------------+--------------------+\n",
            "\n"
          ],
          "name": "stdout"
        }
      ]
    },
    {
      "cell_type": "code",
      "metadata": {
        "id": "YcvijOFxJOFx"
      },
      "source": [
        ""
      ],
      "execution_count": null,
      "outputs": []
    }
  ]
}