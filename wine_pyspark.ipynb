{
  "nbformat": 4,
  "nbformat_minor": 0,
  "metadata": {
    "colab": {
      "name": "wine_pyspark.ipynb",
      "provenance": [],
      "collapsed_sections": []
    },
    "kernelspec": {
      "name": "python3",
      "display_name": "Python 3"
    },
    "language_info": {
      "name": "python"
    }
  },
  "cells": [
    {
      "cell_type": "code",
      "metadata": {
        "colab": {
          "base_uri": "https://localhost:8080/"
        },
        "id": "6BwscHGwv_-G",
        "outputId": "e5107710-cb9a-4f47-e703-22ace936cf76"
      },
      "source": [
        "import pandas as pd\n",
        "import io\n",
        "\n",
        "import os\n",
        "# Find the latest version of spark 2.0  from http://www-us.apache.org/dist/spark/ and enter as the spark version\n",
        "spark_version = 'spark-3.0.2'\n",
        "os.environ['SPARK_VERSION']=spark_version\n",
        "\n",
        "# Install Spark and Java\n",
        "!apt-get update\n",
        "!apt-get install openjdk-11-jdk-headless -qq > /dev/null\n",
        "!wget -q http://www-us.apache.org/dist/spark/$SPARK_VERSION/$SPARK_VERSION-bin-hadoop2.7.tgz\n",
        "!tar xf $SPARK_VERSION-bin-hadoop2.7.tgz\n",
        "!pip install -q findspark\n",
        "\n",
        "# Set Environment Variables\n",
        "import os\n",
        "os.environ[\"JAVA_HOME\"] = \"/usr/lib/jvm/java-11-openjdk-amd64\"\n",
        "os.environ[\"SPARK_HOME\"] = f\"/content/{spark_version}-bin-hadoop2.7\"\n",
        "\n",
        "# Start a SparkSession\n",
        "import findspark\n",
        "findspark.init()"
      ],
      "execution_count": 287,
      "outputs": [
        {
          "output_type": "stream",
          "text": [
            "Ign:1 https://developer.download.nvidia.com/compute/cuda/repos/ubuntu1804/x86_64  InRelease\n",
            "Hit:2 https://cloud.r-project.org/bin/linux/ubuntu bionic-cran40/ InRelease\n",
            "Get:3 http://security.ubuntu.com/ubuntu bionic-security InRelease [88.7 kB]\n",
            "Ign:4 https://developer.download.nvidia.com/compute/machine-learning/repos/ubuntu1804/x86_64  InRelease\n",
            "Hit:5 https://developer.download.nvidia.com/compute/cuda/repos/ubuntu1804/x86_64  Release\n",
            "Hit:6 https://developer.download.nvidia.com/compute/machine-learning/repos/ubuntu1804/x86_64  Release\n",
            "Hit:7 http://ppa.launchpad.net/c2d4u.team/c2d4u4.0+/ubuntu bionic InRelease\n",
            "Hit:8 http://archive.ubuntu.com/ubuntu bionic InRelease\n",
            "Get:11 http://archive.ubuntu.com/ubuntu bionic-updates InRelease [88.7 kB]\n",
            "Hit:12 http://ppa.launchpad.net/cran/libgit2/ubuntu bionic InRelease\n",
            "Hit:13 http://ppa.launchpad.net/deadsnakes/ppa/ubuntu bionic InRelease\n",
            "Get:14 http://archive.ubuntu.com/ubuntu bionic-backports InRelease [74.6 kB]\n",
            "Hit:15 http://ppa.launchpad.net/graphics-drivers/ppa/ubuntu bionic InRelease\n",
            "Fetched 252 kB in 3s (98.6 kB/s)\n",
            "Reading package lists... Done\n"
          ],
          "name": "stdout"
        }
      ]
    },
    {
      "cell_type": "code",
      "metadata": {
        "colab": {
          "base_uri": "https://localhost:8080/"
        },
        "id": "nhx4tcuJwJKc",
        "outputId": "abc2f189-d521-4ff2-80ee-a64159eade9c"
      },
      "source": [
        "# Download the Postgres driver that will allow Spark to interact with Postgres.\n",
        "!wget https://jdbc.postgresql.org/download/postgresql-42.2.16.jar"
      ],
      "execution_count": 288,
      "outputs": [
        {
          "output_type": "stream",
          "text": [
            "--2021-05-02 14:48:55--  https://jdbc.postgresql.org/download/postgresql-42.2.16.jar\n",
            "Resolving jdbc.postgresql.org (jdbc.postgresql.org)... 72.32.157.228, 2001:4800:3e1:1::228\n",
            "Connecting to jdbc.postgresql.org (jdbc.postgresql.org)|72.32.157.228|:443... connected.\n",
            "HTTP request sent, awaiting response... 200 OK\n",
            "Length: 1002883 (979K) [application/java-archive]\n",
            "Saving to: ‘postgresql-42.2.16.jar.4’\n",
            "\n",
            "postgresql-42.2.16. 100%[===================>] 979.38K  1.21MB/s    in 0.8s    \n",
            "\n",
            "2021-05-02 14:48:57 (1.21 MB/s) - ‘postgresql-42.2.16.jar.4’ saved [1002883/1002883]\n",
            "\n"
          ],
          "name": "stdout"
        }
      ]
    },
    {
      "cell_type": "code",
      "metadata": {
        "id": "iMN2CfyIwL_4"
      },
      "source": [
        "from pyspark.sql import SparkSession\n",
        "spark = SparkSession.builder.appName(\"Wine-Project\").config(\"spark.driver.extraClassPath\",\"/content/postgresql-42.2.16.jar\").getOrCreate()"
      ],
      "execution_count": 289,
      "outputs": []
    },
    {
      "cell_type": "markdown",
      "metadata": {
        "id": "CQ8UUehpwXMz"
      },
      "source": [
        "**Load Data into Spark DataFrame**"
      ]
    },
    {
      "cell_type": "code",
      "metadata": {
        "id": "oOdzCvVlP0-2",
        "colab": {
          "base_uri": "https://localhost:8080/"
        },
        "outputId": "8da29232-0cd7-4170-fe39-0ff256547e73"
      },
      "source": [
        "from pyspark import SparkFiles\n",
        "url = \"https://green-team-wine.s3.us-east-2.amazonaws.com/winemag-data-130k-v2.csv\"\n",
        "spark.sparkContext.addFile(url)\n",
        "wine_df = spark.read.csv(SparkFiles.get(\"winemag-data-130k-v2.csv\"), sep=\",\", header=True, inferSchema=True)\n",
        "wine_df.show()"
      ],
      "execution_count": 290,
      "outputs": [
        {
          "output_type": "stream",
          "text": [
            "+---+---------+--------------------+--------------------+------+-----+-----------------+-------------------+-----------------+------------------+---------------------+--------------------+------------------+-------------------+\n",
            "|_c0|  country|         description|         designation|points|price|         province|           region_1|         region_2|       taster_name|taster_twitter_handle|               title|           variety|             winery|\n",
            "+---+---------+--------------------+--------------------+------+-----+-----------------+-------------------+-----------------+------------------+---------------------+--------------------+------------------+-------------------+\n",
            "|  0|    Italy|Aromas include tr...|        Vulkà Bianco|    87| null|Sicily & Sardinia|               Etna|             null|     Kerin O’Keefe|         @kerinokeefe|Nicosia 2013 Vulk...|       White Blend|            Nicosia|\n",
            "|  1| Portugal|This is ripe and ...|            Avidagos|    87| 15.0|            Douro|               null|             null|        Roger Voss|           @vossroger|Quinta dos Avidag...|    Portuguese Red|Quinta dos Avidagos|\n",
            "|  2|       US|Tart and snappy, ...|                null|    87| 14.0|           Oregon|  Willamette Valley|Willamette Valley|      Paul Gregutt|          @paulgwine |Rainstorm 2013 Pi...|        Pinot Gris|          Rainstorm|\n",
            "|  3|       US|Pineapple rind, l...|Reserve Late Harvest|    87| 13.0|         Michigan|Lake Michigan Shore|             null|Alexander Peartree|                 null|St. Julian 2013 R...|          Riesling|         St. Julian|\n",
            "|  4|       US|Much like the reg...|Vintner's Reserve...|    87| 65.0|           Oregon|  Willamette Valley|Willamette Valley|      Paul Gregutt|          @paulgwine |Sweet Cheeks 2012...|        Pinot Noir|       Sweet Cheeks|\n",
            "|  5|    Spain|Blackberry and ra...|        Ars In Vitro|    87| 15.0|   Northern Spain|            Navarra|             null| Michael Schachner|          @wineschach|Tandem 2011 Ars I...|Tempranillo-Merlot|             Tandem|\n",
            "|  6|    Italy|Here's a bright, ...|             Belsito|    87| 16.0|Sicily & Sardinia|           Vittoria|             null|     Kerin O’Keefe|         @kerinokeefe|Terre di Giurfo 2...|          Frappato|    Terre di Giurfo|\n",
            "|  7|   France|This dry and rest...|                null|    87| 24.0|           Alsace|             Alsace|             null|        Roger Voss|           @vossroger|Trimbach 2012 Gew...|    Gewürztraminer|           Trimbach|\n",
            "|  8|  Germany|Savory dried thym...|               Shine|    87| 12.0|      Rheinhessen|               null|             null|Anna Lee C. Iijima|                 null|Heinz Eifel 2013 ...|    Gewürztraminer|        Heinz Eifel|\n",
            "|  9|   France|This has great de...|         Les Natures|    87| 27.0|           Alsace|             Alsace|             null|        Roger Voss|           @vossroger|Jean-Baptiste Ada...|        Pinot Gris| Jean-Baptiste Adam|\n",
            "| 10|       US|Soft, supple plum...|      Mountain Cuvée|    87| 19.0|       California|        Napa Valley|             Napa|    Virginie Boone|              @vboone|Kirkland Signatur...|Cabernet Sauvignon| Kirkland Signature|\n",
            "| 11|   France|This is a dry win...|                null|    87| 30.0|           Alsace|             Alsace|             null|        Roger Voss|           @vossroger|Leon Beyer 2012 G...|    Gewürztraminer|         Leon Beyer|\n",
            "| 12|       US|Slightly reduced,...|                null|    87| 34.0|       California|   Alexander Valley|           Sonoma|    Virginie Boone|              @vboone|Louis M. Martini ...|Cabernet Sauvignon|   Louis M. Martini|\n",
            "| 13|    Italy|This is dominated...|               Rosso|    87| null|Sicily & Sardinia|               Etna|             null|     Kerin O’Keefe|         @kerinokeefe|Masseria Settepor...| Nerello Mascalese|Masseria Setteporte|\n",
            "| 14|       US|Building on 150 y...|                null|    87| 12.0|       California|      Central Coast|    Central Coast|     Matt Kettmann|        @mattkettmann|Mirassou 2012 Cha...|        Chardonnay|           Mirassou|\n",
            "| 15|  Germany|Zesty orange peel...|               Devon|    87| 24.0|            Mosel|               null|             null|Anna Lee C. Iijima|                 null|Richard Böcking 2...|          Riesling|    Richard Böcking|\n",
            "| 16|Argentina|Baked plum, molas...|               Felix|    87| 30.0|            Other|           Cafayate|             null| Michael Schachner|          @wineschach|Felix Lavaque 201...|            Malbec|      Felix Lavaque|\n",
            "| 17|Argentina|Raw black-cherry ...| Winemaker Selection|    87| 13.0| Mendoza Province|            Mendoza|             null| Michael Schachner|          @wineschach|Gaucho Andino 201...|            Malbec|      Gaucho Andino|\n",
            "| 18|    Spain|Desiccated blackb...|Vendimia Seleccio...|    87| 28.0|   Northern Spain|   Ribera del Duero|             null| Michael Schachner|          @wineschach|Pradorey 2010 Ven...| Tempranillo Blend|           Pradorey|\n",
            "| 19|       US|Red fruit aromas ...|                null|    87| 32.0|         Virginia|           Virginia|             null|Alexander Peartree|                 null|Quiévremont 2012 ...|          Meritage|        Quiévremont|\n",
            "+---+---------+--------------------+--------------------+------+-----+-----------------+-------------------+-----------------+------------------+---------------------+--------------------+------------------+-------------------+\n",
            "only showing top 20 rows\n",
            "\n"
          ],
          "name": "stdout"
        }
      ]
    },
    {
      "cell_type": "code",
      "metadata": {
        "id": "YSz7RNm-wgQn",
        "colab": {
          "base_uri": "https://localhost:8080/"
        },
        "outputId": "e54404f0-a251-4211-cd9d-372bce45fbc5"
      },
      "source": [
        "wine_df.count()"
      ],
      "execution_count": 291,
      "outputs": [
        {
          "output_type": "execute_result",
          "data": {
            "text/plain": [
              "129975"
            ]
          },
          "metadata": {
            "tags": []
          },
          "execution_count": 291
        }
      ]
    },
    {
      "cell_type": "code",
      "metadata": {
        "colab": {
          "base_uri": "https://localhost:8080/"
        },
        "id": "m2K8hrrCYgIJ",
        "outputId": "ce6773f7-ec97-4489-b841-ebf7849bd7b1"
      },
      "source": [
        "url = \"https://green-team-wine.s3.us-east-2.amazonaws.com/US_AL_cseat13t19.csv\"\n",
        "spark.sparkContext.addFile(url)\n",
        "weather_df = spark.read.csv(SparkFiles.get(\"US_AL_cseat13t19.csv\"), sep=\",\", header=True, inferSchema=True)\n",
        "weather_df.show()"
      ],
      "execution_count": 292,
      "outputs": [
        {
          "output_type": "stream",
          "text": [
            "+-----------+-------------------+--------+---------+---------+----------+----+----+----+----+----+----+----+----+\n",
            "|    STATION|               NAME|LATITUDE|LONGITUDE|ELEVATION|      DATE|AWND|PRCP|SN32|SNOW|SX32|TAVG|TMAX|TMIN|\n",
            "+-----------+-------------------+--------+---------+---------+----------+----+----+----+----+----+----+----+----+\n",
            "|USC00012209|DECATUR 4 SE, AL US|34.57556|-86.93389|    167.6|2013-01-01|null|1.73|null|null|null|null|  51|  33|\n",
            "|USC00012209|DECATUR 4 SE, AL US|34.57556|-86.93389|    167.6|2013-01-02|null| 0.0|null|null|null|null|  51|  33|\n",
            "|USC00012209|DECATUR 4 SE, AL US|34.57556|-86.93389|    167.6|2013-01-03|null| 0.0|null|null|null|null|  51|  31|\n",
            "|USC00012209|DECATUR 4 SE, AL US|34.57556|-86.93389|    167.6|2013-01-04|null| 0.0|null|null|null|null|  45|  28|\n",
            "|USC00012209|DECATUR 4 SE, AL US|34.57556|-86.93389|    167.6|2013-01-05|null| 0.0|null|null|null|null|  45|  28|\n",
            "|USC00012209|DECATUR 4 SE, AL US|34.57556|-86.93389|    167.6|2013-01-06|null| 0.0|null|null|null|null|  48|  28|\n",
            "|USC00012209|DECATUR 4 SE, AL US|34.57556|-86.93389|    167.6|2013-01-07|null| 0.0|null|null|null|null|  48|  28|\n",
            "|USC00012209|DECATUR 4 SE, AL US|34.57556|-86.93389|    167.6|2013-01-08|null| 0.1|null|null|null|null|  61|  34|\n",
            "|USC00012209|DECATUR 4 SE, AL US|34.57556|-86.93389|    167.6|2013-01-09|null|0.57|null|null|null|null|  59|  33|\n",
            "|USC00012209|DECATUR 4 SE, AL US|34.57556|-86.93389|    167.6|2013-01-10|null| 0.0|null|null|null|null|  59|  50|\n",
            "|USC00012209|DECATUR 4 SE, AL US|34.57556|-86.93389|    167.6|2013-01-11|null| 0.1|null|null|null|null|  68|  58|\n",
            "|USC00012209|DECATUR 4 SE, AL US|34.57556|-86.93389|    167.6|2013-01-12|null|0.03|null|null|null|null|  71|  62|\n",
            "|USC00012209|DECATUR 4 SE, AL US|34.57556|-86.93389|    167.6|2013-01-13|null| 0.0|null|null|null|null|  70|  62|\n",
            "|USC00012209|DECATUR 4 SE, AL US|34.57556|-86.93389|    167.6|2013-01-14|null|1.14|null|null|null|null|  70|  35|\n",
            "|USC00012209|DECATUR 4 SE, AL US|34.57556|-86.93389|    167.6|2013-01-15|null|1.75|null|null|null|null|  36|  32|\n",
            "|USC00012209|DECATUR 4 SE, AL US|34.57556|-86.93389|    167.6|2013-01-16|null|1.94|null|null|null|null|  39|  35|\n",
            "|USC00012209|DECATUR 4 SE, AL US|34.57556|-86.93389|    167.6|2013-01-17|null|0.15|null|null|null|null|  38|  36|\n",
            "|USC00012209|DECATUR 4 SE, AL US|34.57556|-86.93389|    167.6|2013-01-18|null|0.35|null|null|null|null|  43|  30|\n",
            "|USC00012209|DECATUR 4 SE, AL US|34.57556|-86.93389|    167.6|2013-01-19|null| 0.0|null|null|null|null|  48|  31|\n",
            "|USC00012209|DECATUR 4 SE, AL US|34.57556|-86.93389|    167.6|2013-01-20|null| 0.0|null|null|null|null|  55|  33|\n",
            "+-----------+-------------------+--------+---------+---------+----------+----+----+----+----+----+----+----+----+\n",
            "only showing top 20 rows\n",
            "\n"
          ],
          "name": "stdout"
        }
      ]
    },
    {
      "cell_type": "code",
      "metadata": {
        "colab": {
          "base_uri": "https://localhost:8080/"
        },
        "id": "6anzv1THYggd",
        "outputId": "a40e0041-961d-48d3-d793-257db16e1e3e"
      },
      "source": [
        "weather_df.count()"
      ],
      "execution_count": 293,
      "outputs": [
        {
          "output_type": "execute_result",
          "data": {
            "text/plain": [
              "116849"
            ]
          },
          "metadata": {
            "tags": []
          },
          "execution_count": 293
        }
      ]
    },
    {
      "cell_type": "markdown",
      "metadata": {
        "id": "5tK_3qLVXd9D"
      },
      "source": [
        "**Create DataFrames to match tables**"
      ]
    },
    {
      "cell_type": "code",
      "metadata": {
        "colab": {
          "base_uri": "https://localhost:8080/"
        },
        "id": "ICHnLi0nUCwo",
        "outputId": "2172132c-1f5c-4ae2-d979-15c70784c3a7"
      },
      "source": [
        "#Select only the columns that will be stored into the RDS database\n",
        "\n",
        "from pyspark.sql.functions import col\n",
        "\n",
        "wine_table_df = wine_df.select(col(\"country\").alias(\"country\"), col(\"points\").alias(\"points\"), col(\"province\").alias(\"province\"), col(\"region_1\").alias(\"region_1\"), col(\"region_2\").alias(\"region_2\"), col(\"title\").alias(\"title\"), col(\"variety\").alias(\"variety\"), col(\"winery\").alias(\"winery\")).where(col(\"country\").isNotNull())\n",
        "wine_table_df.show()\n"
      ],
      "execution_count": 339,
      "outputs": [
        {
          "output_type": "stream",
          "text": [
            "+---------+------+-----------------+-------------------+-----------------+--------------------+------------------+-------------------+\n",
            "|  country|points|         province|           region_1|         region_2|               title|           variety|             winery|\n",
            "+---------+------+-----------------+-------------------+-----------------+--------------------+------------------+-------------------+\n",
            "|    Italy|    87|Sicily & Sardinia|               Etna|             null|Nicosia 2013 Vulk...|       White Blend|            Nicosia|\n",
            "| Portugal|    87|            Douro|               null|             null|Quinta dos Avidag...|    Portuguese Red|Quinta dos Avidagos|\n",
            "|       US|    87|           Oregon|  Willamette Valley|Willamette Valley|Rainstorm 2013 Pi...|        Pinot Gris|          Rainstorm|\n",
            "|       US|    87|         Michigan|Lake Michigan Shore|             null|St. Julian 2013 R...|          Riesling|         St. Julian|\n",
            "|       US|    87|           Oregon|  Willamette Valley|Willamette Valley|Sweet Cheeks 2012...|        Pinot Noir|       Sweet Cheeks|\n",
            "|    Spain|    87|   Northern Spain|            Navarra|             null|Tandem 2011 Ars I...|Tempranillo-Merlot|             Tandem|\n",
            "|    Italy|    87|Sicily & Sardinia|           Vittoria|             null|Terre di Giurfo 2...|          Frappato|    Terre di Giurfo|\n",
            "|   France|    87|           Alsace|             Alsace|             null|Trimbach 2012 Gew...|    Gewürztraminer|           Trimbach|\n",
            "|  Germany|    87|      Rheinhessen|               null|             null|Heinz Eifel 2013 ...|    Gewürztraminer|        Heinz Eifel|\n",
            "|   France|    87|           Alsace|             Alsace|             null|Jean-Baptiste Ada...|        Pinot Gris| Jean-Baptiste Adam|\n",
            "|       US|    87|       California|        Napa Valley|             Napa|Kirkland Signatur...|Cabernet Sauvignon| Kirkland Signature|\n",
            "|   France|    87|           Alsace|             Alsace|             null|Leon Beyer 2012 G...|    Gewürztraminer|         Leon Beyer|\n",
            "|       US|    87|       California|   Alexander Valley|           Sonoma|Louis M. Martini ...|Cabernet Sauvignon|   Louis M. Martini|\n",
            "|    Italy|    87|Sicily & Sardinia|               Etna|             null|Masseria Settepor...| Nerello Mascalese|Masseria Setteporte|\n",
            "|       US|    87|       California|      Central Coast|    Central Coast|Mirassou 2012 Cha...|        Chardonnay|           Mirassou|\n",
            "|  Germany|    87|            Mosel|               null|             null|Richard Böcking 2...|          Riesling|    Richard Böcking|\n",
            "|Argentina|    87|            Other|           Cafayate|             null|Felix Lavaque 201...|            Malbec|      Felix Lavaque|\n",
            "|Argentina|    87| Mendoza Province|            Mendoza|             null|Gaucho Andino 201...|            Malbec|      Gaucho Andino|\n",
            "|    Spain|    87|   Northern Spain|   Ribera del Duero|             null|Pradorey 2010 Ven...| Tempranillo Blend|           Pradorey|\n",
            "|       US|    87|         Virginia|           Virginia|             null|Quiévremont 2012 ...|          Meritage|        Quiévremont|\n",
            "+---------+------+-----------------+-------------------+-----------------+--------------------+------------------+-------------------+\n",
            "only showing top 20 rows\n",
            "\n"
          ],
          "name": "stdout"
        }
      ]
    },
    {
      "cell_type": "code",
      "metadata": {
        "colab": {
          "base_uri": "https://localhost:8080/"
        },
        "id": "wZFx2eMTYJbX",
        "outputId": "b31b239f-f5f0-47f0-9bd2-350c1cfc6c1e"
      },
      "source": [
        "wine_table_df.printSchema()"
      ],
      "execution_count": 340,
      "outputs": [
        {
          "output_type": "stream",
          "text": [
            "root\n",
            " |-- country: string (nullable = true)\n",
            " |-- points: string (nullable = true)\n",
            " |-- province: string (nullable = true)\n",
            " |-- region_1: string (nullable = true)\n",
            " |-- region_2: string (nullable = true)\n",
            " |-- title: string (nullable = true)\n",
            " |-- variety: string (nullable = true)\n",
            " |-- winery: string (nullable = true)\n",
            "\n"
          ],
          "name": "stdout"
        }
      ]
    },
    {
      "cell_type": "code",
      "metadata": {
        "id": "jRALilTyd431"
      },
      "source": [
        "#Change \"points\" column datatype from string to integer\n",
        "from pyspark.sql.types import IntegerType\n",
        "wine_table_df = wine_table_df.withColumn(\"points\", wine_table_df[\"points\"].cast(IntegerType()))"
      ],
      "execution_count": 341,
      "outputs": []
    },
    {
      "cell_type": "code",
      "metadata": {
        "colab": {
          "base_uri": "https://localhost:8080/"
        },
        "id": "xrsok0sSeTLf",
        "outputId": "4813a47d-23fc-43b4-afb7-f4ded0eeed9b"
      },
      "source": [
        "wine_table_df.printSchema()"
      ],
      "execution_count": 342,
      "outputs": [
        {
          "output_type": "stream",
          "text": [
            "root\n",
            " |-- country: string (nullable = true)\n",
            " |-- points: integer (nullable = true)\n",
            " |-- province: string (nullable = true)\n",
            " |-- region_1: string (nullable = true)\n",
            " |-- region_2: string (nullable = true)\n",
            " |-- title: string (nullable = true)\n",
            " |-- variety: string (nullable = true)\n",
            " |-- winery: string (nullable = true)\n",
            "\n"
          ],
          "name": "stdout"
        }
      ]
    },
    {
      "cell_type": "code",
      "metadata": {
        "colab": {
          "base_uri": "https://localhost:8080/"
        },
        "id": "77XDk9sGVx-N",
        "outputId": "faaf8d71-dd71-4488-fed6-ed5c8884f56e"
      },
      "source": [
        "wine_table_df.count()"
      ],
      "execution_count": 343,
      "outputs": [
        {
          "output_type": "execute_result",
          "data": {
            "text/plain": [
              "129912"
            ]
          },
          "metadata": {
            "tags": []
          },
          "execution_count": 343
        }
      ]
    },
    {
      "cell_type": "code",
      "metadata": {
        "colab": {
          "base_uri": "https://localhost:8080/"
        },
        "id": "IhtPhLiynTkM",
        "outputId": "aeeb4d72-9fdc-4e41-802a-ba26a4ca9754"
      },
      "source": [
        "#Select only the columns that will be stored into the RDS database\n",
        "\n",
        "from pyspark.sql.functions import col\n",
        "from pyspark.sql.functions import to_date\n",
        "\n",
        "weather_table_df = weather_df.select(col(\"STATION\").alias(\"station\"), col(\"NAME\").alias(\"countyname\"), col(\"LATITUDE\").alias(\"latitude\"), col(\"LONGITUDE\").alias(\"longitude\"), to_date(\"DATE\", 'yyyy-MM-dd').alias(\"date\"), col(\"TMAX\").alias(\"tmax\"), col(\"TMIN\").alias(\"tmin\"))\n",
        "weather_table_df.show()"
      ],
      "execution_count": 344,
      "outputs": [
        {
          "output_type": "stream",
          "text": [
            "+-----------+-------------------+--------+---------+----------+----+----+\n",
            "|    station|         countyname|latitude|longitude|      date|tmax|tmin|\n",
            "+-----------+-------------------+--------+---------+----------+----+----+\n",
            "|USC00012209|DECATUR 4 SE, AL US|34.57556|-86.93389|2013-01-01|  51|  33|\n",
            "|USC00012209|DECATUR 4 SE, AL US|34.57556|-86.93389|2013-01-02|  51|  33|\n",
            "|USC00012209|DECATUR 4 SE, AL US|34.57556|-86.93389|2013-01-03|  51|  31|\n",
            "|USC00012209|DECATUR 4 SE, AL US|34.57556|-86.93389|2013-01-04|  45|  28|\n",
            "|USC00012209|DECATUR 4 SE, AL US|34.57556|-86.93389|2013-01-05|  45|  28|\n",
            "|USC00012209|DECATUR 4 SE, AL US|34.57556|-86.93389|2013-01-06|  48|  28|\n",
            "|USC00012209|DECATUR 4 SE, AL US|34.57556|-86.93389|2013-01-07|  48|  28|\n",
            "|USC00012209|DECATUR 4 SE, AL US|34.57556|-86.93389|2013-01-08|  61|  34|\n",
            "|USC00012209|DECATUR 4 SE, AL US|34.57556|-86.93389|2013-01-09|  59|  33|\n",
            "|USC00012209|DECATUR 4 SE, AL US|34.57556|-86.93389|2013-01-10|  59|  50|\n",
            "|USC00012209|DECATUR 4 SE, AL US|34.57556|-86.93389|2013-01-11|  68|  58|\n",
            "|USC00012209|DECATUR 4 SE, AL US|34.57556|-86.93389|2013-01-12|  71|  62|\n",
            "|USC00012209|DECATUR 4 SE, AL US|34.57556|-86.93389|2013-01-13|  70|  62|\n",
            "|USC00012209|DECATUR 4 SE, AL US|34.57556|-86.93389|2013-01-14|  70|  35|\n",
            "|USC00012209|DECATUR 4 SE, AL US|34.57556|-86.93389|2013-01-15|  36|  32|\n",
            "|USC00012209|DECATUR 4 SE, AL US|34.57556|-86.93389|2013-01-16|  39|  35|\n",
            "|USC00012209|DECATUR 4 SE, AL US|34.57556|-86.93389|2013-01-17|  38|  36|\n",
            "|USC00012209|DECATUR 4 SE, AL US|34.57556|-86.93389|2013-01-18|  43|  30|\n",
            "|USC00012209|DECATUR 4 SE, AL US|34.57556|-86.93389|2013-01-19|  48|  31|\n",
            "|USC00012209|DECATUR 4 SE, AL US|34.57556|-86.93389|2013-01-20|  55|  33|\n",
            "+-----------+-------------------+--------+---------+----------+----+----+\n",
            "only showing top 20 rows\n",
            "\n"
          ],
          "name": "stdout"
        }
      ]
    },
    {
      "cell_type": "code",
      "metadata": {
        "colab": {
          "base_uri": "https://localhost:8080/"
        },
        "id": "dlUvPD6vjkPN",
        "outputId": "4148d167-aa5b-4c26-81df-d1e6416a3596"
      },
      "source": [
        "weather_table_df.printSchema()"
      ],
      "execution_count": 345,
      "outputs": [
        {
          "output_type": "stream",
          "text": [
            "root\n",
            " |-- station: string (nullable = true)\n",
            " |-- countyname: string (nullable = true)\n",
            " |-- latitude: double (nullable = true)\n",
            " |-- longitude: double (nullable = true)\n",
            " |-- date: date (nullable = true)\n",
            " |-- tmax: integer (nullable = true)\n",
            " |-- tmin: integer (nullable = true)\n",
            "\n"
          ],
          "name": "stdout"
        }
      ]
    },
    {
      "cell_type": "code",
      "metadata": {
        "colab": {
          "base_uri": "https://localhost:8080/"
        },
        "id": "3gO_HGN_r8eF",
        "outputId": "cd02c4a7-2bea-4981-f94b-7f0903e857cb"
      },
      "source": [
        "weather_table_df.count()"
      ],
      "execution_count": 346,
      "outputs": [
        {
          "output_type": "execute_result",
          "data": {
            "text/plain": [
              "116849"
            ]
          },
          "metadata": {
            "tags": []
          },
          "execution_count": 346
        }
      ]
    },
    {
      "cell_type": "code",
      "metadata": {
        "colab": {
          "base_uri": "https://localhost:8080/"
        },
        "id": "HYhSEzVpr1ZR",
        "outputId": "3918a6a6-d4e8-40e6-885a-2526acacb249"
      },
      "source": [
        "# Remove rows that have at least 1 null value\n",
        "weather_table_df = weather_table_df.dropna()\n",
        "#weather_table_df.head(10)\n",
        "weather_table_df.count()"
      ],
      "execution_count": 347,
      "outputs": [
        {
          "output_type": "execute_result",
          "data": {
            "text/plain": [
              "82094"
            ]
          },
          "metadata": {
            "tags": []
          },
          "execution_count": 347
        }
      ]
    },
    {
      "cell_type": "markdown",
      "metadata": {
        "id": "ulKAWgu3PLi2"
      },
      "source": [
        "**Connect to the AWS RDS instance and write each DataFrame to its table**"
      ]
    },
    {
      "cell_type": "code",
      "metadata": {
        "id": "vY70t7KxPODD"
      },
      "source": [
        "# Configure settings for RDS\n",
        "mode = \"append\"\n",
        "#jdbc_url=\"jdbc:postgresql://<connection string>:5432/<database-name>\"\n",
        "jdbc_url=\"jdbc:postgresql://wine-final-project.czqkltznl3rl.us-east-2.rds.amazonaws.com/winedb\"\n",
        "#config = {\"user\":\"postgres\",\n",
        "          #\"password\": \"<password>\",\n",
        "          #\"driver\":\"org.postgresql.Driver\"}\n",
        "config = {\"user\":\"wineuser\", \n",
        "          \"password\": \"############\",\n",
        "          \"driver\":\"org.postgresql.Driver\"}"
      ],
      "execution_count": 348,
      "outputs": []
    },
    {
      "cell_type": "code",
      "metadata": {
        "colab": {
          "base_uri": "https://localhost:8080/"
        },
        "id": "hjSk3aXzllWF",
        "outputId": "ab5bf394-bcf5-4cba-eacd-7f70330cc5dd"
      },
      "source": [
        "wine_table_df"
      ],
      "execution_count": 349,
      "outputs": [
        {
          "output_type": "execute_result",
          "data": {
            "text/plain": [
              "DataFrame[country: string, points: int, province: string, region_1: string, region_2: string, title: string, variety: string, winery: string]"
            ]
          },
          "metadata": {
            "tags": []
          },
          "execution_count": 349
        }
      ]
    },
    {
      "cell_type": "code",
      "metadata": {
        "id": "-CQuJbnkPwhe"
      },
      "source": [
        "# Write wine_table_df to table in RDS\n",
        "wine_table_df.write.jdbc(url=jdbc_url, table='wine', mode=mode, properties=config)"
      ],
      "execution_count": 350,
      "outputs": []
    },
    {
      "cell_type": "code",
      "metadata": {
        "id": "NcPdxuZDmZQU"
      },
      "source": [
        "# Write weather_table_df to table in RDS\n",
        "weather_table_df.write.jdbc(url=jdbc_url, table='weather', mode=mode, properties=config)"
      ],
      "execution_count": 351,
      "outputs": []
    },
    {
      "cell_type": "code",
      "metadata": {
        "colab": {
          "base_uri": "https://localhost:8080/"
        },
        "id": "gVJDgFOXtSXW",
        "outputId": "fd581c1e-713b-4167-9f78-0652b3810744"
      },
      "source": [
        "# Read wine table from RDS\n",
        "spark.read.jdbc(url=jdbc_url, table='wine', properties=config).limit(10).show()"
      ],
      "execution_count": 352,
      "outputs": [
        {
          "output_type": "stream",
          "text": [
            "+------------+------+------------+--------------------+---------------+--------------------+--------------------+-------------------+\n",
            "|     country|points|    province|            region_1|       region_2|               title|             variety|             winery|\n",
            "+------------+------+------------+--------------------+---------------+--------------------+--------------------+-------------------+\n",
            "|   Australia|    90|    Victoria|        Yarra Valley|           null|Giant Steps 2006 ...|          Chardonnay|        Giant Steps|\n",
            "|          US|    90|  Washington|        Red Mountain|Columbia Valley|Gorman 2006 The P...|               Syrah|             Gorman|\n",
            "|          US|    90|  Washington|Columbia Valley (WA)|Columbia Valley|Guardian 2006 Cha...|           Red Blend|           Guardian|\n",
            "|          US|    90|  Washington|        Red Mountain|Columbia Valley|Barrister 2005 Ar...|              Merlot|          Barrister|\n",
            "|      France|    90|    Bordeaux|        Saint-Julien|           null|Château Beychevel...|Bordeaux-style Re...|Château Beychevelle|\n",
            "|      France|    90|    Bordeaux|            Pauillac|           null|Château Clerc Mil...|Bordeaux-style Re...|Château Clerc Milon|\n",
            "|      France|    90|    Bordeaux|             Margaux|           null|Château Lascombes...|Bordeaux-style Re...|  Château Lascombes|\n",
            "|      France|    90|    Bordeaux|              Barsac|           null|Château Suau 2006...|Bordeaux-style Wh...|       Château Suau|\n",
            "|          US|    90|  California|         Napa Valley|           Napa|Clark-Claudon 200...|  Cabernet Sauvignon|      Clark-Claudon|\n",
            "|South Africa|    90|Stellenbosch|                null|           null|Eikendal 2004 Cla...|Bordeaux-style Re...|           Eikendal|\n",
            "+------------+------+------------+--------------------+---------------+--------------------+--------------------+-------------------+\n",
            "\n"
          ],
          "name": "stdout"
        }
      ]
    },
    {
      "cell_type": "code",
      "metadata": {
        "colab": {
          "base_uri": "https://localhost:8080/"
        },
        "id": "fr-B0Ol1tSKV",
        "outputId": "cd1efc68-1c18-4ef2-ccf4-0b8be6119389"
      },
      "source": [
        "# Read weather table from RDS\n",
        "spark.read.jdbc(url=jdbc_url, table='weather', properties=config).limit(10).show()"
      ],
      "execution_count": 353,
      "outputs": [
        {
          "output_type": "stream",
          "text": [
            "+-----------+-------------------+--------+---------+----------+----+----+\n",
            "|    station|         countyname|latitude|longitude|      date|tmax|tmin|\n",
            "+-----------+-------------------+--------+---------+----------+----+----+\n",
            "|USC00012209|DECATUR 4 SE, AL US|34.57556|-86.93389|2013-01-01|51.0|33.0|\n",
            "|USC00012209|DECATUR 4 SE, AL US|34.57556|-86.93389|2013-01-02|51.0|33.0|\n",
            "|USC00012209|DECATUR 4 SE, AL US|34.57556|-86.93389|2013-01-03|51.0|31.0|\n",
            "|USC00012209|DECATUR 4 SE, AL US|34.57556|-86.93389|2013-01-04|45.0|28.0|\n",
            "|USC00012209|DECATUR 4 SE, AL US|34.57556|-86.93389|2013-01-05|45.0|28.0|\n",
            "|USC00012209|DECATUR 4 SE, AL US|34.57556|-86.93389|2013-01-06|48.0|28.0|\n",
            "|USC00012209|DECATUR 4 SE, AL US|34.57556|-86.93389|2013-01-07|48.0|28.0|\n",
            "|USC00012209|DECATUR 4 SE, AL US|34.57556|-86.93389|2013-01-08|61.0|34.0|\n",
            "|USC00012209|DECATUR 4 SE, AL US|34.57556|-86.93389|2013-01-09|59.0|33.0|\n",
            "|USC00012209|DECATUR 4 SE, AL US|34.57556|-86.93389|2013-01-10|59.0|50.0|\n",
            "+-----------+-------------------+--------+---------+----------+----+----+\n",
            "\n"
          ],
          "name": "stdout"
        }
      ]
    }
  ]
}