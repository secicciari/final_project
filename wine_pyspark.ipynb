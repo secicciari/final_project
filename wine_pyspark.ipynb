{
  "nbformat": 4,
  "nbformat_minor": 0,
  "metadata": {
    "colab": {
      "name": "wine_pyspark.ipynb",
      "provenance": [],
      "collapsed_sections": []
    },
    "kernelspec": {
      "name": "python3",
      "display_name": "Python 3"
    },
    "language_info": {
      "name": "python"
    }
  },
  "cells": [
    {
      "cell_type": "code",
      "metadata": {
        "colab": {
          "base_uri": "https://localhost:8080/"
        },
        "id": "6BwscHGwv_-G",
        "outputId": "0542383f-6a3a-405f-9a68-b48b51976925"
      },
      "source": [
        "import pandas as pd\n",
        "import io\n",
        "\n",
        "# Import RDS password\n",
        "from config import rds_pwd\n",
        "\n",
        "import os\n",
        "# Find the latest version of spark 2.0  from http://www-us.apache.org/dist/spark/ and enter as the spark version\n",
        "spark_version = 'spark-3.0.2'\n",
        "os.environ['SPARK_VERSION']=spark_version\n",
        "\n",
        "# Install Spark and Java\n",
        "!apt-get update\n",
        "!apt-get install openjdk-11-jdk-headless -qq > /dev/null\n",
        "!wget -q http://www-us.apache.org/dist/spark/$SPARK_VERSION/$SPARK_VERSION-bin-hadoop2.7.tgz\n",
        "!tar xf $SPARK_VERSION-bin-hadoop2.7.tgz\n",
        "!pip install -q findspark\n",
        "\n",
        "# Set Environment Variables\n",
        "import os\n",
        "os.environ[\"JAVA_HOME\"] = \"/usr/lib/jvm/java-11-openjdk-amd64\"\n",
        "os.environ[\"SPARK_HOME\"] = f\"/content/{spark_version}-bin-hadoop2.7\"\n",
        "\n",
        "# Start a SparkSession\n",
        "import findspark\n",
        "findspark.init()"
      ],
      "execution_count": 1,
      "outputs": [
        {
          "output_type": "stream",
          "text": [
            "\r0% [Working]\r            \rHit:1 https://cloud.r-project.org/bin/linux/ubuntu bionic-cran40/ InRelease\n",
            "\r0% [Connecting to archive.ubuntu.com] [Connecting to security.ubuntu.com (91.18\r0% [1 InRelease gpgv 3,626 B] [Connecting to archive.ubuntu.com] [Waiting for h\r                                                                               \rIgn:2 https://developer.download.nvidia.com/compute/cuda/repos/ubuntu1804/x86_64  InRelease\n",
            "\r0% [1 InRelease gpgv 3,626 B] [Connecting to archive.ubuntu.com] [Waiting for h\r                                                                               \rIgn:3 https://developer.download.nvidia.com/compute/machine-learning/repos/ubuntu1804/x86_64  InRelease\n",
            "\r0% [1 InRelease gpgv 3,626 B] [Connecting to archive.ubuntu.com] [Waiting for h\r                                                                               \rHit:4 https://developer.download.nvidia.com/compute/cuda/repos/ubuntu1804/x86_64  Release\n",
            "\r0% [1 InRelease gpgv 3,626 B] [Connecting to archive.ubuntu.com] [Waiting for h\r                                                                               \rGet:5 http://security.ubuntu.com/ubuntu bionic-security InRelease [88.7 kB]\n",
            "Hit:6 https://developer.download.nvidia.com/compute/machine-learning/repos/ubuntu1804/x86_64  Release\n",
            "Hit:7 http://ppa.launchpad.net/c2d4u.team/c2d4u4.0+/ubuntu bionic InRelease\n",
            "Hit:8 http://archive.ubuntu.com/ubuntu bionic InRelease\n",
            "Get:10 http://archive.ubuntu.com/ubuntu bionic-updates InRelease [88.7 kB]\n",
            "Hit:11 http://ppa.launchpad.net/cran/libgit2/ubuntu bionic InRelease\n",
            "Hit:13 http://ppa.launchpad.net/deadsnakes/ppa/ubuntu bionic InRelease\n",
            "Get:14 http://archive.ubuntu.com/ubuntu bionic-backports InRelease [74.6 kB]\n",
            "Hit:15 http://ppa.launchpad.net/graphics-drivers/ppa/ubuntu bionic InRelease\n",
            "Fetched 252 kB in 2s (114 kB/s)\n",
            "Reading package lists... Done\n"
          ],
          "name": "stdout"
        }
      ]
    },
    {
      "cell_type": "code",
      "metadata": {
        "colab": {
          "base_uri": "https://localhost:8080/"
        },
        "id": "nhx4tcuJwJKc",
        "outputId": "f8aeba2c-7c94-4d34-e130-3fed888ed24e"
      },
      "source": [
        "# Download the Postgres driver that will allow Spark to interact with Postgres.\n",
        "!wget https://jdbc.postgresql.org/download/postgresql-42.2.16.jar"
      ],
      "execution_count": 2,
      "outputs": [
        {
          "output_type": "stream",
          "text": [
            "--2021-05-09 16:04:32--  https://jdbc.postgresql.org/download/postgresql-42.2.16.jar\n",
            "Resolving jdbc.postgresql.org (jdbc.postgresql.org)... 72.32.157.228, 2001:4800:3e1:1::228\n",
            "Connecting to jdbc.postgresql.org (jdbc.postgresql.org)|72.32.157.228|:443... connected.\n",
            "HTTP request sent, awaiting response... 200 OK\n",
            "Length: 1002883 (979K) [application/java-archive]\n",
            "Saving to: ‘postgresql-42.2.16.jar.4’\n",
            "\n",
            "postgresql-42.2.16. 100%[===================>] 979.38K  4.80MB/s    in 0.2s    \n",
            "\n",
            "2021-05-09 16:04:32 (4.80 MB/s) - ‘postgresql-42.2.16.jar.4’ saved [1002883/1002883]\n",
            "\n"
          ],
          "name": "stdout"
        }
      ]
    },
    {
      "cell_type": "code",
      "metadata": {
        "id": "iMN2CfyIwL_4"
      },
      "source": [
        "from pyspark.sql import SparkSession\n",
        "spark = SparkSession.builder.appName(\"Wine-Project\").config(\"spark.driver.extraClassPath\",\"/content/postgresql-42.2.16.jar\").getOrCreate()"
      ],
      "execution_count": 3,
      "outputs": []
    },
    {
      "cell_type": "markdown",
      "metadata": {
        "id": "CQ8UUehpwXMz"
      },
      "source": [
        "**Load Data into Spark DataFrame**"
      ]
    },
    {
      "cell_type": "code",
      "metadata": {
        "id": "oOdzCvVlP0-2",
        "colab": {
          "base_uri": "https://localhost:8080/"
        },
        "outputId": "abed5f2e-5dcb-4136-a495-2593cc4d17f5"
      },
      "source": [
        "from pyspark import SparkFiles\n",
        "url = \"https://green-team-wine.s3.us-east-2.amazonaws.com/wine_reviews_cleaned.csv\"\n",
        "spark.sparkContext.addFile(url)\n",
        "wine_df = spark.read.csv(SparkFiles.get(\"wine_reviews_cleaned.csv\"), sep=\",\", header=True, inferSchema=True)\n",
        "wine_df.show()"
      ],
      "execution_count": 4,
      "outputs": [
        {
          "output_type": "stream",
          "text": [
            "+---+-------+------+------------------+-------------------+--------------------+\n",
            "|_c0|country|points|           variety|             winery|       winery_search|\n",
            "+---+-------+------+------------------+-------------------+--------------------+\n",
            "|  3|     US|    87|          Riesling|         St. Julian|St. Julian winery US|\n",
            "|  4|     US|    87|        Pinot Noir|       Sweet Cheeks|Sweet Cheeks wine...|\n",
            "| 10|     US|    87|Cabernet Sauvignon| Kirkland Signature|Kirkland Signatur...|\n",
            "| 12|     US|    87|Cabernet Sauvignon|   Louis M. Martini|Louis M. Martini ...|\n",
            "| 14|     US|    87|        Chardonnay|           Mirassou|  Mirassou winery US|\n",
            "| 15|Germany|    87|          Riesling|    Richard Böcking|Richard Böcking w...|\n",
            "| 21|     US|    87|        Pinot Noir|            Acrobat|   Acrobat winery US|\n",
            "| 23|     US|    87|            Merlot|            Bianchi|   Bianchi winery US|\n",
            "| 25|     US|    87|        Pinot Noir|Castello di Amorosa|Castello di Amoro...|\n",
            "| 34|     US|    86|   Sauvignon Blanc|            Envolve|   Envolve winery US|\n",
            "| 35|     US|    86|        Pinot Noir|              Erath|     Erath winery US|\n",
            "| 37|  Italy|    86|Cabernet Sauvignon|Feudi del Pisciotto|Feudi del Pisciot...|\n",
            "| 41|     US|    86|        Pinot Noir|    Hawkins Cellars|Hawkins Cellars w...|\n",
            "| 43|     US|    86|   Sauvignon Blanc|        Robert Hall|Robert Hall winer...|\n",
            "| 44|  Chile|    86|            Merlot|           Sundance|Sundance winery C...|\n",
            "| 47|     US|    86|          Riesling|   The White Knight|The White Knight ...|\n",
            "| 48|     US|    86|   Sauvignon Blanc|              Trump|     Trump winery US|\n",
            "| 55|     US|    85|        Chardonnay|          RustRidge| RustRidge winery US|\n",
            "| 56|     US|    85|        Chardonnay|          Souverain| Souverain winery US|\n",
            "| 58|  Chile|    85|        Pinot Noir|      Tres Palacios|Tres Palacios win...|\n",
            "+---+-------+------+------------------+-------------------+--------------------+\n",
            "only showing top 20 rows\n",
            "\n"
          ],
          "name": "stdout"
        }
      ]
    },
    {
      "cell_type": "code",
      "metadata": {
        "id": "YSz7RNm-wgQn",
        "colab": {
          "base_uri": "https://localhost:8080/"
        },
        "outputId": "f6114b76-862a-46b5-e45b-733bbba92ab1"
      },
      "source": [
        "wine_df.count()"
      ],
      "execution_count": 5,
      "outputs": [
        {
          "output_type": "execute_result",
          "data": {
            "text/plain": [
              "55461"
            ]
          },
          "metadata": {
            "tags": []
          },
          "execution_count": 5
        }
      ]
    },
    {
      "cell_type": "code",
      "metadata": {
        "colab": {
          "base_uri": "https://localhost:8080/"
        },
        "id": "m2K8hrrCYgIJ",
        "outputId": "0f935be4-d569-4506-8f41-4f4654364f96"
      },
      "source": [
        "url = \"https://green-team-wine.s3.us-east-2.amazonaws.com/winery_weather.csv\"\n",
        "spark.sparkContext.addFile(url)\n",
        "weather_df = spark.read.csv(SparkFiles.get(\"winery_weather.csv\"), sep=\",\", header=True, inferSchema=True)\n",
        "weather_df.show()"
      ],
      "execution_count": 6,
      "outputs": [
        {
          "output_type": "stream",
          "text": [
            "+---+--------------------+----------------------------+--------------------------+--------------------+--------------------------------+\n",
            "|_c0|              Winery|Average Temperature (Kelvin)|Average Air Pressure (hPa)|Average Humidity (%)|Average Daily Precipitation (mm)|\n",
            "+---+--------------------+----------------------------+--------------------------+--------------------+--------------------------------+\n",
            "|  0|St. Julian winery US|          269.63750000000005|        1018.1500000000001|   79.24000000000001|                          0.0725|\n",
            "|  1|Sweet Cheeks wine...|                     276.025|                 1019.8875|   85.45249999999999|            0.057499999999999996|\n",
            "|  2|Kirkland Signatur...|                     277.375|                 1020.0125|   79.19749999999999|             0.23500000000000001|\n",
            "|  3|Louis M. Martini ...|          281.03249999999997|                    1018.5|              79.155|                          0.0775|\n",
            "|  4|Richard Böcking w...|                      275.71|                 1014.9425|              92.215|                           0.135|\n",
            "|  5|   Bianchi winery US|                     279.685|                   1018.23|               73.42|                           0.025|\n",
            "|  6|Castello di Amoro...|          281.03249999999997|                    1018.5|              79.155|                          0.0775|\n",
            "|  7|   Envolve winery US|                    281.7425|        1019.1525000000001|   70.48750000000001|                           0.125|\n",
            "|  8|     Erath winery US|          276.21999999999997|                 1020.7575|              76.705|                            0.14|\n",
            "|  9|Feudi del Pisciot...|          282.53499999999997|                   1014.39|             75.9475|                           0.055|\n",
            "| 10|Hawkins Cellars w...|                    276.0775|                 1020.8975|             74.8725|                           0.135|\n",
            "| 11|Robert Hall winer...|                     279.685|                   1018.23|               73.42|                           0.025|\n",
            "| 12|Sundance winery C...|                     269.755|        1013.9599999999999|                58.3|                            0.01|\n",
            "| 13|     Trump winery US|                    277.4675|        1019.2974999999999|               70.09|                          0.1225|\n",
            "| 14| RustRidge winery US|          281.03249999999997|                    1018.5|              79.155|                          0.0775|\n",
            "| 15| Souverain winery US|          281.03249999999997|                    1018.5|              79.155|                          0.0775|\n",
            "| 16|Tres Palacios win...|          294.26750000000004|        1004.5550000000001|   47.05500000000001|                             0.0|\n",
            "| 17|     Okapi winery US|          278.52750000000003|                 1020.1275|             76.5975|                          0.2175|\n",
            "| 18|    Sevtap winery US|                      285.08|                  1018.895|             58.4075|                            0.01|\n",
            "| 19|Simonnet-Febvre w...|                     276.745|        1020.5049999999999|   88.98249999999999|                          0.1075|\n",
            "+---+--------------------+----------------------------+--------------------------+--------------------+--------------------------------+\n",
            "only showing top 20 rows\n",
            "\n"
          ],
          "name": "stdout"
        }
      ]
    },
    {
      "cell_type": "code",
      "metadata": {
        "colab": {
          "base_uri": "https://localhost:8080/"
        },
        "id": "6anzv1THYggd",
        "outputId": "2275dc63-8c84-4728-8a68-150d4160c19c"
      },
      "source": [
        "weather_df.count()"
      ],
      "execution_count": 7,
      "outputs": [
        {
          "output_type": "execute_result",
          "data": {
            "text/plain": [
              "7892"
            ]
          },
          "metadata": {
            "tags": []
          },
          "execution_count": 7
        }
      ]
    },
    {
      "cell_type": "code",
      "metadata": {
        "colab": {
          "base_uri": "https://localhost:8080/"
        },
        "id": "ZivbaiKFzFAv",
        "outputId": "8f8059fd-fd28-41c9-9e4a-38371785b53f"
      },
      "source": [
        "url = \"https://green-team-wine.s3.us-east-2.amazonaws.com/uscounty_weather.csv\"\n",
        "spark.sparkContext.addFile(url)\n",
        "uscounty_weather_df = spark.read.csv(SparkFiles.get(\"uscounty_weather.csv\"), sep=\",\", header=True, inferSchema=True)\n",
        "uscounty_weather_df.show()"
      ],
      "execution_count": 8,
      "outputs": [
        {
          "output_type": "stream",
          "text": [
            "+---+----+--------+---------+------------+--------+-------------+------------+----------------------------+--------------------------+--------------------+--------------------------------+\n",
            "|_c0| zip|     lat|      lng|        city|state_id|   state_name| county_name|Average Temperature (Kelvin)|Average Air Pressure (hPa)|Average Humidity (%)|Average Daily Precipitation (mm)|\n",
            "+---+----+--------+---------+------------+--------+-------------+------------+----------------------------+--------------------------+--------------------+--------------------------------+\n",
            "|  0|1001|42.06259|-72.62589|      Agawam|      MA|Massachusetts|     Hampden|                     270.805|                 1016.1225|              72.215|                           0.125|\n",
            "|  1|1002|42.37492| -72.4621|     Amherst|      MA|Massachusetts|   Hampshire|                     270.805|                 1016.1225|              72.215|                           0.125|\n",
            "|  2|1005|42.42017|-72.10615|       Barre|      MA|Massachusetts|   Worcester|                     270.725|                   1014.96|             71.7525|                           0.135|\n",
            "|  3|1029|42.19632|-73.04836|   East Otis|      MA|Massachusetts|   Berkshire|                     270.805|                 1016.1225|              72.215|                           0.125|\n",
            "|  4|1054|42.47363|-72.48746|    Leverett|      MA|Massachusetts|    Franklin|                     270.805|                 1016.1225|              72.215|                           0.125|\n",
            "|  5|1431|42.67652|-71.82322|       Ashby|      MA|Massachusetts|   Middlesex|                     270.665|                  1016.715|              69.785|                          0.1325|\n",
            "|  6|1810|42.64655|-71.16505|     Andover|      MA|Massachusetts|       Essex|                     270.665|                  1016.715|              69.785|                          0.1325|\n",
            "|  7|2019|42.07774|-71.47409|  Bellingham|      MA|Massachusetts|     Norfolk|                     272.165|                   1016.14|             71.2475|                           0.135|\n",
            "|  8|2043|42.21678|-70.88499|     Hingham|      MA|Massachusetts|    Plymouth|                     271.775|                  1016.035|             69.2525|                           0.135|\n",
            "|  9|2048|42.01626|-71.21868|   Mansfield|      MA|Massachusetts|     Bristol|                     272.165|                   1016.14|             71.2475|                           0.135|\n",
            "| 10|2108|42.35767|-71.06505|      Boston|      MA|Massachusetts|     Suffolk|                    271.7475|                 1016.0925|              69.655|                           0.135|\n",
            "| 11|2532|41.75162|-70.59728|Buzzards Bay|      MA|Massachusetts|  Barnstable|                     272.165|                   1016.14|             71.2475|                           0.135|\n",
            "| 12|2535|41.34896|-70.74629|    Chilmark|      MA|Massachusetts|       Dukes|                     272.165|                   1016.14|             71.2475|                           0.135|\n",
            "| 13|2554|41.28538|-70.07982|   Nantucket|      MA|Massachusetts|   Nantucket|                     272.165|                   1016.14|             71.2475|                           0.135|\n",
            "| 14|2802|41.95195|-71.45534|      Albion|      RI| Rhode Island|  Providence|                     272.165|                   1016.14|             71.2475|                           0.135|\n",
            "| 15|2804|41.43188|-71.77236|     Ashaway|      RI| Rhode Island|  Washington|                     272.165|                   1016.14|             71.2475|                           0.135|\n",
            "| 16|2816|41.69086|-71.61977|    Coventry|      RI| Rhode Island|        Kent|                     272.165|                   1016.14|             71.2475|                           0.135|\n",
            "| 17|2835|41.51497| -71.3771|   Jamestown|      RI| Rhode Island|     Newport|                     272.165|                   1016.14|             71.2475|                           0.135|\n",
            "| 18|3031|42.87036| -71.6079|     Amherst|      NH|New Hampshire|Hillsborough|                    269.7375|                  1015.325|             69.2625|                          0.0975|\n",
            "| 19|3032| 42.9906|-71.34379|      Auburn|      NH|New Hampshire|  Rockingham|                    269.7375|                  1015.325|             69.2625|                          0.0975|\n",
            "+---+----+--------+---------+------------+--------+-------------+------------+----------------------------+--------------------------+--------------------+--------------------------------+\n",
            "only showing top 20 rows\n",
            "\n"
          ],
          "name": "stdout"
        }
      ]
    },
    {
      "cell_type": "code",
      "metadata": {
        "colab": {
          "base_uri": "https://localhost:8080/"
        },
        "id": "cC3C-yqpzKkt",
        "outputId": "da6c23cd-6f14-414b-e3d5-092918ef6e86"
      },
      "source": [
        "uscounty_weather_df.count()"
      ],
      "execution_count": 9,
      "outputs": [
        {
          "output_type": "execute_result",
          "data": {
            "text/plain": [
              "1797"
            ]
          },
          "metadata": {
            "tags": []
          },
          "execution_count": 9
        }
      ]
    },
    {
      "cell_type": "markdown",
      "metadata": {
        "id": "5tK_3qLVXd9D"
      },
      "source": [
        "**Create DataFrames to match tables**"
      ]
    },
    {
      "cell_type": "code",
      "metadata": {
        "colab": {
          "base_uri": "https://localhost:8080/"
        },
        "id": "ICHnLi0nUCwo",
        "outputId": "b83df553-4323-464b-a2cb-b2e3079de180"
      },
      "source": [
        "#Select only the columns that will be stored into the RDS database\n",
        "\n",
        "from pyspark.sql.functions import col\n",
        "\n",
        "wine_table_df = wine_df.select(col(\"country\").alias(\"country\"), col(\"points\").alias(\"points\"), col(\"variety\").alias(\"variety\"), col(\"winery\").alias(\"winery\"), col(\"winery_search\").alias(\"winery_country\")).where(col(\"country\").isNotNull())\n",
        "wine_table_df.show()\n"
      ],
      "execution_count": 10,
      "outputs": [
        {
          "output_type": "stream",
          "text": [
            "+-------+------+------------------+-------------------+--------------------+\n",
            "|country|points|           variety|             winery|      winery_country|\n",
            "+-------+------+------------------+-------------------+--------------------+\n",
            "|     US|    87|          Riesling|         St. Julian|St. Julian winery US|\n",
            "|     US|    87|        Pinot Noir|       Sweet Cheeks|Sweet Cheeks wine...|\n",
            "|     US|    87|Cabernet Sauvignon| Kirkland Signature|Kirkland Signatur...|\n",
            "|     US|    87|Cabernet Sauvignon|   Louis M. Martini|Louis M. Martini ...|\n",
            "|     US|    87|        Chardonnay|           Mirassou|  Mirassou winery US|\n",
            "|Germany|    87|          Riesling|    Richard Böcking|Richard Böcking w...|\n",
            "|     US|    87|        Pinot Noir|            Acrobat|   Acrobat winery US|\n",
            "|     US|    87|            Merlot|            Bianchi|   Bianchi winery US|\n",
            "|     US|    87|        Pinot Noir|Castello di Amorosa|Castello di Amoro...|\n",
            "|     US|    86|   Sauvignon Blanc|            Envolve|   Envolve winery US|\n",
            "|     US|    86|        Pinot Noir|              Erath|     Erath winery US|\n",
            "|  Italy|    86|Cabernet Sauvignon|Feudi del Pisciotto|Feudi del Pisciot...|\n",
            "|     US|    86|        Pinot Noir|    Hawkins Cellars|Hawkins Cellars w...|\n",
            "|     US|    86|   Sauvignon Blanc|        Robert Hall|Robert Hall winer...|\n",
            "|  Chile|    86|            Merlot|           Sundance|Sundance winery C...|\n",
            "|     US|    86|          Riesling|   The White Knight|The White Knight ...|\n",
            "|     US|    86|   Sauvignon Blanc|              Trump|     Trump winery US|\n",
            "|     US|    85|        Chardonnay|          RustRidge| RustRidge winery US|\n",
            "|     US|    85|        Chardonnay|          Souverain| Souverain winery US|\n",
            "|  Chile|    85|        Pinot Noir|      Tres Palacios|Tres Palacios win...|\n",
            "+-------+------+------------------+-------------------+--------------------+\n",
            "only showing top 20 rows\n",
            "\n"
          ],
          "name": "stdout"
        }
      ]
    },
    {
      "cell_type": "code",
      "metadata": {
        "colab": {
          "base_uri": "https://localhost:8080/"
        },
        "id": "wZFx2eMTYJbX",
        "outputId": "d7a4e215-a09b-4279-a14b-71e2e2a672af"
      },
      "source": [
        "wine_table_df.printSchema()"
      ],
      "execution_count": 11,
      "outputs": [
        {
          "output_type": "stream",
          "text": [
            "root\n",
            " |-- country: string (nullable = true)\n",
            " |-- points: integer (nullable = true)\n",
            " |-- variety: string (nullable = true)\n",
            " |-- winery: string (nullable = true)\n",
            " |-- winery_country: string (nullable = true)\n",
            "\n"
          ],
          "name": "stdout"
        }
      ]
    },
    {
      "cell_type": "code",
      "metadata": {
        "colab": {
          "base_uri": "https://localhost:8080/"
        },
        "id": "77XDk9sGVx-N",
        "outputId": "471dcd46-0cd6-4df8-8a36-52ab8982cfe3"
      },
      "source": [
        "wine_table_df.count()"
      ],
      "execution_count": 12,
      "outputs": [
        {
          "output_type": "execute_result",
          "data": {
            "text/plain": [
              "55446"
            ]
          },
          "metadata": {
            "tags": []
          },
          "execution_count": 12
        }
      ]
    },
    {
      "cell_type": "code",
      "metadata": {
        "colab": {
          "base_uri": "https://localhost:8080/"
        },
        "id": "GvvvtM1gn8BM",
        "outputId": "2d9222e8-57aa-4d26-942c-1dc35c190073"
      },
      "source": [
        "weather_df.printSchema()"
      ],
      "execution_count": 13,
      "outputs": [
        {
          "output_type": "stream",
          "text": [
            "root\n",
            " |-- _c0: integer (nullable = true)\n",
            " |-- Winery: string (nullable = true)\n",
            " |-- Average Temperature (Kelvin): double (nullable = true)\n",
            " |-- Average Air Pressure (hPa): double (nullable = true)\n",
            " |-- Average Humidity (%): double (nullable = true)\n",
            " |-- Average Daily Precipitation (mm): double (nullable = true)\n",
            "\n"
          ],
          "name": "stdout"
        }
      ]
    },
    {
      "cell_type": "code",
      "metadata": {
        "colab": {
          "base_uri": "https://localhost:8080/"
        },
        "id": "OtEDDZ57ops7",
        "outputId": "21714ee8-4ef0-46c6-bba4-2c7da0a933ca"
      },
      "source": [
        "#Select only the columns that will be stored into the RDS database\n",
        "\n",
        "from pyspark.sql.functions import col\n",
        "\n",
        "weather_table_df = weather_df.select(col(\"Winery\").alias(\"winery_search\"), col(\"Average Temperature (Kelvin)\").alias(\"avg_temp\"), col(\"Average Air Pressure (hPa)\").alias(\"avg_airp\"), col(\"Average Humidity (%)\").alias(\"avg_humid\"), col(\"Average Daily Precipitation (mm)\").alias(\"avg_precip\"))\n",
        "weather_table_df.show()"
      ],
      "execution_count": 14,
      "outputs": [
        {
          "output_type": "stream",
          "text": [
            "+--------------------+------------------+------------------+-----------------+--------------------+\n",
            "|       winery_search|          avg_temp|          avg_airp|        avg_humid|          avg_precip|\n",
            "+--------------------+------------------+------------------+-----------------+--------------------+\n",
            "|St. Julian winery US|269.63750000000005|1018.1500000000001|79.24000000000001|              0.0725|\n",
            "|Sweet Cheeks wine...|           276.025|         1019.8875|85.45249999999999|0.057499999999999996|\n",
            "|Kirkland Signatur...|           277.375|         1020.0125|79.19749999999999| 0.23500000000000001|\n",
            "|Louis M. Martini ...|281.03249999999997|            1018.5|           79.155|              0.0775|\n",
            "|Richard Böcking w...|            275.71|         1014.9425|           92.215|               0.135|\n",
            "|   Bianchi winery US|           279.685|           1018.23|            73.42|               0.025|\n",
            "|Castello di Amoro...|281.03249999999997|            1018.5|           79.155|              0.0775|\n",
            "|   Envolve winery US|          281.7425|1019.1525000000001|70.48750000000001|               0.125|\n",
            "|     Erath winery US|276.21999999999997|         1020.7575|           76.705|                0.14|\n",
            "|Feudi del Pisciot...|282.53499999999997|           1014.39|          75.9475|               0.055|\n",
            "|Hawkins Cellars w...|          276.0775|         1020.8975|          74.8725|               0.135|\n",
            "|Robert Hall winer...|           279.685|           1018.23|            73.42|               0.025|\n",
            "|Sundance winery C...|           269.755|1013.9599999999999|             58.3|                0.01|\n",
            "|     Trump winery US|          277.4675|1019.2974999999999|            70.09|              0.1225|\n",
            "| RustRidge winery US|281.03249999999997|            1018.5|           79.155|              0.0775|\n",
            "| Souverain winery US|281.03249999999997|            1018.5|           79.155|              0.0775|\n",
            "|Tres Palacios win...|294.26750000000004|1004.5550000000001|47.05500000000001|                 0.0|\n",
            "|     Okapi winery US|278.52750000000003|         1020.1275|          76.5975|              0.2175|\n",
            "|    Sevtap winery US|            285.08|          1018.895|          58.4075|                0.01|\n",
            "|Simonnet-Febvre w...|           276.745|1020.5049999999999|88.98249999999999|              0.1075|\n",
            "+--------------------+------------------+------------------+-----------------+--------------------+\n",
            "only showing top 20 rows\n",
            "\n"
          ],
          "name": "stdout"
        }
      ]
    },
    {
      "cell_type": "code",
      "metadata": {
        "colab": {
          "base_uri": "https://localhost:8080/"
        },
        "id": "3gO_HGN_r8eF",
        "outputId": "49f7ab3c-b64e-495e-c494-c13e6c9e42ea"
      },
      "source": [
        "weather_table_df.count()"
      ],
      "execution_count": 15,
      "outputs": [
        {
          "output_type": "execute_result",
          "data": {
            "text/plain": [
              "7892"
            ]
          },
          "metadata": {
            "tags": []
          },
          "execution_count": 15
        }
      ]
    },
    {
      "cell_type": "code",
      "metadata": {
        "colab": {
          "base_uri": "https://localhost:8080/"
        },
        "id": "rmUn82ikzZ1E",
        "outputId": "b91a537d-260f-44d5-9e2f-a2112f9a648f"
      },
      "source": [
        "#Select only the columns that will be stored into the RDS database\n",
        "\n",
        "from pyspark.sql.functions import col\n",
        "\n",
        "uscounty_weather_table_df = uscounty_weather_df.select(col(\"zip\").alias(\"zip\"), col(\"lat\").alias(\"lat\"), col(\"lng\").alias(\"lng\"), col(\"city\").alias(\"city\"), col(\"state_id\").alias(\"state_id\"), col(\"state_name\").alias(\"state_name\"), col(\"county_name\").alias(\"county_name\"), col(\"Average Temperature (Kelvin)\").alias(\"avg_temp\"), col(\"Average Air Pressure (hPa)\").alias(\"avg_airp\"), col(\"Average Humidity (%)\").alias(\"avg_humid\"), col(\"Average Daily Precipitation (mm)\").alias(\"avg_precip\"))\n",
        "uscounty_weather_table_df.show()"
      ],
      "execution_count": 16,
      "outputs": [
        {
          "output_type": "stream",
          "text": [
            "+----+--------+---------+------------+--------+-------------+------------+--------+---------+---------+----------+\n",
            "| zip|     lat|      lng|        city|state_id|   state_name| county_name|avg_temp| avg_airp|avg_humid|avg_precip|\n",
            "+----+--------+---------+------------+--------+-------------+------------+--------+---------+---------+----------+\n",
            "|1001|42.06259|-72.62589|      Agawam|      MA|Massachusetts|     Hampden| 270.805|1016.1225|   72.215|     0.125|\n",
            "|1002|42.37492| -72.4621|     Amherst|      MA|Massachusetts|   Hampshire| 270.805|1016.1225|   72.215|     0.125|\n",
            "|1005|42.42017|-72.10615|       Barre|      MA|Massachusetts|   Worcester| 270.725|  1014.96|  71.7525|     0.135|\n",
            "|1029|42.19632|-73.04836|   East Otis|      MA|Massachusetts|   Berkshire| 270.805|1016.1225|   72.215|     0.125|\n",
            "|1054|42.47363|-72.48746|    Leverett|      MA|Massachusetts|    Franklin| 270.805|1016.1225|   72.215|     0.125|\n",
            "|1431|42.67652|-71.82322|       Ashby|      MA|Massachusetts|   Middlesex| 270.665| 1016.715|   69.785|    0.1325|\n",
            "|1810|42.64655|-71.16505|     Andover|      MA|Massachusetts|       Essex| 270.665| 1016.715|   69.785|    0.1325|\n",
            "|2019|42.07774|-71.47409|  Bellingham|      MA|Massachusetts|     Norfolk| 272.165|  1016.14|  71.2475|     0.135|\n",
            "|2043|42.21678|-70.88499|     Hingham|      MA|Massachusetts|    Plymouth| 271.775| 1016.035|  69.2525|     0.135|\n",
            "|2048|42.01626|-71.21868|   Mansfield|      MA|Massachusetts|     Bristol| 272.165|  1016.14|  71.2475|     0.135|\n",
            "|2108|42.35767|-71.06505|      Boston|      MA|Massachusetts|     Suffolk|271.7475|1016.0925|   69.655|     0.135|\n",
            "|2532|41.75162|-70.59728|Buzzards Bay|      MA|Massachusetts|  Barnstable| 272.165|  1016.14|  71.2475|     0.135|\n",
            "|2535|41.34896|-70.74629|    Chilmark|      MA|Massachusetts|       Dukes| 272.165|  1016.14|  71.2475|     0.135|\n",
            "|2554|41.28538|-70.07982|   Nantucket|      MA|Massachusetts|   Nantucket| 272.165|  1016.14|  71.2475|     0.135|\n",
            "|2802|41.95195|-71.45534|      Albion|      RI| Rhode Island|  Providence| 272.165|  1016.14|  71.2475|     0.135|\n",
            "|2804|41.43188|-71.77236|     Ashaway|      RI| Rhode Island|  Washington| 272.165|  1016.14|  71.2475|     0.135|\n",
            "|2816|41.69086|-71.61977|    Coventry|      RI| Rhode Island|        Kent| 272.165|  1016.14|  71.2475|     0.135|\n",
            "|2835|41.51497| -71.3771|   Jamestown|      RI| Rhode Island|     Newport| 272.165|  1016.14|  71.2475|     0.135|\n",
            "|3031|42.87036| -71.6079|     Amherst|      NH|New Hampshire|Hillsborough|269.7375| 1015.325|  69.2625|    0.0975|\n",
            "|3032| 42.9906|-71.34379|      Auburn|      NH|New Hampshire|  Rockingham|269.7375| 1015.325|  69.2625|    0.0975|\n",
            "+----+--------+---------+------------+--------+-------------+------------+--------+---------+---------+----------+\n",
            "only showing top 20 rows\n",
            "\n"
          ],
          "name": "stdout"
        }
      ]
    },
    {
      "cell_type": "code",
      "metadata": {
        "colab": {
          "base_uri": "https://localhost:8080/"
        },
        "id": "LEAHoZhF1Hkg",
        "outputId": "374a1193-734b-4298-af2b-759b372e93f7"
      },
      "source": [
        "uscounty_weather_table_df.printSchema()"
      ],
      "execution_count": 17,
      "outputs": [
        {
          "output_type": "stream",
          "text": [
            "root\n",
            " |-- zip: integer (nullable = true)\n",
            " |-- lat: double (nullable = true)\n",
            " |-- lng: double (nullable = true)\n",
            " |-- city: string (nullable = true)\n",
            " |-- state_id: string (nullable = true)\n",
            " |-- state_name: string (nullable = true)\n",
            " |-- county_name: string (nullable = true)\n",
            " |-- avg_temp: double (nullable = true)\n",
            " |-- avg_airp: double (nullable = true)\n",
            " |-- avg_humid: double (nullable = true)\n",
            " |-- avg_precip: double (nullable = true)\n",
            "\n"
          ],
          "name": "stdout"
        }
      ]
    },
    {
      "cell_type": "markdown",
      "metadata": {
        "id": "ulKAWgu3PLi2"
      },
      "source": [
        "**Connect to the AWS RDS instance and write each DataFrame to its table**"
      ]
    },
    {
      "cell_type": "code",
      "metadata": {
        "id": "vY70t7KxPODD"
      },
      "source": [
        "# Configure settings for RDS\n",
        "mode = \"append\"\n",
        "#jdbc_url=\"jdbc:postgresql://<connection string>:5432/<database-name>\"\n",
        "jdbc_url=\"jdbc:postgresql://wine-final-project.czqkltznl3rl.us-east-2.rds.amazonaws.com/winedb\"\n",
        "#config = {\"user\":\"postgres\",\n",
        "          #\"password\": \"<password>\",\n",
        "          #\"driver\":\"org.postgresql.Driver\"}\n",
        "config = {\"user\":\"wineuser\",\n",
        "          \"password\": rds_pwd,\n",
        "          \"driver\":\"org.postgresql.Driver\"}"
      ],
      "execution_count": 18,
      "outputs": []
    },
    {
      "cell_type": "code",
      "metadata": {
        "colab": {
          "base_uri": "https://localhost:8080/"
        },
        "id": "hjSk3aXzllWF",
        "outputId": "33a76625-f957-4e5e-814d-aeb2a75b9039"
      },
      "source": [
        "wine_table_df"
      ],
      "execution_count": 19,
      "outputs": [
        {
          "output_type": "execute_result",
          "data": {
            "text/plain": [
              "DataFrame[country: string, points: int, variety: string, winery: string, winery_country: string]"
            ]
          },
          "metadata": {
            "tags": []
          },
          "execution_count": 19
        }
      ]
    },
    {
      "cell_type": "code",
      "metadata": {
        "id": "-CQuJbnkPwhe"
      },
      "source": [
        "# Write wine_table_df to table in RDS\n",
        "wine_table_df.write.jdbc(url=jdbc_url, table='wine', mode=mode, properties=config)"
      ],
      "execution_count": 20,
      "outputs": []
    },
    {
      "cell_type": "code",
      "metadata": {
        "id": "NcPdxuZDmZQU"
      },
      "source": [
        "# Write weather_table_df to table in RDS\n",
        "weather_table_df.write.jdbc(url=jdbc_url, table='weather', mode=mode, properties=config)"
      ],
      "execution_count": 21,
      "outputs": []
    },
    {
      "cell_type": "code",
      "metadata": {
        "id": "z2EVznY01PdJ"
      },
      "source": [
        "# Write uscounty_weather_table_df to table in RDS\n",
        "uscounty_weather_table_df.write.jdbc(url=jdbc_url, table='uscounty', mode=mode, properties=config)"
      ],
      "execution_count": 22,
      "outputs": []
    },
    {
      "cell_type": "code",
      "metadata": {
        "colab": {
          "base_uri": "https://localhost:8080/"
        },
        "id": "gVJDgFOXtSXW",
        "outputId": "f75d6d57-ae9c-4685-9d7d-a2a4248a7c6a"
      },
      "source": [
        "# Read wine table from RDS\n",
        "spark.read.jdbc(url=jdbc_url, table='wine', properties=config).limit(10).show()"
      ],
      "execution_count": 23,
      "outputs": [
        {
          "output_type": "stream",
          "text": [
            "+-------+------+------------------+-------------------+--------------------+\n",
            "|country|points|           variety|             winery|      winery_country|\n",
            "+-------+------+------------------+-------------------+--------------------+\n",
            "|     US|    87|          Riesling|         St. Julian|St. Julian winery US|\n",
            "|     US|    87|        Pinot Noir|       Sweet Cheeks|Sweet Cheeks wine...|\n",
            "|     US|    87|Cabernet Sauvignon| Kirkland Signature|Kirkland Signatur...|\n",
            "|     US|    87|Cabernet Sauvignon|   Louis M. Martini|Louis M. Martini ...|\n",
            "|     US|    87|        Chardonnay|           Mirassou|  Mirassou winery US|\n",
            "|Germany|    87|          Riesling|    Richard Böcking|Richard Böcking w...|\n",
            "|     US|    87|        Pinot Noir|            Acrobat|   Acrobat winery US|\n",
            "|     US|    87|            Merlot|            Bianchi|   Bianchi winery US|\n",
            "|     US|    87|        Pinot Noir|Castello di Amorosa|Castello di Amoro...|\n",
            "|     US|    86|   Sauvignon Blanc|            Envolve|   Envolve winery US|\n",
            "+-------+------+------------------+-------------------+--------------------+\n",
            "\n"
          ],
          "name": "stdout"
        }
      ]
    },
    {
      "cell_type": "code",
      "metadata": {
        "colab": {
          "base_uri": "https://localhost:8080/"
        },
        "id": "fr-B0Ol1tSKV",
        "outputId": "9ca62c71-e2d9-4d06-a743-261ab8041e96"
      },
      "source": [
        "# Read weather table from RDS\n",
        "spark.read.jdbc(url=jdbc_url, table='weather', properties=config).limit(10).show()"
      ],
      "execution_count": 24,
      "outputs": [
        {
          "output_type": "stream",
          "text": [
            "+--------------------+--------------------+--------------------+--------------------+--------------------+\n",
            "|       winery_search|            avg_temp|            avg_airp|           avg_humid|          avg_precip|\n",
            "+--------------------+--------------------+--------------------+--------------------+--------------------+\n",
            "|St. Julian winery US|269.6375000000000...|1018.150000000000...|79.24000000000000...|0.072500000000000000|\n",
            "|Sweet Cheeks wine...|276.0250000000000...|1019.887500000000...|85.45250000000000...|0.057500000000000000|\n",
            "|Kirkland Signatur...|277.3750000000000...|1020.012500000000...|79.19750000000000...|0.235000000000000000|\n",
            "|Louis M. Martini ...|281.0325000000000...|1018.500000000000...|79.15500000000000...|0.077500000000000000|\n",
            "|Richard Böcking w...|275.7100000000000...|1014.942500000000...|92.21500000000000...|0.135000000000000000|\n",
            "|   Bianchi winery US|279.6850000000000...|1018.230000000000...|73.42000000000000...|0.025000000000000000|\n",
            "|Castello di Amoro...|281.0325000000000...|1018.500000000000...|79.15500000000000...|0.077500000000000000|\n",
            "|   Envolve winery US|281.7425000000000...|1019.152500000000...|70.48750000000000...|0.125000000000000000|\n",
            "|     Erath winery US|276.2200000000000...|1020.757500000000...|76.70500000000000...|0.140000000000000000|\n",
            "|Feudi del Pisciot...|282.5350000000000...|1014.390000000000...|75.94750000000000...|0.055000000000000000|\n",
            "+--------------------+--------------------+--------------------+--------------------+--------------------+\n",
            "\n"
          ],
          "name": "stdout"
        }
      ]
    },
    {
      "cell_type": "code",
      "metadata": {
        "colab": {
          "base_uri": "https://localhost:8080/"
        },
        "id": "HGmlub4d2d6n",
        "outputId": "11826a0c-6c45-441d-a509-5cec97ff9373"
      },
      "source": [
        "# Read uscounty table from RDS\n",
        "spark.read.jdbc(url=jdbc_url, table='uscounty', properties=config).limit(10).show()"
      ],
      "execution_count": 25,
      "outputs": [
        {
          "output_type": "stream",
          "text": [
            "+----+---+---+----------+--------+-------------+-----------+--------------------+--------------------+--------------------+--------------------+\n",
            "| zip|lat|lng|      city|state_id|   state_name|county_name|            avg_temp|            avg_airp|           avg_humid|          avg_precip|\n",
            "+----+---+---+----------+--------+-------------+-----------+--------------------+--------------------+--------------------+--------------------+\n",
            "|1001| 42|-73|    Agawam|      MA|Massachusetts|    Hampden|270.8050000000000...|1016.122500000000...|72.21500000000000...|0.125000000000000000|\n",
            "|1002| 42|-72|   Amherst|      MA|Massachusetts|  Hampshire|270.8050000000000...|1016.122500000000...|72.21500000000000...|0.125000000000000000|\n",
            "|1005| 42|-72|     Barre|      MA|Massachusetts|  Worcester|270.7250000000000...|1014.960000000000...|71.75250000000000...|0.135000000000000000|\n",
            "|1029| 42|-73| East Otis|      MA|Massachusetts|  Berkshire|270.8050000000000...|1016.122500000000...|72.21500000000000...|0.125000000000000000|\n",
            "|1054| 42|-72|  Leverett|      MA|Massachusetts|   Franklin|270.8050000000000...|1016.122500000000...|72.21500000000000...|0.125000000000000000|\n",
            "|1431| 43|-72|     Ashby|      MA|Massachusetts|  Middlesex|270.6650000000000...|1016.715000000000...|69.78500000000000...|0.132500000000000000|\n",
            "|1810| 43|-71|   Andover|      MA|Massachusetts|      Essex|270.6650000000000...|1016.715000000000...|69.78500000000000...|0.132500000000000000|\n",
            "|2019| 42|-71|Bellingham|      MA|Massachusetts|    Norfolk|272.1650000000000...|1016.140000000000...|71.24750000000000...|0.135000000000000000|\n",
            "|2043| 42|-71|   Hingham|      MA|Massachusetts|   Plymouth|271.7750000000000...|1016.035000000000...|69.25250000000000...|0.135000000000000000|\n",
            "|2048| 42|-71| Mansfield|      MA|Massachusetts|    Bristol|272.1650000000000...|1016.140000000000...|71.24750000000000...|0.135000000000000000|\n",
            "+----+---+---+----------+--------+-------------+-----------+--------------------+--------------------+--------------------+--------------------+\n",
            "\n"
          ],
          "name": "stdout"
        }
      ]
    },
    {
      "cell_type": "code",
      "metadata": {
        "colab": {
          "base_uri": "https://localhost:8080/"
        },
        "id": "Skx_05ypogny",
        "outputId": "23da5a60-c9b4-4370-a1d7-d5052390d414"
      },
      "source": [
        "select_sql = \"(SELECT winery FROM wine) AS wineryalias\"\n",
        "spark.read.jdbc(url=jdbc_url, table=select_sql, properties=config).show()"
      ],
      "execution_count": 26,
      "outputs": [
        {
          "output_type": "stream",
          "text": [
            "+-------------------+\n",
            "|             winery|\n",
            "+-------------------+\n",
            "|         St. Julian|\n",
            "|       Sweet Cheeks|\n",
            "| Kirkland Signature|\n",
            "|   Louis M. Martini|\n",
            "|           Mirassou|\n",
            "|    Richard Böcking|\n",
            "|            Acrobat|\n",
            "|            Bianchi|\n",
            "|Castello di Amorosa|\n",
            "|            Envolve|\n",
            "|              Erath|\n",
            "|Feudi del Pisciotto|\n",
            "|    Hawkins Cellars|\n",
            "|        Robert Hall|\n",
            "|           Sundance|\n",
            "|   The White Knight|\n",
            "|              Trump|\n",
            "|          RustRidge|\n",
            "|          Souverain|\n",
            "|      Tres Palacios|\n",
            "+-------------------+\n",
            "only showing top 20 rows\n",
            "\n"
          ],
          "name": "stdout"
        }
      ]
    },
    {
      "cell_type": "code",
      "metadata": {
        "colab": {
          "base_uri": "https://localhost:8080/"
        },
        "id": "UzQiMz51p8Jp",
        "outputId": "137a3fe4-484a-473b-84c9-60228201261b"
      },
      "source": [
        "select_sql = \"(SELECT count(DISTINCT winery) FROM wine) AS wineryalias\"\n",
        "spark.read.jdbc(url=jdbc_url, table=select_sql, properties=config).show()"
      ],
      "execution_count": 27,
      "outputs": [
        {
          "output_type": "stream",
          "text": [
            "+-----+\n",
            "|count|\n",
            "+-----+\n",
            "| 8614|\n",
            "+-----+\n",
            "\n"
          ],
          "name": "stdout"
        }
      ]
    },
    {
      "cell_type": "code",
      "metadata": {
        "colab": {
          "base_uri": "https://localhost:8080/"
        },
        "id": "YXKeOFZuqE0z",
        "outputId": "a135f266-49ee-4d93-8aa7-ed43e8880301"
      },
      "source": [
        "select_sql = \"(SELECT winery, country, points, variety, winery_search, avg_temp, avg_airp, avg_humid, avg_precip FROM wine AS wi, weather AS we WHERE wi.winery_country = we.winery_search) AS wineryalias\"\n",
        "spark.read.jdbc(url=jdbc_url, table=select_sql, properties=config).show()"
      ],
      "execution_count": 28,
      "outputs": [
        {
          "output_type": "stream",
          "text": [
            "+-------------------+-------+------+------------------+--------------------+--------------------+--------------------+--------------------+--------------------+\n",
            "|             winery|country|points|           variety|       winery_search|            avg_temp|            avg_airp|           avg_humid|          avg_precip|\n",
            "+-------------------+-------+------+------------------+--------------------+--------------------+--------------------+--------------------+--------------------+\n",
            "|         St. Julian|     US|    87|          Riesling|St. Julian winery US|269.6375000000000...|1018.150000000000...|79.24000000000000...|0.072500000000000000|\n",
            "|       Sweet Cheeks|     US|    87|        Pinot Noir|Sweet Cheeks wine...|276.0250000000000...|1019.887500000000...|85.45250000000000...|0.057500000000000000|\n",
            "| Kirkland Signature|     US|    87|Cabernet Sauvignon|Kirkland Signatur...|277.3750000000000...|1020.012500000000...|79.19750000000000...|0.235000000000000000|\n",
            "|   Louis M. Martini|     US|    87|Cabernet Sauvignon|Louis M. Martini ...|281.0325000000000...|1018.500000000000...|79.15500000000000...|0.077500000000000000|\n",
            "|    Richard Böcking|Germany|    87|          Riesling|Richard Böcking w...|275.7100000000000...|1014.942500000000...|92.21500000000000...|0.135000000000000000|\n",
            "|            Bianchi|     US|    87|            Merlot|   Bianchi winery US|279.6850000000000...|1018.230000000000...|73.42000000000000...|0.025000000000000000|\n",
            "|Castello di Amorosa|     US|    87|        Pinot Noir|Castello di Amoro...|281.0325000000000...|1018.500000000000...|79.15500000000000...|0.077500000000000000|\n",
            "|            Envolve|     US|    86|   Sauvignon Blanc|   Envolve winery US|281.7425000000000...|1019.152500000000...|70.48750000000000...|0.125000000000000000|\n",
            "|              Erath|     US|    86|        Pinot Noir|     Erath winery US|276.2200000000000...|1020.757500000000...|76.70500000000000...|0.140000000000000000|\n",
            "|Feudi del Pisciotto|  Italy|    86|Cabernet Sauvignon|Feudi del Pisciot...|282.5350000000000...|1014.390000000000...|75.94750000000000...|0.055000000000000000|\n",
            "|    Hawkins Cellars|     US|    86|        Pinot Noir|Hawkins Cellars w...|276.0775000000000...|1020.897500000000...|74.87250000000000...|0.135000000000000000|\n",
            "|        Robert Hall|     US|    86|   Sauvignon Blanc|Robert Hall winer...|279.6850000000000...|1018.230000000000...|73.42000000000000...|0.025000000000000000|\n",
            "|           Sundance|  Chile|    86|            Merlot|Sundance winery C...|269.7550000000000...|1013.960000000000...|58.30000000000000...|0.010000000000000000|\n",
            "|              Trump|     US|    86|   Sauvignon Blanc|     Trump winery US|277.4675000000000...|1019.297500000000...|70.09000000000000...|0.122500000000000000|\n",
            "|          RustRidge|     US|    85|        Chardonnay| RustRidge winery US|281.0325000000000...|1018.500000000000...|79.15500000000000...|0.077500000000000000|\n",
            "|          Souverain|     US|    85|        Chardonnay| Souverain winery US|281.0325000000000...|1018.500000000000...|79.15500000000000...|0.077500000000000000|\n",
            "|      Tres Palacios|  Chile|    85|        Pinot Noir|Tres Palacios win...|294.2675000000000...|1004.555000000000...|47.05500000000000...|               0E-18|\n",
            "|              Okapi|     US|    86|Cabernet Sauvignon|     Okapi winery US|278.5275000000000...|1020.127500000000...|76.59750000000000...|0.217500000000000000|\n",
            "|             Sevtap|     US|    86|   Sauvignon Blanc|    Sevtap winery US|285.0800000000000...|1018.895000000000...|58.40750000000000...|0.010000000000000000|\n",
            "|    Simonnet-Febvre| France|    86|        Chardonnay|Simonnet-Febvre w...|276.7450000000000...|1020.505000000000...|88.98250000000000...|0.107500000000000000|\n",
            "+-------------------+-------+------+------------------+--------------------+--------------------+--------------------+--------------------+--------------------+\n",
            "only showing top 20 rows\n",
            "\n"
          ],
          "name": "stdout"
        }
      ]
    },
    {
      "cell_type": "code",
      "metadata": {
        "colab": {
          "base_uri": "https://localhost:8080/"
        },
        "id": "HEj3gj05u4F4",
        "outputId": "788c7272-707d-46f8-f1e6-f8fa13c296fc"
      },
      "source": [
        "select_sql = \"(SELECT winery, country, points, variety, winery_search, avg_temp, avg_airp, avg_humid, avg_precip FROM wine INNER JOIN weather ON (wine.winery_country = weather.winery_search)) AS wineryalias\"\n",
        "spark.read.jdbc(url=jdbc_url, table=select_sql, properties=config).show()"
      ],
      "execution_count": 29,
      "outputs": [
        {
          "output_type": "stream",
          "text": [
            "+-------------------+-------+------+------------------+--------------------+--------------------+--------------------+--------------------+--------------------+\n",
            "|             winery|country|points|           variety|       winery_search|            avg_temp|            avg_airp|           avg_humid|          avg_precip|\n",
            "+-------------------+-------+------+------------------+--------------------+--------------------+--------------------+--------------------+--------------------+\n",
            "|         St. Julian|     US|    87|          Riesling|St. Julian winery US|269.6375000000000...|1018.150000000000...|79.24000000000000...|0.072500000000000000|\n",
            "|       Sweet Cheeks|     US|    87|        Pinot Noir|Sweet Cheeks wine...|276.0250000000000...|1019.887500000000...|85.45250000000000...|0.057500000000000000|\n",
            "| Kirkland Signature|     US|    87|Cabernet Sauvignon|Kirkland Signatur...|277.3750000000000...|1020.012500000000...|79.19750000000000...|0.235000000000000000|\n",
            "|   Louis M. Martini|     US|    87|Cabernet Sauvignon|Louis M. Martini ...|281.0325000000000...|1018.500000000000...|79.15500000000000...|0.077500000000000000|\n",
            "|    Richard Böcking|Germany|    87|          Riesling|Richard Böcking w...|275.7100000000000...|1014.942500000000...|92.21500000000000...|0.135000000000000000|\n",
            "|            Bianchi|     US|    87|            Merlot|   Bianchi winery US|279.6850000000000...|1018.230000000000...|73.42000000000000...|0.025000000000000000|\n",
            "|Castello di Amorosa|     US|    87|        Pinot Noir|Castello di Amoro...|281.0325000000000...|1018.500000000000...|79.15500000000000...|0.077500000000000000|\n",
            "|            Envolve|     US|    86|   Sauvignon Blanc|   Envolve winery US|281.7425000000000...|1019.152500000000...|70.48750000000000...|0.125000000000000000|\n",
            "|              Erath|     US|    86|        Pinot Noir|     Erath winery US|276.2200000000000...|1020.757500000000...|76.70500000000000...|0.140000000000000000|\n",
            "|Feudi del Pisciotto|  Italy|    86|Cabernet Sauvignon|Feudi del Pisciot...|282.5350000000000...|1014.390000000000...|75.94750000000000...|0.055000000000000000|\n",
            "|    Hawkins Cellars|     US|    86|        Pinot Noir|Hawkins Cellars w...|276.0775000000000...|1020.897500000000...|74.87250000000000...|0.135000000000000000|\n",
            "|        Robert Hall|     US|    86|   Sauvignon Blanc|Robert Hall winer...|279.6850000000000...|1018.230000000000...|73.42000000000000...|0.025000000000000000|\n",
            "|           Sundance|  Chile|    86|            Merlot|Sundance winery C...|269.7550000000000...|1013.960000000000...|58.30000000000000...|0.010000000000000000|\n",
            "|              Trump|     US|    86|   Sauvignon Blanc|     Trump winery US|277.4675000000000...|1019.297500000000...|70.09000000000000...|0.122500000000000000|\n",
            "|          RustRidge|     US|    85|        Chardonnay| RustRidge winery US|281.0325000000000...|1018.500000000000...|79.15500000000000...|0.077500000000000000|\n",
            "|          Souverain|     US|    85|        Chardonnay| Souverain winery US|281.0325000000000...|1018.500000000000...|79.15500000000000...|0.077500000000000000|\n",
            "|      Tres Palacios|  Chile|    85|        Pinot Noir|Tres Palacios win...|294.2675000000000...|1004.555000000000...|47.05500000000000...|               0E-18|\n",
            "|              Okapi|     US|    86|Cabernet Sauvignon|     Okapi winery US|278.5275000000000...|1020.127500000000...|76.59750000000000...|0.217500000000000000|\n",
            "|             Sevtap|     US|    86|   Sauvignon Blanc|    Sevtap winery US|285.0800000000000...|1018.895000000000...|58.40750000000000...|0.010000000000000000|\n",
            "|    Simonnet-Febvre| France|    86|        Chardonnay|Simonnet-Febvre w...|276.7450000000000...|1020.505000000000...|88.98250000000000...|0.107500000000000000|\n",
            "+-------------------+-------+------+------------------+--------------------+--------------------+--------------------+--------------------+--------------------+\n",
            "only showing top 20 rows\n",
            "\n"
          ],
          "name": "stdout"
        }
      ]
    },
    {
      "cell_type": "code",
      "metadata": {
        "id": "3UHiAi_DwJu1"
      },
      "source": [
        "select_sql = \"(SELECT winery, country, points, variety, winery_search, avg_temp, avg_airp, avg_humid, avg_precip FROM wine INNER JOIN weather ON (wine.winery_country = weather.winery_search)) AS wineryalias\"\n",
        "machine_learning_table_df = spark.read.jdbc(url=jdbc_url, table=select_sql, properties=config)"
      ],
      "execution_count": 30,
      "outputs": []
    },
    {
      "cell_type": "code",
      "metadata": {
        "id": "3mdWo6Sjwk5k"
      },
      "source": [
        "# Write machine_learning_table_df to table in RDS\n",
        "machine_learning_table_df.write.jdbc(url=jdbc_url, table='machine', mode=mode, properties=config)"
      ],
      "execution_count": 31,
      "outputs": []
    },
    {
      "cell_type": "code",
      "metadata": {
        "colab": {
          "base_uri": "https://localhost:8080/"
        },
        "id": "VVYcbLi4xU6n",
        "outputId": "dc55fa49-d3f1-4180-abfb-c02f069c25c5"
      },
      "source": [
        "# Read machine table from RDS\n",
        "spark.read.jdbc(url=jdbc_url, table='machine', properties=config).limit(10).show()"
      ],
      "execution_count": 32,
      "outputs": [
        {
          "output_type": "stream",
          "text": [
            "+-------------------+-------+------+------------------+--------------------+--------------------+--------------------+--------------------+--------------------+\n",
            "|             winery|country|points|           variety|       winery_search|            avg_temp|            avg_airp|           avg_humid|          avg_precip|\n",
            "+-------------------+-------+------+------------------+--------------------+--------------------+--------------------+--------------------+--------------------+\n",
            "|         St. Julian|     US|    87|          Riesling|St. Julian winery US|269.6375000000000...|1018.150000000000...|79.24000000000000...|0.072500000000000000|\n",
            "|       Sweet Cheeks|     US|    87|        Pinot Noir|Sweet Cheeks wine...|276.0250000000000...|1019.887500000000...|85.45250000000000...|0.057500000000000000|\n",
            "| Kirkland Signature|     US|    87|Cabernet Sauvignon|Kirkland Signatur...|277.3750000000000...|1020.012500000000...|79.19750000000000...|0.235000000000000000|\n",
            "|   Louis M. Martini|     US|    87|Cabernet Sauvignon|Louis M. Martini ...|281.0325000000000...|1018.500000000000...|79.15500000000000...|0.077500000000000000|\n",
            "|    Richard Böcking|Germany|    87|          Riesling|Richard Böcking w...|275.7100000000000...|1014.942500000000...|92.21500000000000...|0.135000000000000000|\n",
            "|            Bianchi|     US|    87|            Merlot|   Bianchi winery US|279.6850000000000...|1018.230000000000...|73.42000000000000...|0.025000000000000000|\n",
            "|Castello di Amorosa|     US|    87|        Pinot Noir|Castello di Amoro...|281.0325000000000...|1018.500000000000...|79.15500000000000...|0.077500000000000000|\n",
            "|            Envolve|     US|    86|   Sauvignon Blanc|   Envolve winery US|281.7425000000000...|1019.152500000000...|70.48750000000000...|0.125000000000000000|\n",
            "|              Erath|     US|    86|        Pinot Noir|     Erath winery US|276.2200000000000...|1020.757500000000...|76.70500000000000...|0.140000000000000000|\n",
            "|Feudi del Pisciotto|  Italy|    86|Cabernet Sauvignon|Feudi del Pisciot...|282.5350000000000...|1014.390000000000...|75.94750000000000...|0.055000000000000000|\n",
            "+-------------------+-------+------+------------------+--------------------+--------------------+--------------------+--------------------+--------------------+\n",
            "\n"
          ],
          "name": "stdout"
        }
      ]
    }
  ]
}