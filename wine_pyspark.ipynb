{
  "nbformat": 4,
  "nbformat_minor": 0,
  "metadata": {
    "colab": {
      "name": "wine_pyspark.ipynb",
      "provenance": [],
      "collapsed_sections": []
    },
    "kernelspec": {
      "name": "python3",
      "display_name": "Python 3"
    },
    "language_info": {
      "name": "python"
    }
  },
  "cells": [
    {
      "cell_type": "code",
      "metadata": {
        "colab": {
          "base_uri": "https://localhost:8080/"
        },
        "id": "6BwscHGwv_-G",
        "outputId": "60579d89-b479-40c0-d256-df84afb8ef50"
      },
      "source": [
        "import pandas as pd\n",
        "import io\n",
        "\n",
        "import os\n",
        "# Find the latest version of spark 2.0  from http://www-us.apache.org/dist/spark/ and enter as the spark version\n",
        "spark_version = 'spark-3.0.2'\n",
        "os.environ['SPARK_VERSION']=spark_version\n",
        "\n",
        "# Install Spark and Java\n",
        "!apt-get update\n",
        "!apt-get install openjdk-11-jdk-headless -qq > /dev/null\n",
        "!wget -q http://www-us.apache.org/dist/spark/$SPARK_VERSION/$SPARK_VERSION-bin-hadoop2.7.tgz\n",
        "!tar xf $SPARK_VERSION-bin-hadoop2.7.tgz\n",
        "!pip install -q findspark\n",
        "\n",
        "# Set Environment Variables\n",
        "import os\n",
        "os.environ[\"JAVA_HOME\"] = \"/usr/lib/jvm/java-11-openjdk-amd64\"\n",
        "os.environ[\"SPARK_HOME\"] = f\"/content/{spark_version}-bin-hadoop2.7\"\n",
        "\n",
        "# Start a SparkSession\n",
        "import findspark\n",
        "findspark.init()"
      ],
      "execution_count": 2,
      "outputs": [
        {
          "output_type": "stream",
          "text": [
            "Hit:1 https://cloud.r-project.org/bin/linux/ubuntu bionic-cran40/ InRelease\n",
            "Ign:2 https://developer.download.nvidia.com/compute/cuda/repos/ubuntu1804/x86_64  InRelease\n",
            "Hit:3 http://security.ubuntu.com/ubuntu bionic-security InRelease\n",
            "Ign:4 https://developer.download.nvidia.com/compute/machine-learning/repos/ubuntu1804/x86_64  InRelease\n",
            "Hit:5 https://developer.download.nvidia.com/compute/cuda/repos/ubuntu1804/x86_64  Release\n",
            "Hit:6 https://developer.download.nvidia.com/compute/machine-learning/repos/ubuntu1804/x86_64  Release\n",
            "Hit:7 http://archive.ubuntu.com/ubuntu bionic InRelease\n",
            "Hit:8 http://ppa.launchpad.net/c2d4u.team/c2d4u4.0+/ubuntu bionic InRelease\n",
            "Hit:9 http://archive.ubuntu.com/ubuntu bionic-updates InRelease\n",
            "Hit:11 http://archive.ubuntu.com/ubuntu bionic-backports InRelease\n",
            "Hit:12 http://ppa.launchpad.net/cran/libgit2/ubuntu bionic InRelease\n",
            "Hit:14 http://ppa.launchpad.net/deadsnakes/ppa/ubuntu bionic InRelease\n",
            "Hit:15 http://ppa.launchpad.net/graphics-drivers/ppa/ubuntu bionic InRelease\n",
            "Reading package lists... Done\n"
          ],
          "name": "stdout"
        }
      ]
    },
    {
      "cell_type": "code",
      "metadata": {
        "colab": {
          "base_uri": "https://localhost:8080/"
        },
        "id": "nhx4tcuJwJKc",
        "outputId": "d9f52c4e-921b-4047-a458-ad08c0f08d86"
      },
      "source": [
        "# Download the Postgres driver that will allow Spark to interact with Postgres.\n",
        "!wget https://jdbc.postgresql.org/download/postgresql-42.2.16.jar"
      ],
      "execution_count": 3,
      "outputs": [
        {
          "output_type": "stream",
          "text": [
            "--2021-05-02 09:20:27--  https://jdbc.postgresql.org/download/postgresql-42.2.16.jar\n",
            "Resolving jdbc.postgresql.org (jdbc.postgresql.org)... 72.32.157.228, 2001:4800:3e1:1::228\n",
            "Connecting to jdbc.postgresql.org (jdbc.postgresql.org)|72.32.157.228|:443... connected.\n",
            "HTTP request sent, awaiting response... 200 OK\n",
            "Length: 1002883 (979K) [application/java-archive]\n",
            "Saving to: ‘postgresql-42.2.16.jar’\n",
            "\n",
            "postgresql-42.2.16. 100%[===================>] 979.38K  1.21MB/s    in 0.8s    \n",
            "\n",
            "2021-05-02 09:20:29 (1.21 MB/s) - ‘postgresql-42.2.16.jar’ saved [1002883/1002883]\n",
            "\n"
          ],
          "name": "stdout"
        }
      ]
    },
    {
      "cell_type": "code",
      "metadata": {
        "id": "iMN2CfyIwL_4"
      },
      "source": [
        "from pyspark.sql import SparkSession\n",
        "spark = SparkSession.builder.appName(\"Wine-Project\").config(\"spark.driver.extraClassPath\",\"/content/postgresql-42.2.16.jar\").getOrCreate()"
      ],
      "execution_count": 4,
      "outputs": []
    },
    {
      "cell_type": "markdown",
      "metadata": {
        "id": "CQ8UUehpwXMz"
      },
      "source": [
        "**Load Data into Spark DataFrame**"
      ]
    },
    {
      "cell_type": "code",
      "metadata": {
        "id": "oOdzCvVlP0-2",
        "colab": {
          "base_uri": "https://localhost:8080/"
        },
        "outputId": "5bc39cb3-c5a5-40d7-ca63-98541e362cc6"
      },
      "source": [
        "from pyspark import SparkFiles\n",
        "url = \"https://green-team-wine.s3.us-east-2.amazonaws.com/US_wine_dataset.csv\"\n",
        "spark.sparkContext.addFile(url)\n",
        "wine_df = spark.read.csv(SparkFiles.get(\"US_wine_dataset.csv\"), sep=\",\", header=True, inferSchema=True)\n",
        "wine_df.show()"
      ],
      "execution_count": 22,
      "outputs": [
        {
          "output_type": "stream",
          "text": [
            "+------+----------+-------------------+-----------------+--------------------+------------------+--------------------+\n",
            "|points|  province|           region_1|         region_2|               title|           variety|              winery|\n",
            "+------+----------+-------------------+-----------------+--------------------+------------------+--------------------+\n",
            "|    87|    Oregon|  Willamette Valley|Willamette Valley|Rainstorm 2013 Pi...|        Pinot Gris|           Rainstorm|\n",
            "|    87|  Michigan|Lake Michigan Shore|             null|St. Julian 2013 R...|          Riesling|          St. Julian|\n",
            "|    87|    Oregon|  Willamette Valley|Willamette Valley|Sweet Cheeks 2012...|        Pinot Noir|        Sweet Cheeks|\n",
            "|    87|California|        Napa Valley|             Napa|Kirkland Signatur...|Cabernet Sauvignon|  Kirkland Signature|\n",
            "|    87|California|   Alexander Valley|           Sonoma|Louis M. Martini ...|Cabernet Sauvignon|    Louis M. Martini|\n",
            "|    87|California|      Central Coast|    Central Coast|Mirassou 2012 Cha...|        Chardonnay|            Mirassou|\n",
            "|    87|  Virginia|           Virginia|             null|QuiÃ©vremont 2012...|          Meritage|        QuiÃ©vremont|\n",
            "|    87|  Virginia|           Virginia|             null|QuiÃ©vremont 2012...|         Red Blend|        QuiÃ©vremont|\n",
            "|    87|    Oregon|             Oregon|     Oregon Other|Acrobat 2013 Pino...|        Pinot Noir|             Acrobat|\n",
            "|    87|California|        Paso Robles|    Central Coast|Bianchi 2011 Sign...|            Merlot|             Bianchi|\n",
            "|    87|California|       Sonoma Coast|           Sonoma|Castello di Amoro...|        Pinot Noir| Castello di Amorosa|\n",
            "|    86|California|         Clarksburg|   Central Valley|Clarksburg Wine C...|      Chenin Blanc|Clarksburg Wine C...|\n",
            "|    86|California|   Dry Creek Valley|           Sonoma|Envolve 2010 Puma...|         Red Blend|             Envolve|\n",
            "|    86|California|      Sonoma Valley|           Sonoma|Envolve 2011 Sauv...|   Sauvignon Blanc|             Envolve|\n",
            "|    86|    Oregon|        McMinnville|Willamette Valley|Erath 2010 Hyland...|        Pinot Noir|               Erath|\n",
            "|    86|    Oregon|  Willamette Valley|Willamette Valley|Hawkins Cellars 2...|        Pinot Noir|     Hawkins Cellars|\n",
            "|    86|California|        Paso Robles|    Central Coast|Robert Hall 2011 ...|   Sauvignon Blanc|         Robert Hall|\n",
            "|    86|  Virginia|           Virginia|             null|Tarara 2010 #Soci...|         Red Blend|              Tarara|\n",
            "|    86|California|        Lake County|             null|The White Knight ...|          Riesling|    The White Knight|\n",
            "|    86|  Virginia|         Monticello|             null|Trump 2011 Sauvig...|   Sauvignon Blanc|               Trump|\n",
            "+------+----------+-------------------+-----------------+--------------------+------------------+--------------------+\n",
            "only showing top 20 rows\n",
            "\n"
          ],
          "name": "stdout"
        }
      ]
    },
    {
      "cell_type": "code",
      "metadata": {
        "id": "YSz7RNm-wgQn",
        "colab": {
          "base_uri": "https://localhost:8080/"
        },
        "outputId": "b4803c35-d699-4831-bb4c-9a9b40d5b702"
      },
      "source": [
        "wine_df.count()"
      ],
      "execution_count": 23,
      "outputs": [
        {
          "output_type": "execute_result",
          "data": {
            "text/plain": [
              "54503"
            ]
          },
          "metadata": {
            "tags": []
          },
          "execution_count": 23
        }
      ]
    },
    {
      "cell_type": "code",
      "metadata": {
        "colab": {
          "base_uri": "https://localhost:8080/"
        },
        "id": "m2K8hrrCYgIJ",
        "outputId": "6d6eed7f-82c8-4366-b7b7-156cd949f856"
      },
      "source": [
        "url = \"https://green-team-wine.s3.us-east-2.amazonaws.com/US_AL_cseat13t19.csv\"\n",
        "spark.sparkContext.addFile(url)\n",
        "weather_df = spark.read.csv(SparkFiles.get(\"US_AL_cseat13t19.csv\"), sep=\",\", header=True, inferSchema=True)\n",
        "weather_df.show()"
      ],
      "execution_count": 134,
      "outputs": [
        {
          "output_type": "stream",
          "text": [
            "+-----------+-------------------+--------+---------+---------+----------+----+----+----+----+----+----+----+----+\n",
            "|    STATION|               NAME|LATITUDE|LONGITUDE|ELEVATION|      DATE|AWND|PRCP|SN32|SNOW|SX32|TAVG|TMAX|TMIN|\n",
            "+-----------+-------------------+--------+---------+---------+----------+----+----+----+----+----+----+----+----+\n",
            "|USC00012209|DECATUR 4 SE, AL US|34.57556|-86.93389|    167.6|2013-01-01|null|1.73|null|null|null|null|  51|  33|\n",
            "|USC00012209|DECATUR 4 SE, AL US|34.57556|-86.93389|    167.6|2013-01-02|null| 0.0|null|null|null|null|  51|  33|\n",
            "|USC00012209|DECATUR 4 SE, AL US|34.57556|-86.93389|    167.6|2013-01-03|null| 0.0|null|null|null|null|  51|  31|\n",
            "|USC00012209|DECATUR 4 SE, AL US|34.57556|-86.93389|    167.6|2013-01-04|null| 0.0|null|null|null|null|  45|  28|\n",
            "|USC00012209|DECATUR 4 SE, AL US|34.57556|-86.93389|    167.6|2013-01-05|null| 0.0|null|null|null|null|  45|  28|\n",
            "|USC00012209|DECATUR 4 SE, AL US|34.57556|-86.93389|    167.6|2013-01-06|null| 0.0|null|null|null|null|  48|  28|\n",
            "|USC00012209|DECATUR 4 SE, AL US|34.57556|-86.93389|    167.6|2013-01-07|null| 0.0|null|null|null|null|  48|  28|\n",
            "|USC00012209|DECATUR 4 SE, AL US|34.57556|-86.93389|    167.6|2013-01-08|null| 0.1|null|null|null|null|  61|  34|\n",
            "|USC00012209|DECATUR 4 SE, AL US|34.57556|-86.93389|    167.6|2013-01-09|null|0.57|null|null|null|null|  59|  33|\n",
            "|USC00012209|DECATUR 4 SE, AL US|34.57556|-86.93389|    167.6|2013-01-10|null| 0.0|null|null|null|null|  59|  50|\n",
            "|USC00012209|DECATUR 4 SE, AL US|34.57556|-86.93389|    167.6|2013-01-11|null| 0.1|null|null|null|null|  68|  58|\n",
            "|USC00012209|DECATUR 4 SE, AL US|34.57556|-86.93389|    167.6|2013-01-12|null|0.03|null|null|null|null|  71|  62|\n",
            "|USC00012209|DECATUR 4 SE, AL US|34.57556|-86.93389|    167.6|2013-01-13|null| 0.0|null|null|null|null|  70|  62|\n",
            "|USC00012209|DECATUR 4 SE, AL US|34.57556|-86.93389|    167.6|2013-01-14|null|1.14|null|null|null|null|  70|  35|\n",
            "|USC00012209|DECATUR 4 SE, AL US|34.57556|-86.93389|    167.6|2013-01-15|null|1.75|null|null|null|null|  36|  32|\n",
            "|USC00012209|DECATUR 4 SE, AL US|34.57556|-86.93389|    167.6|2013-01-16|null|1.94|null|null|null|null|  39|  35|\n",
            "|USC00012209|DECATUR 4 SE, AL US|34.57556|-86.93389|    167.6|2013-01-17|null|0.15|null|null|null|null|  38|  36|\n",
            "|USC00012209|DECATUR 4 SE, AL US|34.57556|-86.93389|    167.6|2013-01-18|null|0.35|null|null|null|null|  43|  30|\n",
            "|USC00012209|DECATUR 4 SE, AL US|34.57556|-86.93389|    167.6|2013-01-19|null| 0.0|null|null|null|null|  48|  31|\n",
            "|USC00012209|DECATUR 4 SE, AL US|34.57556|-86.93389|    167.6|2013-01-20|null| 0.0|null|null|null|null|  55|  33|\n",
            "+-----------+-------------------+--------+---------+---------+----------+----+----+----+----+----+----+----+----+\n",
            "only showing top 20 rows\n",
            "\n"
          ],
          "name": "stdout"
        }
      ]
    },
    {
      "cell_type": "code",
      "metadata": {
        "colab": {
          "base_uri": "https://localhost:8080/"
        },
        "id": "6anzv1THYggd",
        "outputId": "71a056b2-00a5-4df0-e7bb-31c961bdab6a"
      },
      "source": [
        "weather_df.count()"
      ],
      "execution_count": 135,
      "outputs": [
        {
          "output_type": "execute_result",
          "data": {
            "text/plain": [
              "116849"
            ]
          },
          "metadata": {
            "tags": []
          },
          "execution_count": 135
        }
      ]
    },
    {
      "cell_type": "markdown",
      "metadata": {
        "id": "5tK_3qLVXd9D"
      },
      "source": [
        "**Create DataFrames to match tables**"
      ]
    },
    {
      "cell_type": "code",
      "metadata": {
        "colab": {
          "base_uri": "https://localhost:8080/"
        },
        "id": "EPimY6XjsqEB",
        "outputId": "b7e6001e-16c2-4d90-b384-04f8bbddacc5"
      },
      "source": [
        "wine_table_df = wine_df\n",
        "wine_table_df.show()"
      ],
      "execution_count": 144,
      "outputs": [
        {
          "output_type": "stream",
          "text": [
            "+------+----------+-------------------+-----------------+--------------------+------------------+--------------------+\n",
            "|points|  province|           region_1|         region_2|               title|           variety|              winery|\n",
            "+------+----------+-------------------+-----------------+--------------------+------------------+--------------------+\n",
            "|    87|    Oregon|  Willamette Valley|Willamette Valley|Rainstorm 2013 Pi...|        Pinot Gris|           Rainstorm|\n",
            "|    87|  Michigan|Lake Michigan Shore|             null|St. Julian 2013 R...|          Riesling|          St. Julian|\n",
            "|    87|    Oregon|  Willamette Valley|Willamette Valley|Sweet Cheeks 2012...|        Pinot Noir|        Sweet Cheeks|\n",
            "|    87|California|        Napa Valley|             Napa|Kirkland Signatur...|Cabernet Sauvignon|  Kirkland Signature|\n",
            "|    87|California|   Alexander Valley|           Sonoma|Louis M. Martini ...|Cabernet Sauvignon|    Louis M. Martini|\n",
            "|    87|California|      Central Coast|    Central Coast|Mirassou 2012 Cha...|        Chardonnay|            Mirassou|\n",
            "|    87|  Virginia|           Virginia|             null|QuiÃ©vremont 2012...|          Meritage|        QuiÃ©vremont|\n",
            "|    87|  Virginia|           Virginia|             null|QuiÃ©vremont 2012...|         Red Blend|        QuiÃ©vremont|\n",
            "|    87|    Oregon|             Oregon|     Oregon Other|Acrobat 2013 Pino...|        Pinot Noir|             Acrobat|\n",
            "|    87|California|        Paso Robles|    Central Coast|Bianchi 2011 Sign...|            Merlot|             Bianchi|\n",
            "|    87|California|       Sonoma Coast|           Sonoma|Castello di Amoro...|        Pinot Noir| Castello di Amorosa|\n",
            "|    86|California|         Clarksburg|   Central Valley|Clarksburg Wine C...|      Chenin Blanc|Clarksburg Wine C...|\n",
            "|    86|California|   Dry Creek Valley|           Sonoma|Envolve 2010 Puma...|         Red Blend|             Envolve|\n",
            "|    86|California|      Sonoma Valley|           Sonoma|Envolve 2011 Sauv...|   Sauvignon Blanc|             Envolve|\n",
            "|    86|    Oregon|        McMinnville|Willamette Valley|Erath 2010 Hyland...|        Pinot Noir|               Erath|\n",
            "|    86|    Oregon|  Willamette Valley|Willamette Valley|Hawkins Cellars 2...|        Pinot Noir|     Hawkins Cellars|\n",
            "|    86|California|        Paso Robles|    Central Coast|Robert Hall 2011 ...|   Sauvignon Blanc|         Robert Hall|\n",
            "|    86|  Virginia|           Virginia|             null|Tarara 2010 #Soci...|         Red Blend|              Tarara|\n",
            "|    86|California|        Lake County|             null|The White Knight ...|          Riesling|    The White Knight|\n",
            "|    86|  Virginia|         Monticello|             null|Trump 2011 Sauvig...|   Sauvignon Blanc|               Trump|\n",
            "+------+----------+-------------------+-----------------+--------------------+------------------+--------------------+\n",
            "only showing top 20 rows\n",
            "\n"
          ],
          "name": "stdout"
        }
      ]
    },
    {
      "cell_type": "code",
      "metadata": {
        "colab": {
          "base_uri": "https://localhost:8080/"
        },
        "id": "V5a3veF5XeYr",
        "outputId": "7443fe90-911c-474c-d0f5-7932c86905f1"
      },
      "source": [
        "wine_table_df.printSchema()"
      ],
      "execution_count": 146,
      "outputs": [
        {
          "output_type": "stream",
          "text": [
            "root\n",
            " |-- points: integer (nullable = true)\n",
            " |-- province: string (nullable = true)\n",
            " |-- region_1: string (nullable = true)\n",
            " |-- region_2: string (nullable = true)\n",
            " |-- title: string (nullable = true)\n",
            " |-- variety: string (nullable = true)\n",
            " |-- winery: string (nullable = true)\n",
            "\n"
          ],
          "name": "stdout"
        }
      ]
    },
    {
      "cell_type": "code",
      "metadata": {
        "colab": {
          "base_uri": "https://localhost:8080/"
        },
        "id": "pimc7Tc7ZVA2",
        "outputId": "637a33f1-42a8-40de-eb4a-04199435423c"
      },
      "source": [
        "weather_df.printSchema()"
      ],
      "execution_count": 136,
      "outputs": [
        {
          "output_type": "stream",
          "text": [
            "root\n",
            " |-- STATION: string (nullable = true)\n",
            " |-- NAME: string (nullable = true)\n",
            " |-- LATITUDE: double (nullable = true)\n",
            " |-- LONGITUDE: double (nullable = true)\n",
            " |-- ELEVATION: double (nullable = true)\n",
            " |-- DATE: string (nullable = true)\n",
            " |-- AWND: double (nullable = true)\n",
            " |-- PRCP: double (nullable = true)\n",
            " |-- SN32: integer (nullable = true)\n",
            " |-- SNOW: double (nullable = true)\n",
            " |-- SX32: integer (nullable = true)\n",
            " |-- TAVG: integer (nullable = true)\n",
            " |-- TMAX: integer (nullable = true)\n",
            " |-- TMIN: integer (nullable = true)\n",
            "\n"
          ],
          "name": "stdout"
        }
      ]
    },
    {
      "cell_type": "code",
      "metadata": {
        "colab": {
          "base_uri": "https://localhost:8080/"
        },
        "id": "IhtPhLiynTkM",
        "outputId": "7fa3ce27-a35f-4246-f3aa-5b7cbf77896e"
      },
      "source": [
        "from pyspark.sql.functions import col\n",
        "from pyspark.sql.functions import to_date\n",
        "\n",
        "weather_table_df = weather_df.select(col(\"STATION\").alias(\"station\"), col(\"NAME\").alias(\"countyname\"), col(\"LATITUDE\").alias(\"latitude\"), col(\"LONGITUDE\").alias(\"longitude\"), to_date(\"DATE\", 'yyyy-MM-dd').alias(\"date\"), col(\"TMAX\").alias(\"tmax\"), col(\"TMIN\").alias(\"tmin\"))\n",
        "weather_table_df.show()"
      ],
      "execution_count": 137,
      "outputs": [
        {
          "output_type": "stream",
          "text": [
            "+-----------+-------------------+--------+---------+----------+----+----+\n",
            "|    station|         countyname|latitude|longitude|      date|tmax|tmin|\n",
            "+-----------+-------------------+--------+---------+----------+----+----+\n",
            "|USC00012209|DECATUR 4 SE, AL US|34.57556|-86.93389|2013-01-01|  51|  33|\n",
            "|USC00012209|DECATUR 4 SE, AL US|34.57556|-86.93389|2013-01-02|  51|  33|\n",
            "|USC00012209|DECATUR 4 SE, AL US|34.57556|-86.93389|2013-01-03|  51|  31|\n",
            "|USC00012209|DECATUR 4 SE, AL US|34.57556|-86.93389|2013-01-04|  45|  28|\n",
            "|USC00012209|DECATUR 4 SE, AL US|34.57556|-86.93389|2013-01-05|  45|  28|\n",
            "|USC00012209|DECATUR 4 SE, AL US|34.57556|-86.93389|2013-01-06|  48|  28|\n",
            "|USC00012209|DECATUR 4 SE, AL US|34.57556|-86.93389|2013-01-07|  48|  28|\n",
            "|USC00012209|DECATUR 4 SE, AL US|34.57556|-86.93389|2013-01-08|  61|  34|\n",
            "|USC00012209|DECATUR 4 SE, AL US|34.57556|-86.93389|2013-01-09|  59|  33|\n",
            "|USC00012209|DECATUR 4 SE, AL US|34.57556|-86.93389|2013-01-10|  59|  50|\n",
            "|USC00012209|DECATUR 4 SE, AL US|34.57556|-86.93389|2013-01-11|  68|  58|\n",
            "|USC00012209|DECATUR 4 SE, AL US|34.57556|-86.93389|2013-01-12|  71|  62|\n",
            "|USC00012209|DECATUR 4 SE, AL US|34.57556|-86.93389|2013-01-13|  70|  62|\n",
            "|USC00012209|DECATUR 4 SE, AL US|34.57556|-86.93389|2013-01-14|  70|  35|\n",
            "|USC00012209|DECATUR 4 SE, AL US|34.57556|-86.93389|2013-01-15|  36|  32|\n",
            "|USC00012209|DECATUR 4 SE, AL US|34.57556|-86.93389|2013-01-16|  39|  35|\n",
            "|USC00012209|DECATUR 4 SE, AL US|34.57556|-86.93389|2013-01-17|  38|  36|\n",
            "|USC00012209|DECATUR 4 SE, AL US|34.57556|-86.93389|2013-01-18|  43|  30|\n",
            "|USC00012209|DECATUR 4 SE, AL US|34.57556|-86.93389|2013-01-19|  48|  31|\n",
            "|USC00012209|DECATUR 4 SE, AL US|34.57556|-86.93389|2013-01-20|  55|  33|\n",
            "+-----------+-------------------+--------+---------+----------+----+----+\n",
            "only showing top 20 rows\n",
            "\n"
          ],
          "name": "stdout"
        }
      ]
    },
    {
      "cell_type": "code",
      "metadata": {
        "colab": {
          "base_uri": "https://localhost:8080/"
        },
        "id": "dlUvPD6vjkPN",
        "outputId": "e24fe9a6-4dce-4396-80ff-b9d403d74364"
      },
      "source": [
        "weather_table_df.printSchema()"
      ],
      "execution_count": 138,
      "outputs": [
        {
          "output_type": "stream",
          "text": [
            "root\n",
            " |-- station: string (nullable = true)\n",
            " |-- countyname: string (nullable = true)\n",
            " |-- latitude: double (nullable = true)\n",
            " |-- longitude: double (nullable = true)\n",
            " |-- date: date (nullable = true)\n",
            " |-- tmax: integer (nullable = true)\n",
            " |-- tmin: integer (nullable = true)\n",
            "\n"
          ],
          "name": "stdout"
        }
      ]
    },
    {
      "cell_type": "code",
      "metadata": {
        "colab": {
          "base_uri": "https://localhost:8080/"
        },
        "id": "3gO_HGN_r8eF",
        "outputId": "dfcea96c-7ebe-4ef0-ffea-03fb1c8ccb47"
      },
      "source": [
        "weather_table_df.count()"
      ],
      "execution_count": 139,
      "outputs": [
        {
          "output_type": "execute_result",
          "data": {
            "text/plain": [
              "116849"
            ]
          },
          "metadata": {
            "tags": []
          },
          "execution_count": 139
        }
      ]
    },
    {
      "cell_type": "code",
      "metadata": {
        "colab": {
          "base_uri": "https://localhost:8080/"
        },
        "id": "HYhSEzVpr1ZR",
        "outputId": "e4baefbe-7d57-4208-fb5a-9c36e13192ae"
      },
      "source": [
        "# Remove rows that have at least 1 null value\n",
        "weather_table_df = weather_table_df.dropna()\n",
        "#weather_table_df.head(10)\n",
        "weather_table_df.count()"
      ],
      "execution_count": 143,
      "outputs": [
        {
          "output_type": "execute_result",
          "data": {
            "text/plain": [
              "82094"
            ]
          },
          "metadata": {
            "tags": []
          },
          "execution_count": 143
        }
      ]
    },
    {
      "cell_type": "markdown",
      "metadata": {
        "id": "ulKAWgu3PLi2"
      },
      "source": [
        "**Connect to the AWS RDS instance and write each DataFrame to its table**"
      ]
    },
    {
      "cell_type": "code",
      "metadata": {
        "id": "vY70t7KxPODD"
      },
      "source": [
        "# Configure settings for RDS\n",
        "mode = \"append\"\n",
        "#jdbc_url=\"jdbc:postgresql://<connection string>:5432/<database-name>\"\n",
        "jdbc_url=\"jdbc:postgresql://wine-final-project.czqkltznl3rl.us-east-2.rds.amazonaws.com/winedb\"\n",
        "#config = {\"user\":\"postgres\",\n",
        "          #\"password\": \"<password>\",\n",
        "          #\"driver\":\"org.postgresql.Driver\"}\n",
        "config = {\"user\":\"wineuser\", \n",
        "          \"password\": \"############\",  \n",
        "          \"driver\":\"org.postgresql.Driver\"}"
      ],
      "execution_count": 131,
      "outputs": []
    },
    {
      "cell_type": "code",
      "metadata": {
        "id": "-CQuJbnkPwhe"
      },
      "source": [
        "# Write wine_table_df to table in RDS\n",
        "wine_table_df.write.jdbc(url=jdbc_url, table='wine', mode=mode, properties=config)"
      ],
      "execution_count": 147,
      "outputs": []
    },
    {
      "cell_type": "code",
      "metadata": {
        "id": "NcPdxuZDmZQU"
      },
      "source": [
        "# Write weather_table_df to table in RDS\n",
        "weather_table_df.write.jdbc(url=jdbc_url, table='weather', mode=mode, properties=config)"
      ],
      "execution_count": 132,
      "outputs": []
    },
    {
      "cell_type": "code",
      "metadata": {
        "colab": {
          "base_uri": "https://localhost:8080/"
        },
        "id": "gVJDgFOXtSXW",
        "outputId": "308f17ce-f949-4eb4-cdc5-3be2518fb14e"
      },
      "source": [
        "# Read wine table from RDS\n",
        "spark.read.jdbc(url=jdbc_url, table='wine', properties=config).limit(10).show()"
      ],
      "execution_count": 150,
      "outputs": [
        {
          "output_type": "stream",
          "text": [
            "+------+----------+--------------------+-----------------+--------------------+--------------------+---------------+\n",
            "|points|  province|            region_1|         region_2|               title|             variety|         winery|\n",
            "+------+----------+--------------------+-----------------+--------------------+--------------------+---------------+\n",
            "|    96|California|Russian River Valley|           Sonoma|Rochioli 2014 Sou...|          Chardonnay|       Rochioli|\n",
            "|    96|California|Russian River Valley|           Sonoma|Rochioli 2014 Swe...|          Chardonnay|       Rochioli|\n",
            "|    95|California|Diamond Mountain ...|             Napa|J. Davies 2012 Ja...|  Cabernet Sauvignon|      J. Davies|\n",
            "|    95|    Oregon|        Dundee Hills|Willamette Valley|Winderlea 2014 We...|          Pinot Noir|      Winderlea|\n",
            "|    99|Washington|Columbia Valley (WA)|  Columbia Valley|Quilceda Creek 20...|  Cabernet Sauvignon| Quilceda Creek|\n",
            "|    99|California|        Sonoma Coast|           Sonoma|Williams Selyem 2...|          Pinot Noir|Williams Selyem|\n",
            "|    98|Washington|Columbia Valley (WA)|  Columbia Valley|Pirouette 2008 Re...|Bordeaux-style Re...|      Pirouette|\n",
            "|    97|California|         Napa Valley|             Napa|JCB 2009 No. 1 Ca...|  Cabernet Sauvignon|            JCB|\n",
            "|    97|California|Russian River Valley|           Sonoma|Williams Selyem 2...|          Pinot Noir|Williams Selyem|\n",
            "|    87|California|   San Benito County|    Central Coast|Pessagno 2010 Idy...|               Syrah|       Pessagno|\n",
            "+------+----------+--------------------+-----------------+--------------------+--------------------+---------------+\n",
            "\n"
          ],
          "name": "stdout"
        }
      ]
    },
    {
      "cell_type": "code",
      "metadata": {
        "colab": {
          "base_uri": "https://localhost:8080/"
        },
        "id": "fr-B0Ol1tSKV",
        "outputId": "0809d066-71b3-4000-df6c-2c10a22b4f1a"
      },
      "source": [
        "# Read weather table from RDS\n",
        "spark.read.jdbc(url=jdbc_url, table='weather', properties=config).limit(10).show()"
      ],
      "execution_count": 151,
      "outputs": [
        {
          "output_type": "stream",
          "text": [
            "+-----------+-------------------+--------+---------+----------+----+----+\n",
            "|    station|         countyname|latitude|longitude|      date|tmax|tmin|\n",
            "+-----------+-------------------+--------+---------+----------+----+----+\n",
            "|USC00012209|DECATUR 4 SE, AL US|34.57556|-86.93389|2013-01-01|51.0|33.0|\n",
            "|USC00012209|DECATUR 4 SE, AL US|34.57556|-86.93389|2013-01-02|51.0|33.0|\n",
            "|USC00012209|DECATUR 4 SE, AL US|34.57556|-86.93389|2013-01-03|51.0|31.0|\n",
            "|USC00012209|DECATUR 4 SE, AL US|34.57556|-86.93389|2013-01-04|45.0|28.0|\n",
            "|USC00012209|DECATUR 4 SE, AL US|34.57556|-86.93389|2013-01-05|45.0|28.0|\n",
            "|USC00012209|DECATUR 4 SE, AL US|34.57556|-86.93389|2013-01-01|51.0|33.0|\n",
            "|USC00012209|DECATUR 4 SE, AL US|34.57556|-86.93389|2013-01-02|51.0|33.0|\n",
            "|USC00012209|DECATUR 4 SE, AL US|34.57556|-86.93389|2013-01-03|51.0|31.0|\n",
            "|USC00012209|DECATUR 4 SE, AL US|34.57556|-86.93389|2013-01-04|45.0|28.0|\n",
            "|USC00012209|DECATUR 4 SE, AL US|34.57556|-86.93389|2013-01-05|45.0|28.0|\n",
            "+-----------+-------------------+--------+---------+----------+----+----+\n",
            "\n"
          ],
          "name": "stdout"
        }
      ]
    }
  ]
}