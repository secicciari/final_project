{
  "nbformat": 4,
  "nbformat_minor": 0,
  "metadata": {
    "colab": {
      "name": "wine_pyspark.ipynb",
      "provenance": [],
      "collapsed_sections": []
    },
    "kernelspec": {
      "name": "python3",
      "display_name": "Python 3"
    },
    "language_info": {
      "name": "python"
    }
  },
  "cells": [
    {
      "cell_type": "code",
      "metadata": {
        "colab": {
          "base_uri": "https://localhost:8080/"
        },
        "id": "6BwscHGwv_-G",
        "outputId": "93a16968-009c-47c8-ba60-0c79a1aa8376"
      },
      "source": [
        "import pandas as pd\n",
        "import io\n",
        "\n",
        "# Import RDS password\n",
        "#config = \"/content/config.py\"\n",
        "#!pip install config\n",
        "#import config\n",
        "#from config import rds_pwd\n",
        "\n",
        "import os\n",
        "# Find the latest version of spark 2.0  from http://www-us.apache.org/dist/spark/ and enter as the spark version\n",
        "spark_version = 'spark-3.0.2'\n",
        "os.environ['SPARK_VERSION']=spark_version\n",
        "\n",
        "# Install Spark and Java\n",
        "!apt-get update\n",
        "!apt-get install openjdk-11-jdk-headless -qq > /dev/null\n",
        "!wget -q http://www-us.apache.org/dist/spark/$SPARK_VERSION/$SPARK_VERSION-bin-hadoop2.7.tgz\n",
        "!tar xf $SPARK_VERSION-bin-hadoop2.7.tgz\n",
        "!pip install -q findspark\n",
        "\n",
        "# Set Environment Variables\n",
        "import os\n",
        "os.environ[\"JAVA_HOME\"] = \"/usr/lib/jvm/java-11-openjdk-amd64\"\n",
        "os.environ[\"SPARK_HOME\"] = f\"/content/{spark_version}-bin-hadoop2.7\"\n",
        "\n",
        "# Start a SparkSession\n",
        "import findspark\n",
        "findspark.init()"
      ],
      "execution_count": 2,
      "outputs": [
        {
          "output_type": "stream",
          "text": [
            "\r0% [Working]\r            \rGet:1 https://cloud.r-project.org/bin/linux/ubuntu bionic-cran40/ InRelease [3,626 B]\n",
            "\r0% [Connecting to archive.ubuntu.com (91.189.88.142)] [Connecting to security.u\r0% [Connecting to archive.ubuntu.com (91.189.88.142)] [Connecting to security.u\r0% [1 InRelease gpgv 3,626 B] [Connecting to archive.ubuntu.com (91.189.88.142)\r                                                                               \rIgn:2 https://developer.download.nvidia.com/compute/cuda/repos/ubuntu1804/x86_64  InRelease\n",
            "\r0% [1 InRelease gpgv 3,626 B] [Connecting to archive.ubuntu.com (91.189.88.142)\r                                                                               \rIgn:3 https://developer.download.nvidia.com/compute/machine-learning/repos/ubuntu1804/x86_64  InRelease\n",
            "\r0% [1 InRelease gpgv 3,626 B] [Waiting for headers] [Waiting for headers] [Wait\r                                                                               \rGet:4 https://developer.download.nvidia.com/compute/cuda/repos/ubuntu1804/x86_64  Release [697 B]\n",
            "\r0% [1 InRelease gpgv 3,626 B] [Waiting for headers] [Waiting for headers] [Wait\r0% [1 InRelease gpgv 3,626 B] [Waiting for headers] [Waiting for headers] [Wait\r                                                                               \rHit:5 https://developer.download.nvidia.com/compute/machine-learning/repos/ubuntu1804/x86_64  Release\n",
            "\r0% [1 InRelease gpgv 3,626 B] [Waiting for headers] [Waiting for headers] [Wait\r                                                                               \rGet:6 https://developer.download.nvidia.com/compute/cuda/repos/ubuntu1804/x86_64  Release.gpg [836 B]\n",
            "\r0% [1 InRelease gpgv 3,626 B] [Waiting for headers] [Waiting for headers] [Wait\r0% [1 InRelease gpgv 3,626 B] [Waiting for headers] [Waiting for headers] [Wait\r                                                                               \rGet:7 http://security.ubuntu.com/ubuntu bionic-security InRelease [88.7 kB]\n",
            "Get:8 http://ppa.launchpad.net/c2d4u.team/c2d4u4.0+/ubuntu bionic InRelease [15.9 kB]\n",
            "Hit:9 http://archive.ubuntu.com/ubuntu bionic InRelease\n",
            "Get:10 http://archive.ubuntu.com/ubuntu bionic-updates InRelease [88.7 kB]\n",
            "Get:11 https://cloud.r-project.org/bin/linux/ubuntu bionic-cran40/ Packages [55.5 kB]\n",
            "Hit:13 http://ppa.launchpad.net/cran/libgit2/ubuntu bionic InRelease\n",
            "Get:14 http://archive.ubuntu.com/ubuntu bionic-backports InRelease [74.6 kB]\n",
            "Ign:15 https://developer.download.nvidia.com/compute/cuda/repos/ubuntu1804/x86_64  Packages\n",
            "Get:15 https://developer.download.nvidia.com/compute/cuda/repos/ubuntu1804/x86_64  Packages [770 kB]\n",
            "Get:16 http://ppa.launchpad.net/deadsnakes/ppa/ubuntu bionic InRelease [15.9 kB]\n",
            "Get:17 http://ppa.launchpad.net/graphics-drivers/ppa/ubuntu bionic InRelease [21.3 kB]\n",
            "Get:18 http://security.ubuntu.com/ubuntu bionic-security/main amd64 Packages [2,119 kB]\n",
            "Get:19 http://security.ubuntu.com/ubuntu bionic-security/universe amd64 Packages [1,410 kB]\n",
            "Get:20 http://ppa.launchpad.net/c2d4u.team/c2d4u4.0+/ubuntu bionic/main Sources [1,759 kB]\n",
            "Get:21 http://security.ubuntu.com/ubuntu bionic-security/restricted amd64 Packages [399 kB]\n",
            "Get:22 http://security.ubuntu.com/ubuntu bionic-security/multiverse amd64 Packages [24.7 kB]\n",
            "Get:23 http://archive.ubuntu.com/ubuntu bionic-updates/universe amd64 Packages [2,182 kB]\n",
            "Get:24 http://archive.ubuntu.com/ubuntu bionic-updates/restricted amd64 Packages [429 kB]\n",
            "Get:25 http://ppa.launchpad.net/c2d4u.team/c2d4u4.0+/ubuntu bionic/main amd64 Packages [900 kB]\n",
            "Get:26 http://archive.ubuntu.com/ubuntu bionic-updates/multiverse amd64 Packages [31.6 kB]\n",
            "Get:27 http://archive.ubuntu.com/ubuntu bionic-updates/main amd64 Packages [2,550 kB]\n",
            "Get:28 http://ppa.launchpad.net/deadsnakes/ppa/ubuntu bionic/main amd64 Packages [40.8 kB]\n",
            "Get:29 http://ppa.launchpad.net/graphics-drivers/ppa/ubuntu bionic/main amd64 Packages [47.2 kB]\n",
            "Fetched 13.0 MB in 5s (2,538 kB/s)\n",
            "Reading package lists... Done\n"
          ],
          "name": "stdout"
        }
      ]
    },
    {
      "cell_type": "code",
      "metadata": {
        "colab": {
          "base_uri": "https://localhost:8080/"
        },
        "id": "nhx4tcuJwJKc",
        "outputId": "8aad1430-677f-4561-ba09-0912286b5459"
      },
      "source": [
        "# Download the Postgres driver that will allow Spark to interact with Postgres.\n",
        "!wget https://jdbc.postgresql.org/download/postgresql-42.2.16.jar"
      ],
      "execution_count": 3,
      "outputs": [
        {
          "output_type": "stream",
          "text": [
            "--2021-05-07 11:25:30--  https://jdbc.postgresql.org/download/postgresql-42.2.16.jar\n",
            "Resolving jdbc.postgresql.org (jdbc.postgresql.org)... 72.32.157.228, 2001:4800:3e1:1::228\n",
            "Connecting to jdbc.postgresql.org (jdbc.postgresql.org)|72.32.157.228|:443... connected.\n",
            "HTTP request sent, awaiting response... 200 OK\n",
            "Length: 1002883 (979K) [application/java-archive]\n",
            "Saving to: ‘postgresql-42.2.16.jar’\n",
            "\n",
            "postgresql-42.2.16. 100%[===================>] 979.38K  4.79MB/s    in 0.2s    \n",
            "\n",
            "2021-05-07 11:25:31 (4.79 MB/s) - ‘postgresql-42.2.16.jar’ saved [1002883/1002883]\n",
            "\n"
          ],
          "name": "stdout"
        }
      ]
    },
    {
      "cell_type": "code",
      "metadata": {
        "id": "iMN2CfyIwL_4"
      },
      "source": [
        "from pyspark.sql import SparkSession\n",
        "spark = SparkSession.builder.appName(\"Wine-Project\").config(\"spark.driver.extraClassPath\",\"/content/postgresql-42.2.16.jar\").getOrCreate()"
      ],
      "execution_count": 4,
      "outputs": []
    },
    {
      "cell_type": "markdown",
      "metadata": {
        "id": "CQ8UUehpwXMz"
      },
      "source": [
        "**Load Data into Spark DataFrame**"
      ]
    },
    {
      "cell_type": "code",
      "metadata": {
        "id": "oOdzCvVlP0-2",
        "colab": {
          "base_uri": "https://localhost:8080/"
        },
        "outputId": "2d8f2c15-27eb-467d-d522-bebb41ca0a74"
      },
      "source": [
        "from pyspark import SparkFiles\n",
        "url = \"https://green-team-wine.s3.us-east-2.amazonaws.com/winemag-data-130k-v2.csv\"\n",
        "spark.sparkContext.addFile(url)\n",
        "wine_df = spark.read.csv(SparkFiles.get(\"winemag-data-130k-v2.csv\"), sep=\",\", header=True, inferSchema=True)\n",
        "wine_df.show()"
      ],
      "execution_count": 5,
      "outputs": [
        {
          "output_type": "stream",
          "text": [
            "+---+---------+--------------------+--------------------+------+-----+-----------------+-------------------+-----------------+------------------+---------------------+--------------------+------------------+-------------------+\n",
            "|_c0|  country|         description|         designation|points|price|         province|           region_1|         region_2|       taster_name|taster_twitter_handle|               title|           variety|             winery|\n",
            "+---+---------+--------------------+--------------------+------+-----+-----------------+-------------------+-----------------+------------------+---------------------+--------------------+------------------+-------------------+\n",
            "|  0|    Italy|Aromas include tr...|        Vulkà Bianco|    87| null|Sicily & Sardinia|               Etna|             null|     Kerin O’Keefe|         @kerinokeefe|Nicosia 2013 Vulk...|       White Blend|            Nicosia|\n",
            "|  1| Portugal|This is ripe and ...|            Avidagos|    87| 15.0|            Douro|               null|             null|        Roger Voss|           @vossroger|Quinta dos Avidag...|    Portuguese Red|Quinta dos Avidagos|\n",
            "|  2|       US|Tart and snappy, ...|                null|    87| 14.0|           Oregon|  Willamette Valley|Willamette Valley|      Paul Gregutt|          @paulgwine |Rainstorm 2013 Pi...|        Pinot Gris|          Rainstorm|\n",
            "|  3|       US|Pineapple rind, l...|Reserve Late Harvest|    87| 13.0|         Michigan|Lake Michigan Shore|             null|Alexander Peartree|                 null|St. Julian 2013 R...|          Riesling|         St. Julian|\n",
            "|  4|       US|Much like the reg...|Vintner's Reserve...|    87| 65.0|           Oregon|  Willamette Valley|Willamette Valley|      Paul Gregutt|          @paulgwine |Sweet Cheeks 2012...|        Pinot Noir|       Sweet Cheeks|\n",
            "|  5|    Spain|Blackberry and ra...|        Ars In Vitro|    87| 15.0|   Northern Spain|            Navarra|             null| Michael Schachner|          @wineschach|Tandem 2011 Ars I...|Tempranillo-Merlot|             Tandem|\n",
            "|  6|    Italy|Here's a bright, ...|             Belsito|    87| 16.0|Sicily & Sardinia|           Vittoria|             null|     Kerin O’Keefe|         @kerinokeefe|Terre di Giurfo 2...|          Frappato|    Terre di Giurfo|\n",
            "|  7|   France|This dry and rest...|                null|    87| 24.0|           Alsace|             Alsace|             null|        Roger Voss|           @vossroger|Trimbach 2012 Gew...|    Gewürztraminer|           Trimbach|\n",
            "|  8|  Germany|Savory dried thym...|               Shine|    87| 12.0|      Rheinhessen|               null|             null|Anna Lee C. Iijima|                 null|Heinz Eifel 2013 ...|    Gewürztraminer|        Heinz Eifel|\n",
            "|  9|   France|This has great de...|         Les Natures|    87| 27.0|           Alsace|             Alsace|             null|        Roger Voss|           @vossroger|Jean-Baptiste Ada...|        Pinot Gris| Jean-Baptiste Adam|\n",
            "| 10|       US|Soft, supple plum...|      Mountain Cuvée|    87| 19.0|       California|        Napa Valley|             Napa|    Virginie Boone|              @vboone|Kirkland Signatur...|Cabernet Sauvignon| Kirkland Signature|\n",
            "| 11|   France|This is a dry win...|                null|    87| 30.0|           Alsace|             Alsace|             null|        Roger Voss|           @vossroger|Leon Beyer 2012 G...|    Gewürztraminer|         Leon Beyer|\n",
            "| 12|       US|Slightly reduced,...|                null|    87| 34.0|       California|   Alexander Valley|           Sonoma|    Virginie Boone|              @vboone|Louis M. Martini ...|Cabernet Sauvignon|   Louis M. Martini|\n",
            "| 13|    Italy|This is dominated...|               Rosso|    87| null|Sicily & Sardinia|               Etna|             null|     Kerin O’Keefe|         @kerinokeefe|Masseria Settepor...| Nerello Mascalese|Masseria Setteporte|\n",
            "| 14|       US|Building on 150 y...|                null|    87| 12.0|       California|      Central Coast|    Central Coast|     Matt Kettmann|        @mattkettmann|Mirassou 2012 Cha...|        Chardonnay|           Mirassou|\n",
            "| 15|  Germany|Zesty orange peel...|               Devon|    87| 24.0|            Mosel|               null|             null|Anna Lee C. Iijima|                 null|Richard Böcking 2...|          Riesling|    Richard Böcking|\n",
            "| 16|Argentina|Baked plum, molas...|               Felix|    87| 30.0|            Other|           Cafayate|             null| Michael Schachner|          @wineschach|Felix Lavaque 201...|            Malbec|      Felix Lavaque|\n",
            "| 17|Argentina|Raw black-cherry ...| Winemaker Selection|    87| 13.0| Mendoza Province|            Mendoza|             null| Michael Schachner|          @wineschach|Gaucho Andino 201...|            Malbec|      Gaucho Andino|\n",
            "| 18|    Spain|Desiccated blackb...|Vendimia Seleccio...|    87| 28.0|   Northern Spain|   Ribera del Duero|             null| Michael Schachner|          @wineschach|Pradorey 2010 Ven...| Tempranillo Blend|           Pradorey|\n",
            "| 19|       US|Red fruit aromas ...|                null|    87| 32.0|         Virginia|           Virginia|             null|Alexander Peartree|                 null|Quiévremont 2012 ...|          Meritage|        Quiévremont|\n",
            "+---+---------+--------------------+--------------------+------+-----+-----------------+-------------------+-----------------+------------------+---------------------+--------------------+------------------+-------------------+\n",
            "only showing top 20 rows\n",
            "\n"
          ],
          "name": "stdout"
        }
      ]
    },
    {
      "cell_type": "code",
      "metadata": {
        "id": "YSz7RNm-wgQn",
        "colab": {
          "base_uri": "https://localhost:8080/"
        },
        "outputId": "3352742b-b4b6-43a4-80db-218d9526ea54"
      },
      "source": [
        "wine_df.count()"
      ],
      "execution_count": 6,
      "outputs": [
        {
          "output_type": "execute_result",
          "data": {
            "text/plain": [
              "129975"
            ]
          },
          "metadata": {
            "tags": []
          },
          "execution_count": 6
        }
      ]
    },
    {
      "cell_type": "code",
      "metadata": {
        "colab": {
          "base_uri": "https://localhost:8080/"
        },
        "id": "m2K8hrrCYgIJ",
        "outputId": "afc53c77-71ad-46ad-9195-147f032fc533"
      },
      "source": [
        "url = \"https://green-team-wine.s3.us-east-2.amazonaws.com/winery_weather_subset.csv\"\n",
        "spark.sparkContext.addFile(url)\n",
        "weather_df = spark.read.csv(SparkFiles.get(\"winery_weather_subset.csv\"), sep=\",\", header=True, inferSchema=True)\n",
        "weather_df.show()"
      ],
      "execution_count": 7,
      "outputs": [
        {
          "output_type": "stream",
          "text": [
            "+---+--------------------+----------------------------+--------------------------+--------------------+--------------------------+\n",
            "|_c0|              Winery|Average Temperature (Kelvin)|Average Air Pressure (hPa)|Average Humidity (%)|Average Precipitation (mm)|\n",
            "+---+--------------------+----------------------------+--------------------------+--------------------+--------------------------+\n",
            "|  0|St. Julian winery US|                    269.6375|                   1018.15|               79.24|                    0.0725|\n",
            "|  1|Sweet Cheeks wine...|                     276.025|                 1019.8875|             85.4525|                    0.0575|\n",
            "|  2|Kirkland Signatur...|                     277.375|                 1020.0125|             79.1975|                     0.235|\n",
            "|  3|Louis M. Martini ...|                    281.0325|                    1018.5|              79.155|                    0.0775|\n",
            "|  4|Richard Böcking w...|                      275.71|                 1014.9425|              92.215|                     0.135|\n",
            "|  5|   Bianchi winery US|                     279.685|                   1018.23|               73.42|                     0.025|\n",
            "|  6|Castello di Amoro...|                    281.0325|                    1018.5|              79.155|                    0.0775|\n",
            "|  7|   Envolve winery US|                    281.7425|                 1019.1525|             70.4875|                     0.125|\n",
            "|  8|     Erath winery US|                      276.22|                 1020.7575|              76.705|                      0.14|\n",
            "|  9|Feudi del Pisciot...|                     282.535|                   1014.39|             75.9475|                     0.055|\n",
            "| 10|Hawkins Cellars w...|                    276.0775|                 1020.8975|             74.8725|                     0.135|\n",
            "| 11|Robert Hall winer...|                     279.685|                   1018.23|               73.42|                     0.025|\n",
            "| 12|Sundance winery C...|                     269.755|                   1013.96|                58.3|                      0.01|\n",
            "| 13|     Trump winery US|                    277.4675|                 1019.2975|               70.09|                    0.1225|\n",
            "| 14| RustRidge winery US|                    281.0325|                    1018.5|              79.155|                    0.0775|\n",
            "| 15| Souverain winery US|                    281.0325|                    1018.5|              79.155|                    0.0775|\n",
            "| 16|Tres Palacios win...|                    294.2675|                  1004.555|              47.055|                       0.0|\n",
            "| 17|     Okapi winery US|                    278.5275|                 1020.1275|             76.5975|                    0.2175|\n",
            "| 18|    Sevtap winery US|                      285.08|                  1018.895|             58.4075|                      0.01|\n",
            "| 19|Simonnet-Febvre w...|                     276.745|                  1020.505|             88.9825|                    0.1075|\n",
            "+---+--------------------+----------------------------+--------------------------+--------------------+--------------------------+\n",
            "only showing top 20 rows\n",
            "\n"
          ],
          "name": "stdout"
        }
      ]
    },
    {
      "cell_type": "code",
      "metadata": {
        "colab": {
          "base_uri": "https://localhost:8080/"
        },
        "id": "6anzv1THYggd",
        "outputId": "78b0e535-c32c-40a2-db3d-d9a079b9f195"
      },
      "source": [
        "weather_df.count()"
      ],
      "execution_count": 8,
      "outputs": [
        {
          "output_type": "execute_result",
          "data": {
            "text/plain": [
              "4534"
            ]
          },
          "metadata": {
            "tags": []
          },
          "execution_count": 8
        }
      ]
    },
    {
      "cell_type": "markdown",
      "metadata": {
        "id": "5tK_3qLVXd9D"
      },
      "source": [
        "**Create DataFrames to match tables**"
      ]
    },
    {
      "cell_type": "code",
      "metadata": {
        "colab": {
          "base_uri": "https://localhost:8080/"
        },
        "id": "ICHnLi0nUCwo",
        "outputId": "27f8a6b4-34dc-4914-f824-37e5b4dacf2e"
      },
      "source": [
        "#Select only the columns that will be stored into the RDS database\n",
        "\n",
        "from pyspark.sql.functions import col\n",
        "\n",
        "wine_table_df = wine_df.select(col(\"country\").alias(\"country\"), col(\"points\").alias(\"points\"), col(\"province\").alias(\"province\"), col(\"region_1\").alias(\"region_1\"), col(\"region_2\").alias(\"region_2\"), col(\"title\").alias(\"title\"), col(\"variety\").alias(\"variety\"), col(\"winery\").alias(\"winery\")).where(col(\"country\").isNotNull())\n",
        "wine_table_df.show()\n"
      ],
      "execution_count": 15,
      "outputs": [
        {
          "output_type": "stream",
          "text": [
            "+---------+------+-----------------+-------------------+-----------------+--------------------+------------------+-------------------+\n",
            "|  country|points|         province|           region_1|         region_2|               title|           variety|             winery|\n",
            "+---------+------+-----------------+-------------------+-----------------+--------------------+------------------+-------------------+\n",
            "|    Italy|    87|Sicily & Sardinia|               Etna|             null|Nicosia 2013 Vulk...|       White Blend|            Nicosia|\n",
            "| Portugal|    87|            Douro|               null|             null|Quinta dos Avidag...|    Portuguese Red|Quinta dos Avidagos|\n",
            "|       US|    87|           Oregon|  Willamette Valley|Willamette Valley|Rainstorm 2013 Pi...|        Pinot Gris|          Rainstorm|\n",
            "|       US|    87|         Michigan|Lake Michigan Shore|             null|St. Julian 2013 R...|          Riesling|         St. Julian|\n",
            "|       US|    87|           Oregon|  Willamette Valley|Willamette Valley|Sweet Cheeks 2012...|        Pinot Noir|       Sweet Cheeks|\n",
            "|    Spain|    87|   Northern Spain|            Navarra|             null|Tandem 2011 Ars I...|Tempranillo-Merlot|             Tandem|\n",
            "|    Italy|    87|Sicily & Sardinia|           Vittoria|             null|Terre di Giurfo 2...|          Frappato|    Terre di Giurfo|\n",
            "|   France|    87|           Alsace|             Alsace|             null|Trimbach 2012 Gew...|    Gewürztraminer|           Trimbach|\n",
            "|  Germany|    87|      Rheinhessen|               null|             null|Heinz Eifel 2013 ...|    Gewürztraminer|        Heinz Eifel|\n",
            "|   France|    87|           Alsace|             Alsace|             null|Jean-Baptiste Ada...|        Pinot Gris| Jean-Baptiste Adam|\n",
            "|       US|    87|       California|        Napa Valley|             Napa|Kirkland Signatur...|Cabernet Sauvignon| Kirkland Signature|\n",
            "|   France|    87|           Alsace|             Alsace|             null|Leon Beyer 2012 G...|    Gewürztraminer|         Leon Beyer|\n",
            "|       US|    87|       California|   Alexander Valley|           Sonoma|Louis M. Martini ...|Cabernet Sauvignon|   Louis M. Martini|\n",
            "|    Italy|    87|Sicily & Sardinia|               Etna|             null|Masseria Settepor...| Nerello Mascalese|Masseria Setteporte|\n",
            "|       US|    87|       California|      Central Coast|    Central Coast|Mirassou 2012 Cha...|        Chardonnay|           Mirassou|\n",
            "|  Germany|    87|            Mosel|               null|             null|Richard Böcking 2...|          Riesling|    Richard Böcking|\n",
            "|Argentina|    87|            Other|           Cafayate|             null|Felix Lavaque 201...|            Malbec|      Felix Lavaque|\n",
            "|Argentina|    87| Mendoza Province|            Mendoza|             null|Gaucho Andino 201...|            Malbec|      Gaucho Andino|\n",
            "|    Spain|    87|   Northern Spain|   Ribera del Duero|             null|Pradorey 2010 Ven...| Tempranillo Blend|           Pradorey|\n",
            "|       US|    87|         Virginia|           Virginia|             null|Quiévremont 2012 ...|          Meritage|        Quiévremont|\n",
            "+---------+------+-----------------+-------------------+-----------------+--------------------+------------------+-------------------+\n",
            "only showing top 20 rows\n",
            "\n"
          ],
          "name": "stdout"
        }
      ]
    },
    {
      "cell_type": "code",
      "metadata": {
        "colab": {
          "base_uri": "https://localhost:8080/"
        },
        "id": "wZFx2eMTYJbX",
        "outputId": "d326eab4-73ee-4d2b-f518-b631fdc11557"
      },
      "source": [
        "wine_table_df.printSchema()"
      ],
      "execution_count": 16,
      "outputs": [
        {
          "output_type": "stream",
          "text": [
            "root\n",
            " |-- country: string (nullable = true)\n",
            " |-- points: string (nullable = true)\n",
            " |-- province: string (nullable = true)\n",
            " |-- region_1: string (nullable = true)\n",
            " |-- region_2: string (nullable = true)\n",
            " |-- title: string (nullable = true)\n",
            " |-- variety: string (nullable = true)\n",
            " |-- winery: string (nullable = true)\n",
            "\n"
          ],
          "name": "stdout"
        }
      ]
    },
    {
      "cell_type": "code",
      "metadata": {
        "id": "jRALilTyd431"
      },
      "source": [
        "#Change \"points\" column datatype from string to integer\n",
        "from pyspark.sql.types import IntegerType\n",
        "wine_table_df = wine_table_df.withColumn(\"points\", wine_table_df[\"points\"].cast(IntegerType()))"
      ],
      "execution_count": 17,
      "outputs": []
    },
    {
      "cell_type": "code",
      "metadata": {
        "colab": {
          "base_uri": "https://localhost:8080/"
        },
        "id": "xrsok0sSeTLf",
        "outputId": "1dd35d9e-06d2-4884-9664-a87d4c2d21d5"
      },
      "source": [
        "wine_table_df.printSchema()"
      ],
      "execution_count": 18,
      "outputs": [
        {
          "output_type": "stream",
          "text": [
            "root\n",
            " |-- country: string (nullable = true)\n",
            " |-- points: integer (nullable = true)\n",
            " |-- province: string (nullable = true)\n",
            " |-- region_1: string (nullable = true)\n",
            " |-- region_2: string (nullable = true)\n",
            " |-- title: string (nullable = true)\n",
            " |-- variety: string (nullable = true)\n",
            " |-- winery: string (nullable = true)\n",
            "\n"
          ],
          "name": "stdout"
        }
      ]
    },
    {
      "cell_type": "code",
      "metadata": {
        "colab": {
          "base_uri": "https://localhost:8080/"
        },
        "id": "77XDk9sGVx-N",
        "outputId": "bdd3c68b-e423-46a0-c55a-0a064bd2979e"
      },
      "source": [
        "wine_table_df.count()"
      ],
      "execution_count": 19,
      "outputs": [
        {
          "output_type": "execute_result",
          "data": {
            "text/plain": [
              "129912"
            ]
          },
          "metadata": {
            "tags": []
          },
          "execution_count": 19
        }
      ]
    },
    {
      "cell_type": "code",
      "metadata": {
        "colab": {
          "base_uri": "https://localhost:8080/"
        },
        "id": "GvvvtM1gn8BM",
        "outputId": "c27e4cc2-83cf-47dc-efde-a6214416a861"
      },
      "source": [
        "weather_df.printSchema()"
      ],
      "execution_count": 21,
      "outputs": [
        {
          "output_type": "stream",
          "text": [
            "root\n",
            " |-- _c0: integer (nullable = true)\n",
            " |-- Winery: string (nullable = true)\n",
            " |-- Average Temperature (Kelvin): double (nullable = true)\n",
            " |-- Average Air Pressure (hPa): double (nullable = true)\n",
            " |-- Average Humidity (%): double (nullable = true)\n",
            " |-- Average Precipitation (mm): double (nullable = true)\n",
            "\n"
          ],
          "name": "stdout"
        }
      ]
    },
    {
      "cell_type": "code",
      "metadata": {
        "colab": {
          "base_uri": "https://localhost:8080/"
        },
        "id": "OtEDDZ57ops7",
        "outputId": "131a74ed-41a8-4f32-f9fb-dc0388e097a5"
      },
      "source": [
        "#Select only the columns that will be stored into the RDS database\n",
        "\n",
        "from pyspark.sql.functions import col\n",
        "\n",
        "weather_table_df = weather_df.select(col(\"Winery\").alias(\"winery\"), col(\"Average Temperature (Kelvin)\").alias(\"avg_temp\"), col(\"Average Air Pressure (hPa)\").alias(\"avg_airp\"), col(\"Average Humidity (%)\").alias(\"avg_humid\"), col(\"Average Precipitation (mm)\").alias(\"avg_precip\"))\n",
        "weather_table_df.show()"
      ],
      "execution_count": 27,
      "outputs": [
        {
          "output_type": "stream",
          "text": [
            "+--------------------+--------+---------+---------+----------+\n",
            "|              winery|avg_temp| avg_airp|avg_humid|avg_precip|\n",
            "+--------------------+--------+---------+---------+----------+\n",
            "|St. Julian winery US|269.6375|  1018.15|    79.24|    0.0725|\n",
            "|Sweet Cheeks wine...| 276.025|1019.8875|  85.4525|    0.0575|\n",
            "|Kirkland Signatur...| 277.375|1020.0125|  79.1975|     0.235|\n",
            "|Louis M. Martini ...|281.0325|   1018.5|   79.155|    0.0775|\n",
            "|Richard Böcking w...|  275.71|1014.9425|   92.215|     0.135|\n",
            "|   Bianchi winery US| 279.685|  1018.23|    73.42|     0.025|\n",
            "|Castello di Amoro...|281.0325|   1018.5|   79.155|    0.0775|\n",
            "|   Envolve winery US|281.7425|1019.1525|  70.4875|     0.125|\n",
            "|     Erath winery US|  276.22|1020.7575|   76.705|      0.14|\n",
            "|Feudi del Pisciot...| 282.535|  1014.39|  75.9475|     0.055|\n",
            "|Hawkins Cellars w...|276.0775|1020.8975|  74.8725|     0.135|\n",
            "|Robert Hall winer...| 279.685|  1018.23|    73.42|     0.025|\n",
            "|Sundance winery C...| 269.755|  1013.96|     58.3|      0.01|\n",
            "|     Trump winery US|277.4675|1019.2975|    70.09|    0.1225|\n",
            "| RustRidge winery US|281.0325|   1018.5|   79.155|    0.0775|\n",
            "| Souverain winery US|281.0325|   1018.5|   79.155|    0.0775|\n",
            "|Tres Palacios win...|294.2675| 1004.555|   47.055|       0.0|\n",
            "|     Okapi winery US|278.5275|1020.1275|  76.5975|    0.2175|\n",
            "|    Sevtap winery US|  285.08| 1018.895|  58.4075|      0.01|\n",
            "|Simonnet-Febvre w...| 276.745| 1020.505|  88.9825|    0.1075|\n",
            "+--------------------+--------+---------+---------+----------+\n",
            "only showing top 20 rows\n",
            "\n"
          ],
          "name": "stdout"
        }
      ]
    },
    {
      "cell_type": "code",
      "metadata": {
        "colab": {
          "base_uri": "https://localhost:8080/"
        },
        "id": "3gO_HGN_r8eF",
        "outputId": "a1ade13d-d747-4930-fb30-8b34ec36a0b6"
      },
      "source": [
        "weather_table_df.count()"
      ],
      "execution_count": 28,
      "outputs": [
        {
          "output_type": "execute_result",
          "data": {
            "text/plain": [
              "4534"
            ]
          },
          "metadata": {
            "tags": []
          },
          "execution_count": 28
        }
      ]
    },
    {
      "cell_type": "markdown",
      "metadata": {
        "id": "ulKAWgu3PLi2"
      },
      "source": [
        "**Connect to the AWS RDS instance and write each DataFrame to its table**"
      ]
    },
    {
      "cell_type": "code",
      "metadata": {
        "id": "vY70t7KxPODD"
      },
      "source": [
        "# Configure settings for RDS\n",
        "mode = \"append\"\n",
        "#jdbc_url=\"jdbc:postgresql://<connection string>:5432/<database-name>\"\n",
        "jdbc_url=\"jdbc:postgresql://wine-final-project.czqkltznl3rl.us-east-2.rds.amazonaws.com/winedb\"\n",
        "#config = {\"user\":\"postgres\",\n",
        "          #\"password\": \"<password>\",\n",
        "          #\"driver\":\"org.postgresql.Driver\"}\n",
        "config = {\"user\":\"wineuser\",\n",
        "          \"password\": rds_pwd,\n",
        "          \"driver\":\"org.postgresql.Driver\"}"
      ],
      "execution_count": 29,
      "outputs": []
    },
    {
      "cell_type": "code",
      "metadata": {
        "colab": {
          "base_uri": "https://localhost:8080/"
        },
        "id": "hjSk3aXzllWF",
        "outputId": "a7a0971d-e9ad-4b78-9cee-b75f48a87179"
      },
      "source": [
        "wine_table_df"
      ],
      "execution_count": 24,
      "outputs": [
        {
          "output_type": "execute_result",
          "data": {
            "text/plain": [
              "DataFrame[country: string, points: int, province: string, region_1: string, region_2: string, title: string, variety: string, winery: string]"
            ]
          },
          "metadata": {
            "tags": []
          },
          "execution_count": 24
        }
      ]
    },
    {
      "cell_type": "code",
      "metadata": {
        "id": "-CQuJbnkPwhe"
      },
      "source": [
        "# Write wine_table_df to table in RDS\n",
        "wine_table_df.write.jdbc(url=jdbc_url, table='wine', mode=mode, properties=config)"
      ],
      "execution_count": 25,
      "outputs": []
    },
    {
      "cell_type": "code",
      "metadata": {
        "id": "NcPdxuZDmZQU"
      },
      "source": [
        "# Write weather_table_df to table in RDS\n",
        "weather_table_df.write.jdbc(url=jdbc_url, table='weather', mode=mode, properties=config)"
      ],
      "execution_count": 30,
      "outputs": []
    },
    {
      "cell_type": "code",
      "metadata": {
        "colab": {
          "base_uri": "https://localhost:8080/"
        },
        "id": "gVJDgFOXtSXW",
        "outputId": "fd581c1e-713b-4167-9f78-0652b3810744"
      },
      "source": [
        "# Read wine table from RDS\n",
        "spark.read.jdbc(url=jdbc_url, table='wine', properties=config).limit(10).show()"
      ],
      "execution_count": null,
      "outputs": [
        {
          "output_type": "stream",
          "text": [
            "+------------+------+------------+--------------------+---------------+--------------------+--------------------+-------------------+\n",
            "|     country|points|    province|            region_1|       region_2|               title|             variety|             winery|\n",
            "+------------+------+------------+--------------------+---------------+--------------------+--------------------+-------------------+\n",
            "|   Australia|    90|    Victoria|        Yarra Valley|           null|Giant Steps 2006 ...|          Chardonnay|        Giant Steps|\n",
            "|          US|    90|  Washington|        Red Mountain|Columbia Valley|Gorman 2006 The P...|               Syrah|             Gorman|\n",
            "|          US|    90|  Washington|Columbia Valley (WA)|Columbia Valley|Guardian 2006 Cha...|           Red Blend|           Guardian|\n",
            "|          US|    90|  Washington|        Red Mountain|Columbia Valley|Barrister 2005 Ar...|              Merlot|          Barrister|\n",
            "|      France|    90|    Bordeaux|        Saint-Julien|           null|Château Beychevel...|Bordeaux-style Re...|Château Beychevelle|\n",
            "|      France|    90|    Bordeaux|            Pauillac|           null|Château Clerc Mil...|Bordeaux-style Re...|Château Clerc Milon|\n",
            "|      France|    90|    Bordeaux|             Margaux|           null|Château Lascombes...|Bordeaux-style Re...|  Château Lascombes|\n",
            "|      France|    90|    Bordeaux|              Barsac|           null|Château Suau 2006...|Bordeaux-style Wh...|       Château Suau|\n",
            "|          US|    90|  California|         Napa Valley|           Napa|Clark-Claudon 200...|  Cabernet Sauvignon|      Clark-Claudon|\n",
            "|South Africa|    90|Stellenbosch|                null|           null|Eikendal 2004 Cla...|Bordeaux-style Re...|           Eikendal|\n",
            "+------------+------+------------+--------------------+---------------+--------------------+--------------------+-------------------+\n",
            "\n"
          ],
          "name": "stdout"
        }
      ]
    },
    {
      "cell_type": "code",
      "metadata": {
        "colab": {
          "base_uri": "https://localhost:8080/"
        },
        "id": "fr-B0Ol1tSKV",
        "outputId": "823cd7d9-3481-45e0-e4f6-c49fa9cc3f9b"
      },
      "source": [
        "# Read weather table from RDS\n",
        "spark.read.jdbc(url=jdbc_url, table='weather', properties=config).limit(10).show()"
      ],
      "execution_count": 31,
      "outputs": [
        {
          "output_type": "stream",
          "text": [
            "+--------------------+--------------------+--------------------+--------------------+--------------------+\n",
            "|              winery|            avg_temp|            avg_airp|           avg_humid|          avg_precip|\n",
            "+--------------------+--------------------+--------------------+--------------------+--------------------+\n",
            "|St. Julian winery US|269.6375000000000...|1018.150000000000...|79.24000000000000...|0.072500000000000000|\n",
            "|Sweet Cheeks wine...|276.0250000000000...|1019.887500000000...|85.45250000000000...|0.057500000000000000|\n",
            "|Kirkland Signatur...|277.3750000000000...|1020.012500000000...|79.19750000000000...|0.235000000000000000|\n",
            "|Louis M. Martini ...|281.0325000000000...|1018.500000000000...|79.15500000000000...|0.077500000000000000|\n",
            "|Richard Böcking w...|275.7100000000000...|1014.942500000000...|92.21500000000000...|0.135000000000000000|\n",
            "|   Bianchi winery US|279.6850000000000...|1018.230000000000...|73.42000000000000...|0.025000000000000000|\n",
            "|Castello di Amoro...|281.0325000000000...|1018.500000000000...|79.15500000000000...|0.077500000000000000|\n",
            "|   Envolve winery US|281.7425000000000...|1019.152500000000...|70.48750000000000...|0.125000000000000000|\n",
            "|     Erath winery US|276.2200000000000...|1020.757500000000...|76.70500000000000...|0.140000000000000000|\n",
            "|Feudi del Pisciot...|282.5350000000000...|1014.390000000000...|75.94750000000000...|0.055000000000000000|\n",
            "+--------------------+--------------------+--------------------+--------------------+--------------------+\n",
            "\n"
          ],
          "name": "stdout"
        }
      ]
    }
  ]
}