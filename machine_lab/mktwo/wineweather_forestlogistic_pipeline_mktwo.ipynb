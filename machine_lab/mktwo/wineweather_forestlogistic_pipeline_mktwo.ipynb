{
  "nbformat": 4,
  "nbformat_minor": 0,
  "metadata": {
    "colab": {
      "name": "wineweather_forestlogistic_pipeline_mktwo.ipynb",
      "provenance": [],
      "collapsed_sections": []
    },
    "kernelspec": {
      "name": "python3",
      "display_name": "Python 3"
    },
    "language_info": {
      "name": "python"
    }
  },
  "cells": [
    {
      "cell_type": "code",
      "metadata": {
        "colab": {
          "base_uri": "https://localhost:8080/"
        },
        "id": "g1EZ04H39K0x",
        "outputId": "403ed712-4313-490b-bf47-2960773e794e"
      },
      "source": [
        "# Initial imports.\n",
        "import pandas as pd\n",
        "import numpy as np\n",
        "from numpy import random\n",
        "import os\n",
        "from sklearn.ensemble import RandomForestClassifier, RandomForestRegressor\n",
        "from sklearn.preprocessing import StandardScaler\n",
        "from sklearn.model_selection import train_test_split\n",
        "from sklearn.metrics import confusion_matrix, accuracy_score, classification_report\n",
        "\n",
        "# Import RDS password\n",
        "from config import rds_pwd\n",
        "\n",
        "import os\n",
        "# Find the latest version of spark 2.0  from http://www-us.apache.org/dist/spark/ and enter as the spark version\n",
        "spark_version = 'spark-3.0.2'\n",
        "os.environ['SPARK_VERSION']=spark_version\n",
        "\n",
        "# Install Spark and Java\n",
        "!apt-get update\n",
        "!apt-get install openjdk-11-jdk-headless -qq > /dev/null\n",
        "!wget -q http://www-us.apache.org/dist/spark/$SPARK_VERSION/$SPARK_VERSION-bin-hadoop2.7.tgz\n",
        "!tar xf $SPARK_VERSION-bin-hadoop2.7.tgz\n",
        "!pip install -q findspark\n",
        "\n",
        "# Set Environment Variables\n",
        "import os\n",
        "os.environ[\"JAVA_HOME\"] = \"/usr/lib/jvm/java-11-openjdk-amd64\"\n",
        "os.environ[\"SPARK_HOME\"] = f\"/content/{spark_version}-bin-hadoop2.7\"\n",
        "\n",
        "# Start a SparkSession\n",
        "import findspark\n",
        "findspark.init()\n",
        "\n",
        "spark_version = 'spark-3.0.2'\n",
        "os.environ['SPARK_VERSION']=spark_version\n",
        "\n",
        "# Install Spark and Java\n",
        "!apt-get update\n",
        "!apt-get install openjdk-11-jdk-headless -qq > /dev/null\n",
        "!wget -q http://www-us.apache.org/dist/spark/$SPARK_VERSION/$SPARK_VERSION-bin-hadoop2.7.tgz\n",
        "!tar xf $SPARK_VERSION-bin-hadoop2.7.tgz\n",
        "!pip install -q findspark\n",
        "\n",
        "# Set Environment Variables\n",
        "import os\n",
        "os.environ[\"JAVA_HOME\"] = \"/usr/lib/jvm/java-11-openjdk-amd64\"\n",
        "os.environ[\"SPARK_HOME\"] = f\"/content/{spark_version}-bin-hadoop2.7\"\n",
        "\n",
        "# Start a SparkSession\n",
        "import findspark\n",
        "findspark.init()"
      ],
      "execution_count": 1,
      "outputs": [
        {
          "output_type": "stream",
          "text": [
            "\r0% [Working]\r            \rGet:1 http://security.ubuntu.com/ubuntu bionic-security InRelease [88.7 kB]\n",
            "\r0% [Connecting to archive.ubuntu.com] [1 InRelease 14.2 kB/88.7 kB 16%] [Connec\r                                                                               \rGet:2 https://cloud.r-project.org/bin/linux/ubuntu bionic-cran40/ InRelease [3,626 B]\n",
            "Ign:3 https://developer.download.nvidia.com/compute/cuda/repos/ubuntu1804/x86_64  InRelease\n",
            "Ign:4 https://developer.download.nvidia.com/compute/machine-learning/repos/ubuntu1804/x86_64  InRelease\n",
            "Get:5 http://ppa.launchpad.net/c2d4u.team/c2d4u4.0+/ubuntu bionic InRelease [15.9 kB]\n",
            "Get:6 https://developer.download.nvidia.com/compute/cuda/repos/ubuntu1804/x86_64  Release [697 B]\n",
            "Hit:7 https://developer.download.nvidia.com/compute/machine-learning/repos/ubuntu1804/x86_64  Release\n",
            "Get:8 https://developer.download.nvidia.com/compute/cuda/repos/ubuntu1804/x86_64  Release.gpg [836 B]\n",
            "Hit:9 http://archive.ubuntu.com/ubuntu bionic InRelease\n",
            "Get:10 http://archive.ubuntu.com/ubuntu bionic-updates InRelease [88.7 kB]\n",
            "Get:11 https://cloud.r-project.org/bin/linux/ubuntu bionic-cran40/ Packages [60.9 kB]\n",
            "Hit:12 http://ppa.launchpad.net/cran/libgit2/ubuntu bionic InRelease\n",
            "Get:13 http://security.ubuntu.com/ubuntu bionic-security/restricted amd64 Packages [423 kB]\n",
            "Hit:14 http://ppa.launchpad.net/deadsnakes/ppa/ubuntu bionic InRelease\n",
            "Get:15 http://archive.ubuntu.com/ubuntu bionic-backports InRelease [74.6 kB]\n",
            "Get:16 http://security.ubuntu.com/ubuntu bionic-security/main amd64 Packages [2,152 kB]\n",
            "Get:17 http://ppa.launchpad.net/graphics-drivers/ppa/ubuntu bionic InRelease [21.3 kB]\n",
            "Get:18 http://security.ubuntu.com/ubuntu bionic-security/universe amd64 Packages [1,412 kB]\n",
            "Ign:20 https://developer.download.nvidia.com/compute/cuda/repos/ubuntu1804/x86_64  Packages\n",
            "Get:20 https://developer.download.nvidia.com/compute/cuda/repos/ubuntu1804/x86_64  Packages [798 kB]\n",
            "Get:21 http://ppa.launchpad.net/c2d4u.team/c2d4u4.0+/ubuntu bionic/main Sources [1,769 kB]\n",
            "Get:22 http://archive.ubuntu.com/ubuntu bionic-updates/main amd64 Packages [2,583 kB]\n",
            "Get:23 http://ppa.launchpad.net/c2d4u.team/c2d4u4.0+/ubuntu bionic/main amd64 Packages [905 kB]\n",
            "Get:24 http://archive.ubuntu.com/ubuntu bionic-updates/restricted amd64 Packages [452 kB]\n",
            "Get:25 http://archive.ubuntu.com/ubuntu bionic-updates/universe amd64 Packages [2,183 kB]\n",
            "Get:26 http://ppa.launchpad.net/graphics-drivers/ppa/ubuntu bionic/main amd64 Packages [41.5 kB]\n",
            "Fetched 13.1 MB in 4s (3,687 kB/s)\n",
            "Reading package lists... Done\n",
            "Hit:1 https://cloud.r-project.org/bin/linux/ubuntu bionic-cran40/ InRelease\n",
            "Hit:2 http://security.ubuntu.com/ubuntu bionic-security InRelease\n",
            "Ign:3 https://developer.download.nvidia.com/compute/cuda/repos/ubuntu1804/x86_64  InRelease\n",
            "Ign:4 https://developer.download.nvidia.com/compute/machine-learning/repos/ubuntu1804/x86_64  InRelease\n",
            "Hit:5 https://developer.download.nvidia.com/compute/cuda/repos/ubuntu1804/x86_64  Release\n",
            "Hit:6 https://developer.download.nvidia.com/compute/machine-learning/repos/ubuntu1804/x86_64  Release\n",
            "Hit:7 http://ppa.launchpad.net/c2d4u.team/c2d4u4.0+/ubuntu bionic InRelease\n",
            "Hit:8 http://archive.ubuntu.com/ubuntu bionic InRelease\n",
            "Hit:9 http://archive.ubuntu.com/ubuntu bionic-updates InRelease\n",
            "Hit:10 http://ppa.launchpad.net/cran/libgit2/ubuntu bionic InRelease\n",
            "Hit:11 http://archive.ubuntu.com/ubuntu bionic-backports InRelease\n",
            "Hit:12 http://ppa.launchpad.net/deadsnakes/ppa/ubuntu bionic InRelease\n",
            "Hit:14 http://ppa.launchpad.net/graphics-drivers/ppa/ubuntu bionic InRelease\n",
            "Reading package lists... Done\n"
          ],
          "name": "stdout"
        }
      ]
    },
    {
      "cell_type": "code",
      "metadata": {
        "colab": {
          "base_uri": "https://localhost:8080/"
        },
        "id": "CPiGPttMJvYO",
        "outputId": "a03ffb7b-b53a-48f9-8a20-6cb91d4d93ca"
      },
      "source": [
        "# Download the Postgres driver that will allow Spark to interact with Postgres.\n",
        "!wget https://jdbc.postgresql.org/download/postgresql-42.2.16.jar"
      ],
      "execution_count": 2,
      "outputs": [
        {
          "output_type": "stream",
          "text": [
            "--2021-05-26 00:27:41--  https://jdbc.postgresql.org/download/postgresql-42.2.16.jar\n",
            "Resolving jdbc.postgresql.org (jdbc.postgresql.org)... 72.32.157.228, 2001:4800:3e1:1::228\n",
            "Connecting to jdbc.postgresql.org (jdbc.postgresql.org)|72.32.157.228|:443... connected.\n",
            "HTTP request sent, awaiting response... 200 OK\n",
            "Length: 1002883 (979K) [application/java-archive]\n",
            "Saving to: ‘postgresql-42.2.16.jar’\n",
            "\n",
            "postgresql-42.2.16. 100%[===================>] 979.38K  --.-KB/s    in 0.08s   \n",
            "\n",
            "2021-05-26 00:27:42 (11.5 MB/s) - ‘postgresql-42.2.16.jar’ saved [1002883/1002883]\n",
            "\n"
          ],
          "name": "stdout"
        }
      ]
    },
    {
      "cell_type": "code",
      "metadata": {
        "id": "RM36-lu38F8q"
      },
      "source": [
        "from pyspark.sql import SparkSession\n",
        "spark = SparkSession.builder.appName(\"Wine-Project\").config(\"spark.driver.extraClassPath\",\"/content/postgresql-42.2.16.jar\").getOrCreate()"
      ],
      "execution_count": 3,
      "outputs": []
    },
    {
      "cell_type": "code",
      "metadata": {
        "id": "ev4fvY58-xwS"
      },
      "source": [
        "# Configure settings for RDS\n",
        "mode = \"append\"\n",
        "#jdbc_url=\"jdbc:postgresql://<connection string>:5432/<database-name>\"\n",
        "jdbc_url=\"jdbc:postgresql://wine-final-project.czqkltznl3rl.us-east-2.rds.amazonaws.com/winedb\"\n",
        "#config = {\"user\":\"postgres\",\n",
        "          #\"password\": \"<password>\",\n",
        "          #\"driver\":\"org.postgresql.Driver\"}\n",
        "config = {\"user\":\"wineuser\",\n",
        "          \"password\": rds_pwd,\n",
        "          \"driver\":\"org.postgresql.Driver\"}"
      ],
      "execution_count": 4,
      "outputs": []
    },
    {
      "cell_type": "code",
      "metadata": {
        "id": "ag7P8QDBHvqt",
        "colab": {
          "base_uri": "https://localhost:8080/",
          "height": 320
        },
        "outputId": "6b89b91a-e19b-455f-c02f-ff7ad51d1643"
      },
      "source": [
        "wineweather = pd.read_csv('/content/weather_scaled_updated.csv', index_col=0)\n",
        "wineweather.head(4)"
      ],
      "execution_count": 5,
      "outputs": [
        {
          "output_type": "execute_result",
          "data": {
            "text/html": [
              "<div>\n",
              "<style scoped>\n",
              "    .dataframe tbody tr th:only-of-type {\n",
              "        vertical-align: middle;\n",
              "    }\n",
              "\n",
              "    .dataframe tbody tr th {\n",
              "        vertical-align: top;\n",
              "    }\n",
              "\n",
              "    .dataframe thead th {\n",
              "        text-align: right;\n",
              "    }\n",
              "</style>\n",
              "<table border=\"1\" class=\"dataframe\">\n",
              "  <thead>\n",
              "    <tr style=\"text-align: right;\">\n",
              "      <th></th>\n",
              "      <th>winery</th>\n",
              "      <th>country</th>\n",
              "      <th>points</th>\n",
              "      <th>variety</th>\n",
              "      <th>winery_search</th>\n",
              "      <th>latitude</th>\n",
              "      <th>longitude</th>\n",
              "      <th>Average Temperature (Kelvin)</th>\n",
              "      <th>Average Air Pressure (hPa)</th>\n",
              "      <th>Average Humidity (%)</th>\n",
              "      <th>Average Daily Precipitation (mm)</th>\n",
              "    </tr>\n",
              "  </thead>\n",
              "  <tbody>\n",
              "    <tr>\n",
              "      <th>0</th>\n",
              "      <td>St. Julian</td>\n",
              "      <td>US</td>\n",
              "      <td>87</td>\n",
              "      <td>Riesling</td>\n",
              "      <td>St. Julian winery US</td>\n",
              "      <td>42.212251</td>\n",
              "      <td>-85.891713</td>\n",
              "      <td>283.486181</td>\n",
              "      <td>1016.253874</td>\n",
              "      <td>73.468022</td>\n",
              "      <td>0.118022</td>\n",
              "    </tr>\n",
              "    <tr>\n",
              "      <th>1</th>\n",
              "      <td>Sweet Cheeks</td>\n",
              "      <td>US</td>\n",
              "      <td>87</td>\n",
              "      <td>Pinot Noir</td>\n",
              "      <td>Sweet Cheeks winery US</td>\n",
              "      <td>43.956670</td>\n",
              "      <td>-123.279135</td>\n",
              "      <td>284.928462</td>\n",
              "      <td>1016.972170</td>\n",
              "      <td>75.501813</td>\n",
              "      <td>0.108269</td>\n",
              "    </tr>\n",
              "    <tr>\n",
              "      <th>2</th>\n",
              "      <td>Kirkland Signature</td>\n",
              "      <td>US</td>\n",
              "      <td>87</td>\n",
              "      <td>Cabernet Sauvignon</td>\n",
              "      <td>Kirkland Signature winery US</td>\n",
              "      <td>35.896713</td>\n",
              "      <td>-84.140546</td>\n",
              "      <td>288.217995</td>\n",
              "      <td>1017.277418</td>\n",
              "      <td>74.106346</td>\n",
              "      <td>0.129918</td>\n",
              "    </tr>\n",
              "    <tr>\n",
              "      <th>3</th>\n",
              "      <td>Louis M. Martini</td>\n",
              "      <td>US</td>\n",
              "      <td>87</td>\n",
              "      <td>Cabernet Sauvignon</td>\n",
              "      <td>Louis M. Martini winery US</td>\n",
              "      <td>38.491708</td>\n",
              "      <td>-122.452308</td>\n",
              "      <td>287.733599</td>\n",
              "      <td>1015.947830</td>\n",
              "      <td>74.851236</td>\n",
              "      <td>0.076868</td>\n",
              "    </tr>\n",
              "  </tbody>\n",
              "</table>\n",
              "</div>"
            ],
            "text/plain": [
              "               winery  ... Average Daily Precipitation (mm)\n",
              "0          St. Julian  ...                         0.118022\n",
              "1        Sweet Cheeks  ...                         0.108269\n",
              "2  Kirkland Signature  ...                         0.129918\n",
              "3    Louis M. Martini  ...                         0.076868\n",
              "\n",
              "[4 rows x 11 columns]"
            ]
          },
          "metadata": {
            "tags": []
          },
          "execution_count": 5
        }
      ]
    },
    {
      "cell_type": "code",
      "metadata": {
        "colab": {
          "base_uri": "https://localhost:8080/"
        },
        "id": "1yYCLlF2UwZX",
        "outputId": "b0f9d21d-ba3a-415f-903b-eb1bd52411bb"
      },
      "source": [
        "wineweather.dtypes"
      ],
      "execution_count": 6,
      "outputs": [
        {
          "output_type": "execute_result",
          "data": {
            "text/plain": [
              "winery                               object\n",
              "country                              object\n",
              "points                                int64\n",
              "variety                              object\n",
              "winery_search                        object\n",
              "latitude                            float64\n",
              "longitude                           float64\n",
              "Average Temperature (Kelvin)        float64\n",
              "Average Air Pressure (hPa)          float64\n",
              "Average Humidity (%)                float64\n",
              "Average Daily Precipitation (mm)    float64\n",
              "dtype: object"
            ]
          },
          "metadata": {
            "tags": []
          },
          "execution_count": 6
        }
      ]
    },
    {
      "cell_type": "code",
      "metadata": {
        "colab": {
          "base_uri": "https://localhost:8080/",
          "height": 210
        },
        "id": "F8GYxc3JQ5n4",
        "outputId": "a7e1efdf-7639-44ce-9d3f-27e05a8d1d61"
      },
      "source": [
        "allwines = wineweather.drop(columns=['winery'])\n",
        "uswinedata = wineweather[wineweather['country'] == 'US'].drop(columns=['winery','country'])\n",
        "allwines.head(2)"
      ],
      "execution_count": 8,
      "outputs": [
        {
          "output_type": "execute_result",
          "data": {
            "text/html": [
              "<div>\n",
              "<style scoped>\n",
              "    .dataframe tbody tr th:only-of-type {\n",
              "        vertical-align: middle;\n",
              "    }\n",
              "\n",
              "    .dataframe tbody tr th {\n",
              "        vertical-align: top;\n",
              "    }\n",
              "\n",
              "    .dataframe thead th {\n",
              "        text-align: right;\n",
              "    }\n",
              "</style>\n",
              "<table border=\"1\" class=\"dataframe\">\n",
              "  <thead>\n",
              "    <tr style=\"text-align: right;\">\n",
              "      <th></th>\n",
              "      <th>country</th>\n",
              "      <th>points</th>\n",
              "      <th>variety</th>\n",
              "      <th>winery_search</th>\n",
              "      <th>latitude</th>\n",
              "      <th>longitude</th>\n",
              "      <th>Average Temperature (Kelvin)</th>\n",
              "      <th>Average Air Pressure (hPa)</th>\n",
              "      <th>Average Humidity (%)</th>\n",
              "      <th>Average Daily Precipitation (mm)</th>\n",
              "    </tr>\n",
              "  </thead>\n",
              "  <tbody>\n",
              "    <tr>\n",
              "      <th>0</th>\n",
              "      <td>US</td>\n",
              "      <td>87</td>\n",
              "      <td>Riesling</td>\n",
              "      <td>St. Julian winery US</td>\n",
              "      <td>42.212251</td>\n",
              "      <td>-85.891713</td>\n",
              "      <td>283.486181</td>\n",
              "      <td>1016.253874</td>\n",
              "      <td>73.468022</td>\n",
              "      <td>0.118022</td>\n",
              "    </tr>\n",
              "    <tr>\n",
              "      <th>1</th>\n",
              "      <td>US</td>\n",
              "      <td>87</td>\n",
              "      <td>Pinot Noir</td>\n",
              "      <td>Sweet Cheeks winery US</td>\n",
              "      <td>43.956670</td>\n",
              "      <td>-123.279135</td>\n",
              "      <td>284.928462</td>\n",
              "      <td>1016.972170</td>\n",
              "      <td>75.501813</td>\n",
              "      <td>0.108269</td>\n",
              "    </tr>\n",
              "  </tbody>\n",
              "</table>\n",
              "</div>"
            ],
            "text/plain": [
              "  country  points  ... Average Humidity (%) Average Daily Precipitation (mm)\n",
              "0      US      87  ...            73.468022                         0.118022\n",
              "1      US      87  ...            75.501813                         0.108269\n",
              "\n",
              "[2 rows x 10 columns]"
            ]
          },
          "metadata": {
            "tags": []
          },
          "execution_count": 8
        }
      ]
    },
    {
      "cell_type": "code",
      "metadata": {
        "colab": {
          "base_uri": "https://localhost:8080/"
        },
        "id": "xSfASp6vU-uf",
        "outputId": "56194a9f-7f78-413b-8755-98bf665f1280"
      },
      "source": [
        "allwines.columns"
      ],
      "execution_count": 9,
      "outputs": [
        {
          "output_type": "execute_result",
          "data": {
            "text/plain": [
              "Index(['country', 'points', 'variety', 'winery_search', 'latitude',\n",
              "       'longitude', 'Average Temperature (Kelvin)',\n",
              "       'Average Air Pressure (hPa)', 'Average Humidity (%)',\n",
              "       'Average Daily Precipitation (mm)'],\n",
              "      dtype='object')"
            ]
          },
          "metadata": {
            "tags": []
          },
          "execution_count": 9
        }
      ]
    },
    {
      "cell_type": "code",
      "metadata": {
        "colab": {
          "base_uri": "https://localhost:8080/",
          "height": 177
        },
        "id": "QNWusI7bFFlw",
        "outputId": "7556493d-c776-402c-cb2f-a7dbff24942e"
      },
      "source": [
        "county_weath = pd.read_csv('/content/uscounty_weather_v2.csv', index_col=0).dropna()\n",
        "county_weath.head(2)"
      ],
      "execution_count": 10,
      "outputs": [
        {
          "output_type": "execute_result",
          "data": {
            "text/html": [
              "<div>\n",
              "<style scoped>\n",
              "    .dataframe tbody tr th:only-of-type {\n",
              "        vertical-align: middle;\n",
              "    }\n",
              "\n",
              "    .dataframe tbody tr th {\n",
              "        vertical-align: top;\n",
              "    }\n",
              "\n",
              "    .dataframe thead th {\n",
              "        text-align: right;\n",
              "    }\n",
              "</style>\n",
              "<table border=\"1\" class=\"dataframe\">\n",
              "  <thead>\n",
              "    <tr style=\"text-align: right;\">\n",
              "      <th></th>\n",
              "      <th>zip</th>\n",
              "      <th>lat</th>\n",
              "      <th>lng</th>\n",
              "      <th>city</th>\n",
              "      <th>state_id</th>\n",
              "      <th>state_name</th>\n",
              "      <th>county_name</th>\n",
              "      <th>Average Temperature (Kelvin)</th>\n",
              "      <th>Average Air Pressure (hPa)</th>\n",
              "      <th>Average Humidity (%)</th>\n",
              "      <th>Average Daily Precipitation (mm)</th>\n",
              "    </tr>\n",
              "  </thead>\n",
              "  <tbody>\n",
              "    <tr>\n",
              "      <th>0</th>\n",
              "      <td>1001</td>\n",
              "      <td>42.06259</td>\n",
              "      <td>-72.62589</td>\n",
              "      <td>Agawam</td>\n",
              "      <td>MA</td>\n",
              "      <td>Massachusetts</td>\n",
              "      <td>Hampden</td>\n",
              "      <td>283.257967</td>\n",
              "      <td>1016.12956</td>\n",
              "      <td>70.273709</td>\n",
              "      <td>0.126154</td>\n",
              "    </tr>\n",
              "    <tr>\n",
              "      <th>1</th>\n",
              "      <td>1002</td>\n",
              "      <td>42.37492</td>\n",
              "      <td>-72.46210</td>\n",
              "      <td>Amherst</td>\n",
              "      <td>MA</td>\n",
              "      <td>Massachusetts</td>\n",
              "      <td>Hampshire</td>\n",
              "      <td>283.257967</td>\n",
              "      <td>1016.12956</td>\n",
              "      <td>70.273709</td>\n",
              "      <td>0.126154</td>\n",
              "    </tr>\n",
              "  </tbody>\n",
              "</table>\n",
              "</div>"
            ],
            "text/plain": [
              "    zip       lat  ...  Average Humidity (%) Average Daily Precipitation (mm)\n",
              "0  1001  42.06259  ...             70.273709                         0.126154\n",
              "1  1002  42.37492  ...             70.273709                         0.126154\n",
              "\n",
              "[2 rows x 11 columns]"
            ]
          },
          "metadata": {
            "tags": []
          },
          "execution_count": 10
        }
      ]
    },
    {
      "cell_type": "code",
      "metadata": {
        "colab": {
          "base_uri": "https://localhost:8080/"
        },
        "id": "ktqgIJRPXfEQ",
        "outputId": "65459545-fe6b-4534-ec66-48a12c3e58fe"
      },
      "source": [
        "county_weath.dtypes"
      ],
      "execution_count": 11,
      "outputs": [
        {
          "output_type": "execute_result",
          "data": {
            "text/plain": [
              "zip                                   int64\n",
              "lat                                 float64\n",
              "lng                                 float64\n",
              "city                                 object\n",
              "state_id                             object\n",
              "state_name                           object\n",
              "county_name                          object\n",
              "Average Temperature (Kelvin)        float64\n",
              "Average Air Pressure (hPa)          float64\n",
              "Average Humidity (%)                float64\n",
              "Average Daily Precipitation (mm)    float64\n",
              "dtype: object"
            ]
          },
          "metadata": {
            "tags": []
          },
          "execution_count": 11
        }
      ]
    },
    {
      "cell_type": "code",
      "metadata": {
        "colab": {
          "base_uri": "https://localhost:8080/"
        },
        "id": "HtTseH7sjmYY",
        "outputId": "f2c10ce3-9cd5-42ac-f5a0-7e4c731fa94f"
      },
      "source": [
        "len(county_weath)"
      ],
      "execution_count": 12,
      "outputs": [
        {
          "output_type": "execute_result",
          "data": {
            "text/plain": [
              "1796"
            ]
          },
          "metadata": {
            "tags": []
          },
          "execution_count": 12
        }
      ]
    },
    {
      "cell_type": "code",
      "metadata": {
        "colab": {
          "base_uri": "https://localhost:8080/"
        },
        "id": "hOorn3fmkvNn",
        "outputId": "077edd66-fa2b-405e-e931-a9491f0e2c4a"
      },
      "source": [
        "county_weath.columns"
      ],
      "execution_count": 13,
      "outputs": [
        {
          "output_type": "execute_result",
          "data": {
            "text/plain": [
              "Index(['zip', 'lat', 'lng', 'city', 'state_id', 'state_name', 'county_name',\n",
              "       'Average Temperature (Kelvin)', 'Average Air Pressure (hPa)',\n",
              "       'Average Humidity (%)', 'Average Daily Precipitation (mm)'],\n",
              "      dtype='object')"
            ]
          },
          "metadata": {
            "tags": []
          },
          "execution_count": 13
        }
      ]
    },
    {
      "cell_type": "code",
      "metadata": {
        "colab": {
          "base_uri": "https://localhost:8080/",
          "height": 106
        },
        "id": "Chc5U9FOSLN4",
        "outputId": "1aa5de14-432c-43a6-f8c8-d5ae60d7763a"
      },
      "source": [
        "county_ids = county_weath.drop(columns=['lat','lng','Average Temperature (Kelvin)', 'Average Air Pressure (hPa)',\n",
        "       'Average Humidity (%)', 'Average Daily Precipitation (mm)'])\n",
        "county_ids.head(2)"
      ],
      "execution_count": 14,
      "outputs": [
        {
          "output_type": "execute_result",
          "data": {
            "text/html": [
              "<div>\n",
              "<style scoped>\n",
              "    .dataframe tbody tr th:only-of-type {\n",
              "        vertical-align: middle;\n",
              "    }\n",
              "\n",
              "    .dataframe tbody tr th {\n",
              "        vertical-align: top;\n",
              "    }\n",
              "\n",
              "    .dataframe thead th {\n",
              "        text-align: right;\n",
              "    }\n",
              "</style>\n",
              "<table border=\"1\" class=\"dataframe\">\n",
              "  <thead>\n",
              "    <tr style=\"text-align: right;\">\n",
              "      <th></th>\n",
              "      <th>zip</th>\n",
              "      <th>city</th>\n",
              "      <th>state_id</th>\n",
              "      <th>state_name</th>\n",
              "      <th>county_name</th>\n",
              "    </tr>\n",
              "  </thead>\n",
              "  <tbody>\n",
              "    <tr>\n",
              "      <th>0</th>\n",
              "      <td>1001</td>\n",
              "      <td>Agawam</td>\n",
              "      <td>MA</td>\n",
              "      <td>Massachusetts</td>\n",
              "      <td>Hampden</td>\n",
              "    </tr>\n",
              "    <tr>\n",
              "      <th>1</th>\n",
              "      <td>1002</td>\n",
              "      <td>Amherst</td>\n",
              "      <td>MA</td>\n",
              "      <td>Massachusetts</td>\n",
              "      <td>Hampshire</td>\n",
              "    </tr>\n",
              "  </tbody>\n",
              "</table>\n",
              "</div>"
            ],
            "text/plain": [
              "    zip     city state_id     state_name county_name\n",
              "0  1001   Agawam       MA  Massachusetts     Hampden\n",
              "1  1002  Amherst       MA  Massachusetts   Hampshire"
            ]
          },
          "metadata": {
            "tags": []
          },
          "execution_count": 14
        }
      ]
    },
    {
      "cell_type": "code",
      "metadata": {
        "colab": {
          "base_uri": "https://localhost:8080/",
          "height": 140
        },
        "id": "SM5EZo24ksye",
        "outputId": "f8dc71c0-977f-477b-b2cd-ecb7913e14db"
      },
      "source": [
        "bigcounty = county_weath.drop(columns=['city', 'state_id', 'state_name', 'county_name'])\n",
        "bigcounty.head(2)"
      ],
      "execution_count": 15,
      "outputs": [
        {
          "output_type": "execute_result",
          "data": {
            "text/html": [
              "<div>\n",
              "<style scoped>\n",
              "    .dataframe tbody tr th:only-of-type {\n",
              "        vertical-align: middle;\n",
              "    }\n",
              "\n",
              "    .dataframe tbody tr th {\n",
              "        vertical-align: top;\n",
              "    }\n",
              "\n",
              "    .dataframe thead th {\n",
              "        text-align: right;\n",
              "    }\n",
              "</style>\n",
              "<table border=\"1\" class=\"dataframe\">\n",
              "  <thead>\n",
              "    <tr style=\"text-align: right;\">\n",
              "      <th></th>\n",
              "      <th>zip</th>\n",
              "      <th>lat</th>\n",
              "      <th>lng</th>\n",
              "      <th>Average Temperature (Kelvin)</th>\n",
              "      <th>Average Air Pressure (hPa)</th>\n",
              "      <th>Average Humidity (%)</th>\n",
              "      <th>Average Daily Precipitation (mm)</th>\n",
              "    </tr>\n",
              "  </thead>\n",
              "  <tbody>\n",
              "    <tr>\n",
              "      <th>0</th>\n",
              "      <td>1001</td>\n",
              "      <td>42.06259</td>\n",
              "      <td>-72.62589</td>\n",
              "      <td>283.257967</td>\n",
              "      <td>1016.12956</td>\n",
              "      <td>70.273709</td>\n",
              "      <td>0.126154</td>\n",
              "    </tr>\n",
              "    <tr>\n",
              "      <th>1</th>\n",
              "      <td>1002</td>\n",
              "      <td>42.37492</td>\n",
              "      <td>-72.46210</td>\n",
              "      <td>283.257967</td>\n",
              "      <td>1016.12956</td>\n",
              "      <td>70.273709</td>\n",
              "      <td>0.126154</td>\n",
              "    </tr>\n",
              "  </tbody>\n",
              "</table>\n",
              "</div>"
            ],
            "text/plain": [
              "    zip       lat  ...  Average Humidity (%)  Average Daily Precipitation (mm)\n",
              "0  1001  42.06259  ...             70.273709                          0.126154\n",
              "1  1002  42.37492  ...             70.273709                          0.126154\n",
              "\n",
              "[2 rows x 7 columns]"
            ]
          },
          "metadata": {
            "tags": []
          },
          "execution_count": 15
        }
      ]
    },
    {
      "cell_type": "code",
      "metadata": {
        "id": "sNkD_Ts7bDXv",
        "colab": {
          "base_uri": "https://localhost:8080/"
        },
        "outputId": "8617fe5e-4478-40d2-c464-f6cf17388faa"
      },
      "source": [
        "bigcounty.dtypes"
      ],
      "execution_count": 16,
      "outputs": [
        {
          "output_type": "execute_result",
          "data": {
            "text/plain": [
              "zip                                   int64\n",
              "lat                                 float64\n",
              "lng                                 float64\n",
              "Average Temperature (Kelvin)        float64\n",
              "Average Air Pressure (hPa)          float64\n",
              "Average Humidity (%)                float64\n",
              "Average Daily Precipitation (mm)    float64\n",
              "dtype: object"
            ]
          },
          "metadata": {
            "tags": []
          },
          "execution_count": 16
        }
      ]
    },
    {
      "cell_type": "code",
      "metadata": {
        "id": "oBWmVOhZY2Qo"
      },
      "source": [
        "countydrops = ['zip']"
      ],
      "execution_count": 17,
      "outputs": []
    },
    {
      "cell_type": "code",
      "metadata": {
        "id": "b4woMuSd9QsO"
      },
      "source": [
        "mer_df = allwines[allwines['variety'] == 'Merlot']\n",
        "syr_df = allwines[allwines['variety'] == 'Syrah']\n",
        "savyb_df = allwines[allwines['variety'] == 'Sauvignon Blanc']\n",
        "ries_df = allwines[allwines['variety'] == 'Riesling']\n",
        "cabsav_df = allwines[allwines['variety'] == 'Cabernet Sauvignon']\n",
        "char_df = allwines[allwines['variety'] == 'Chardonnay']\n",
        "pino_df = allwines[allwines['variety'] == 'Pinot Noir']"
      ],
      "execution_count": 18,
      "outputs": []
    },
    {
      "cell_type": "code",
      "metadata": {
        "colab": {
          "base_uri": "https://localhost:8080/"
        },
        "id": "BofKnbz-GC0A",
        "outputId": "d4f4d5dd-5008-44c4-c5e4-5f397afd2129"
      },
      "source": [
        "winedfs = [mer_df,syr_df,savyb_df,ries_df,cabsav_df,char_df,pino_df]\n",
        "for x in winedfs:\n",
        "  print(len(x))"
      ],
      "execution_count": 20,
      "outputs": [
        {
          "output_type": "stream",
          "text": [
            "2983\n",
            "3944\n",
            "4729\n",
            "5110\n",
            "8837\n",
            "11334\n",
            "12681\n"
          ],
          "name": "stdout"
        }
      ]
    },
    {
      "cell_type": "code",
      "metadata": {
        "colab": {
          "base_uri": "https://localhost:8080/"
        },
        "id": "IeuTOtY4xdqx",
        "outputId": "db7ba383-ef82-4970-d7b0-654df61b45bb"
      },
      "source": [
        "mer_df.dtypes"
      ],
      "execution_count": 21,
      "outputs": [
        {
          "output_type": "execute_result",
          "data": {
            "text/plain": [
              "country                              object\n",
              "points                                int64\n",
              "variety                              object\n",
              "winery_search                        object\n",
              "latitude                            float64\n",
              "longitude                           float64\n",
              "Average Temperature (Kelvin)        float64\n",
              "Average Air Pressure (hPa)          float64\n",
              "Average Humidity (%)                float64\n",
              "Average Daily Precipitation (mm)    float64\n",
              "dtype: object"
            ]
          },
          "metadata": {
            "tags": []
          },
          "execution_count": 21
        }
      ]
    },
    {
      "cell_type": "code",
      "metadata": {
        "colab": {
          "base_uri": "https://localhost:8080/"
        },
        "id": "fIVxkxtlGH7h",
        "outputId": "44759dad-9178-4928-8fe9-d1f9a43e7bbc"
      },
      "source": [
        "mer_df.columns"
      ],
      "execution_count": 22,
      "outputs": [
        {
          "output_type": "execute_result",
          "data": {
            "text/plain": [
              "Index(['country', 'points', 'variety', 'winery_search', 'latitude',\n",
              "       'longitude', 'Average Temperature (Kelvin)',\n",
              "       'Average Air Pressure (hPa)', 'Average Humidity (%)',\n",
              "       'Average Daily Precipitation (mm)'],\n",
              "      dtype='object')"
            ]
          },
          "metadata": {
            "tags": []
          },
          "execution_count": 22
        }
      ]
    },
    {
      "cell_type": "code",
      "metadata": {
        "id": "zR-Lpgr29QnD"
      },
      "source": [
        "winedropcols = ['country', 'points', 'variety', 'winery_search']"
      ],
      "execution_count": 25,
      "outputs": []
    },
    {
      "cell_type": "code",
      "metadata": {
        "colab": {
          "base_uri": "https://localhost:8080/"
        },
        "id": "fWXQJq1A9Qtl",
        "outputId": "6ffff2a9-f65e-4478-f9b8-26a4b65e6b4d"
      },
      "source": [
        "#features and targets\n",
        "variety = mer_df.copy()\n",
        "y = variety['points']\n",
        "X = variety.drop(columns=winedropcols)\n",
        "X_train, X_test, y_train, y_test = train_test_split(X,y)\n",
        "#init model again\n",
        "rf = RandomForestRegressor(n_estimators=200, random_state=99)\n",
        "rf.fit(X, y)\n",
        "rf.score(X,y)"
      ],
      "execution_count": 28,
      "outputs": [
        {
          "output_type": "execute_result",
          "data": {
            "text/plain": [
              "0.672360307056741"
            ]
          },
          "metadata": {
            "tags": []
          },
          "execution_count": 28
        }
      ]
    },
    {
      "cell_type": "code",
      "metadata": {
        "id": "ZegfCHX1-KIF"
      },
      "source": [
        "#using model to predict the counties\n",
        "Xcount = bigcounty.drop(columns=countydrops)\n",
        "mer_preds = rf.predict(Xcount)"
      ],
      "execution_count": 29,
      "outputs": []
    },
    {
      "cell_type": "code",
      "metadata": {
        "colab": {
          "base_uri": "https://localhost:8080/"
        },
        "id": "Z63vhufX-KTa",
        "outputId": "63dd6c49-e8d3-488e-dbe7-cbf38ebed735"
      },
      "source": [
        "#features and targets\n",
        "variety = syr_df\n",
        "y = variety['points']\n",
        "X = variety.drop(columns=winedropcols)\n",
        "X_train, X_test, y_train, y_test = train_test_split(X,y)\n",
        "#init model again\n",
        "rf = RandomForestRegressor(n_estimators=200, random_state=99)\n",
        "rf.fit(X, y)\n",
        "rf.score(X,y)"
      ],
      "execution_count": 30,
      "outputs": [
        {
          "output_type": "execute_result",
          "data": {
            "text/plain": [
              "0.6524464002909762"
            ]
          },
          "metadata": {
            "tags": []
          },
          "execution_count": 30
        }
      ]
    },
    {
      "cell_type": "code",
      "metadata": {
        "id": "TFOTgtQT9Q1Q"
      },
      "source": [
        "#using model to predict the counties\n",
        "Xcount = bigcounty.drop(columns=countydrops)\n",
        "syr_preds = rf.predict(Xcount)"
      ],
      "execution_count": 31,
      "outputs": []
    },
    {
      "cell_type": "code",
      "metadata": {
        "colab": {
          "base_uri": "https://localhost:8080/"
        },
        "id": "lwrmYR3dAOxL",
        "outputId": "c1370880-97d5-44b8-8af6-d3b7a747ca8a"
      },
      "source": [
        "#features and targets\n",
        "variety = savyb_df\n",
        "y = variety['points']\n",
        "X = variety.drop(columns=winedropcols)\n",
        "X_train, X_test, y_train, y_test = train_test_split(X,y)\n",
        "#init model again\n",
        "rf = RandomForestRegressor(n_estimators=200, random_state=99)\n",
        "rf.fit(X, y)\n",
        "rf.score(X,y)"
      ],
      "execution_count": 32,
      "outputs": [
        {
          "output_type": "execute_result",
          "data": {
            "text/plain": [
              "0.606807418587975"
            ]
          },
          "metadata": {
            "tags": []
          },
          "execution_count": 32
        }
      ]
    },
    {
      "cell_type": "code",
      "metadata": {
        "id": "7D8JpmyAAO3S"
      },
      "source": [
        "#using model to predict the counties\n",
        "Xcount = bigcounty.drop(columns=countydrops)\n",
        "savyb_preds = rf.predict(Xcount)"
      ],
      "execution_count": 33,
      "outputs": []
    },
    {
      "cell_type": "code",
      "metadata": {
        "colab": {
          "base_uri": "https://localhost:8080/"
        },
        "id": "xhaocGCMAO6F",
        "outputId": "1019973b-fa10-4bb4-f921-6a2561dc5700"
      },
      "source": [
        "#features and targets\n",
        "variety = ries_df\n",
        "y = variety['points']\n",
        "X = variety.drop(columns=winedropcols)\n",
        "X_train, X_test, y_train, y_test = train_test_split(X,y)\n",
        "#init model again\n",
        "rf = RandomForestRegressor(n_estimators=200, random_state=99)\n",
        "rf.fit(X, y)\n",
        "rf.score(X,y)"
      ],
      "execution_count": 34,
      "outputs": [
        {
          "output_type": "execute_result",
          "data": {
            "text/plain": [
              "0.5776133570979387"
            ]
          },
          "metadata": {
            "tags": []
          },
          "execution_count": 34
        }
      ]
    },
    {
      "cell_type": "code",
      "metadata": {
        "id": "mIdHq6h3APAE"
      },
      "source": [
        "#using model to predict the counties\n",
        "Xcount = bigcounty.drop(columns=countydrops)\n",
        "ries_preds = rf.predict(Xcount)"
      ],
      "execution_count": 35,
      "outputs": []
    },
    {
      "cell_type": "code",
      "metadata": {
        "colab": {
          "base_uri": "https://localhost:8080/"
        },
        "id": "zPnqrGohAPDJ",
        "outputId": "605249d3-e67c-4182-a4fe-39964ab5da84"
      },
      "source": [
        "#features and targets\n",
        "variety = cabsav_df\n",
        "y = variety['points']\n",
        "X = variety.drop(columns=winedropcols)\n",
        "X_train, X_test, y_train, y_test = train_test_split(X,y)\n",
        "#init model again\n",
        "rf = RandomForestRegressor(n_estimators=200, random_state=99)\n",
        "rf.fit(X, y)\n",
        "rf.score(X,y)"
      ],
      "execution_count": 36,
      "outputs": [
        {
          "output_type": "execute_result",
          "data": {
            "text/plain": [
              "0.6294553517631403"
            ]
          },
          "metadata": {
            "tags": []
          },
          "execution_count": 36
        }
      ]
    },
    {
      "cell_type": "code",
      "metadata": {
        "id": "hQJjjtoCAPJB"
      },
      "source": [
        "#using model to predict the counties\n",
        "Xcount = bigcounty.drop(columns=countydrops)\n",
        "cabsav_preds = rf.predict(Xcount)"
      ],
      "execution_count": 37,
      "outputs": []
    },
    {
      "cell_type": "code",
      "metadata": {
        "colab": {
          "base_uri": "https://localhost:8080/"
        },
        "id": "cczRRBijAPMk",
        "outputId": "3a0dbb1f-004c-444f-8022-0dc8a7af3c31"
      },
      "source": [
        "#features and targets\n",
        "variety = char_df\n",
        "y = variety['points']\n",
        "X = variety.drop(columns=winedropcols)\n",
        "X_train, X_test, y_train, y_test = train_test_split(X,y)\n",
        "#init model again\n",
        "rf = RandomForestRegressor(n_estimators=200, random_state=99)\n",
        "rf.fit(X, y)\n",
        "rf.score(X,y)"
      ],
      "execution_count": 38,
      "outputs": [
        {
          "output_type": "execute_result",
          "data": {
            "text/plain": [
              "0.6299301452245211"
            ]
          },
          "metadata": {
            "tags": []
          },
          "execution_count": 38
        }
      ]
    },
    {
      "cell_type": "code",
      "metadata": {
        "id": "3la9DNFpAla0"
      },
      "source": [
        "#using model to predict the counties\n",
        "Xcount = bigcounty.drop(columns=countydrops)\n",
        "char_preds = rf.predict(Xcount)"
      ],
      "execution_count": 39,
      "outputs": []
    },
    {
      "cell_type": "code",
      "metadata": {
        "colab": {
          "base_uri": "https://localhost:8080/"
        },
        "id": "rpV2LT1UAliu",
        "outputId": "9c103eea-b332-492a-cb57-e057b1860f25"
      },
      "source": [
        "#features and targets\n",
        "variety = pino_df\n",
        "y = variety['points']\n",
        "X = variety.drop(columns=winedropcols)\n",
        "X_train, X_test, y_train, y_test = train_test_split(X,y)\n",
        "#init model again\n",
        "rf = RandomForestRegressor(n_estimators=200, random_state=99)\n",
        "rf.fit(X, y)\n",
        "rf.score(X,y)"
      ],
      "execution_count": 40,
      "outputs": [
        {
          "output_type": "execute_result",
          "data": {
            "text/plain": [
              "0.5568064612261503"
            ]
          },
          "metadata": {
            "tags": []
          },
          "execution_count": 40
        }
      ]
    },
    {
      "cell_type": "code",
      "metadata": {
        "id": "Vt6CNH7xAlzS"
      },
      "source": [
        "#using model to predict the counties\n",
        "Xcount = bigcounty.drop(columns=countydrops)\n",
        "pino_preds = rf.predict(Xcount)"
      ],
      "execution_count": 41,
      "outputs": []
    },
    {
      "cell_type": "code",
      "metadata": {
        "colab": {
          "base_uri": "https://localhost:8080/"
        },
        "id": "zUipyjYUJNj8",
        "outputId": "8541a8ba-9a9f-47a2-c383-aeb68ba9f0b9"
      },
      "source": [
        "mer_preds"
      ],
      "execution_count": 68,
      "outputs": [
        {
          "output_type": "execute_result",
          "data": {
            "text/plain": [
              "array([86.79353968, 87.33325496, 86.6014929 , ..., 87.5567399 ,\n",
              "       87.93357738, 87.96945365])"
            ]
          },
          "metadata": {
            "tags": []
          },
          "execution_count": 68
        }
      ]
    },
    {
      "cell_type": "code",
      "metadata": {
        "id": "kn67tSDZAl3L",
        "colab": {
          "base_uri": "https://localhost:8080/",
          "height": 282
        },
        "outputId": "7cef1e2d-1c9e-4a34-bdc0-73f9d24b3db0"
      },
      "source": [
        "counties_link = bigcounty.copy()\n",
        "counties_link['mer_points'] = mer_preds\n",
        "counties_link['syr_points'] = syr_preds\n",
        "counties_link['savyb_points'] = savyb_preds\n",
        "counties_link['ries_points'] = ries_preds\n",
        "counties_link['cabsav_points'] = cabsav_preds\n",
        "counties_link['char_points'] = char_preds\n",
        "counties_link['pinot_points'] = pino_preds\n",
        "counties_predsorg = counties_link.merge(county_ids, how='inner', on='zip')\n",
        "counties_predsorg.head(5)"
      ],
      "execution_count": 76,
      "outputs": [
        {
          "output_type": "execute_result",
          "data": {
            "text/html": [
              "<div>\n",
              "<style scoped>\n",
              "    .dataframe tbody tr th:only-of-type {\n",
              "        vertical-align: middle;\n",
              "    }\n",
              "\n",
              "    .dataframe tbody tr th {\n",
              "        vertical-align: top;\n",
              "    }\n",
              "\n",
              "    .dataframe thead th {\n",
              "        text-align: right;\n",
              "    }\n",
              "</style>\n",
              "<table border=\"1\" class=\"dataframe\">\n",
              "  <thead>\n",
              "    <tr style=\"text-align: right;\">\n",
              "      <th></th>\n",
              "      <th>zip</th>\n",
              "      <th>lat</th>\n",
              "      <th>lng</th>\n",
              "      <th>Average Temperature (Kelvin)</th>\n",
              "      <th>Average Air Pressure (hPa)</th>\n",
              "      <th>Average Humidity (%)</th>\n",
              "      <th>Average Daily Precipitation (mm)</th>\n",
              "      <th>mer_points</th>\n",
              "      <th>syr_points</th>\n",
              "      <th>savyb_points</th>\n",
              "      <th>ries_points</th>\n",
              "      <th>cabsav_points</th>\n",
              "      <th>char_points</th>\n",
              "      <th>pinot_points</th>\n",
              "      <th>city</th>\n",
              "      <th>state_id</th>\n",
              "      <th>state_name</th>\n",
              "      <th>county_name</th>\n",
              "    </tr>\n",
              "  </thead>\n",
              "  <tbody>\n",
              "    <tr>\n",
              "      <th>0</th>\n",
              "      <td>1001</td>\n",
              "      <td>42.06259</td>\n",
              "      <td>-72.62589</td>\n",
              "      <td>283.257967</td>\n",
              "      <td>1016.129560</td>\n",
              "      <td>70.273709</td>\n",
              "      <td>0.126154</td>\n",
              "      <td>86.793540</td>\n",
              "      <td>86.394583</td>\n",
              "      <td>84.610405</td>\n",
              "      <td>87.139362</td>\n",
              "      <td>84.656649</td>\n",
              "      <td>86.251520</td>\n",
              "      <td>89.590490</td>\n",
              "      <td>Agawam</td>\n",
              "      <td>MA</td>\n",
              "      <td>Massachusetts</td>\n",
              "      <td>Hampden</td>\n",
              "    </tr>\n",
              "    <tr>\n",
              "      <th>1</th>\n",
              "      <td>1002</td>\n",
              "      <td>42.37492</td>\n",
              "      <td>-72.46210</td>\n",
              "      <td>283.257967</td>\n",
              "      <td>1016.129560</td>\n",
              "      <td>70.273709</td>\n",
              "      <td>0.126154</td>\n",
              "      <td>87.333255</td>\n",
              "      <td>85.738500</td>\n",
              "      <td>85.196927</td>\n",
              "      <td>88.036993</td>\n",
              "      <td>84.577375</td>\n",
              "      <td>86.496111</td>\n",
              "      <td>90.434877</td>\n",
              "      <td>Amherst</td>\n",
              "      <td>MA</td>\n",
              "      <td>Massachusetts</td>\n",
              "      <td>Hampshire</td>\n",
              "    </tr>\n",
              "    <tr>\n",
              "      <th>2</th>\n",
              "      <td>1005</td>\n",
              "      <td>42.42017</td>\n",
              "      <td>-72.10615</td>\n",
              "      <td>283.368324</td>\n",
              "      <td>1015.384533</td>\n",
              "      <td>69.594835</td>\n",
              "      <td>0.135027</td>\n",
              "      <td>86.601493</td>\n",
              "      <td>86.313833</td>\n",
              "      <td>83.942952</td>\n",
              "      <td>87.257696</td>\n",
              "      <td>85.773633</td>\n",
              "      <td>86.611280</td>\n",
              "      <td>88.517383</td>\n",
              "      <td>Barre</td>\n",
              "      <td>MA</td>\n",
              "      <td>Massachusetts</td>\n",
              "      <td>Worcester</td>\n",
              "    </tr>\n",
              "    <tr>\n",
              "      <th>3</th>\n",
              "      <td>1029</td>\n",
              "      <td>42.19632</td>\n",
              "      <td>-73.04836</td>\n",
              "      <td>283.257967</td>\n",
              "      <td>1016.129560</td>\n",
              "      <td>70.273709</td>\n",
              "      <td>0.126154</td>\n",
              "      <td>86.760220</td>\n",
              "      <td>86.414500</td>\n",
              "      <td>84.589381</td>\n",
              "      <td>87.053820</td>\n",
              "      <td>84.431565</td>\n",
              "      <td>85.984005</td>\n",
              "      <td>89.377765</td>\n",
              "      <td>East Otis</td>\n",
              "      <td>MA</td>\n",
              "      <td>Massachusetts</td>\n",
              "      <td>Berkshire</td>\n",
              "    </tr>\n",
              "    <tr>\n",
              "      <th>4</th>\n",
              "      <td>1054</td>\n",
              "      <td>42.47363</td>\n",
              "      <td>-72.48746</td>\n",
              "      <td>283.257967</td>\n",
              "      <td>1016.129560</td>\n",
              "      <td>70.273709</td>\n",
              "      <td>0.126154</td>\n",
              "      <td>87.372503</td>\n",
              "      <td>85.733000</td>\n",
              "      <td>84.869548</td>\n",
              "      <td>87.046141</td>\n",
              "      <td>84.180292</td>\n",
              "      <td>86.486824</td>\n",
              "      <td>90.454710</td>\n",
              "      <td>Leverett</td>\n",
              "      <td>MA</td>\n",
              "      <td>Massachusetts</td>\n",
              "      <td>Franklin</td>\n",
              "    </tr>\n",
              "  </tbody>\n",
              "</table>\n",
              "</div>"
            ],
            "text/plain": [
              "    zip       lat       lng  ...  state_id     state_name  county_name\n",
              "0  1001  42.06259 -72.62589  ...        MA  Massachusetts      Hampden\n",
              "1  1002  42.37492 -72.46210  ...        MA  Massachusetts    Hampshire\n",
              "2  1005  42.42017 -72.10615  ...        MA  Massachusetts    Worcester\n",
              "3  1029  42.19632 -73.04836  ...        MA  Massachusetts    Berkshire\n",
              "4  1054  42.47363 -72.48746  ...        MA  Massachusetts     Franklin\n",
              "\n",
              "[5 rows x 18 columns]"
            ]
          },
          "metadata": {
            "tags": []
          },
          "execution_count": 76
        }
      ]
    },
    {
      "cell_type": "code",
      "metadata": {
        "colab": {
          "base_uri": "https://localhost:8080/"
        },
        "id": "kMWRPMKtf_Ox",
        "outputId": "773c58c9-1c01-430e-ff25-0f6903cc4e2d"
      },
      "source": [
        "savyb_df['points'].describe()"
      ],
      "execution_count": 78,
      "outputs": [
        {
          "output_type": "execute_result",
          "data": {
            "text/plain": [
              "count    4729.000000\n",
              "mean       87.456122\n",
              "std         2.679951\n",
              "min        80.000000\n",
              "25%        86.000000\n",
              "50%        87.000000\n",
              "75%        89.000000\n",
              "max        96.000000\n",
              "Name: points, dtype: float64"
            ]
          },
          "metadata": {
            "tags": []
          },
          "execution_count": 78
        }
      ]
    },
    {
      "cell_type": "code",
      "metadata": {
        "colab": {
          "base_uri": "https://localhost:8080/",
          "height": 282
        },
        "id": "L9Wd517AK53_",
        "outputId": "38bdf1a9-e8d8-40e4-ce69-c0335e3e9055"
      },
      "source": [
        "counties_linkrnd = bigcounty.copy()\n",
        "counties_linkrnd['mer_points'] = np.rint(mer_preds)\n",
        "counties_linkrnd['syr_points'] = np.rint(syr_preds)\n",
        "counties_linkrnd['savyb_points'] = np.rint(savyb_preds)\n",
        "counties_linkrnd['ries_points'] = np.rint(ries_preds)\n",
        "counties_linkrnd['cabsav_points'] = np.rint(cabsav_preds)\n",
        "counties_linkrnd['char_points'] = np.rint(char_preds)\n",
        "counties_linkrnd['pinot_points'] = np.rint(pino_preds)\n",
        "counties_predsrnd = counties_linkrnd.merge(county_ids, how='inner', on='zip')\n",
        "counties_predsrnd.head(5)"
      ],
      "execution_count": 116,
      "outputs": [
        {
          "output_type": "execute_result",
          "data": {
            "text/html": [
              "<div>\n",
              "<style scoped>\n",
              "    .dataframe tbody tr th:only-of-type {\n",
              "        vertical-align: middle;\n",
              "    }\n",
              "\n",
              "    .dataframe tbody tr th {\n",
              "        vertical-align: top;\n",
              "    }\n",
              "\n",
              "    .dataframe thead th {\n",
              "        text-align: right;\n",
              "    }\n",
              "</style>\n",
              "<table border=\"1\" class=\"dataframe\">\n",
              "  <thead>\n",
              "    <tr style=\"text-align: right;\">\n",
              "      <th></th>\n",
              "      <th>zip</th>\n",
              "      <th>lat</th>\n",
              "      <th>lng</th>\n",
              "      <th>Average Temperature (Kelvin)</th>\n",
              "      <th>Average Air Pressure (hPa)</th>\n",
              "      <th>Average Humidity (%)</th>\n",
              "      <th>Average Daily Precipitation (mm)</th>\n",
              "      <th>mer_points</th>\n",
              "      <th>syr_points</th>\n",
              "      <th>savyb_points</th>\n",
              "      <th>ries_points</th>\n",
              "      <th>cabsav_points</th>\n",
              "      <th>char_points</th>\n",
              "      <th>pinot_points</th>\n",
              "      <th>city</th>\n",
              "      <th>state_id</th>\n",
              "      <th>state_name</th>\n",
              "      <th>county_name</th>\n",
              "    </tr>\n",
              "  </thead>\n",
              "  <tbody>\n",
              "    <tr>\n",
              "      <th>0</th>\n",
              "      <td>1001</td>\n",
              "      <td>42.06259</td>\n",
              "      <td>-72.62589</td>\n",
              "      <td>283.257967</td>\n",
              "      <td>1016.129560</td>\n",
              "      <td>70.273709</td>\n",
              "      <td>0.126154</td>\n",
              "      <td>87.0</td>\n",
              "      <td>86.0</td>\n",
              "      <td>85.0</td>\n",
              "      <td>87.0</td>\n",
              "      <td>85.0</td>\n",
              "      <td>86.0</td>\n",
              "      <td>90.0</td>\n",
              "      <td>Agawam</td>\n",
              "      <td>MA</td>\n",
              "      <td>Massachusetts</td>\n",
              "      <td>Hampden</td>\n",
              "    </tr>\n",
              "    <tr>\n",
              "      <th>1</th>\n",
              "      <td>1002</td>\n",
              "      <td>42.37492</td>\n",
              "      <td>-72.46210</td>\n",
              "      <td>283.257967</td>\n",
              "      <td>1016.129560</td>\n",
              "      <td>70.273709</td>\n",
              "      <td>0.126154</td>\n",
              "      <td>87.0</td>\n",
              "      <td>86.0</td>\n",
              "      <td>85.0</td>\n",
              "      <td>88.0</td>\n",
              "      <td>85.0</td>\n",
              "      <td>86.0</td>\n",
              "      <td>90.0</td>\n",
              "      <td>Amherst</td>\n",
              "      <td>MA</td>\n",
              "      <td>Massachusetts</td>\n",
              "      <td>Hampshire</td>\n",
              "    </tr>\n",
              "    <tr>\n",
              "      <th>2</th>\n",
              "      <td>1005</td>\n",
              "      <td>42.42017</td>\n",
              "      <td>-72.10615</td>\n",
              "      <td>283.368324</td>\n",
              "      <td>1015.384533</td>\n",
              "      <td>69.594835</td>\n",
              "      <td>0.135027</td>\n",
              "      <td>87.0</td>\n",
              "      <td>86.0</td>\n",
              "      <td>84.0</td>\n",
              "      <td>87.0</td>\n",
              "      <td>86.0</td>\n",
              "      <td>87.0</td>\n",
              "      <td>89.0</td>\n",
              "      <td>Barre</td>\n",
              "      <td>MA</td>\n",
              "      <td>Massachusetts</td>\n",
              "      <td>Worcester</td>\n",
              "    </tr>\n",
              "    <tr>\n",
              "      <th>3</th>\n",
              "      <td>1029</td>\n",
              "      <td>42.19632</td>\n",
              "      <td>-73.04836</td>\n",
              "      <td>283.257967</td>\n",
              "      <td>1016.129560</td>\n",
              "      <td>70.273709</td>\n",
              "      <td>0.126154</td>\n",
              "      <td>87.0</td>\n",
              "      <td>86.0</td>\n",
              "      <td>85.0</td>\n",
              "      <td>87.0</td>\n",
              "      <td>84.0</td>\n",
              "      <td>86.0</td>\n",
              "      <td>89.0</td>\n",
              "      <td>East Otis</td>\n",
              "      <td>MA</td>\n",
              "      <td>Massachusetts</td>\n",
              "      <td>Berkshire</td>\n",
              "    </tr>\n",
              "    <tr>\n",
              "      <th>4</th>\n",
              "      <td>1054</td>\n",
              "      <td>42.47363</td>\n",
              "      <td>-72.48746</td>\n",
              "      <td>283.257967</td>\n",
              "      <td>1016.129560</td>\n",
              "      <td>70.273709</td>\n",
              "      <td>0.126154</td>\n",
              "      <td>87.0</td>\n",
              "      <td>86.0</td>\n",
              "      <td>85.0</td>\n",
              "      <td>87.0</td>\n",
              "      <td>84.0</td>\n",
              "      <td>86.0</td>\n",
              "      <td>90.0</td>\n",
              "      <td>Leverett</td>\n",
              "      <td>MA</td>\n",
              "      <td>Massachusetts</td>\n",
              "      <td>Franklin</td>\n",
              "    </tr>\n",
              "  </tbody>\n",
              "</table>\n",
              "</div>"
            ],
            "text/plain": [
              "    zip       lat       lng  ...  state_id     state_name  county_name\n",
              "0  1001  42.06259 -72.62589  ...        MA  Massachusetts      Hampden\n",
              "1  1002  42.37492 -72.46210  ...        MA  Massachusetts    Hampshire\n",
              "2  1005  42.42017 -72.10615  ...        MA  Massachusetts    Worcester\n",
              "3  1029  42.19632 -73.04836  ...        MA  Massachusetts    Berkshire\n",
              "4  1054  42.47363 -72.48746  ...        MA  Massachusetts     Franklin\n",
              "\n",
              "[5 rows x 18 columns]"
            ]
          },
          "metadata": {
            "tags": []
          },
          "execution_count": 116
        }
      ]
    },
    {
      "cell_type": "code",
      "metadata": {
        "id": "ibeCn7A1kHbn"
      },
      "source": [
        "counties_predsorg.to_csv('counties_logisticpreds_org.csv')\n",
        "counties_predsorg.to_json('counties_logisticpreds_org.json')\n",
        "counties_predsrnd.to_csv('counties_logisticpreds_rnd.csv')\n",
        "counties_predsrnd.to_json('counties_logisticpreds_rnd.json')"
      ],
      "execution_count": 119,
      "outputs": []
    },
    {
      "cell_type": "code",
      "metadata": {
        "id": "wON1OxiDkHfQ",
        "colab": {
          "base_uri": "https://localhost:8080/"
        },
        "outputId": "52579a22-fe74-4ceb-d76d-4c76f06d1048"
      },
      "source": [
        "machinecols = [ 'mer_points', 'syr_points',\n",
        "       'savyb_points', 'ries_points', 'cabsav_points', 'char_points',\n",
        "       'pinot_points']\n",
        "for x in machinecols:\n",
        "  print(counties_predsrnd[x].value_counts())"
      ],
      "execution_count": 120,
      "outputs": [
        {
          "output_type": "stream",
          "text": [
            "86.0    544\n",
            "85.0    445\n",
            "87.0    334\n",
            "88.0    159\n",
            "84.0    134\n",
            "89.0    112\n",
            "82.0     33\n",
            "83.0     31\n",
            "90.0      4\n",
            "Name: mer_points, dtype: int64\n",
            "87.0    453\n",
            "88.0    433\n",
            "89.0    332\n",
            "86.0    223\n",
            "90.0    131\n",
            "85.0    113\n",
            "91.0     67\n",
            "84.0     22\n",
            "83.0     16\n",
            "92.0      6\n",
            "Name: syr_points, dtype: int64\n",
            "86.0    520\n",
            "87.0    518\n",
            "88.0    311\n",
            "85.0    303\n",
            "84.0     69\n",
            "89.0     39\n",
            "83.0     14\n",
            "90.0     13\n",
            "91.0      9\n",
            "Name: savyb_points, dtype: int64\n",
            "87.0    738\n",
            "86.0    429\n",
            "88.0    254\n",
            "85.0    190\n",
            "89.0    106\n",
            "84.0     52\n",
            "90.0     24\n",
            "83.0      2\n",
            "82.0      1\n",
            "Name: ries_points, dtype: int64\n",
            "87.0    471\n",
            "88.0    414\n",
            "86.0    345\n",
            "89.0    224\n",
            "85.0    158\n",
            "90.0     88\n",
            "84.0     56\n",
            "91.0     20\n",
            "83.0      7\n",
            "82.0      7\n",
            "93.0      4\n",
            "92.0      2\n",
            "Name: cabsav_points, dtype: int64\n",
            "87.0    481\n",
            "86.0    398\n",
            "85.0    290\n",
            "88.0    287\n",
            "89.0    149\n",
            "84.0    101\n",
            "90.0     31\n",
            "83.0     30\n",
            "91.0     21\n",
            "82.0      7\n",
            "92.0      1\n",
            "Name: char_points, dtype: int64\n",
            "87.0    522\n",
            "88.0    454\n",
            "86.0    286\n",
            "89.0    192\n",
            "90.0    136\n",
            "85.0     87\n",
            "91.0     73\n",
            "84.0     27\n",
            "92.0     19\n",
            "Name: pinot_points, dtype: int64\n"
          ],
          "name": "stdout"
        }
      ]
    },
    {
      "cell_type": "code",
      "metadata": {
        "id": "XRMRV5XrAmGK"
      },
      "source": [
        "#counties_preds.to_csv('county_predictions.csv')\n",
        "#counties_preds.to_json('county_predictions.json')"
      ],
      "execution_count": 46,
      "outputs": []
    },
    {
      "cell_type": "code",
      "metadata": {
        "id": "iAS97wguAmJ4"
      },
      "source": [
        "#spark_counties = spark.createDataFrame(counties_preds)\n",
        "#spark_counties.show()"
      ],
      "execution_count": 47,
      "outputs": []
    },
    {
      "cell_type": "code",
      "metadata": {
        "id": "gIL0N7FVAPQy"
      },
      "source": [
        "#spark_counties.write.jdbc(url=jdbc_url, table='county_predictions', mode=mode, properties=config)"
      ],
      "execution_count": 48,
      "outputs": []
    },
    {
      "cell_type": "code",
      "metadata": {
        "id": "sfyfK9Ov0Ugf"
      },
      "source": [
        "#sparked_preds = spark.read.jdbc(url=jdbc_url, table='county_predictions', properties=config)"
      ],
      "execution_count": 49,
      "outputs": []
    },
    {
      "cell_type": "code",
      "metadata": {
        "id": "oZ_v44oe0bmg"
      },
      "source": [
        "#sparked_preds.show()"
      ],
      "execution_count": 50,
      "outputs": []
    },
    {
      "cell_type": "code",
      "metadata": {
        "id": "3_DHlPOh1O-o"
      },
      "source": [
        "#winners_df = pd.DataFrame(sparked_preds.select('zip','lat','lng','state_id','county_name','mer_success','rose_success','syr_success','savyb_success','ries_success','cabsav_success','char_success','pinot_success').collect(), columns=['zip','lat','lng','state','county_name','mer_success','rose_success','syr_success','savyb_success','ries_success','cabsav_success','char_success','pinot_success'], dtype=float)\n",
        "#winners_df.describe()"
      ],
      "execution_count": 51,
      "outputs": []
    },
    {
      "cell_type": "code",
      "metadata": {
        "id": "OMMF9B9PngPJ"
      },
      "source": [
        "#winners_df.columns"
      ],
      "execution_count": 52,
      "outputs": []
    },
    {
      "cell_type": "code",
      "metadata": {
        "id": "VjdZ1xDloCk-"
      },
      "source": [
        "#winners_df"
      ],
      "execution_count": 53,
      "outputs": []
    },
    {
      "cell_type": "code",
      "metadata": {
        "id": "BrIcwIChn_Ui"
      },
      "source": [
        "#winners_df['mer_success'].value_counts()"
      ],
      "execution_count": 54,
      "outputs": []
    }
  ]
}