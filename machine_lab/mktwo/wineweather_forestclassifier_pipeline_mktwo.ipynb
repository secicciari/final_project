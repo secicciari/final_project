{
  "nbformat": 4,
  "nbformat_minor": 0,
  "metadata": {
    "colab": {
      "name": "wineweather_forestclassifier_pipeline_mktwo.ipynb",
      "provenance": [],
      "collapsed_sections": []
    },
    "kernelspec": {
      "name": "python3",
      "display_name": "Python 3"
    },
    "language_info": {
      "name": "python"
    }
  },
  "cells": [
    {
      "cell_type": "code",
      "metadata": {
        "colab": {
          "base_uri": "https://localhost:8080/"
        },
        "id": "g1EZ04H39K0x",
        "outputId": "f50a9c59-4f84-4109-c178-19e73253606c"
      },
      "source": [
        "# Initial imports.\n",
        "import pandas as pd\n",
        "import numpy as np\n",
        "from numpy import random\n",
        "import os\n",
        "from sklearn.ensemble import RandomForestClassifier\n",
        "from sklearn.preprocessing import StandardScaler\n",
        "from sklearn.model_selection import train_test_split\n",
        "from sklearn.metrics import confusion_matrix, accuracy_score, classification_report\n",
        "\n",
        "# Import RDS password\n",
        "from config import rds_pwd\n",
        "\n",
        "import os\n",
        "# Find the latest version of spark 2.0  from http://www-us.apache.org/dist/spark/ and enter as the spark version\n",
        "spark_version = 'spark-3.0.2'\n",
        "os.environ['SPARK_VERSION']=spark_version\n",
        "\n",
        "# Install Spark and Java\n",
        "!apt-get update\n",
        "!apt-get install openjdk-11-jdk-headless -qq > /dev/null\n",
        "!wget -q http://www-us.apache.org/dist/spark/$SPARK_VERSION/$SPARK_VERSION-bin-hadoop2.7.tgz\n",
        "!tar xf $SPARK_VERSION-bin-hadoop2.7.tgz\n",
        "!pip install -q findspark\n",
        "\n",
        "# Set Environment Variables\n",
        "import os\n",
        "os.environ[\"JAVA_HOME\"] = \"/usr/lib/jvm/java-11-openjdk-amd64\"\n",
        "os.environ[\"SPARK_HOME\"] = f\"/content/{spark_version}-bin-hadoop2.7\"\n",
        "\n",
        "# Start a SparkSession\n",
        "import findspark\n",
        "findspark.init()\n",
        "\n",
        "spark_version = 'spark-3.0.2'\n",
        "os.environ['SPARK_VERSION']=spark_version\n",
        "\n",
        "# Install Spark and Java\n",
        "!apt-get update\n",
        "!apt-get install openjdk-11-jdk-headless -qq > /dev/null\n",
        "!wget -q http://www-us.apache.org/dist/spark/$SPARK_VERSION/$SPARK_VERSION-bin-hadoop2.7.tgz\n",
        "!tar xf $SPARK_VERSION-bin-hadoop2.7.tgz\n",
        "!pip install -q findspark\n",
        "\n",
        "# Set Environment Variables\n",
        "import os\n",
        "os.environ[\"JAVA_HOME\"] = \"/usr/lib/jvm/java-11-openjdk-amd64\"\n",
        "os.environ[\"SPARK_HOME\"] = f\"/content/{spark_version}-bin-hadoop2.7\"\n",
        "\n",
        "# Start a SparkSession\n",
        "import findspark\n",
        "findspark.init()"
      ],
      "execution_count": 1,
      "outputs": [
        {
          "output_type": "stream",
          "text": [
            "\r0% [Working]\r            \rGet:1 http://security.ubuntu.com/ubuntu bionic-security InRelease [88.7 kB]\n",
            "\r0% [Connecting to archive.ubuntu.com] [1 InRelease 14.2 kB/88.7 kB 16%] [Connec\r                                                                               \rGet:2 https://cloud.r-project.org/bin/linux/ubuntu bionic-cran40/ InRelease [3,626 B]\n",
            "\r0% [Connecting to archive.ubuntu.com] [1 InRelease 14.2 kB/88.7 kB 16%] [2 InRe\r0% [Connecting to archive.ubuntu.com] [1 InRelease 43.1 kB/88.7 kB 49%] [Connec\r0% [2 InRelease gpgv 3,626 B] [Connecting to archive.ubuntu.com] [1 InRelease 4\r0% [2 InRelease gpgv 3,626 B] [Connecting to archive.ubuntu.com] [Connecting to\r                                                                               \rIgn:3 https://developer.download.nvidia.com/compute/cuda/repos/ubuntu1804/x86_64  InRelease\n",
            "Get:4 http://ppa.launchpad.net/c2d4u.team/c2d4u4.0+/ubuntu bionic InRelease [15.9 kB]\n",
            "Ign:5 https://developer.download.nvidia.com/compute/machine-learning/repos/ubuntu1804/x86_64  InRelease\n",
            "Get:6 https://developer.download.nvidia.com/compute/cuda/repos/ubuntu1804/x86_64  Release [697 B]\n",
            "Hit:7 https://developer.download.nvidia.com/compute/machine-learning/repos/ubuntu1804/x86_64  Release\n",
            "Get:8 https://developer.download.nvidia.com/compute/cuda/repos/ubuntu1804/x86_64  Release.gpg [836 B]\n",
            "Hit:9 http://archive.ubuntu.com/ubuntu bionic InRelease\n",
            "Get:10 http://archive.ubuntu.com/ubuntu bionic-updates InRelease [88.7 kB]\n",
            "Get:11 https://cloud.r-project.org/bin/linux/ubuntu bionic-cran40/ Packages [60.9 kB]\n",
            "Hit:12 http://ppa.launchpad.net/cran/libgit2/ubuntu bionic InRelease\n",
            "Hit:13 http://ppa.launchpad.net/deadsnakes/ppa/ubuntu bionic InRelease\n",
            "Get:14 http://archive.ubuntu.com/ubuntu bionic-backports InRelease [74.6 kB]\n",
            "Get:15 http://security.ubuntu.com/ubuntu bionic-security/restricted amd64 Packages [423 kB]\n",
            "Get:16 http://security.ubuntu.com/ubuntu bionic-security/main amd64 Packages [2,152 kB]\n",
            "Get:17 http://ppa.launchpad.net/graphics-drivers/ppa/ubuntu bionic InRelease [21.3 kB]\n",
            "Get:18 http://security.ubuntu.com/ubuntu bionic-security/universe amd64 Packages [1,412 kB]\n",
            "Ign:20 https://developer.download.nvidia.com/compute/cuda/repos/ubuntu1804/x86_64  Packages\n",
            "Get:20 https://developer.download.nvidia.com/compute/cuda/repos/ubuntu1804/x86_64  Packages [798 kB]\n",
            "Get:21 http://ppa.launchpad.net/c2d4u.team/c2d4u4.0+/ubuntu bionic/main Sources [1,769 kB]\n",
            "Get:22 http://archive.ubuntu.com/ubuntu bionic-updates/universe amd64 Packages [2,183 kB]\n",
            "Get:23 http://ppa.launchpad.net/c2d4u.team/c2d4u4.0+/ubuntu bionic/main amd64 Packages [905 kB]\n",
            "Get:24 http://archive.ubuntu.com/ubuntu bionic-updates/main amd64 Packages [2,583 kB]\n",
            "Get:25 http://archive.ubuntu.com/ubuntu bionic-updates/restricted amd64 Packages [452 kB]\n",
            "Get:26 http://ppa.launchpad.net/graphics-drivers/ppa/ubuntu bionic/main amd64 Packages [41.5 kB]\n",
            "Fetched 13.1 MB in 3s (3,837 kB/s)\n",
            "Reading package lists... Done\n",
            "Hit:1 https://cloud.r-project.org/bin/linux/ubuntu bionic-cran40/ InRelease\n",
            "Hit:2 http://security.ubuntu.com/ubuntu bionic-security InRelease\n",
            "Ign:3 https://developer.download.nvidia.com/compute/cuda/repos/ubuntu1804/x86_64  InRelease\n",
            "Hit:4 http://ppa.launchpad.net/c2d4u.team/c2d4u4.0+/ubuntu bionic InRelease\n",
            "Hit:5 http://archive.ubuntu.com/ubuntu bionic InRelease\n",
            "Ign:6 https://developer.download.nvidia.com/compute/machine-learning/repos/ubuntu1804/x86_64  InRelease\n",
            "Hit:7 https://developer.download.nvidia.com/compute/cuda/repos/ubuntu1804/x86_64  Release\n",
            "Hit:8 https://developer.download.nvidia.com/compute/machine-learning/repos/ubuntu1804/x86_64  Release\n",
            "Hit:9 http://archive.ubuntu.com/ubuntu bionic-updates InRelease\n",
            "Hit:10 http://ppa.launchpad.net/cran/libgit2/ubuntu bionic InRelease\n",
            "Hit:11 http://archive.ubuntu.com/ubuntu bionic-backports InRelease\n",
            "Hit:12 http://ppa.launchpad.net/deadsnakes/ppa/ubuntu bionic InRelease\n",
            "Hit:13 http://ppa.launchpad.net/graphics-drivers/ppa/ubuntu bionic InRelease\n",
            "Reading package lists... Done\n"
          ],
          "name": "stdout"
        }
      ]
    },
    {
      "cell_type": "code",
      "metadata": {
        "colab": {
          "base_uri": "https://localhost:8080/"
        },
        "id": "CPiGPttMJvYO",
        "outputId": "394351e6-6a8d-4ad0-f33b-349ff45f81c1"
      },
      "source": [
        "# Download the Postgres driver that will allow Spark to interact with Postgres.\n",
        "!wget https://jdbc.postgresql.org/download/postgresql-42.2.16.jar"
      ],
      "execution_count": 2,
      "outputs": [
        {
          "output_type": "stream",
          "text": [
            "--2021-05-25 23:13:54--  https://jdbc.postgresql.org/download/postgresql-42.2.16.jar\n",
            "Resolving jdbc.postgresql.org (jdbc.postgresql.org)... 72.32.157.228, 2001:4800:3e1:1::228\n",
            "Connecting to jdbc.postgresql.org (jdbc.postgresql.org)|72.32.157.228|:443... connected.\n",
            "HTTP request sent, awaiting response... 200 OK\n",
            "Length: 1002883 (979K) [application/java-archive]\n",
            "Saving to: ‘postgresql-42.2.16.jar’\n",
            "\n",
            "postgresql-42.2.16. 100%[===================>] 979.38K  5.78MB/s    in 0.2s    \n",
            "\n",
            "2021-05-25 23:13:55 (5.78 MB/s) - ‘postgresql-42.2.16.jar’ saved [1002883/1002883]\n",
            "\n"
          ],
          "name": "stdout"
        }
      ]
    },
    {
      "cell_type": "code",
      "metadata": {
        "id": "RM36-lu38F8q"
      },
      "source": [
        "from pyspark.sql import SparkSession\n",
        "spark = SparkSession.builder.appName(\"Wine-Project\").config(\"spark.driver.extraClassPath\",\"/content/postgresql-42.2.16.jar\").getOrCreate()"
      ],
      "execution_count": 3,
      "outputs": []
    },
    {
      "cell_type": "code",
      "metadata": {
        "id": "ev4fvY58-xwS"
      },
      "source": [
        "# Configure settings for RDS\n",
        "mode = \"append\"\n",
        "#jdbc_url=\"jdbc:postgresql://<connection string>:5432/<database-name>\"\n",
        "jdbc_url=\"jdbc:postgresql://wine-final-project.czqkltznl3rl.us-east-2.rds.amazonaws.com/winedb\"\n",
        "#config = {\"user\":\"postgres\",\n",
        "          #\"password\": \"<password>\",\n",
        "          #\"driver\":\"org.postgresql.Driver\"}\n",
        "config = {\"user\":\"wineuser\",\n",
        "          \"password\": rds_pwd,\n",
        "          \"driver\":\"org.postgresql.Driver\"}"
      ],
      "execution_count": 4,
      "outputs": []
    },
    {
      "cell_type": "code",
      "metadata": {
        "id": "ag7P8QDBHvqt",
        "colab": {
          "base_uri": "https://localhost:8080/",
          "height": 320
        },
        "outputId": "128ab469-fa26-4e71-9504-2704d6070362"
      },
      "source": [
        "wineweather = pd.read_csv('/content/weather_scaled_updated.csv', index_col=0)\n",
        "wineweather.head(4)"
      ],
      "execution_count": 5,
      "outputs": [
        {
          "output_type": "execute_result",
          "data": {
            "text/html": [
              "<div>\n",
              "<style scoped>\n",
              "    .dataframe tbody tr th:only-of-type {\n",
              "        vertical-align: middle;\n",
              "    }\n",
              "\n",
              "    .dataframe tbody tr th {\n",
              "        vertical-align: top;\n",
              "    }\n",
              "\n",
              "    .dataframe thead th {\n",
              "        text-align: right;\n",
              "    }\n",
              "</style>\n",
              "<table border=\"1\" class=\"dataframe\">\n",
              "  <thead>\n",
              "    <tr style=\"text-align: right;\">\n",
              "      <th></th>\n",
              "      <th>winery</th>\n",
              "      <th>country</th>\n",
              "      <th>points</th>\n",
              "      <th>variety</th>\n",
              "      <th>winery_search</th>\n",
              "      <th>latitude</th>\n",
              "      <th>longitude</th>\n",
              "      <th>Average Temperature (Kelvin)</th>\n",
              "      <th>Average Air Pressure (hPa)</th>\n",
              "      <th>Average Humidity (%)</th>\n",
              "      <th>Average Daily Precipitation (mm)</th>\n",
              "    </tr>\n",
              "  </thead>\n",
              "  <tbody>\n",
              "    <tr>\n",
              "      <th>0</th>\n",
              "      <td>St. Julian</td>\n",
              "      <td>US</td>\n",
              "      <td>87</td>\n",
              "      <td>Riesling</td>\n",
              "      <td>St. Julian winery US</td>\n",
              "      <td>42.212251</td>\n",
              "      <td>-85.891713</td>\n",
              "      <td>283.486181</td>\n",
              "      <td>1016.253874</td>\n",
              "      <td>73.468022</td>\n",
              "      <td>0.118022</td>\n",
              "    </tr>\n",
              "    <tr>\n",
              "      <th>1</th>\n",
              "      <td>Sweet Cheeks</td>\n",
              "      <td>US</td>\n",
              "      <td>87</td>\n",
              "      <td>Pinot Noir</td>\n",
              "      <td>Sweet Cheeks winery US</td>\n",
              "      <td>43.956670</td>\n",
              "      <td>-123.279135</td>\n",
              "      <td>284.928462</td>\n",
              "      <td>1016.972170</td>\n",
              "      <td>75.501813</td>\n",
              "      <td>0.108269</td>\n",
              "    </tr>\n",
              "    <tr>\n",
              "      <th>2</th>\n",
              "      <td>Kirkland Signature</td>\n",
              "      <td>US</td>\n",
              "      <td>87</td>\n",
              "      <td>Cabernet Sauvignon</td>\n",
              "      <td>Kirkland Signature winery US</td>\n",
              "      <td>35.896713</td>\n",
              "      <td>-84.140546</td>\n",
              "      <td>288.217995</td>\n",
              "      <td>1017.277418</td>\n",
              "      <td>74.106346</td>\n",
              "      <td>0.129918</td>\n",
              "    </tr>\n",
              "    <tr>\n",
              "      <th>3</th>\n",
              "      <td>Louis M. Martini</td>\n",
              "      <td>US</td>\n",
              "      <td>87</td>\n",
              "      <td>Cabernet Sauvignon</td>\n",
              "      <td>Louis M. Martini winery US</td>\n",
              "      <td>38.491708</td>\n",
              "      <td>-122.452308</td>\n",
              "      <td>287.733599</td>\n",
              "      <td>1015.947830</td>\n",
              "      <td>74.851236</td>\n",
              "      <td>0.076868</td>\n",
              "    </tr>\n",
              "  </tbody>\n",
              "</table>\n",
              "</div>"
            ],
            "text/plain": [
              "               winery  ... Average Daily Precipitation (mm)\n",
              "0          St. Julian  ...                         0.118022\n",
              "1        Sweet Cheeks  ...                         0.108269\n",
              "2  Kirkland Signature  ...                         0.129918\n",
              "3    Louis M. Martini  ...                         0.076868\n",
              "\n",
              "[4 rows x 11 columns]"
            ]
          },
          "metadata": {
            "tags": []
          },
          "execution_count": 5
        }
      ]
    },
    {
      "cell_type": "code",
      "metadata": {
        "colab": {
          "base_uri": "https://localhost:8080/"
        },
        "id": "6TBtbadwmaZ_",
        "outputId": "48fb0eec-d0f3-49fa-a1c1-87eeb370e04d"
      },
      "source": [
        "wineweather.dtypes"
      ],
      "execution_count": 6,
      "outputs": [
        {
          "output_type": "execute_result",
          "data": {
            "text/plain": [
              "winery                               object\n",
              "country                              object\n",
              "points                                int64\n",
              "variety                              object\n",
              "winery_search                        object\n",
              "latitude                            float64\n",
              "longitude                           float64\n",
              "Average Temperature (Kelvin)        float64\n",
              "Average Air Pressure (hPa)          float64\n",
              "Average Humidity (%)                float64\n",
              "Average Daily Precipitation (mm)    float64\n",
              "dtype: object"
            ]
          },
          "metadata": {
            "tags": []
          },
          "execution_count": 6
        }
      ]
    },
    {
      "cell_type": "code",
      "metadata": {
        "colab": {
          "base_uri": "https://localhost:8080/",
          "height": 210
        },
        "id": "R7aJMuipQvqo",
        "outputId": "de65e959-05d7-4a79-efcd-b57e02157531"
      },
      "source": [
        "allwines = wineweather.drop(columns=['winery'])\n",
        "uswinedata = wineweather[wineweather['country'] == 'US'].drop(columns=['winery','country'])\n",
        "allwines['success'] = allwines.apply(lambda row: row.points >= 90, axis=1)\n",
        "allwines.head(2)"
      ],
      "execution_count": 58,
      "outputs": [
        {
          "output_type": "execute_result",
          "data": {
            "text/html": [
              "<div>\n",
              "<style scoped>\n",
              "    .dataframe tbody tr th:only-of-type {\n",
              "        vertical-align: middle;\n",
              "    }\n",
              "\n",
              "    .dataframe tbody tr th {\n",
              "        vertical-align: top;\n",
              "    }\n",
              "\n",
              "    .dataframe thead th {\n",
              "        text-align: right;\n",
              "    }\n",
              "</style>\n",
              "<table border=\"1\" class=\"dataframe\">\n",
              "  <thead>\n",
              "    <tr style=\"text-align: right;\">\n",
              "      <th></th>\n",
              "      <th>country</th>\n",
              "      <th>points</th>\n",
              "      <th>variety</th>\n",
              "      <th>winery_search</th>\n",
              "      <th>latitude</th>\n",
              "      <th>longitude</th>\n",
              "      <th>Average Temperature (Kelvin)</th>\n",
              "      <th>Average Air Pressure (hPa)</th>\n",
              "      <th>Average Humidity (%)</th>\n",
              "      <th>Average Daily Precipitation (mm)</th>\n",
              "      <th>success</th>\n",
              "    </tr>\n",
              "  </thead>\n",
              "  <tbody>\n",
              "    <tr>\n",
              "      <th>0</th>\n",
              "      <td>US</td>\n",
              "      <td>87</td>\n",
              "      <td>Riesling</td>\n",
              "      <td>St. Julian winery US</td>\n",
              "      <td>42.212251</td>\n",
              "      <td>-85.891713</td>\n",
              "      <td>283.486181</td>\n",
              "      <td>1016.253874</td>\n",
              "      <td>73.468022</td>\n",
              "      <td>0.118022</td>\n",
              "      <td>False</td>\n",
              "    </tr>\n",
              "    <tr>\n",
              "      <th>1</th>\n",
              "      <td>US</td>\n",
              "      <td>87</td>\n",
              "      <td>Pinot Noir</td>\n",
              "      <td>Sweet Cheeks winery US</td>\n",
              "      <td>43.956670</td>\n",
              "      <td>-123.279135</td>\n",
              "      <td>284.928462</td>\n",
              "      <td>1016.972170</td>\n",
              "      <td>75.501813</td>\n",
              "      <td>0.108269</td>\n",
              "      <td>False</td>\n",
              "    </tr>\n",
              "  </tbody>\n",
              "</table>\n",
              "</div>"
            ],
            "text/plain": [
              "  country  points  ... Average Daily Precipitation (mm) success\n",
              "0      US      87  ...                         0.118022   False\n",
              "1      US      87  ...                         0.108269   False\n",
              "\n",
              "[2 rows x 11 columns]"
            ]
          },
          "metadata": {
            "tags": []
          },
          "execution_count": 58
        }
      ]
    },
    {
      "cell_type": "code",
      "metadata": {
        "colab": {
          "base_uri": "https://localhost:8080/"
        },
        "id": "CKD43VAu4AuK",
        "outputId": "82632a48-7778-48ae-d070-b4887194ff02"
      },
      "source": [
        "allwines.columns"
      ],
      "execution_count": 59,
      "outputs": [
        {
          "output_type": "execute_result",
          "data": {
            "text/plain": [
              "Index(['country', 'points', 'variety', 'winery_search', 'latitude',\n",
              "       'longitude', 'Average Temperature (Kelvin)',\n",
              "       'Average Air Pressure (hPa)', 'Average Humidity (%)',\n",
              "       'Average Daily Precipitation (mm)', 'success'],\n",
              "      dtype='object')"
            ]
          },
          "metadata": {
            "tags": []
          },
          "execution_count": 59
        }
      ]
    },
    {
      "cell_type": "code",
      "metadata": {
        "colab": {
          "base_uri": "https://localhost:8080/",
          "height": 177
        },
        "id": "QNWusI7bFFlw",
        "outputId": "84c219f8-7641-4bae-c940-986b9a829a97"
      },
      "source": [
        "county_weath = pd.read_csv('/content/uscounty_weather_v2.csv', index_col=0).dropna()\n",
        "county_weath.head(2)"
      ],
      "execution_count": 62,
      "outputs": [
        {
          "output_type": "execute_result",
          "data": {
            "text/html": [
              "<div>\n",
              "<style scoped>\n",
              "    .dataframe tbody tr th:only-of-type {\n",
              "        vertical-align: middle;\n",
              "    }\n",
              "\n",
              "    .dataframe tbody tr th {\n",
              "        vertical-align: top;\n",
              "    }\n",
              "\n",
              "    .dataframe thead th {\n",
              "        text-align: right;\n",
              "    }\n",
              "</style>\n",
              "<table border=\"1\" class=\"dataframe\">\n",
              "  <thead>\n",
              "    <tr style=\"text-align: right;\">\n",
              "      <th></th>\n",
              "      <th>zip</th>\n",
              "      <th>lat</th>\n",
              "      <th>lng</th>\n",
              "      <th>city</th>\n",
              "      <th>state_id</th>\n",
              "      <th>state_name</th>\n",
              "      <th>county_name</th>\n",
              "      <th>Average Temperature (Kelvin)</th>\n",
              "      <th>Average Air Pressure (hPa)</th>\n",
              "      <th>Average Humidity (%)</th>\n",
              "      <th>Average Daily Precipitation (mm)</th>\n",
              "    </tr>\n",
              "  </thead>\n",
              "  <tbody>\n",
              "    <tr>\n",
              "      <th>0</th>\n",
              "      <td>1001</td>\n",
              "      <td>42.06259</td>\n",
              "      <td>-72.62589</td>\n",
              "      <td>Agawam</td>\n",
              "      <td>MA</td>\n",
              "      <td>Massachusetts</td>\n",
              "      <td>Hampden</td>\n",
              "      <td>283.257967</td>\n",
              "      <td>1016.12956</td>\n",
              "      <td>70.273709</td>\n",
              "      <td>0.126154</td>\n",
              "    </tr>\n",
              "    <tr>\n",
              "      <th>1</th>\n",
              "      <td>1002</td>\n",
              "      <td>42.37492</td>\n",
              "      <td>-72.46210</td>\n",
              "      <td>Amherst</td>\n",
              "      <td>MA</td>\n",
              "      <td>Massachusetts</td>\n",
              "      <td>Hampshire</td>\n",
              "      <td>283.257967</td>\n",
              "      <td>1016.12956</td>\n",
              "      <td>70.273709</td>\n",
              "      <td>0.126154</td>\n",
              "    </tr>\n",
              "  </tbody>\n",
              "</table>\n",
              "</div>"
            ],
            "text/plain": [
              "    zip       lat  ...  Average Humidity (%) Average Daily Precipitation (mm)\n",
              "0  1001  42.06259  ...             70.273709                         0.126154\n",
              "1  1002  42.37492  ...             70.273709                         0.126154\n",
              "\n",
              "[2 rows x 11 columns]"
            ]
          },
          "metadata": {
            "tags": []
          },
          "execution_count": 62
        }
      ]
    },
    {
      "cell_type": "code",
      "metadata": {
        "colab": {
          "base_uri": "https://localhost:8080/"
        },
        "id": "IpLEpPJDv9gU",
        "outputId": "85119111-7eba-4f86-c100-519c05f58c77"
      },
      "source": [
        "county_weath.dtypes"
      ],
      "execution_count": 63,
      "outputs": [
        {
          "output_type": "execute_result",
          "data": {
            "text/plain": [
              "zip                                   int64\n",
              "lat                                 float64\n",
              "lng                                 float64\n",
              "city                                 object\n",
              "state_id                             object\n",
              "state_name                           object\n",
              "county_name                          object\n",
              "Average Temperature (Kelvin)        float64\n",
              "Average Air Pressure (hPa)          float64\n",
              "Average Humidity (%)                float64\n",
              "Average Daily Precipitation (mm)    float64\n",
              "dtype: object"
            ]
          },
          "metadata": {
            "tags": []
          },
          "execution_count": 63
        }
      ]
    },
    {
      "cell_type": "code",
      "metadata": {
        "colab": {
          "base_uri": "https://localhost:8080/"
        },
        "id": "0DJ_lE4I2K-h",
        "outputId": "91887dff-e271-41f7-eb3f-07f1c1b21c2c"
      },
      "source": [
        "len(county_weath)"
      ],
      "execution_count": 64,
      "outputs": [
        {
          "output_type": "execute_result",
          "data": {
            "text/plain": [
              "1796"
            ]
          },
          "metadata": {
            "tags": []
          },
          "execution_count": 64
        }
      ]
    },
    {
      "cell_type": "code",
      "metadata": {
        "colab": {
          "base_uri": "https://localhost:8080/"
        },
        "id": "PJIhzcWNnLSE",
        "outputId": "530a810e-76a0-42a5-a757-148cbb9f3595"
      },
      "source": [
        "county_weath.columns"
      ],
      "execution_count": 65,
      "outputs": [
        {
          "output_type": "execute_result",
          "data": {
            "text/plain": [
              "Index(['zip', 'lat', 'lng', 'city', 'state_id', 'state_name', 'county_name',\n",
              "       'Average Temperature (Kelvin)', 'Average Air Pressure (hPa)',\n",
              "       'Average Humidity (%)', 'Average Daily Precipitation (mm)'],\n",
              "      dtype='object')"
            ]
          },
          "metadata": {
            "tags": []
          },
          "execution_count": 65
        }
      ]
    },
    {
      "cell_type": "code",
      "metadata": {
        "colab": {
          "base_uri": "https://localhost:8080/",
          "height": 106
        },
        "id": "rLERFxbwnzps",
        "outputId": "6168215c-70f6-48d7-b24e-e5da478c7472"
      },
      "source": [
        "county_ids = county_weath.drop(columns=['lat','lng','Average Temperature (Kelvin)', 'Average Air Pressure (hPa)',\n",
        "       'Average Humidity (%)', 'Average Daily Precipitation (mm)'])\n",
        "county_ids.head(2)"
      ],
      "execution_count": 66,
      "outputs": [
        {
          "output_type": "execute_result",
          "data": {
            "text/html": [
              "<div>\n",
              "<style scoped>\n",
              "    .dataframe tbody tr th:only-of-type {\n",
              "        vertical-align: middle;\n",
              "    }\n",
              "\n",
              "    .dataframe tbody tr th {\n",
              "        vertical-align: top;\n",
              "    }\n",
              "\n",
              "    .dataframe thead th {\n",
              "        text-align: right;\n",
              "    }\n",
              "</style>\n",
              "<table border=\"1\" class=\"dataframe\">\n",
              "  <thead>\n",
              "    <tr style=\"text-align: right;\">\n",
              "      <th></th>\n",
              "      <th>zip</th>\n",
              "      <th>city</th>\n",
              "      <th>state_id</th>\n",
              "      <th>state_name</th>\n",
              "      <th>county_name</th>\n",
              "    </tr>\n",
              "  </thead>\n",
              "  <tbody>\n",
              "    <tr>\n",
              "      <th>0</th>\n",
              "      <td>1001</td>\n",
              "      <td>Agawam</td>\n",
              "      <td>MA</td>\n",
              "      <td>Massachusetts</td>\n",
              "      <td>Hampden</td>\n",
              "    </tr>\n",
              "    <tr>\n",
              "      <th>1</th>\n",
              "      <td>1002</td>\n",
              "      <td>Amherst</td>\n",
              "      <td>MA</td>\n",
              "      <td>Massachusetts</td>\n",
              "      <td>Hampshire</td>\n",
              "    </tr>\n",
              "  </tbody>\n",
              "</table>\n",
              "</div>"
            ],
            "text/plain": [
              "    zip     city state_id     state_name county_name\n",
              "0  1001   Agawam       MA  Massachusetts     Hampden\n",
              "1  1002  Amherst       MA  Massachusetts   Hampshire"
            ]
          },
          "metadata": {
            "tags": []
          },
          "execution_count": 66
        }
      ]
    },
    {
      "cell_type": "code",
      "metadata": {
        "colab": {
          "base_uri": "https://localhost:8080/",
          "height": 140
        },
        "id": "nh_L9vY2sqgo",
        "outputId": "34ca6d47-edf0-41f8-d811-8122b3820b40"
      },
      "source": [
        "bigcounty = county_weath.drop(columns=['city', 'state_id', 'state_name', 'county_name'])\n",
        "bigcounty.head(2)"
      ],
      "execution_count": 67,
      "outputs": [
        {
          "output_type": "execute_result",
          "data": {
            "text/html": [
              "<div>\n",
              "<style scoped>\n",
              "    .dataframe tbody tr th:only-of-type {\n",
              "        vertical-align: middle;\n",
              "    }\n",
              "\n",
              "    .dataframe tbody tr th {\n",
              "        vertical-align: top;\n",
              "    }\n",
              "\n",
              "    .dataframe thead th {\n",
              "        text-align: right;\n",
              "    }\n",
              "</style>\n",
              "<table border=\"1\" class=\"dataframe\">\n",
              "  <thead>\n",
              "    <tr style=\"text-align: right;\">\n",
              "      <th></th>\n",
              "      <th>zip</th>\n",
              "      <th>lat</th>\n",
              "      <th>lng</th>\n",
              "      <th>Average Temperature (Kelvin)</th>\n",
              "      <th>Average Air Pressure (hPa)</th>\n",
              "      <th>Average Humidity (%)</th>\n",
              "      <th>Average Daily Precipitation (mm)</th>\n",
              "    </tr>\n",
              "  </thead>\n",
              "  <tbody>\n",
              "    <tr>\n",
              "      <th>0</th>\n",
              "      <td>1001</td>\n",
              "      <td>42.06259</td>\n",
              "      <td>-72.62589</td>\n",
              "      <td>283.257967</td>\n",
              "      <td>1016.12956</td>\n",
              "      <td>70.273709</td>\n",
              "      <td>0.126154</td>\n",
              "    </tr>\n",
              "    <tr>\n",
              "      <th>1</th>\n",
              "      <td>1002</td>\n",
              "      <td>42.37492</td>\n",
              "      <td>-72.46210</td>\n",
              "      <td>283.257967</td>\n",
              "      <td>1016.12956</td>\n",
              "      <td>70.273709</td>\n",
              "      <td>0.126154</td>\n",
              "    </tr>\n",
              "  </tbody>\n",
              "</table>\n",
              "</div>"
            ],
            "text/plain": [
              "    zip       lat  ...  Average Humidity (%)  Average Daily Precipitation (mm)\n",
              "0  1001  42.06259  ...             70.273709                          0.126154\n",
              "1  1002  42.37492  ...             70.273709                          0.126154\n",
              "\n",
              "[2 rows x 7 columns]"
            ]
          },
          "metadata": {
            "tags": []
          },
          "execution_count": 67
        }
      ]
    },
    {
      "cell_type": "code",
      "metadata": {
        "colab": {
          "base_uri": "https://localhost:8080/"
        },
        "id": "_gTBo6rButQg",
        "outputId": "d94929d4-41e7-45ab-d024-f80a6c963185"
      },
      "source": [
        "bigcounty.dtypes"
      ],
      "execution_count": 68,
      "outputs": [
        {
          "output_type": "execute_result",
          "data": {
            "text/plain": [
              "zip                                   int64\n",
              "lat                                 float64\n",
              "lng                                 float64\n",
              "Average Temperature (Kelvin)        float64\n",
              "Average Air Pressure (hPa)          float64\n",
              "Average Humidity (%)                float64\n",
              "Average Daily Precipitation (mm)    float64\n",
              "dtype: object"
            ]
          },
          "metadata": {
            "tags": []
          },
          "execution_count": 68
        }
      ]
    },
    {
      "cell_type": "code",
      "metadata": {
        "id": "HM45XYAu_SYx"
      },
      "source": [
        "countydrops = ['zip']"
      ],
      "execution_count": 69,
      "outputs": []
    },
    {
      "cell_type": "code",
      "metadata": {
        "id": "b4woMuSd9QsO"
      },
      "source": [
        "mer_df = allwines[allwines['variety'] == 'Merlot']\n",
        "syr_df = allwines[allwines['variety'] == 'Syrah']\n",
        "savyb_df = allwines[allwines['variety'] == 'Sauvignon Blanc']\n",
        "ries_df = allwines[allwines['variety'] == 'Riesling']\n",
        "cabsav_df = allwines[allwines['variety'] == 'Cabernet Sauvignon']\n",
        "char_df = allwines[allwines['variety'] == 'Chardonnay']\n",
        "pino_df = allwines[allwines['variety'] == 'Pinot Noir']"
      ],
      "execution_count": 70,
      "outputs": []
    },
    {
      "cell_type": "code",
      "metadata": {
        "colab": {
          "base_uri": "https://localhost:8080/"
        },
        "id": "vzX-aUHCvAc2",
        "outputId": "80fb2e4d-626d-4867-8de7-25f25ff89dfc"
      },
      "source": [
        "winedfs = [mer_df,syr_df,savyb_df,ries_df,cabsav_df,char_df,pino_df]\n",
        "for x in winedfs:\n",
        "  print(len(x))"
      ],
      "execution_count": 71,
      "outputs": [
        {
          "output_type": "stream",
          "text": [
            "2983\n",
            "3944\n",
            "4729\n",
            "5110\n",
            "8837\n",
            "11334\n",
            "12681\n"
          ],
          "name": "stdout"
        }
      ]
    },
    {
      "cell_type": "code",
      "metadata": {
        "colab": {
          "base_uri": "https://localhost:8080/"
        },
        "id": "IeuTOtY4xdqx",
        "outputId": "c40b220d-5994-441e-8214-78fd189dc396"
      },
      "source": [
        "mer_df.dtypes"
      ],
      "execution_count": 72,
      "outputs": [
        {
          "output_type": "execute_result",
          "data": {
            "text/plain": [
              "country                              object\n",
              "points                                int64\n",
              "variety                              object\n",
              "winery_search                        object\n",
              "latitude                            float64\n",
              "longitude                           float64\n",
              "Average Temperature (Kelvin)        float64\n",
              "Average Air Pressure (hPa)          float64\n",
              "Average Humidity (%)                float64\n",
              "Average Daily Precipitation (mm)    float64\n",
              "success                                bool\n",
              "dtype: object"
            ]
          },
          "metadata": {
            "tags": []
          },
          "execution_count": 72
        }
      ]
    },
    {
      "cell_type": "code",
      "metadata": {
        "colab": {
          "base_uri": "https://localhost:8080/"
        },
        "id": "q1M-lS4mrEL1",
        "outputId": "b8b817de-e905-426d-ea39-f9305fd09896"
      },
      "source": [
        "mer_df.columns"
      ],
      "execution_count": 73,
      "outputs": [
        {
          "output_type": "execute_result",
          "data": {
            "text/plain": [
              "Index(['country', 'points', 'variety', 'winery_search', 'latitude',\n",
              "       'longitude', 'Average Temperature (Kelvin)',\n",
              "       'Average Air Pressure (hPa)', 'Average Humidity (%)',\n",
              "       'Average Daily Precipitation (mm)', 'success'],\n",
              "      dtype='object')"
            ]
          },
          "metadata": {
            "tags": []
          },
          "execution_count": 73
        }
      ]
    },
    {
      "cell_type": "code",
      "metadata": {
        "id": "zR-Lpgr29QnD"
      },
      "source": [
        "winedropcols = ['country', 'points', 'variety', 'winery_search','success']"
      ],
      "execution_count": 75,
      "outputs": []
    },
    {
      "cell_type": "code",
      "metadata": {
        "colab": {
          "base_uri": "https://localhost:8080/"
        },
        "id": "fWXQJq1A9Qtl",
        "outputId": "fd25d72b-554e-46d3-bd09-186bfffd8b8e"
      },
      "source": [
        "#features and targets\n",
        "variety = mer_df.copy()\n",
        "y = variety['success']\n",
        "X = variety.drop(columns=winedropcols)\n",
        "X_train, X_test, y_train, y_test = train_test_split(X,y)\n",
        "#init model again\n",
        "rf = RandomForestClassifier(n_estimators=200, random_state=99, bootstrap=False, max_samples=500)\n",
        "rf.fit(X, y)"
      ],
      "execution_count": 76,
      "outputs": [
        {
          "output_type": "execute_result",
          "data": {
            "text/plain": [
              "RandomForestClassifier(bootstrap=False, ccp_alpha=0.0, class_weight=None,\n",
              "                       criterion='gini', max_depth=None, max_features='auto',\n",
              "                       max_leaf_nodes=None, max_samples=500,\n",
              "                       min_impurity_decrease=0.0, min_impurity_split=None,\n",
              "                       min_samples_leaf=1, min_samples_split=2,\n",
              "                       min_weight_fraction_leaf=0.0, n_estimators=200,\n",
              "                       n_jobs=None, oob_score=False, random_state=99, verbose=0,\n",
              "                       warm_start=False)"
            ]
          },
          "metadata": {
            "tags": []
          },
          "execution_count": 76
        }
      ]
    },
    {
      "cell_type": "code",
      "metadata": {
        "colab": {
          "base_uri": "https://localhost:8080/"
        },
        "id": "W7HjASbM-KF1",
        "outputId": "51ebf2d0-f827-4d47-e269-f2c2519ab2ed"
      },
      "source": [
        "preds = rf.predict(X_test)\n",
        "acc_score = accuracy_score(y_test, preds)\n",
        "acc_score"
      ],
      "execution_count": 77,
      "outputs": [
        {
          "output_type": "execute_result",
          "data": {
            "text/plain": [
              "0.900804289544236"
            ]
          },
          "metadata": {
            "tags": []
          },
          "execution_count": 77
        }
      ]
    },
    {
      "cell_type": "code",
      "metadata": {
        "id": "ZegfCHX1-KIF"
      },
      "source": [
        "#using model to predict the counties\n",
        "Xcount = bigcounty.drop(columns=countydrops)\n",
        "mer_preds = rf.predict(Xcount)"
      ],
      "execution_count": 78,
      "outputs": []
    },
    {
      "cell_type": "code",
      "metadata": {
        "colab": {
          "base_uri": "https://localhost:8080/"
        },
        "id": "Z63vhufX-KTa",
        "outputId": "f1476825-0a0d-4c34-e610-99aef190ae2b"
      },
      "source": [
        "#features and targets\n",
        "variety = syr_df\n",
        "y = variety['success']\n",
        "X = variety.drop(columns=winedropcols)\n",
        "X_train, X_test, y_train, y_test = train_test_split(X,y)\n",
        "#init model again\n",
        "rf = RandomForestClassifier(n_estimators=200, random_state=99, bootstrap=False, max_samples=500)\n",
        "rf.fit(X, y)"
      ],
      "execution_count": 79,
      "outputs": [
        {
          "output_type": "execute_result",
          "data": {
            "text/plain": [
              "RandomForestClassifier(bootstrap=False, ccp_alpha=0.0, class_weight=None,\n",
              "                       criterion='gini', max_depth=None, max_features='auto',\n",
              "                       max_leaf_nodes=None, max_samples=500,\n",
              "                       min_impurity_decrease=0.0, min_impurity_split=None,\n",
              "                       min_samples_leaf=1, min_samples_split=2,\n",
              "                       min_weight_fraction_leaf=0.0, n_estimators=200,\n",
              "                       n_jobs=None, oob_score=False, random_state=99, verbose=0,\n",
              "                       warm_start=False)"
            ]
          },
          "metadata": {
            "tags": []
          },
          "execution_count": 79
        }
      ]
    },
    {
      "cell_type": "code",
      "metadata": {
        "colab": {
          "base_uri": "https://localhost:8080/"
        },
        "id": "gwW4fvQu9Qwq",
        "outputId": "94cca9e3-ca7d-42de-d502-a51352b70d45"
      },
      "source": [
        "preds = rf.predict(X_test)\n",
        "acc_score = accuracy_score(y_test, preds)\n",
        "acc_score"
      ],
      "execution_count": 80,
      "outputs": [
        {
          "output_type": "execute_result",
          "data": {
            "text/plain": [
              "0.821501014198783"
            ]
          },
          "metadata": {
            "tags": []
          },
          "execution_count": 80
        }
      ]
    },
    {
      "cell_type": "code",
      "metadata": {
        "id": "TFOTgtQT9Q1Q"
      },
      "source": [
        "#using model to predict the counties\n",
        "Xcount = bigcounty.drop(columns=countydrops)\n",
        "syr_preds = rf.predict(Xcount)"
      ],
      "execution_count": 81,
      "outputs": []
    },
    {
      "cell_type": "code",
      "metadata": {
        "colab": {
          "base_uri": "https://localhost:8080/"
        },
        "id": "lwrmYR3dAOxL",
        "outputId": "97484ff5-e33d-493e-972f-b36667f21892"
      },
      "source": [
        "#features and targets\n",
        "variety = savyb_df\n",
        "y = variety['success']\n",
        "X = variety.drop(columns=winedropcols)\n",
        "X_train, X_test, y_train, y_test = train_test_split(X,y)\n",
        "#init model again\n",
        "rf = RandomForestClassifier(n_estimators=200, random_state=99, bootstrap=False, max_samples=500)\n",
        "rf.fit(X, y)"
      ],
      "execution_count": 82,
      "outputs": [
        {
          "output_type": "execute_result",
          "data": {
            "text/plain": [
              "RandomForestClassifier(bootstrap=False, ccp_alpha=0.0, class_weight=None,\n",
              "                       criterion='gini', max_depth=None, max_features='auto',\n",
              "                       max_leaf_nodes=None, max_samples=500,\n",
              "                       min_impurity_decrease=0.0, min_impurity_split=None,\n",
              "                       min_samples_leaf=1, min_samples_split=2,\n",
              "                       min_weight_fraction_leaf=0.0, n_estimators=200,\n",
              "                       n_jobs=None, oob_score=False, random_state=99, verbose=0,\n",
              "                       warm_start=False)"
            ]
          },
          "metadata": {
            "tags": []
          },
          "execution_count": 82
        }
      ]
    },
    {
      "cell_type": "code",
      "metadata": {
        "colab": {
          "base_uri": "https://localhost:8080/"
        },
        "id": "K6ZBxxGrAOz9",
        "outputId": "b9c0cf58-98de-48c6-fa6a-ac2a12a0a5a8"
      },
      "source": [
        "preds = rf.predict(X_test)\n",
        "acc_score = accuracy_score(y_test, preds)\n",
        "acc_score"
      ],
      "execution_count": 83,
      "outputs": [
        {
          "output_type": "execute_result",
          "data": {
            "text/plain": [
              "0.8605240912933221"
            ]
          },
          "metadata": {
            "tags": []
          },
          "execution_count": 83
        }
      ]
    },
    {
      "cell_type": "code",
      "metadata": {
        "id": "7D8JpmyAAO3S"
      },
      "source": [
        "#using model to predict the counties\n",
        "Xcount = bigcounty.drop(columns=countydrops)\n",
        "savyb_preds = rf.predict(Xcount)"
      ],
      "execution_count": 84,
      "outputs": []
    },
    {
      "cell_type": "code",
      "metadata": {
        "colab": {
          "base_uri": "https://localhost:8080/"
        },
        "id": "xhaocGCMAO6F",
        "outputId": "b42151a6-edc7-4f5a-8273-1dbb827fed4a"
      },
      "source": [
        "#features and targets\n",
        "variety = ries_df\n",
        "y = variety['success']\n",
        "X = variety.drop(columns=winedropcols)\n",
        "X_train, X_test, y_train, y_test = train_test_split(X,y)\n",
        "#init model again\n",
        "rf = RandomForestClassifier(n_estimators=200, random_state=99, bootstrap=False, max_samples=500)\n",
        "rf.fit(X, y)"
      ],
      "execution_count": 85,
      "outputs": [
        {
          "output_type": "execute_result",
          "data": {
            "text/plain": [
              "RandomForestClassifier(bootstrap=False, ccp_alpha=0.0, class_weight=None,\n",
              "                       criterion='gini', max_depth=None, max_features='auto',\n",
              "                       max_leaf_nodes=None, max_samples=500,\n",
              "                       min_impurity_decrease=0.0, min_impurity_split=None,\n",
              "                       min_samples_leaf=1, min_samples_split=2,\n",
              "                       min_weight_fraction_leaf=0.0, n_estimators=200,\n",
              "                       n_jobs=None, oob_score=False, random_state=99, verbose=0,\n",
              "                       warm_start=False)"
            ]
          },
          "metadata": {
            "tags": []
          },
          "execution_count": 85
        }
      ]
    },
    {
      "cell_type": "code",
      "metadata": {
        "colab": {
          "base_uri": "https://localhost:8080/"
        },
        "id": "FLQkK0qZAO9B",
        "outputId": "fe96dcb5-cc58-4d67-b84f-6c71c2f0f703"
      },
      "source": [
        "preds = rf.predict(X_test)\n",
        "acc_score = accuracy_score(y_test, preds)\n",
        "acc_score"
      ],
      "execution_count": 86,
      "outputs": [
        {
          "output_type": "execute_result",
          "data": {
            "text/plain": [
              "0.797339593114241"
            ]
          },
          "metadata": {
            "tags": []
          },
          "execution_count": 86
        }
      ]
    },
    {
      "cell_type": "code",
      "metadata": {
        "id": "mIdHq6h3APAE"
      },
      "source": [
        "#using model to predict the counties\n",
        "Xcount = bigcounty.drop(columns=countydrops)\n",
        "ries_preds = rf.predict(Xcount)"
      ],
      "execution_count": 87,
      "outputs": []
    },
    {
      "cell_type": "code",
      "metadata": {
        "colab": {
          "base_uri": "https://localhost:8080/"
        },
        "id": "zPnqrGohAPDJ",
        "outputId": "d7891574-6539-4a12-f8b6-e7f50a9f9996"
      },
      "source": [
        "#features and targets\n",
        "variety = cabsav_df\n",
        "y = variety['success']\n",
        "X = variety.drop(columns=winedropcols)\n",
        "X_train, X_test, y_train, y_test = train_test_split(X,y)\n",
        "#init model again\n",
        "rf = RandomForestClassifier(n_estimators=200, random_state=99, bootstrap=False, max_samples=500)\n",
        "rf.fit(X, y)"
      ],
      "execution_count": 88,
      "outputs": [
        {
          "output_type": "execute_result",
          "data": {
            "text/plain": [
              "RandomForestClassifier(bootstrap=False, ccp_alpha=0.0, class_weight=None,\n",
              "                       criterion='gini', max_depth=None, max_features='auto',\n",
              "                       max_leaf_nodes=None, max_samples=500,\n",
              "                       min_impurity_decrease=0.0, min_impurity_split=None,\n",
              "                       min_samples_leaf=1, min_samples_split=2,\n",
              "                       min_weight_fraction_leaf=0.0, n_estimators=200,\n",
              "                       n_jobs=None, oob_score=False, random_state=99, verbose=0,\n",
              "                       warm_start=False)"
            ]
          },
          "metadata": {
            "tags": []
          },
          "execution_count": 88
        }
      ]
    },
    {
      "cell_type": "code",
      "metadata": {
        "colab": {
          "base_uri": "https://localhost:8080/"
        },
        "id": "NUWHFYYwAPGE",
        "outputId": "b4a824fb-3a11-4e81-926b-a711188a2e89"
      },
      "source": [
        "preds = rf.predict(X_test)\n",
        "acc_score = accuracy_score(y_test, preds)\n",
        "acc_score"
      ],
      "execution_count": 89,
      "outputs": [
        {
          "output_type": "execute_result",
          "data": {
            "text/plain": [
              "0.8235294117647058"
            ]
          },
          "metadata": {
            "tags": []
          },
          "execution_count": 89
        }
      ]
    },
    {
      "cell_type": "code",
      "metadata": {
        "id": "hQJjjtoCAPJB"
      },
      "source": [
        "#using model to predict the counties\n",
        "Xcount = bigcounty.drop(columns=countydrops)\n",
        "cabsav_preds = rf.predict(Xcount)"
      ],
      "execution_count": 90,
      "outputs": []
    },
    {
      "cell_type": "code",
      "metadata": {
        "colab": {
          "base_uri": "https://localhost:8080/"
        },
        "id": "cczRRBijAPMk",
        "outputId": "ca2bb12f-874f-440e-a2e5-7fe6e6e447c5"
      },
      "source": [
        "#features and targets\n",
        "variety = char_df\n",
        "y = variety['success']\n",
        "X = variety.drop(columns=winedropcols)\n",
        "X_train, X_test, y_train, y_test = train_test_split(X,y)\n",
        "#init model again\n",
        "rf = RandomForestClassifier(n_estimators=200, random_state=99, bootstrap=False, max_samples=500)\n",
        "rf.fit(X, y)"
      ],
      "execution_count": 91,
      "outputs": [
        {
          "output_type": "execute_result",
          "data": {
            "text/plain": [
              "RandomForestClassifier(bootstrap=False, ccp_alpha=0.0, class_weight=None,\n",
              "                       criterion='gini', max_depth=None, max_features='auto',\n",
              "                       max_leaf_nodes=None, max_samples=500,\n",
              "                       min_impurity_decrease=0.0, min_impurity_split=None,\n",
              "                       min_samples_leaf=1, min_samples_split=2,\n",
              "                       min_weight_fraction_leaf=0.0, n_estimators=200,\n",
              "                       n_jobs=None, oob_score=False, random_state=99, verbose=0,\n",
              "                       warm_start=False)"
            ]
          },
          "metadata": {
            "tags": []
          },
          "execution_count": 91
        }
      ]
    },
    {
      "cell_type": "code",
      "metadata": {
        "colab": {
          "base_uri": "https://localhost:8080/"
        },
        "id": "e6bQ-rEjAlXd",
        "outputId": "c8ebe2d2-22a1-41a3-ca91-46fbf43b99de"
      },
      "source": [
        "preds = rf.predict(X_test)\n",
        "acc_score = accuracy_score(y_test, preds)\n",
        "acc_score"
      ],
      "execution_count": 92,
      "outputs": [
        {
          "output_type": "execute_result",
          "data": {
            "text/plain": [
              "0.8274523641496119"
            ]
          },
          "metadata": {
            "tags": []
          },
          "execution_count": 92
        }
      ]
    },
    {
      "cell_type": "code",
      "metadata": {
        "id": "3la9DNFpAla0"
      },
      "source": [
        "#using model to predict the counties\n",
        "Xcount = bigcounty.drop(columns=countydrops)\n",
        "char_preds = rf.predict(Xcount)"
      ],
      "execution_count": 93,
      "outputs": []
    },
    {
      "cell_type": "code",
      "metadata": {
        "colab": {
          "base_uri": "https://localhost:8080/"
        },
        "id": "rpV2LT1UAliu",
        "outputId": "77979e8a-0d3a-4b1d-d345-ded1728e76a4"
      },
      "source": [
        "#features and targets\n",
        "variety = pino_df\n",
        "y = variety['success']\n",
        "X = variety.drop(columns=winedropcols)\n",
        "X_train, X_test, y_train, y_test = train_test_split(X,y)\n",
        "#init model again\n",
        "rf = RandomForestClassifier(n_estimators=200, random_state=99, bootstrap=False, max_samples=500)\n",
        "rf.fit(X, y)"
      ],
      "execution_count": 94,
      "outputs": [
        {
          "output_type": "execute_result",
          "data": {
            "text/plain": [
              "RandomForestClassifier(bootstrap=False, ccp_alpha=0.0, class_weight=None,\n",
              "                       criterion='gini', max_depth=None, max_features='auto',\n",
              "                       max_leaf_nodes=None, max_samples=500,\n",
              "                       min_impurity_decrease=0.0, min_impurity_split=None,\n",
              "                       min_samples_leaf=1, min_samples_split=2,\n",
              "                       min_weight_fraction_leaf=0.0, n_estimators=200,\n",
              "                       n_jobs=None, oob_score=False, random_state=99, verbose=0,\n",
              "                       warm_start=False)"
            ]
          },
          "metadata": {
            "tags": []
          },
          "execution_count": 94
        }
      ]
    },
    {
      "cell_type": "code",
      "metadata": {
        "colab": {
          "base_uri": "https://localhost:8080/"
        },
        "id": "c2g2IZGBAlvA",
        "outputId": "23a56f2a-4647-4eb6-921d-b9939363e9d5"
      },
      "source": [
        "preds = rf.predict(X_test)\n",
        "acc_score = accuracy_score(y_test, preds)\n",
        "acc_score"
      ],
      "execution_count": 95,
      "outputs": [
        {
          "output_type": "execute_result",
          "data": {
            "text/plain": [
              "0.7984862819299905"
            ]
          },
          "metadata": {
            "tags": []
          },
          "execution_count": 95
        }
      ]
    },
    {
      "cell_type": "code",
      "metadata": {
        "id": "Vt6CNH7xAlzS"
      },
      "source": [
        "#using model to predict the counties\n",
        "Xcount = bigcounty.drop(columns=countydrops)\n",
        "pino_preds = rf.predict(Xcount)"
      ],
      "execution_count": 96,
      "outputs": []
    },
    {
      "cell_type": "code",
      "metadata": {
        "colab": {
          "base_uri": "https://localhost:8080/"
        },
        "id": "XuH_mt4R8h_2",
        "outputId": "35f08728-4cbb-4597-c135-830ae5da7e97"
      },
      "source": [
        "len(bigcounty)"
      ],
      "execution_count": 115,
      "outputs": [
        {
          "output_type": "execute_result",
          "data": {
            "text/plain": [
              "1796"
            ]
          },
          "metadata": {
            "tags": []
          },
          "execution_count": 115
        }
      ]
    },
    {
      "cell_type": "code",
      "metadata": {
        "id": "kn67tSDZAl3L",
        "colab": {
          "base_uri": "https://localhost:8080/"
        },
        "outputId": "af769d61-c286-48f1-c4b8-41877e699660"
      },
      "source": [
        "counties_preds = bigcounty.copy()\n",
        "counties_preds['mer_success'] = mer_preds\n",
        "counties_preds['syr_success'] = syr_preds\n",
        "counties_preds['savyb_success'] = savyb_preds\n",
        "counties_preds['ries_success'] = ries_preds\n",
        "counties_preds['cabsav_success'] = cabsav_preds\n",
        "counties_preds['char_success'] = char_preds\n",
        "counties_preds['pinot_success'] = pino_preds\n",
        "counties_link = counties_preds.merge(county_ids, how='inner', on='zip')\n",
        "len(counties_link)"
      ],
      "execution_count": 116,
      "outputs": [
        {
          "output_type": "execute_result",
          "data": {
            "text/plain": [
              "1796"
            ]
          },
          "metadata": {
            "tags": []
          },
          "execution_count": 116
        }
      ]
    },
    {
      "cell_type": "code",
      "metadata": {
        "id": "VxiX73vMWV3U"
      },
      "source": [
        ""
      ],
      "execution_count": null,
      "outputs": []
    },
    {
      "cell_type": "code",
      "metadata": {
        "colab": {
          "base_uri": "https://localhost:8080/"
        },
        "id": "lFKhpvltAmCS",
        "outputId": "91f53173-e801-4c20-8209-d7403abc755e"
      },
      "source": [
        "counties_link.columns"
      ],
      "execution_count": 117,
      "outputs": [
        {
          "output_type": "execute_result",
          "data": {
            "text/plain": [
              "Index(['zip', 'lat', 'lng', 'Average Temperature (Kelvin)',\n",
              "       'Average Air Pressure (hPa)', 'Average Humidity (%)',\n",
              "       'Average Daily Precipitation (mm)', 'mer_success', 'syr_success',\n",
              "       'savyb_success', 'ries_success', 'cabsav_success', 'char_success',\n",
              "       'pinot_success', 'city', 'state_id', 'state_name', 'county_name'],\n",
              "      dtype='object')"
            ]
          },
          "metadata": {
            "tags": []
          },
          "execution_count": 117
        }
      ]
    },
    {
      "cell_type": "code",
      "metadata": {
        "id": "UZx5PX3fWXk9"
      },
      "source": [
        "counties_link.to_csv('county_linearpreds_mktwo.csv')\n",
        "counties_link.to_json('county_linearpreds_mktwo.json')"
      ],
      "execution_count": 139,
      "outputs": []
    },
    {
      "cell_type": "code",
      "metadata": {
        "colab": {
          "base_uri": "https://localhost:8080/"
        },
        "id": "QQG0lT0uotcQ",
        "outputId": "12119139-a59f-42c4-d2a6-c6260f885efb"
      },
      "source": [
        "machinecols = [ 'mer_success', 'syr_success',\n",
        "       'savyb_success', 'ries_success', 'cabsav_success', 'char_success',\n",
        "       'pinot_success']\n",
        "for x in machinecols:\n",
        "  print(counties_link[x].value_counts())"
      ],
      "execution_count": 118,
      "outputs": [
        {
          "output_type": "stream",
          "text": [
            "False    1663\n",
            "True      133\n",
            "Name: mer_success, dtype: int64\n",
            "False    1461\n",
            "True      335\n",
            "Name: syr_success, dtype: int64\n",
            "False    1610\n",
            "True      186\n",
            "Name: savyb_success, dtype: int64\n",
            "False    1741\n",
            "True       55\n",
            "Name: ries_success, dtype: int64\n",
            "False    1554\n",
            "True      242\n",
            "Name: cabsav_success, dtype: int64\n",
            "False    1619\n",
            "True      177\n",
            "Name: char_success, dtype: int64\n",
            "False    1474\n",
            "True      322\n",
            "Name: pinot_success, dtype: int64\n"
          ],
          "name": "stdout"
        }
      ]
    },
    {
      "cell_type": "code",
      "metadata": {
        "colab": {
          "base_uri": "https://localhost:8080/"
        },
        "id": "mDCMmszI7Oui",
        "outputId": "60c3bea5-64ea-4574-f495-9655b6e421ef"
      },
      "source": [
        "calcpreds = counties_link.copy()\n",
        "calcpreds['goodwines'] = calcpreds.apply(lambda x: sum(x['mer_success':'pinot_success']), axis=1)\n",
        "calcpreds['goodwines'].value_counts()"
      ],
      "execution_count": 122,
      "outputs": [
        {
          "output_type": "execute_result",
          "data": {
            "text/plain": [
              "1    732\n",
              "0    729\n",
              "2    289\n",
              "3     44\n",
              "4      2\n",
              "Name: goodwines, dtype: int64"
            ]
          },
          "metadata": {
            "tags": []
          },
          "execution_count": 122
        }
      ]
    },
    {
      "cell_type": "code",
      "metadata": {
        "id": "BnCVmVKw8DkZ"
      },
      "source": [
        "def statecalc(bigdf, places):\n",
        "  statewins = []\n",
        "  for place in places:\n",
        "    winvars = 0\n",
        "    mer = 0\n",
        "    syr = 0\n",
        "    savyb = 0\n",
        "    ries = 0\n",
        "    cabsav = 0\n",
        "    char = 0\n",
        "    pinot = 0\n",
        "    state_df = bigdf[bigdf['state_name'] == place]\n",
        "    winvars = sum(state_df['goodwines'])\n",
        "    mer = sum(state_df['mer_success'])\n",
        "    syr = sum(state_df['syr_success'])\n",
        "    savyb = sum(state_df['savyb_success'])\n",
        "    ries = sum(state_df['ries_success'])\n",
        "    cabsav = sum(state_df['cabsav_success'])\n",
        "    char = sum(state_df['char_success'])\n",
        "    pinot = sum(state_df['pinot_success'])\n",
        "    statewins.append([place, winvars, mer, syr, savyb, ries, cabsav, char, pinot])\n",
        "  return pd.DataFrame(statewins, columns=['state','tot_success','merlot','syrah','savyb','riesling','cabsav','chard','pinot'])"
      ],
      "execution_count": 123,
      "outputs": []
    },
    {
      "cell_type": "code",
      "metadata": {
        "id": "dGLGCzD-8NpT"
      },
      "source": [
        "sumchart = statecalc(calcpreds, calcpreds['state_name'].unique())\n"
      ],
      "execution_count": 133,
      "outputs": []
    },
    {
      "cell_type": "code",
      "metadata": {
        "colab": {
          "base_uri": "https://localhost:8080/"
        },
        "id": "rN7hh85C8-Yf",
        "outputId": "cf615895-cf4b-4248-da31-f7d3b1fcd4b4"
      },
      "source": [
        "sumchart.columns"
      ],
      "execution_count": 134,
      "outputs": [
        {
          "output_type": "execute_result",
          "data": {
            "text/plain": [
              "Index(['state', 'tot_success', 'merlot', 'syrah', 'savyb', 'riesling',\n",
              "       'cabsav', 'chard', 'pinot'],\n",
              "      dtype='object')"
            ]
          },
          "metadata": {
            "tags": []
          },
          "execution_count": 134
        }
      ]
    },
    {
      "cell_type": "code",
      "metadata": {
        "colab": {
          "base_uri": "https://localhost:8080/",
          "height": 377
        },
        "id": "rqqTH8yR9CUf",
        "outputId": "967eeb42-2619-45ef-9557-49594733dda4"
      },
      "source": [
        "sumchart.sort_values('tot_success').tail(10)"
      ],
      "execution_count": 135,
      "outputs": [
        {
          "output_type": "execute_result",
          "data": {
            "text/html": [
              "<div>\n",
              "<style scoped>\n",
              "    .dataframe tbody tr th:only-of-type {\n",
              "        vertical-align: middle;\n",
              "    }\n",
              "\n",
              "    .dataframe tbody tr th {\n",
              "        vertical-align: top;\n",
              "    }\n",
              "\n",
              "    .dataframe thead th {\n",
              "        text-align: right;\n",
              "    }\n",
              "</style>\n",
              "<table border=\"1\" class=\"dataframe\">\n",
              "  <thead>\n",
              "    <tr style=\"text-align: right;\">\n",
              "      <th></th>\n",
              "      <th>state</th>\n",
              "      <th>tot_success</th>\n",
              "      <th>merlot</th>\n",
              "      <th>syrah</th>\n",
              "      <th>savyb</th>\n",
              "      <th>riesling</th>\n",
              "      <th>cabsav</th>\n",
              "      <th>chard</th>\n",
              "      <th>pinot</th>\n",
              "    </tr>\n",
              "  </thead>\n",
              "  <tbody>\n",
              "    <tr>\n",
              "      <th>21</th>\n",
              "      <td>Ohio</td>\n",
              "      <td>45</td>\n",
              "      <td>0</td>\n",
              "      <td>3</td>\n",
              "      <td>10</td>\n",
              "      <td>2</td>\n",
              "      <td>6</td>\n",
              "      <td>10</td>\n",
              "      <td>14</td>\n",
              "    </tr>\n",
              "    <tr>\n",
              "      <th>28</th>\n",
              "      <td>North Dakota</td>\n",
              "      <td>47</td>\n",
              "      <td>32</td>\n",
              "      <td>0</td>\n",
              "      <td>15</td>\n",
              "      <td>0</td>\n",
              "      <td>0</td>\n",
              "      <td>0</td>\n",
              "      <td>0</td>\n",
              "    </tr>\n",
              "    <tr>\n",
              "      <th>26</th>\n",
              "      <td>Minnesota</td>\n",
              "      <td>48</td>\n",
              "      <td>28</td>\n",
              "      <td>0</td>\n",
              "      <td>10</td>\n",
              "      <td>4</td>\n",
              "      <td>0</td>\n",
              "      <td>6</td>\n",
              "      <td>0</td>\n",
              "    </tr>\n",
              "    <tr>\n",
              "      <th>20</th>\n",
              "      <td>Kentucky</td>\n",
              "      <td>50</td>\n",
              "      <td>0</td>\n",
              "      <td>0</td>\n",
              "      <td>0</td>\n",
              "      <td>3</td>\n",
              "      <td>26</td>\n",
              "      <td>17</td>\n",
              "      <td>4</td>\n",
              "    </tr>\n",
              "    <tr>\n",
              "      <th>23</th>\n",
              "      <td>Michigan</td>\n",
              "      <td>53</td>\n",
              "      <td>2</td>\n",
              "      <td>6</td>\n",
              "      <td>0</td>\n",
              "      <td>3</td>\n",
              "      <td>11</td>\n",
              "      <td>15</td>\n",
              "      <td>16</td>\n",
              "    </tr>\n",
              "    <tr>\n",
              "      <th>31</th>\n",
              "      <td>Missouri</td>\n",
              "      <td>54</td>\n",
              "      <td>0</td>\n",
              "      <td>10</td>\n",
              "      <td>1</td>\n",
              "      <td>0</td>\n",
              "      <td>4</td>\n",
              "      <td>16</td>\n",
              "      <td>23</td>\n",
              "    </tr>\n",
              "    <tr>\n",
              "      <th>12</th>\n",
              "      <td>West Virginia</td>\n",
              "      <td>54</td>\n",
              "      <td>0</td>\n",
              "      <td>0</td>\n",
              "      <td>22</td>\n",
              "      <td>0</td>\n",
              "      <td>5</td>\n",
              "      <td>11</td>\n",
              "      <td>16</td>\n",
              "    </tr>\n",
              "    <tr>\n",
              "      <th>10</th>\n",
              "      <td>Virginia</td>\n",
              "      <td>68</td>\n",
              "      <td>0</td>\n",
              "      <td>38</td>\n",
              "      <td>1</td>\n",
              "      <td>0</td>\n",
              "      <td>9</td>\n",
              "      <td>0</td>\n",
              "      <td>20</td>\n",
              "    </tr>\n",
              "    <tr>\n",
              "      <th>37</th>\n",
              "      <td>Texas</td>\n",
              "      <td>131</td>\n",
              "      <td>0</td>\n",
              "      <td>11</td>\n",
              "      <td>18</td>\n",
              "      <td>0</td>\n",
              "      <td>34</td>\n",
              "      <td>10</td>\n",
              "      <td>58</td>\n",
              "    </tr>\n",
              "    <tr>\n",
              "      <th>15</th>\n",
              "      <td>Georgia</td>\n",
              "      <td>152</td>\n",
              "      <td>5</td>\n",
              "      <td>79</td>\n",
              "      <td>0</td>\n",
              "      <td>0</td>\n",
              "      <td>35</td>\n",
              "      <td>7</td>\n",
              "      <td>26</td>\n",
              "    </tr>\n",
              "  </tbody>\n",
              "</table>\n",
              "</div>"
            ],
            "text/plain": [
              "            state  tot_success  merlot  syrah  ...  riesling  cabsav  chard  pinot\n",
              "21           Ohio           45       0      3  ...         2       6     10     14\n",
              "28   North Dakota           47      32      0  ...         0       0      0      0\n",
              "26      Minnesota           48      28      0  ...         4       0      6      0\n",
              "20       Kentucky           50       0      0  ...         3      26     17      4\n",
              "23       Michigan           53       2      6  ...         3      11     15     16\n",
              "31       Missouri           54       0     10  ...         0       4     16     23\n",
              "12  West Virginia           54       0      0  ...         0       5     11     16\n",
              "10       Virginia           68       0     38  ...         0       9      0     20\n",
              "37          Texas          131       0     11  ...         0      34     10     58\n",
              "15        Georgia          152       5     79  ...         0      35      7     26\n",
              "\n",
              "[10 rows x 9 columns]"
            ]
          },
          "metadata": {
            "tags": []
          },
          "execution_count": 135
        }
      ]
    },
    {
      "cell_type": "code",
      "metadata": {
        "id": "NS0XvNGz9ZvR"
      },
      "source": [
        "sumchart.to_json('state_sums_classifier_mktwo.json')"
      ],
      "execution_count": 136,
      "outputs": []
    },
    {
      "cell_type": "code",
      "metadata": {
        "id": "XRMRV5XrAmGK"
      },
      "source": [
        "#counties_preds.to_csv('county_predictions.csv')"
      ],
      "execution_count": 100,
      "outputs": []
    },
    {
      "cell_type": "code",
      "metadata": {
        "id": "iAS97wguAmJ4"
      },
      "source": [
        "#spark_counties = spark.createDataFrame(counties_preds)\n",
        "#spark_counties.show()"
      ],
      "execution_count": 101,
      "outputs": []
    },
    {
      "cell_type": "code",
      "metadata": {
        "id": "gIL0N7FVAPQy"
      },
      "source": [
        "#spark_counties.write.jdbc(url=jdbc_url, table='county_predictions', mode=mode, properties=config)"
      ],
      "execution_count": 102,
      "outputs": []
    },
    {
      "cell_type": "code",
      "metadata": {
        "id": "sfyfK9Ov0Ugf"
      },
      "source": [
        "#sparked_preds = spark.read.jdbc(url=jdbc_url, table='county_predictions', properties=config)"
      ],
      "execution_count": 103,
      "outputs": []
    },
    {
      "cell_type": "code",
      "metadata": {
        "id": "oZ_v44oe0bmg"
      },
      "source": [
        "#sparked_preds.show()"
      ],
      "execution_count": 104,
      "outputs": []
    },
    {
      "cell_type": "code",
      "metadata": {
        "id": "3_DHlPOh1O-o"
      },
      "source": [
        "#winners_df = pd.DataFrame(sparked_preds.select('zip','lat','lng','state_id','county_name','mer_success','rose_success','syr_success','savyb_success','ries_success','cabsav_success','char_success','pinot_success').collect(), columns=['zip','lat','lng','state','county_name','mer_success','rose_success','syr_success','savyb_success','ries_success','cabsav_success','char_success','pinot_success'], dtype=float)\n",
        "#winners_df.describe()"
      ],
      "execution_count": 105,
      "outputs": []
    },
    {
      "cell_type": "code",
      "metadata": {
        "id": "OMMF9B9PngPJ"
      },
      "source": [
        "#winners_df.columns"
      ],
      "execution_count": 106,
      "outputs": []
    },
    {
      "cell_type": "code",
      "metadata": {
        "id": "VjdZ1xDloCk-"
      },
      "source": [
        "#winners_df"
      ],
      "execution_count": 107,
      "outputs": []
    },
    {
      "cell_type": "code",
      "metadata": {
        "id": "BrIcwIChn_Ui"
      },
      "source": [
        "#winners_df['mer_success'].value_counts()"
      ],
      "execution_count": 108,
      "outputs": []
    }
  ]
}