{
  "nbformat": 4,
  "nbformat_minor": 0,
  "metadata": {
    "colab": {
      "name": "wineweather_forestlogistic_pipeline_mkone.ipynb",
      "provenance": [],
      "collapsed_sections": []
    },
    "kernelspec": {
      "name": "python3",
      "display_name": "Python 3"
    },
    "language_info": {
      "name": "python"
    }
  },
  "cells": [
    {
      "cell_type": "code",
      "metadata": {
        "colab": {
          "base_uri": "https://localhost:8080/"
        },
        "id": "g1EZ04H39K0x",
        "outputId": "54e249b4-9a86-4249-b8d7-6a43385e6de1"
      },
      "source": [
        "# Initial imports.\n",
        "import pandas as pd\n",
        "import numpy as np\n",
        "from numpy import random\n",
        "import os\n",
        "from sklearn.ensemble import RandomForestClassifier\n",
        "from sklearn.preprocessing import StandardScaler\n",
        "from sklearn.model_selection import train_test_split\n",
        "from sklearn.metrics import confusion_matrix, accuracy_score, classification_report\n",
        "\n",
        "# Import RDS password\n",
        "from config import rds_pwd\n",
        "\n",
        "import os\n",
        "# Find the latest version of spark 2.0  from http://www-us.apache.org/dist/spark/ and enter as the spark version\n",
        "spark_version = 'spark-3.0.2'\n",
        "os.environ['SPARK_VERSION']=spark_version\n",
        "\n",
        "# Install Spark and Java\n",
        "!apt-get update\n",
        "!apt-get install openjdk-11-jdk-headless -qq > /dev/null\n",
        "!wget -q http://www-us.apache.org/dist/spark/$SPARK_VERSION/$SPARK_VERSION-bin-hadoop2.7.tgz\n",
        "!tar xf $SPARK_VERSION-bin-hadoop2.7.tgz\n",
        "!pip install -q findspark\n",
        "\n",
        "# Set Environment Variables\n",
        "import os\n",
        "os.environ[\"JAVA_HOME\"] = \"/usr/lib/jvm/java-11-openjdk-amd64\"\n",
        "os.environ[\"SPARK_HOME\"] = f\"/content/{spark_version}-bin-hadoop2.7\"\n",
        "\n",
        "# Start a SparkSession\n",
        "import findspark\n",
        "findspark.init()\n",
        "\n",
        "spark_version = 'spark-3.0.2'\n",
        "os.environ['SPARK_VERSION']=spark_version\n",
        "\n",
        "# Install Spark and Java\n",
        "!apt-get update\n",
        "!apt-get install openjdk-11-jdk-headless -qq > /dev/null\n",
        "!wget -q http://www-us.apache.org/dist/spark/$SPARK_VERSION/$SPARK_VERSION-bin-hadoop2.7.tgz\n",
        "!tar xf $SPARK_VERSION-bin-hadoop2.7.tgz\n",
        "!pip install -q findspark\n",
        "\n",
        "# Set Environment Variables\n",
        "import os\n",
        "os.environ[\"JAVA_HOME\"] = \"/usr/lib/jvm/java-11-openjdk-amd64\"\n",
        "os.environ[\"SPARK_HOME\"] = f\"/content/{spark_version}-bin-hadoop2.7\"\n",
        "\n",
        "# Start a SparkSession\n",
        "import findspark\n",
        "findspark.init()"
      ],
      "execution_count": null,
      "outputs": [
        {
          "output_type": "stream",
          "text": [
            "\r0% [Working]\r            \rGet:1 http://security.ubuntu.com/ubuntu bionic-security InRelease [88.7 kB]\n",
            "\r0% [Connecting to archive.ubuntu.com (91.189.88.152)] [1 InRelease 14.2 kB/88.7\r                                                                               \rGet:2 https://cloud.r-project.org/bin/linux/ubuntu bionic-cran40/ InRelease [3,626 B]\n",
            "\r0% [Connecting to archive.ubuntu.com (91.189.88.152)] [1 InRelease 43.1 kB/88.7\r0% [Connecting to archive.ubuntu.com (91.189.88.152)] [1 InRelease 88.7 kB/88.7\r0% [Connecting to archive.ubuntu.com (91.189.88.152)] [Connecting to ppa.launch\r0% [2 InRelease gpgv 3,626 B] [Connecting to archive.ubuntu.com (91.189.88.152)\r                                                                               \rIgn:3 https://developer.download.nvidia.com/compute/cuda/repos/ubuntu1804/x86_64  InRelease\n",
            "\r                                                                               \r0% [2 InRelease gpgv 3,626 B] [Waiting for headers] [Waiting for headers]\r                                                                         \rGet:4 http://ppa.launchpad.net/c2d4u.team/c2d4u4.0+/ubuntu bionic InRelease [15.9 kB]\n",
            "\r0% [2 InRelease gpgv 3,626 B] [Waiting for headers] [4 InRelease 2,572 B/15.9 k\r                                                                               \rHit:5 http://archive.ubuntu.com/ubuntu bionic InRelease\n",
            "\r0% [2 InRelease gpgv 3,626 B] [Waiting for headers] [4 InRelease 8,364 B/15.9 k\r                                                                               \rIgn:6 https://developer.download.nvidia.com/compute/machine-learning/repos/ubuntu1804/x86_64  InRelease\n",
            "\r0% [2 InRelease gpgv 3,626 B] [Waiting for headers] [4 InRelease 14.2 kB/15.9 k\r                                                                               \rGet:7 https://developer.download.nvidia.com/compute/cuda/repos/ubuntu1804/x86_64  Release [697 B]\n",
            "\r0% [2 InRelease gpgv 3,626 B] [Waiting for headers] [4 InRelease 14.2 kB/15.9 k\r0% [2 InRelease gpgv 3,626 B] [Waiting for headers] [4 InRelease 14.2 kB/15.9 k\r                                                                               \rHit:8 https://developer.download.nvidia.com/compute/machine-learning/repos/ubuntu1804/x86_64  Release\n",
            "\r0% [2 InRelease gpgv 3,626 B] [Waiting for headers] [4 InRelease 14.2 kB/15.9 k\r                                                                               \rGet:9 https://developer.download.nvidia.com/compute/cuda/repos/ubuntu1804/x86_64  Release.gpg [836 B]\n",
            "Get:10 http://archive.ubuntu.com/ubuntu bionic-updates InRelease [88.7 kB]\n",
            "Get:11 https://cloud.r-project.org/bin/linux/ubuntu bionic-cran40/ Packages [60.5 kB]\n",
            "Hit:12 http://ppa.launchpad.net/cran/libgit2/ubuntu bionic InRelease\n",
            "Get:13 http://archive.ubuntu.com/ubuntu bionic-backports InRelease [74.6 kB]\n",
            "Hit:14 http://ppa.launchpad.net/deadsnakes/ppa/ubuntu bionic InRelease\n",
            "Get:15 http://security.ubuntu.com/ubuntu bionic-security/universe amd64 Packages [1,412 kB]\n",
            "Get:16 http://ppa.launchpad.net/graphics-drivers/ppa/ubuntu bionic InRelease [21.3 kB]\n",
            "Get:17 http://security.ubuntu.com/ubuntu bionic-security/main amd64 Packages [2,152 kB]\n",
            "Get:18 http://security.ubuntu.com/ubuntu bionic-security/restricted amd64 Packages [423 kB]\n",
            "Ign:20 https://developer.download.nvidia.com/compute/cuda/repos/ubuntu1804/x86_64  Packages\n",
            "Get:20 https://developer.download.nvidia.com/compute/cuda/repos/ubuntu1804/x86_64  Packages [772 kB]\n",
            "Get:21 http://ppa.launchpad.net/c2d4u.team/c2d4u4.0+/ubuntu bionic/main Sources [1,767 kB]\n",
            "Get:22 http://archive.ubuntu.com/ubuntu bionic-updates/restricted amd64 Packages [452 kB]\n",
            "Get:23 http://archive.ubuntu.com/ubuntu bionic-updates/main amd64 Packages [2,583 kB]\n",
            "Get:24 http://ppa.launchpad.net/c2d4u.team/c2d4u4.0+/ubuntu bionic/main amd64 Packages [904 kB]\n",
            "Get:25 http://archive.ubuntu.com/ubuntu bionic-updates/universe amd64 Packages [2,183 kB]\n",
            "Get:26 http://ppa.launchpad.net/graphics-drivers/ppa/ubuntu bionic/main amd64 Packages [41.5 kB]\n",
            "Fetched 13.0 MB in 4s (3,662 kB/s)\n",
            "Reading package lists... Done\n",
            "Hit:1 https://cloud.r-project.org/bin/linux/ubuntu bionic-cran40/ InRelease\n",
            "Hit:2 http://security.ubuntu.com/ubuntu bionic-security InRelease\n",
            "Ign:3 https://developer.download.nvidia.com/compute/cuda/repos/ubuntu1804/x86_64  InRelease\n",
            "Hit:4 http://ppa.launchpad.net/c2d4u.team/c2d4u4.0+/ubuntu bionic InRelease\n",
            "Hit:5 http://archive.ubuntu.com/ubuntu bionic InRelease\n",
            "Ign:6 https://developer.download.nvidia.com/compute/machine-learning/repos/ubuntu1804/x86_64  InRelease\n",
            "Hit:7 https://developer.download.nvidia.com/compute/cuda/repos/ubuntu1804/x86_64  Release\n",
            "Hit:8 https://developer.download.nvidia.com/compute/machine-learning/repos/ubuntu1804/x86_64  Release\n",
            "Hit:9 http://archive.ubuntu.com/ubuntu bionic-updates InRelease\n",
            "Hit:10 http://ppa.launchpad.net/cran/libgit2/ubuntu bionic InRelease\n",
            "Hit:11 http://archive.ubuntu.com/ubuntu bionic-backports InRelease\n",
            "Hit:12 http://ppa.launchpad.net/deadsnakes/ppa/ubuntu bionic InRelease\n",
            "Hit:13 http://ppa.launchpad.net/graphics-drivers/ppa/ubuntu bionic InRelease\n",
            "Reading package lists... Done\n"
          ],
          "name": "stdout"
        }
      ]
    },
    {
      "cell_type": "code",
      "metadata": {
        "colab": {
          "base_uri": "https://localhost:8080/"
        },
        "id": "CPiGPttMJvYO",
        "outputId": "e63532de-a58d-44ea-b139-db4da5a126f8"
      },
      "source": [
        "# Download the Postgres driver that will allow Spark to interact with Postgres.\n",
        "!wget https://jdbc.postgresql.org/download/postgresql-42.2.16.jar"
      ],
      "execution_count": null,
      "outputs": [
        {
          "output_type": "stream",
          "text": [
            "--2021-05-20 00:42:42--  https://jdbc.postgresql.org/download/postgresql-42.2.16.jar\n",
            "Resolving jdbc.postgresql.org (jdbc.postgresql.org)... 72.32.157.228, 2001:4800:3e1:1::228\n",
            "Connecting to jdbc.postgresql.org (jdbc.postgresql.org)|72.32.157.228|:443... connected.\n",
            "HTTP request sent, awaiting response... 200 OK\n",
            "Length: 1002883 (979K) [application/java-archive]\n",
            "Saving to: ‘postgresql-42.2.16.jar’\n",
            "\n",
            "postgresql-42.2.16. 100%[===================>] 979.38K  5.89MB/s    in 0.2s    \n",
            "\n",
            "2021-05-20 00:42:42 (5.89 MB/s) - ‘postgresql-42.2.16.jar’ saved [1002883/1002883]\n",
            "\n"
          ],
          "name": "stdout"
        }
      ]
    },
    {
      "cell_type": "code",
      "metadata": {
        "id": "RM36-lu38F8q"
      },
      "source": [
        "from pyspark.sql import SparkSession\n",
        "spark = SparkSession.builder.appName(\"Wine-Project\").config(\"spark.driver.extraClassPath\",\"/content/postgresql-42.2.16.jar\").getOrCreate()"
      ],
      "execution_count": null,
      "outputs": []
    },
    {
      "cell_type": "code",
      "metadata": {
        "id": "ev4fvY58-xwS"
      },
      "source": [
        "# Configure settings for RDS\n",
        "mode = \"append\"\n",
        "#jdbc_url=\"jdbc:postgresql://<connection string>:5432/<database-name>\"\n",
        "jdbc_url=\"jdbc:postgresql://wine-final-project.czqkltznl3rl.us-east-2.rds.amazonaws.com/winedb\"\n",
        "#config = {\"user\":\"postgres\",\n",
        "          #\"password\": \"<password>\",\n",
        "          #\"driver\":\"org.postgresql.Driver\"}\n",
        "config = {\"user\":\"wineuser\",\n",
        "          \"password\": rds_pwd,\n",
        "          \"driver\":\"org.postgresql.Driver\"}"
      ],
      "execution_count": null,
      "outputs": []
    },
    {
      "cell_type": "code",
      "metadata": {
        "id": "ag7P8QDBHvqt",
        "colab": {
          "base_uri": "https://localhost:8080/"
        },
        "outputId": "f25260c7-d0e0-4c39-94a7-c5a6d6bdd648"
      },
      "source": [
        "#select_sql = \"(SELECT points, variety, avg_temp, avg_airp, avg_humid, avg_precip FROM machine\"\n",
        "wine_df = spark.read.jdbc(url=jdbc_url, table='weather_mapscaled', properties=config)\n",
        "#county_df = spark.read.jdbc(url=jdbc_url, table='counties', properties=config)\n",
        "wine_df.show()"
      ],
      "execution_count": null,
      "outputs": [
        {
          "output_type": "stream",
          "text": [
            "+--------------------+---+----+--------------------+--------------------+--------------------+--------------------+------------+------+------------------+--------------------+\n",
            "|  winery_search_term|lat| lng|            avg_temp|            avg_airp|           avg_humid|          avg_precip|     country|points|           variety|              winery|\n",
            "+--------------------+---+----+--------------------+--------------------+--------------------+--------------------+------------+------+------------------+--------------------+\n",
            "|   LaZarre winery US| 36|-121|279.6850000000000...|1018.230000000000...|73.42000000000000...|0.025000000000000000|          US|    88|        Chardonnay|             LaZarre|\n",
            "|Negretti winery I...| 45|   8|275.6025000000000...|1016.337500000000...|79.04000000000000...|0.070000000000000000|       Italy|    88|        Chardonnay|            Negretti|\n",
            "|Pico Maccario win...| 45|   8|280.6950000000000...|1017.880000000000...|70.50250000000000...|0.147500000000000000|       Italy|    85|        Chardonnay|       Pico Maccario|\n",
            "|Farnese winery Italy| 43|  12|278.1475000000000...|1014.445000000000...|81.86750000000000...|0.182500000000000000|       Italy|    85|        Chardonnay|             Farnese|\n",
            "|Farnese winery Italy| 43|  12|278.1475000000000...|1014.445000000000...|81.86750000000000...|0.182500000000000000|       Italy|    86|        Chardonnay|             Farnese|\n",
            "|Farnese winery Italy| 43|  12|278.1475000000000...|1014.445000000000...|81.86750000000000...|0.182500000000000000|       Italy|    85|        Chardonnay|             Farnese|\n",
            "|Farnese winery Italy| 43|  12|278.1475000000000...|1014.445000000000...|81.86750000000000...|0.182500000000000000|       Italy|    88|        Chardonnay|             Farnese|\n",
            "|Castellargo winer...| 46|  13|277.6100000000000...|1016.707500000000...|79.63250000000000...|0.147500000000000000|       Italy|    85|        Chardonnay|         Castellargo|\n",
            "|Di Lenardo winery...| 46|  13|277.6100000000000...|1016.707500000000...|79.63250000000000...|0.147500000000000000|       Italy|    85|   Sauvignon Blanc|          Di Lenardo|\n",
            "|Di Lenardo winery...| 46|  13|277.6100000000000...|1016.707500000000...|79.63250000000000...|0.147500000000000000|       Italy|    86|        Chardonnay|          Di Lenardo|\n",
            "|Di Lenardo winery...| 46|  13|277.6100000000000...|1016.707500000000...|79.63250000000000...|0.147500000000000000|       Italy|    85|        Chardonnay|          Di Lenardo|\n",
            "|Di Lenardo winery...| 46|  13|277.6100000000000...|1016.707500000000...|79.63250000000000...|0.147500000000000000|       Italy|    87|        Chardonnay|          Di Lenardo|\n",
            "|A.A. Badenhorst F...|-34|  19|293.1100000000000...|1003.365000000000...|66.92750000000000...|0.255000000000000000|South Africa|    85|              Rosé|A.A. Badenhorst F...|\n",
            "|Post House winery...| 36| -87|277.1825000000000...|1020.142500000000...|77.92500000000000...|0.187500000000000000|South Africa|    85|Cabernet Sauvignon|          Post House|\n",
            "|Post House winery...| 36| -87|277.1825000000000...|1020.142500000000...|77.92500000000000...|0.187500000000000000|South Africa|    85|Cabernet Sauvignon|          Post House|\n",
            "|Post House winery...| 36| -87|277.1825000000000...|1020.142500000000...|77.92500000000000...|0.187500000000000000|South Africa|    88|            Merlot|          Post House|\n",
            "|Post House winery...| 36| -87|277.1825000000000...|1020.142500000000...|77.92500000000000...|0.187500000000000000|South Africa|    88|            Merlot|          Post House|\n",
            "|Ladoucette winery...| 47|   3|278.4050000000000...|1019.597500000000...|90.47500000000000...|0.062500000000000000|      France|    86|   Sauvignon Blanc|          Ladoucette|\n",
            "|   Paschal winery US| 42|-123|276.0250000000000...|1019.887500000000...|85.45250000000000...|0.057500000000000000|          US|    86|        Pinot Noir|             Paschal|\n",
            "|   Paschal winery US| 42|-123|276.0250000000000...|1019.887500000000...|85.45250000000000...|0.057500000000000000|          US|    88|        Chardonnay|             Paschal|\n",
            "+--------------------+---+----+--------------------+--------------------+--------------------+--------------------+------------+------+------------------+--------------------+\n",
            "only showing top 20 rows\n",
            "\n"
          ],
          "name": "stdout"
        }
      ]
    },
    {
      "cell_type": "code",
      "metadata": {
        "colab": {
          "base_uri": "https://localhost:8080/"
        },
        "id": "R7aJMuipQvqo",
        "outputId": "48ddce00-598a-4c48-af5e-307522a27385"
      },
      "source": [
        "allwines = wine_df.select('variety','lat','lng','avg_temp','avg_airp','avg_humid','avg_precip','points')\n",
        "allwines.show()"
      ],
      "execution_count": null,
      "outputs": [
        {
          "output_type": "stream",
          "text": [
            "+------------------+---+----+--------------------+--------------------+--------------------+--------------------+-------+\n",
            "|           variety|lat| lng|            avg_temp|            avg_airp|           avg_humid|          avg_precip|success|\n",
            "+------------------+---+----+--------------------+--------------------+--------------------+--------------------+-------+\n",
            "|        Chardonnay| 36|-121|279.6850000000000...|1018.230000000000...|73.42000000000000...|0.025000000000000000|  false|\n",
            "|        Chardonnay| 45|   8|275.6025000000000...|1016.337500000000...|79.04000000000000...|0.070000000000000000|  false|\n",
            "|        Chardonnay| 45|   8|280.6950000000000...|1017.880000000000...|70.50250000000000...|0.147500000000000000|  false|\n",
            "|        Chardonnay| 43|  12|278.1475000000000...|1014.445000000000...|81.86750000000000...|0.182500000000000000|  false|\n",
            "|        Chardonnay| 43|  12|278.1475000000000...|1014.445000000000...|81.86750000000000...|0.182500000000000000|  false|\n",
            "|        Chardonnay| 43|  12|278.1475000000000...|1014.445000000000...|81.86750000000000...|0.182500000000000000|  false|\n",
            "|        Chardonnay| 43|  12|278.1475000000000...|1014.445000000000...|81.86750000000000...|0.182500000000000000|  false|\n",
            "|        Chardonnay| 46|  13|277.6100000000000...|1016.707500000000...|79.63250000000000...|0.147500000000000000|  false|\n",
            "|   Sauvignon Blanc| 46|  13|277.6100000000000...|1016.707500000000...|79.63250000000000...|0.147500000000000000|  false|\n",
            "|        Chardonnay| 46|  13|277.6100000000000...|1016.707500000000...|79.63250000000000...|0.147500000000000000|  false|\n",
            "|        Chardonnay| 46|  13|277.6100000000000...|1016.707500000000...|79.63250000000000...|0.147500000000000000|  false|\n",
            "|        Chardonnay| 46|  13|277.6100000000000...|1016.707500000000...|79.63250000000000...|0.147500000000000000|  false|\n",
            "|              Rosé|-34|  19|293.1100000000000...|1003.365000000000...|66.92750000000000...|0.255000000000000000|  false|\n",
            "|Cabernet Sauvignon| 36| -87|277.1825000000000...|1020.142500000000...|77.92500000000000...|0.187500000000000000|  false|\n",
            "|Cabernet Sauvignon| 36| -87|277.1825000000000...|1020.142500000000...|77.92500000000000...|0.187500000000000000|  false|\n",
            "|            Merlot| 36| -87|277.1825000000000...|1020.142500000000...|77.92500000000000...|0.187500000000000000|  false|\n",
            "|            Merlot| 36| -87|277.1825000000000...|1020.142500000000...|77.92500000000000...|0.187500000000000000|  false|\n",
            "|   Sauvignon Blanc| 47|   3|278.4050000000000...|1019.597500000000...|90.47500000000000...|0.062500000000000000|  false|\n",
            "|        Pinot Noir| 42|-123|276.0250000000000...|1019.887500000000...|85.45250000000000...|0.057500000000000000|  false|\n",
            "|        Chardonnay| 42|-123|276.0250000000000...|1019.887500000000...|85.45250000000000...|0.057500000000000000|  false|\n",
            "+------------------+---+----+--------------------+--------------------+--------------------+--------------------+-------+\n",
            "only showing top 20 rows\n",
            "\n"
          ],
          "name": "stdout"
        }
      ]
    },
    {
      "cell_type": "code",
      "metadata": {
        "colab": {
          "base_uri": "https://localhost:8080/",
          "height": 402
        },
        "id": "lIWBeHSPmqRC",
        "outputId": "aca3a324-863e-40e1-a394-33037c92864a"
      },
      "source": [
        "mer_df = allwines.select('lat','lng','avg_temp','avg_airp','avg_humid','avg_precip','points').filter(allwines.variety == 'Merlot').collect()\n",
        "#mer_df = wine_df.select(variety='Merlot').collect()\n",
        "merlot = mer_df.toPandas()\n",
        "merlot"
      ],
      "execution_count": null,
      "outputs": [
        {
          "output_type": "execute_result",
          "data": {
            "text/html": [
              "<div>\n",
              "<style scoped>\n",
              "    .dataframe tbody tr th:only-of-type {\n",
              "        vertical-align: middle;\n",
              "    }\n",
              "\n",
              "    .dataframe tbody tr th {\n",
              "        vertical-align: top;\n",
              "    }\n",
              "\n",
              "    .dataframe thead th {\n",
              "        text-align: right;\n",
              "    }\n",
              "</style>\n",
              "<table border=\"1\" class=\"dataframe\">\n",
              "  <thead>\n",
              "    <tr style=\"text-align: right;\">\n",
              "      <th></th>\n",
              "      <th>lat</th>\n",
              "      <th>lng</th>\n",
              "      <th>avg_temp</th>\n",
              "      <th>avg_airp</th>\n",
              "      <th>avg_humid</th>\n",
              "      <th>avg_precid</th>\n",
              "      <th>success</th>\n",
              "    </tr>\n",
              "  </thead>\n",
              "  <tbody>\n",
              "    <tr>\n",
              "      <th>0</th>\n",
              "      <td>36.0</td>\n",
              "      <td>-87.0</td>\n",
              "      <td>277.1825</td>\n",
              "      <td>1020.1425</td>\n",
              "      <td>77.9250</td>\n",
              "      <td>0.1875</td>\n",
              "      <td>0.0</td>\n",
              "    </tr>\n",
              "    <tr>\n",
              "      <th>1</th>\n",
              "      <td>36.0</td>\n",
              "      <td>-87.0</td>\n",
              "      <td>277.1825</td>\n",
              "      <td>1020.1425</td>\n",
              "      <td>77.9250</td>\n",
              "      <td>0.1875</td>\n",
              "      <td>0.0</td>\n",
              "    </tr>\n",
              "    <tr>\n",
              "      <th>2</th>\n",
              "      <td>42.0</td>\n",
              "      <td>-123.0</td>\n",
              "      <td>276.0250</td>\n",
              "      <td>1019.8875</td>\n",
              "      <td>85.4525</td>\n",
              "      <td>0.0575</td>\n",
              "      <td>0.0</td>\n",
              "    </tr>\n",
              "    <tr>\n",
              "      <th>3</th>\n",
              "      <td>44.0</td>\n",
              "      <td>-123.0</td>\n",
              "      <td>276.0250</td>\n",
              "      <td>1019.8875</td>\n",
              "      <td>85.4525</td>\n",
              "      <td>0.0575</td>\n",
              "      <td>0.0</td>\n",
              "    </tr>\n",
              "    <tr>\n",
              "      <th>4</th>\n",
              "      <td>36.0</td>\n",
              "      <td>-84.0</td>\n",
              "      <td>277.3750</td>\n",
              "      <td>1020.0125</td>\n",
              "      <td>79.1975</td>\n",
              "      <td>0.2350</td>\n",
              "      <td>0.0</td>\n",
              "    </tr>\n",
              "    <tr>\n",
              "      <th>...</th>\n",
              "      <td>...</td>\n",
              "      <td>...</td>\n",
              "      <td>...</td>\n",
              "      <td>...</td>\n",
              "      <td>...</td>\n",
              "      <td>...</td>\n",
              "      <td>...</td>\n",
              "    </tr>\n",
              "    <tr>\n",
              "      <th>2969</th>\n",
              "      <td>41.0</td>\n",
              "      <td>-72.0</td>\n",
              "      <td>272.7475</td>\n",
              "      <td>1016.8375</td>\n",
              "      <td>70.1425</td>\n",
              "      <td>0.1400</td>\n",
              "      <td>0.0</td>\n",
              "    </tr>\n",
              "    <tr>\n",
              "      <th>2970</th>\n",
              "      <td>41.0</td>\n",
              "      <td>-72.0</td>\n",
              "      <td>272.7475</td>\n",
              "      <td>1016.8375</td>\n",
              "      <td>70.1425</td>\n",
              "      <td>0.1400</td>\n",
              "      <td>0.0</td>\n",
              "    </tr>\n",
              "    <tr>\n",
              "      <th>2971</th>\n",
              "      <td>41.0</td>\n",
              "      <td>-72.0</td>\n",
              "      <td>272.7475</td>\n",
              "      <td>1016.8375</td>\n",
              "      <td>70.1425</td>\n",
              "      <td>0.1400</td>\n",
              "      <td>0.0</td>\n",
              "    </tr>\n",
              "    <tr>\n",
              "      <th>2972</th>\n",
              "      <td>35.0</td>\n",
              "      <td>-84.0</td>\n",
              "      <td>280.4425</td>\n",
              "      <td>1019.8050</td>\n",
              "      <td>73.0225</td>\n",
              "      <td>0.2600</td>\n",
              "      <td>0.0</td>\n",
              "    </tr>\n",
              "    <tr>\n",
              "      <th>2973</th>\n",
              "      <td>36.0</td>\n",
              "      <td>-121.0</td>\n",
              "      <td>279.6850</td>\n",
              "      <td>1018.2300</td>\n",
              "      <td>73.4200</td>\n",
              "      <td>0.0250</td>\n",
              "      <td>0.0</td>\n",
              "    </tr>\n",
              "  </tbody>\n",
              "</table>\n",
              "<p>2974 rows × 7 columns</p>\n",
              "</div>"
            ],
            "text/plain": [
              "       lat    lng  avg_temp   avg_airp  avg_humid  avg_precid  success\n",
              "0     36.0  -87.0  277.1825  1020.1425    77.9250      0.1875      0.0\n",
              "1     36.0  -87.0  277.1825  1020.1425    77.9250      0.1875      0.0\n",
              "2     42.0 -123.0  276.0250  1019.8875    85.4525      0.0575      0.0\n",
              "3     44.0 -123.0  276.0250  1019.8875    85.4525      0.0575      0.0\n",
              "4     36.0  -84.0  277.3750  1020.0125    79.1975      0.2350      0.0\n",
              "...    ...    ...       ...        ...        ...         ...      ...\n",
              "2969  41.0  -72.0  272.7475  1016.8375    70.1425      0.1400      0.0\n",
              "2970  41.0  -72.0  272.7475  1016.8375    70.1425      0.1400      0.0\n",
              "2971  41.0  -72.0  272.7475  1016.8375    70.1425      0.1400      0.0\n",
              "2972  35.0  -84.0  280.4425  1019.8050    73.0225      0.2600      0.0\n",
              "2973  36.0 -121.0  279.6850  1018.2300    73.4200      0.0250      0.0\n",
              "\n",
              "[2974 rows x 7 columns]"
            ]
          },
          "metadata": {
            "tags": []
          },
          "execution_count": 10
        }
      ]
    },
    {
      "cell_type": "code",
      "metadata": {
        "colab": {
          "base_uri": "https://localhost:8080/"
        },
        "id": "ZV6w_adeofmb",
        "outputId": "adb45f45-11d3-4003-c4f5-83dbc2159614"
      },
      "source": [
        "merlot.dtypes"
      ],
      "execution_count": null,
      "outputs": [
        {
          "output_type": "execute_result",
          "data": {
            "text/plain": [
              "lat           float64\n",
              "lng           float64\n",
              "avg_temp      float64\n",
              "avg_airp      float64\n",
              "avg_humid     float64\n",
              "avg_precid    float64\n",
              "success       float64\n",
              "dtype: object"
            ]
          },
          "metadata": {
            "tags": []
          },
          "execution_count": 11
        }
      ]
    },
    {
      "cell_type": "code",
      "metadata": {
        "colab": {
          "base_uri": "https://localhost:8080/"
        },
        "id": "QNWusI7bFFlw",
        "outputId": "b896919b-401c-4ca6-c678-4a444d1c8b0c"
      },
      "source": [
        "county_weath = spark.read.jdbc(url=jdbc_url, table='uscounty', properties=config)\n",
        "county_weath.show()"
      ],
      "execution_count": null,
      "outputs": [
        {
          "output_type": "stream",
          "text": [
            "+----+---+---+------------+--------+-------------+------------+--------------------+--------------------+--------------------+--------------------+\n",
            "| zip|lat|lng|        city|state_id|   state_name| county_name|            avg_temp|            avg_airp|           avg_humid|          avg_precip|\n",
            "+----+---+---+------------+--------+-------------+------------+--------------------+--------------------+--------------------+--------------------+\n",
            "|1001| 42|-73|      Agawam|      MA|Massachusetts|     Hampden|270.8050000000000...|1016.122500000000...|72.21500000000000...|0.125000000000000000|\n",
            "|1002| 42|-72|     Amherst|      MA|Massachusetts|   Hampshire|270.8050000000000...|1016.122500000000...|72.21500000000000...|0.125000000000000000|\n",
            "|1005| 42|-72|       Barre|      MA|Massachusetts|   Worcester|270.7250000000000...|1014.960000000000...|71.75250000000000...|0.135000000000000000|\n",
            "|1029| 42|-73|   East Otis|      MA|Massachusetts|   Berkshire|270.8050000000000...|1016.122500000000...|72.21500000000000...|0.125000000000000000|\n",
            "|1054| 42|-72|    Leverett|      MA|Massachusetts|    Franklin|270.8050000000000...|1016.122500000000...|72.21500000000000...|0.125000000000000000|\n",
            "|1431| 43|-72|       Ashby|      MA|Massachusetts|   Middlesex|270.6650000000000...|1016.715000000000...|69.78500000000000...|0.132500000000000000|\n",
            "|1810| 43|-71|     Andover|      MA|Massachusetts|       Essex|270.6650000000000...|1016.715000000000...|69.78500000000000...|0.132500000000000000|\n",
            "|2019| 42|-71|  Bellingham|      MA|Massachusetts|     Norfolk|272.1650000000000...|1016.140000000000...|71.24750000000000...|0.135000000000000000|\n",
            "|2043| 42|-71|     Hingham|      MA|Massachusetts|    Plymouth|271.7750000000000...|1016.035000000000...|69.25250000000000...|0.135000000000000000|\n",
            "|2048| 42|-71|   Mansfield|      MA|Massachusetts|     Bristol|272.1650000000000...|1016.140000000000...|71.24750000000000...|0.135000000000000000|\n",
            "|2108| 42|-71|      Boston|      MA|Massachusetts|     Suffolk|271.7475000000000...|1016.092500000000...|69.65500000000000...|0.135000000000000000|\n",
            "|2532| 42|-71|Buzzards Bay|      MA|Massachusetts|  Barnstable|272.1650000000000...|1016.140000000000...|71.24750000000000...|0.135000000000000000|\n",
            "|2535| 41|-71|    Chilmark|      MA|Massachusetts|       Dukes|272.1650000000000...|1016.140000000000...|71.24750000000000...|0.135000000000000000|\n",
            "|2554| 41|-70|   Nantucket|      MA|Massachusetts|   Nantucket|272.1650000000000...|1016.140000000000...|71.24750000000000...|0.135000000000000000|\n",
            "|2802| 42|-71|      Albion|      RI| Rhode Island|  Providence|272.1650000000000...|1016.140000000000...|71.24750000000000...|0.135000000000000000|\n",
            "|2804| 41|-72|     Ashaway|      RI| Rhode Island|  Washington|272.1650000000000...|1016.140000000000...|71.24750000000000...|0.135000000000000000|\n",
            "|2816| 42|-72|    Coventry|      RI| Rhode Island|        Kent|272.1650000000000...|1016.140000000000...|71.24750000000000...|0.135000000000000000|\n",
            "|2835| 42|-71|   Jamestown|      RI| Rhode Island|     Newport|272.1650000000000...|1016.140000000000...|71.24750000000000...|0.135000000000000000|\n",
            "|3031| 43|-72|     Amherst|      NH|New Hampshire|Hillsborough|269.7375000000000...|1015.325000000000...|69.26250000000000...|0.097500000000000000|\n",
            "|3032| 43|-71|      Auburn|      NH|New Hampshire|  Rockingham|269.7375000000000...|1015.325000000000...|69.26250000000000...|0.097500000000000000|\n",
            "+----+---+---+------------+--------+-------------+------------+--------------------+--------------------+--------------------+--------------------+\n",
            "only showing top 20 rows\n",
            "\n"
          ],
          "name": "stdout"
        }
      ]
    },
    {
      "cell_type": "code",
      "metadata": {
        "colab": {
          "base_uri": "https://localhost:8080/",
          "height": 195
        },
        "id": "nh_L9vY2sqgo",
        "outputId": "2544729e-25ef-439d-b144-20865026f319"
      },
      "source": [
        "bigcounty = county_weath.toPandas()\n",
        "bigcounty.head(10)"
      ],
      "execution_count": null,
      "outputs": [
        {
          "output_type": "execute_result",
          "data": {
            "text/html": [
              "<div>\n",
              "<style scoped>\n",
              "    .dataframe tbody tr th:only-of-type {\n",
              "        vertical-align: middle;\n",
              "    }\n",
              "\n",
              "    .dataframe tbody tr th {\n",
              "        vertical-align: top;\n",
              "    }\n",
              "\n",
              "    .dataframe thead th {\n",
              "        text-align: right;\n",
              "    }\n",
              "</style>\n",
              "<table border=\"1\" class=\"dataframe\">\n",
              "  <thead>\n",
              "    <tr style=\"text-align: right;\">\n",
              "      <th></th>\n",
              "      <th>zip</th>\n",
              "      <th>city</th>\n",
              "      <th>state_id</th>\n",
              "      <th>state_name</th>\n",
              "      <th>county_name</th>\n",
              "      <th>lat</th>\n",
              "      <th>lng</th>\n",
              "      <th>avg_temp</th>\n",
              "      <th>avg_airp</th>\n",
              "      <th>avg_humid</th>\n",
              "      <th>avg_precip</th>\n",
              "    </tr>\n",
              "  </thead>\n",
              "  <tbody>\n",
              "    <tr>\n",
              "      <th>0</th>\n",
              "      <td>1001</td>\n",
              "      <td>Agawam</td>\n",
              "      <td>MA</td>\n",
              "      <td>Massachusetts</td>\n",
              "      <td>Hampden</td>\n",
              "      <td>42.0</td>\n",
              "      <td>-73.0</td>\n",
              "      <td>270.805</td>\n",
              "      <td>1016.1225</td>\n",
              "      <td>72.2150</td>\n",
              "      <td>0.125</td>\n",
              "    </tr>\n",
              "    <tr>\n",
              "      <th>1</th>\n",
              "      <td>1002</td>\n",
              "      <td>Amherst</td>\n",
              "      <td>MA</td>\n",
              "      <td>Massachusetts</td>\n",
              "      <td>Hampshire</td>\n",
              "      <td>42.0</td>\n",
              "      <td>-72.0</td>\n",
              "      <td>270.805</td>\n",
              "      <td>1016.1225</td>\n",
              "      <td>72.2150</td>\n",
              "      <td>0.125</td>\n",
              "    </tr>\n",
              "    <tr>\n",
              "      <th>2</th>\n",
              "      <td>1005</td>\n",
              "      <td>Barre</td>\n",
              "      <td>MA</td>\n",
              "      <td>Massachusetts</td>\n",
              "      <td>Worcester</td>\n",
              "      <td>42.0</td>\n",
              "      <td>-72.0</td>\n",
              "      <td>270.725</td>\n",
              "      <td>1014.9600</td>\n",
              "      <td>71.7525</td>\n",
              "      <td>0.135</td>\n",
              "    </tr>\n",
              "    <tr>\n",
              "      <th>3</th>\n",
              "      <td>1029</td>\n",
              "      <td>East Otis</td>\n",
              "      <td>MA</td>\n",
              "      <td>Massachusetts</td>\n",
              "      <td>Berkshire</td>\n",
              "      <td>42.0</td>\n",
              "      <td>-73.0</td>\n",
              "      <td>270.805</td>\n",
              "      <td>1016.1225</td>\n",
              "      <td>72.2150</td>\n",
              "      <td>0.125</td>\n",
              "    </tr>\n",
              "    <tr>\n",
              "      <th>4</th>\n",
              "      <td>1054</td>\n",
              "      <td>Leverett</td>\n",
              "      <td>MA</td>\n",
              "      <td>Massachusetts</td>\n",
              "      <td>Franklin</td>\n",
              "      <td>42.0</td>\n",
              "      <td>-72.0</td>\n",
              "      <td>270.805</td>\n",
              "      <td>1016.1225</td>\n",
              "      <td>72.2150</td>\n",
              "      <td>0.125</td>\n",
              "    </tr>\n",
              "  </tbody>\n",
              "</table>\n",
              "</div>"
            ],
            "text/plain": [
              "    zip       city state_id  ...   avg_airp avg_humid  avg_precip\n",
              "0  1001     Agawam       MA  ...  1016.1225   72.2150       0.125\n",
              "1  1002    Amherst       MA  ...  1016.1225   72.2150       0.125\n",
              "2  1005      Barre       MA  ...  1014.9600   71.7525       0.135\n",
              "3  1029  East Otis       MA  ...  1016.1225   72.2150       0.125\n",
              "4  1054   Leverett       MA  ...  1016.1225   72.2150       0.125\n",
              "\n",
              "[5 rows x 11 columns]"
            ]
          },
          "metadata": {
            "tags": []
          },
          "execution_count": 28
        }
      ]
    },
    {
      "cell_type": "code",
      "metadata": {
        "colab": {
          "base_uri": "https://localhost:8080/"
        },
        "id": "_gTBo6rButQg",
        "outputId": "dd3d1a86-0caf-4ddf-93fe-71d6914ccb11"
      },
      "source": [
        "bigcounty.dtypes"
      ],
      "execution_count": null,
      "outputs": [
        {
          "output_type": "execute_result",
          "data": {
            "text/plain": [
              "zip              int64\n",
              "city            object\n",
              "state_id        object\n",
              "state_name      object\n",
              "county_name     object\n",
              "lat            float64\n",
              "lng            float64\n",
              "avg_temp       float64\n",
              "avg_airp       float64\n",
              "avg_humid      float64\n",
              "avg_precip     float64\n",
              "dtype: object"
            ]
          },
          "metadata": {
            "tags": []
          },
          "execution_count": 29
        }
      ]
    },
    {
      "cell_type": "code",
      "metadata": {
        "id": "HM45XYAu_SYx"
      },
      "source": [
        "countydrops = ['zip','city','state_id','state_name','county_name']"
      ],
      "execution_count": null,
      "outputs": []
    },
    {
      "cell_type": "code",
      "metadata": {
        "id": "b4woMuSd9QsO"
      },
      "source": [
        "mer_df = (allwines.select('lat','lng','avg_temp','avg_airp','avg_humid','avg_precip','points').filter(allwines.variety == 'Merlot').collect()).toPandas()\n",
        "syr_df = (allwines.select('lat','lng','avg_temp','avg_airp','avg_humid','avg_precip','points').filter(allwines.variety == 'Syrah').collect()).toPandas()\n",
        "savyb_df = (allwines.select('lat','lng','avg_temp','avg_airp','avg_humid','avg_precip','points').filter(allwines.variety == 'Sauvignon Blanc').collect()).toPandas()\n",
        "ries_df = (allwines.select('lat','lng','avg_temp','avg_airp','avg_humid','avg_precip','points').filter(allwines.variety == 'Riesling').collect()).toPandas()\n",
        "cabsav_df = (allwines.select('lat','lng','avg_temp','avg_airp','avg_humid','avg_precip','points').filter(allwines.variety == 'Cabernet Sauvignon').collect()).toPandas()\n",
        "char_df = (allwines.select('lat','lng','avg_temp','avg_airp','avg_humid','avg_precip','points').filter(allwines.variety == 'Chardonnay').collect()).toPandas()\n",
        "pino_df = (allwines.select('lat','lng','avg_temp','avg_airp','avg_humid','avg_precip','points').filter(allwines.variety == 'Pinot Noir').collect()).toPandas()"
      ],
      "execution_count": null,
      "outputs": []
    },
    {
      "cell_type": "code",
      "metadata": {
        "colab": {
          "base_uri": "https://localhost:8080/"
        },
        "id": "IeuTOtY4xdqx",
        "outputId": "6145d729-d4bc-4fcc-a1ab-f59f511733dd"
      },
      "source": [
        "mer_df.dtypes"
      ],
      "execution_count": null,
      "outputs": [
        {
          "output_type": "execute_result",
          "data": {
            "text/plain": [
              "lat           float64\n",
              "lng           float64\n",
              "avg_temp      float64\n",
              "avg_airp      float64\n",
              "avg_humid     float64\n",
              "avg_precid    float64\n",
              "success       float64\n",
              "dtype: object"
            ]
          },
          "metadata": {
            "tags": []
          },
          "execution_count": 31
        }
      ]
    },
    {
      "cell_type": "code",
      "metadata": {
        "id": "zR-Lpgr29QnD"
      },
      "source": [
        "winedropcols = ['points']"
      ],
      "execution_count": null,
      "outputs": []
    },
    {
      "cell_type": "code",
      "metadata": {
        "colab": {
          "base_uri": "https://localhost:8080/"
        },
        "id": "fWXQJq1A9Qtl",
        "outputId": "705c705e-3fa3-4906-f989-939d3084b862"
      },
      "source": [
        "#features and targets\n",
        "variety = mer_df.copy()\n",
        "y = variety['success']\n",
        "X = variety.drop(columns=winedropcols)\n",
        "X_train, X_test, y_train, y_test = train_test_split(X,y)\n",
        "#init model again\n",
        "rf = RandomForestClassifier(n_estimators=200, random_state=99)\n",
        "rf.fit(X, y)"
      ],
      "execution_count": null,
      "outputs": [
        {
          "output_type": "execute_result",
          "data": {
            "text/plain": [
              "RandomForestClassifier(bootstrap=True, ccp_alpha=0.0, class_weight=None,\n",
              "                       criterion='gini', max_depth=None, max_features='auto',\n",
              "                       max_leaf_nodes=None, max_samples=None,\n",
              "                       min_impurity_decrease=0.0, min_impurity_split=None,\n",
              "                       min_samples_leaf=1, min_samples_split=2,\n",
              "                       min_weight_fraction_leaf=0.0, n_estimators=200,\n",
              "                       n_jobs=None, oob_score=False, random_state=99, verbose=0,\n",
              "                       warm_start=False)"
            ]
          },
          "metadata": {
            "tags": []
          },
          "execution_count": 36
        }
      ]
    },
    {
      "cell_type": "code",
      "metadata": {
        "colab": {
          "base_uri": "https://localhost:8080/"
        },
        "id": "W7HjASbM-KF1",
        "outputId": "adad9b64-6ad4-4208-b247-38f90ee79f34"
      },
      "source": [
        "preds = rf.predict(X_test)\n",
        "acc_score = accuracy_score(y_test, preds)\n",
        "acc_score"
      ],
      "execution_count": null,
      "outputs": [
        {
          "output_type": "execute_result",
          "data": {
            "text/plain": [
              "0.7728494623655914"
            ]
          },
          "metadata": {
            "tags": []
          },
          "execution_count": 37
        }
      ]
    },
    {
      "cell_type": "code",
      "metadata": {
        "id": "ZegfCHX1-KIF"
      },
      "source": [
        "#using model to predict the counties\n",
        "Xcount = bigcounty.drop(columns=countydrops)\n",
        "mer_preds = rf.predict(Xcount)"
      ],
      "execution_count": null,
      "outputs": []
    },
    {
      "cell_type": "code",
      "metadata": {
        "colab": {
          "base_uri": "https://localhost:8080/"
        },
        "id": "Z63vhufX-KTa",
        "outputId": "dfdffa84-8c06-4d7b-ba8a-93d3705f8b49"
      },
      "source": [
        "#features and targets\n",
        "variety = syr_df\n",
        "y = variety['success']\n",
        "X = variety.drop(columns=winedropcols)\n",
        "X_train, X_test, y_train, y_test = train_test_split(X,y)\n",
        "#init model again\n",
        "rf = RandomForestClassifier(n_estimators=200, random_state=99)\n",
        "rf.fit(X, y)"
      ],
      "execution_count": null,
      "outputs": [
        {
          "output_type": "execute_result",
          "data": {
            "text/plain": [
              "RandomForestClassifier(bootstrap=True, ccp_alpha=0.0, class_weight=None,\n",
              "                       criterion='gini', max_depth=None, max_features='auto',\n",
              "                       max_leaf_nodes=None, max_samples=None,\n",
              "                       min_impurity_decrease=0.0, min_impurity_split=None,\n",
              "                       min_samples_leaf=1, min_samples_split=2,\n",
              "                       min_weight_fraction_leaf=0.0, n_estimators=200,\n",
              "                       n_jobs=None, oob_score=False, random_state=99, verbose=0,\n",
              "                       warm_start=False)"
            ]
          },
          "metadata": {
            "tags": []
          },
          "execution_count": 42
        }
      ]
    },
    {
      "cell_type": "code",
      "metadata": {
        "colab": {
          "base_uri": "https://localhost:8080/"
        },
        "id": "gwW4fvQu9Qwq",
        "outputId": "8f1e6be3-681a-49cf-e2d7-a26c6cd90e16"
      },
      "source": [
        "preds = rf.predict(X_test)\n",
        "acc_score = accuracy_score(y_test, preds)\n",
        "acc_score"
      ],
      "execution_count": null,
      "outputs": [
        {
          "output_type": "execute_result",
          "data": {
            "text/plain": [
              "0.6588594704684317"
            ]
          },
          "metadata": {
            "tags": []
          },
          "execution_count": 43
        }
      ]
    },
    {
      "cell_type": "code",
      "metadata": {
        "id": "TFOTgtQT9Q1Q"
      },
      "source": [
        "#using model to predict the counties\n",
        "Xcount = bigcounty.drop(columns=['zip','city', 'state_id', 'state_name', 'county_name'])\n",
        "syr_preds = rf.predict(Xcount)"
      ],
      "execution_count": null,
      "outputs": []
    },
    {
      "cell_type": "code",
      "metadata": {
        "colab": {
          "base_uri": "https://localhost:8080/"
        },
        "id": "lwrmYR3dAOxL",
        "outputId": "c5697f9e-94b2-400e-aa5c-20dbcc31588e"
      },
      "source": [
        "#features and targets\n",
        "variety = savyb_df\n",
        "y = variety['success']\n",
        "X = variety.drop(columns=winedropcols)\n",
        "X_train, X_test, y_train, y_test = train_test_split(X,y)\n",
        "#init model again\n",
        "rf = RandomForestClassifier(n_estimators=200, random_state=99)\n",
        "rf.fit(X, y)"
      ],
      "execution_count": null,
      "outputs": [
        {
          "output_type": "execute_result",
          "data": {
            "text/plain": [
              "RandomForestClassifier(bootstrap=True, ccp_alpha=0.0, class_weight=None,\n",
              "                       criterion='gini', max_depth=None, max_features='auto',\n",
              "                       max_leaf_nodes=None, max_samples=None,\n",
              "                       min_impurity_decrease=0.0, min_impurity_split=None,\n",
              "                       min_samples_leaf=1, min_samples_split=2,\n",
              "                       min_weight_fraction_leaf=0.0, n_estimators=200,\n",
              "                       n_jobs=None, oob_score=False, random_state=99, verbose=0,\n",
              "                       warm_start=False)"
            ]
          },
          "metadata": {
            "tags": []
          },
          "execution_count": 45
        }
      ]
    },
    {
      "cell_type": "code",
      "metadata": {
        "colab": {
          "base_uri": "https://localhost:8080/"
        },
        "id": "K6ZBxxGrAOz9",
        "outputId": "5951b4a9-aab8-4586-cd02-24da59ea5488"
      },
      "source": [
        "preds = rf.predict(X_test)\n",
        "acc_score = accuracy_score(y_test, preds)\n",
        "acc_score"
      ],
      "execution_count": null,
      "outputs": [
        {
          "output_type": "execute_result",
          "data": {
            "text/plain": [
              "0.7593220338983051"
            ]
          },
          "metadata": {
            "tags": []
          },
          "execution_count": 46
        }
      ]
    },
    {
      "cell_type": "code",
      "metadata": {
        "id": "7D8JpmyAAO3S"
      },
      "source": [
        "#using model to predict the counties\n",
        "Xcount = bigcounty.drop(columns=['zip','city', 'state_id', 'state_name', 'county_name'])\n",
        "savyb_preds = rf.predict(Xcount)"
      ],
      "execution_count": null,
      "outputs": []
    },
    {
      "cell_type": "code",
      "metadata": {
        "colab": {
          "base_uri": "https://localhost:8080/"
        },
        "id": "xhaocGCMAO6F",
        "outputId": "b7722356-0d48-413f-e81f-ba34cac733a9"
      },
      "source": [
        "#features and targets\n",
        "variety = ries_df\n",
        "y = variety['success']\n",
        "X = variety.drop(columns=winedropcols)\n",
        "X_train, X_test, y_train, y_test = train_test_split(X,y)\n",
        "#init model again\n",
        "rf = RandomForestClassifier(n_estimators=200, random_state=99)\n",
        "rf.fit(X, y)"
      ],
      "execution_count": null,
      "outputs": [
        {
          "output_type": "execute_result",
          "data": {
            "text/plain": [
              "RandomForestClassifier(bootstrap=True, ccp_alpha=0.0, class_weight=None,\n",
              "                       criterion='gini', max_depth=None, max_features='auto',\n",
              "                       max_leaf_nodes=None, max_samples=None,\n",
              "                       min_impurity_decrease=0.0, min_impurity_split=None,\n",
              "                       min_samples_leaf=1, min_samples_split=2,\n",
              "                       min_weight_fraction_leaf=0.0, n_estimators=200,\n",
              "                       n_jobs=None, oob_score=False, random_state=99, verbose=0,\n",
              "                       warm_start=False)"
            ]
          },
          "metadata": {
            "tags": []
          },
          "execution_count": 48
        }
      ]
    },
    {
      "cell_type": "code",
      "metadata": {
        "colab": {
          "base_uri": "https://localhost:8080/"
        },
        "id": "FLQkK0qZAO9B",
        "outputId": "c68ea59d-76ca-42d2-c09f-2e436910bf39"
      },
      "source": [
        "preds = rf.predict(X_test)\n",
        "acc_score = accuracy_score(y_test, preds)\n",
        "acc_score"
      ],
      "execution_count": null,
      "outputs": [
        {
          "output_type": "execute_result",
          "data": {
            "text/plain": [
              "0.6945967110415036"
            ]
          },
          "metadata": {
            "tags": []
          },
          "execution_count": 49
        }
      ]
    },
    {
      "cell_type": "code",
      "metadata": {
        "id": "mIdHq6h3APAE"
      },
      "source": [
        "#using model to predict the counties\n",
        "Xcount = bigcounty.drop(columns=['zip','city', 'state_id', 'state_name', 'county_name'])\n",
        "ries_preds = rf.predict(Xcount)"
      ],
      "execution_count": null,
      "outputs": []
    },
    {
      "cell_type": "code",
      "metadata": {
        "colab": {
          "base_uri": "https://localhost:8080/"
        },
        "id": "zPnqrGohAPDJ",
        "outputId": "1f3b3b4d-cba5-435b-907f-c92fb69ece4e"
      },
      "source": [
        "#features and targets\n",
        "variety = cabsav_df\n",
        "y = variety['success']\n",
        "X = variety.drop(columns=winedropcols)\n",
        "X_train, X_test, y_train, y_test = train_test_split(X,y)\n",
        "#init model again\n",
        "rf = RandomForestClassifier(n_estimators=200, random_state=99)\n",
        "rf.fit(X, y)"
      ],
      "execution_count": null,
      "outputs": [
        {
          "output_type": "execute_result",
          "data": {
            "text/plain": [
              "RandomForestClassifier(bootstrap=True, ccp_alpha=0.0, class_weight=None,\n",
              "                       criterion='gini', max_depth=None, max_features='auto',\n",
              "                       max_leaf_nodes=None, max_samples=None,\n",
              "                       min_impurity_decrease=0.0, min_impurity_split=None,\n",
              "                       min_samples_leaf=1, min_samples_split=2,\n",
              "                       min_weight_fraction_leaf=0.0, n_estimators=200,\n",
              "                       n_jobs=None, oob_score=False, random_state=99, verbose=0,\n",
              "                       warm_start=False)"
            ]
          },
          "metadata": {
            "tags": []
          },
          "execution_count": 51
        }
      ]
    },
    {
      "cell_type": "code",
      "metadata": {
        "colab": {
          "base_uri": "https://localhost:8080/"
        },
        "id": "NUWHFYYwAPGE",
        "outputId": "84336fe9-2004-4265-ab28-48ecb62d735e"
      },
      "source": [
        "preds = rf.predict(X_test)\n",
        "acc_score = accuracy_score(y_test, preds)\n",
        "acc_score"
      ],
      "execution_count": null,
      "outputs": [
        {
          "output_type": "execute_result",
          "data": {
            "text/plain": [
              "0.7035860190649115"
            ]
          },
          "metadata": {
            "tags": []
          },
          "execution_count": 52
        }
      ]
    },
    {
      "cell_type": "code",
      "metadata": {
        "id": "hQJjjtoCAPJB"
      },
      "source": [
        "#using model to predict the counties\n",
        "Xcount = bigcounty.drop(columns=['zip','city', 'state_id', 'state_name', 'county_name'])\n",
        "cabsav_preds = rf.predict(Xcount)"
      ],
      "execution_count": null,
      "outputs": []
    },
    {
      "cell_type": "code",
      "metadata": {
        "colab": {
          "base_uri": "https://localhost:8080/"
        },
        "id": "cczRRBijAPMk",
        "outputId": "ea4ac5b8-99ad-4ce0-b167-6e7f1b4dd3b0"
      },
      "source": [
        "#features and targets\n",
        "variety = char_df\n",
        "y = variety['success']\n",
        "X = variety.drop(columns=winedropcols)\n",
        "X_train, X_test, y_train, y_test = train_test_split(X,y)\n",
        "#init model again\n",
        "rf = RandomForestClassifier(n_estimators=200, random_state=99)\n",
        "rf.fit(X, y)"
      ],
      "execution_count": null,
      "outputs": [
        {
          "output_type": "execute_result",
          "data": {
            "text/plain": [
              "RandomForestClassifier(bootstrap=True, ccp_alpha=0.0, class_weight=None,\n",
              "                       criterion='gini', max_depth=None, max_features='auto',\n",
              "                       max_leaf_nodes=None, max_samples=None,\n",
              "                       min_impurity_decrease=0.0, min_impurity_split=None,\n",
              "                       min_samples_leaf=1, min_samples_split=2,\n",
              "                       min_weight_fraction_leaf=0.0, n_estimators=200,\n",
              "                       n_jobs=None, oob_score=False, random_state=99, verbose=0,\n",
              "                       warm_start=False)"
            ]
          },
          "metadata": {
            "tags": []
          },
          "execution_count": 54
        }
      ]
    },
    {
      "cell_type": "code",
      "metadata": {
        "colab": {
          "base_uri": "https://localhost:8080/"
        },
        "id": "e6bQ-rEjAlXd",
        "outputId": "e3e17319-d0ba-4a45-e865-19484bc0aeff"
      },
      "source": [
        "preds = rf.predict(X_test)\n",
        "acc_score = accuracy_score(y_test, preds)\n",
        "acc_score"
      ],
      "execution_count": null,
      "outputs": [
        {
          "output_type": "execute_result",
          "data": {
            "text/plain": [
              "0.7079646017699115"
            ]
          },
          "metadata": {
            "tags": []
          },
          "execution_count": 55
        }
      ]
    },
    {
      "cell_type": "code",
      "metadata": {
        "id": "3la9DNFpAla0"
      },
      "source": [
        "#using model to predict the counties\n",
        "Xcount = bigcounty.drop(columns=['zip','city', 'state_id', 'state_name', 'county_name'])\n",
        "char_preds = rf.predict(Xcount)"
      ],
      "execution_count": null,
      "outputs": []
    },
    {
      "cell_type": "code",
      "metadata": {
        "colab": {
          "base_uri": "https://localhost:8080/"
        },
        "id": "rpV2LT1UAliu",
        "outputId": "119e9667-c90c-45b8-e673-a679e7be33d0"
      },
      "source": [
        "#features and targets\n",
        "variety = pino_df\n",
        "y = variety['success']\n",
        "X = variety.drop(columns=winedropcols)\n",
        "X_train, X_test, y_train, y_test = train_test_split(X,y)\n",
        "#init model again\n",
        "rf = RandomForestClassifier(n_estimators=200, random_state=99)\n",
        "rf.fit(X, y)"
      ],
      "execution_count": null,
      "outputs": [
        {
          "output_type": "execute_result",
          "data": {
            "text/plain": [
              "RandomForestClassifier(bootstrap=True, ccp_alpha=0.0, class_weight=None,\n",
              "                       criterion='gini', max_depth=None, max_features='auto',\n",
              "                       max_leaf_nodes=None, max_samples=None,\n",
              "                       min_impurity_decrease=0.0, min_impurity_split=None,\n",
              "                       min_samples_leaf=1, min_samples_split=2,\n",
              "                       min_weight_fraction_leaf=0.0, n_estimators=200,\n",
              "                       n_jobs=None, oob_score=False, random_state=99, verbose=0,\n",
              "                       warm_start=False)"
            ]
          },
          "metadata": {
            "tags": []
          },
          "execution_count": 57
        }
      ]
    },
    {
      "cell_type": "code",
      "metadata": {
        "colab": {
          "base_uri": "https://localhost:8080/"
        },
        "id": "c2g2IZGBAlvA",
        "outputId": "6e97a518-649c-4d6d-e543-43b0643f2324"
      },
      "source": [
        "preds = rf.predict(X_test)\n",
        "acc_score = accuracy_score(y_test, preds)\n",
        "acc_score"
      ],
      "execution_count": null,
      "outputs": [
        {
          "output_type": "execute_result",
          "data": {
            "text/plain": [
              "0.6501107244542866"
            ]
          },
          "metadata": {
            "tags": []
          },
          "execution_count": 58
        }
      ]
    },
    {
      "cell_type": "code",
      "metadata": {
        "id": "Vt6CNH7xAlzS"
      },
      "source": [
        "#using model to predict the counties\n",
        "Xcount = bigcounty.drop(columns=['zip','city', 'state_id', 'state_name', 'county_name'])\n",
        "pino_preds = rf.predict(Xcount)"
      ],
      "execution_count": null,
      "outputs": []
    },
    {
      "cell_type": "code",
      "metadata": {
        "id": "kn67tSDZAl3L"
      },
      "source": [
        "counties_preds = bigcounty.copy()\n",
        "counties_preds['mer_success'] = mer_preds\n",
        "counties_preds['syr_success'] = syr_preds\n",
        "counties_preds['savyb_success'] = savyb_preds\n",
        "counties_preds['ries_success'] = ries_preds\n",
        "counties_preds['cabsav_success'] = cabsav_preds\n",
        "counties_preds['char_success'] = char_preds\n",
        "counties_preds['pinot_success'] = pino_preds"
      ],
      "execution_count": null,
      "outputs": []
    },
    {
      "cell_type": "code",
      "metadata": {
        "colab": {
          "base_uri": "https://localhost:8080/",
          "height": 232
        },
        "id": "lFKhpvltAmCS",
        "outputId": "b2032084-9878-4899-ff37-f1ddcbcf6d22"
      },
      "source": [
        "counties_preds.head()"
      ],
      "execution_count": null,
      "outputs": [
        {
          "output_type": "execute_result",
          "data": {
            "text/html": [
              "<div>\n",
              "<style scoped>\n",
              "    .dataframe tbody tr th:only-of-type {\n",
              "        vertical-align: middle;\n",
              "    }\n",
              "\n",
              "    .dataframe tbody tr th {\n",
              "        vertical-align: top;\n",
              "    }\n",
              "\n",
              "    .dataframe thead th {\n",
              "        text-align: right;\n",
              "    }\n",
              "</style>\n",
              "<table border=\"1\" class=\"dataframe\">\n",
              "  <thead>\n",
              "    <tr style=\"text-align: right;\">\n",
              "      <th></th>\n",
              "      <th>zip</th>\n",
              "      <th>city</th>\n",
              "      <th>state_id</th>\n",
              "      <th>state_name</th>\n",
              "      <th>county_name</th>\n",
              "      <th>lat</th>\n",
              "      <th>lng</th>\n",
              "      <th>avg_temp</th>\n",
              "      <th>avg_airp</th>\n",
              "      <th>avg_humid</th>\n",
              "      <th>avg_precip</th>\n",
              "      <th>mer_success</th>\n",
              "      <th>rose_success</th>\n",
              "      <th>syr_success</th>\n",
              "      <th>savyb_success</th>\n",
              "      <th>ries_success</th>\n",
              "      <th>cabsav_success</th>\n",
              "      <th>char_success</th>\n",
              "      <th>pinot_success</th>\n",
              "    </tr>\n",
              "  </thead>\n",
              "  <tbody>\n",
              "    <tr>\n",
              "      <th>0</th>\n",
              "      <td>1001</td>\n",
              "      <td>Agawam</td>\n",
              "      <td>MA</td>\n",
              "      <td>Massachusetts</td>\n",
              "      <td>Hampden</td>\n",
              "      <td>42.0</td>\n",
              "      <td>-73.0</td>\n",
              "      <td>270.805</td>\n",
              "      <td>1016.1225</td>\n",
              "      <td>72.2150</td>\n",
              "      <td>0.125</td>\n",
              "      <td>0.0</td>\n",
              "      <td>0.0</td>\n",
              "      <td>0.0</td>\n",
              "      <td>0.0</td>\n",
              "      <td>0.0</td>\n",
              "      <td>0.0</td>\n",
              "      <td>0.0</td>\n",
              "      <td>1.0</td>\n",
              "    </tr>\n",
              "    <tr>\n",
              "      <th>1</th>\n",
              "      <td>1002</td>\n",
              "      <td>Amherst</td>\n",
              "      <td>MA</td>\n",
              "      <td>Massachusetts</td>\n",
              "      <td>Hampshire</td>\n",
              "      <td>42.0</td>\n",
              "      <td>-72.0</td>\n",
              "      <td>270.805</td>\n",
              "      <td>1016.1225</td>\n",
              "      <td>72.2150</td>\n",
              "      <td>0.125</td>\n",
              "      <td>0.0</td>\n",
              "      <td>0.0</td>\n",
              "      <td>0.0</td>\n",
              "      <td>0.0</td>\n",
              "      <td>0.0</td>\n",
              "      <td>0.0</td>\n",
              "      <td>0.0</td>\n",
              "      <td>1.0</td>\n",
              "    </tr>\n",
              "    <tr>\n",
              "      <th>2</th>\n",
              "      <td>1005</td>\n",
              "      <td>Barre</td>\n",
              "      <td>MA</td>\n",
              "      <td>Massachusetts</td>\n",
              "      <td>Worcester</td>\n",
              "      <td>42.0</td>\n",
              "      <td>-72.0</td>\n",
              "      <td>270.725</td>\n",
              "      <td>1014.9600</td>\n",
              "      <td>71.7525</td>\n",
              "      <td>0.135</td>\n",
              "      <td>0.0</td>\n",
              "      <td>0.0</td>\n",
              "      <td>0.0</td>\n",
              "      <td>0.0</td>\n",
              "      <td>0.0</td>\n",
              "      <td>0.0</td>\n",
              "      <td>0.0</td>\n",
              "      <td>1.0</td>\n",
              "    </tr>\n",
              "    <tr>\n",
              "      <th>3</th>\n",
              "      <td>1029</td>\n",
              "      <td>East Otis</td>\n",
              "      <td>MA</td>\n",
              "      <td>Massachusetts</td>\n",
              "      <td>Berkshire</td>\n",
              "      <td>42.0</td>\n",
              "      <td>-73.0</td>\n",
              "      <td>270.805</td>\n",
              "      <td>1016.1225</td>\n",
              "      <td>72.2150</td>\n",
              "      <td>0.125</td>\n",
              "      <td>0.0</td>\n",
              "      <td>0.0</td>\n",
              "      <td>0.0</td>\n",
              "      <td>0.0</td>\n",
              "      <td>0.0</td>\n",
              "      <td>0.0</td>\n",
              "      <td>0.0</td>\n",
              "      <td>1.0</td>\n",
              "    </tr>\n",
              "    <tr>\n",
              "      <th>4</th>\n",
              "      <td>1054</td>\n",
              "      <td>Leverett</td>\n",
              "      <td>MA</td>\n",
              "      <td>Massachusetts</td>\n",
              "      <td>Franklin</td>\n",
              "      <td>42.0</td>\n",
              "      <td>-72.0</td>\n",
              "      <td>270.805</td>\n",
              "      <td>1016.1225</td>\n",
              "      <td>72.2150</td>\n",
              "      <td>0.125</td>\n",
              "      <td>0.0</td>\n",
              "      <td>0.0</td>\n",
              "      <td>0.0</td>\n",
              "      <td>0.0</td>\n",
              "      <td>0.0</td>\n",
              "      <td>0.0</td>\n",
              "      <td>0.0</td>\n",
              "      <td>1.0</td>\n",
              "    </tr>\n",
              "  </tbody>\n",
              "</table>\n",
              "</div>"
            ],
            "text/plain": [
              "    zip       city state_id  ... cabsav_success char_success  pinot_success\n",
              "0  1001     Agawam       MA  ...            0.0          0.0            1.0\n",
              "1  1002    Amherst       MA  ...            0.0          0.0            1.0\n",
              "2  1005      Barre       MA  ...            0.0          0.0            1.0\n",
              "3  1029  East Otis       MA  ...            0.0          0.0            1.0\n",
              "4  1054   Leverett       MA  ...            0.0          0.0            1.0\n",
              "\n",
              "[5 rows x 19 columns]"
            ]
          },
          "metadata": {
            "tags": []
          },
          "execution_count": 61
        }
      ]
    },
    {
      "cell_type": "code",
      "metadata": {
        "id": "XRMRV5XrAmGK"
      },
      "source": [
        "counties_preds.to_csv('county_predictions.csv')\n",
        "counties_preds.to_json('county_predictions.json')"
      ],
      "execution_count": null,
      "outputs": []
    },
    {
      "cell_type": "code",
      "metadata": {
        "id": "iAS97wguAmJ4"
      },
      "source": [
        "spark_counties = spark.createDataFrame(counties_preds)\n",
        "spark_counties.show()"
      ],
      "execution_count": null,
      "outputs": []
    },
    {
      "cell_type": "code",
      "metadata": {
        "id": "gIL0N7FVAPQy"
      },
      "source": [
        "#spark_counties.write.jdbc(url=jdbc_url, table='county_predictions', mode=mode, properties=config)"
      ],
      "execution_count": null,
      "outputs": []
    },
    {
      "cell_type": "code",
      "metadata": {
        "id": "sfyfK9Ov0Ugf"
      },
      "source": [
        "#sparked_preds = spark.read.jdbc(url=jdbc_url, table='county_predictions', properties=config)"
      ],
      "execution_count": null,
      "outputs": []
    },
    {
      "cell_type": "code",
      "metadata": {
        "id": "oZ_v44oe0bmg"
      },
      "source": [
        "#sparked_preds.show()"
      ],
      "execution_count": null,
      "outputs": []
    },
    {
      "cell_type": "code",
      "metadata": {
        "id": "3_DHlPOh1O-o"
      },
      "source": [
        "#winners_df = pd.DataFrame(sparked_preds.select('zip','lat','lng','state_id','county_name','mer_success','rose_success','syr_success','savyb_success','ries_success','cabsav_success','char_success','pinot_success').collect(), columns=['zip','lat','lng','state','county_name','mer_success','rose_success','syr_success','savyb_success','ries_success','cabsav_success','char_success','pinot_success'], dtype=float)\n",
        "#winners_df.describe()"
      ],
      "execution_count": null,
      "outputs": []
    },
    {
      "cell_type": "code",
      "metadata": {
        "id": "OMMF9B9PngPJ"
      },
      "source": [
        "#winners_df.columns"
      ],
      "execution_count": null,
      "outputs": []
    },
    {
      "cell_type": "code",
      "metadata": {
        "id": "VjdZ1xDloCk-"
      },
      "source": [
        "#winners_df"
      ],
      "execution_count": null,
      "outputs": []
    },
    {
      "cell_type": "code",
      "metadata": {
        "id": "BrIcwIChn_Ui"
      },
      "source": [
        "#winners_df['mer_success'].value_counts()"
      ],
      "execution_count": null,
      "outputs": []
    }
  ]
}