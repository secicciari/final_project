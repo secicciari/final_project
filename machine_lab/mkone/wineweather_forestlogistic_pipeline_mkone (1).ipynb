{
  "nbformat": 4,
  "nbformat_minor": 0,
  "metadata": {
    "colab": {
      "name": "wineweather_forestlogistic_pipeline_mkone.ipynb",
      "provenance": [],
      "collapsed_sections": []
    },
    "kernelspec": {
      "name": "python3",
      "display_name": "Python 3"
    },
    "language_info": {
      "name": "python"
    }
  },
  "cells": [
    {
      "cell_type": "code",
      "metadata": {
        "colab": {
          "base_uri": "https://localhost:8080/"
        },
        "id": "g1EZ04H39K0x",
        "outputId": "de0d8154-ad66-4382-fc52-5c012411ba5b"
      },
      "source": [
        "# Initial imports.\n",
        "import pandas as pd\n",
        "import numpy as np\n",
        "from numpy import random\n",
        "import os\n",
        "from sklearn.ensemble import RandomForestClassifier, RandomForestRegressor\n",
        "from sklearn.preprocessing import StandardScaler\n",
        "from sklearn.model_selection import train_test_split\n",
        "from sklearn.metrics import confusion_matrix, accuracy_score, classification_report\n",
        "\n",
        "# Import RDS password\n",
        "from config import rds_pwd\n",
        "\n",
        "import os\n",
        "# Find the latest version of spark 2.0  from http://www-us.apache.org/dist/spark/ and enter as the spark version\n",
        "spark_version = 'spark-3.0.2'\n",
        "os.environ['SPARK_VERSION']=spark_version\n",
        "\n",
        "# Install Spark and Java\n",
        "!apt-get update\n",
        "!apt-get install openjdk-11-jdk-headless -qq > /dev/null\n",
        "!wget -q http://www-us.apache.org/dist/spark/$SPARK_VERSION/$SPARK_VERSION-bin-hadoop2.7.tgz\n",
        "!tar xf $SPARK_VERSION-bin-hadoop2.7.tgz\n",
        "!pip install -q findspark\n",
        "\n",
        "# Set Environment Variables\n",
        "import os\n",
        "os.environ[\"JAVA_HOME\"] = \"/usr/lib/jvm/java-11-openjdk-amd64\"\n",
        "os.environ[\"SPARK_HOME\"] = f\"/content/{spark_version}-bin-hadoop2.7\"\n",
        "\n",
        "# Start a SparkSession\n",
        "import findspark\n",
        "findspark.init()\n",
        "\n",
        "spark_version = 'spark-3.0.2'\n",
        "os.environ['SPARK_VERSION']=spark_version\n",
        "\n",
        "# Install Spark and Java\n",
        "!apt-get update\n",
        "!apt-get install openjdk-11-jdk-headless -qq > /dev/null\n",
        "!wget -q http://www-us.apache.org/dist/spark/$SPARK_VERSION/$SPARK_VERSION-bin-hadoop2.7.tgz\n",
        "!tar xf $SPARK_VERSION-bin-hadoop2.7.tgz\n",
        "!pip install -q findspark\n",
        "\n",
        "# Set Environment Variables\n",
        "import os\n",
        "os.environ[\"JAVA_HOME\"] = \"/usr/lib/jvm/java-11-openjdk-amd64\"\n",
        "os.environ[\"SPARK_HOME\"] = f\"/content/{spark_version}-bin-hadoop2.7\"\n",
        "\n",
        "# Start a SparkSession\n",
        "import findspark\n",
        "findspark.init()"
      ],
      "execution_count": 1,
      "outputs": [
        {
          "output_type": "stream",
          "text": [
            "\r0% [Working]\r            \rGet:1 https://cloud.r-project.org/bin/linux/ubuntu bionic-cran40/ InRelease [3,626 B]\n",
            "\r0% [Connecting to archive.ubuntu.com] [Connecting to security.ubuntu.com] [1 In\r0% [Connecting to archive.ubuntu.com] [Connecting to security.ubuntu.com] [Conn\r                                                                               \rIgn:2 https://developer.download.nvidia.com/compute/cuda/repos/ubuntu1804/x86_64  InRelease\n",
            "\r0% [Connecting to archive.ubuntu.com] [Connecting to security.ubuntu.com] [Conn\r0% [1 InRelease gpgv 3,626 B] [Connecting to archive.ubuntu.com] [Connecting to\r                                                                               \rIgn:3 https://developer.download.nvidia.com/compute/machine-learning/repos/ubuntu1804/x86_64  InRelease\n",
            "\r0% [1 InRelease gpgv 3,626 B] [Connecting to archive.ubuntu.com] [Connecting to\r                                                                               \rGet:4 https://developer.download.nvidia.com/compute/cuda/repos/ubuntu1804/x86_64  Release [697 B]\n",
            "\r0% [1 InRelease gpgv 3,626 B] [Connecting to archive.ubuntu.com (91.189.88.152)\r0% [1 InRelease gpgv 3,626 B] [Connecting to archive.ubuntu.com (91.189.88.152)\r                                                                               \rHit:5 https://developer.download.nvidia.com/compute/machine-learning/repos/ubuntu1804/x86_64  Release\n",
            "Get:6 https://developer.download.nvidia.com/compute/cuda/repos/ubuntu1804/x86_64  Release.gpg [836 B]\n",
            "Get:7 http://security.ubuntu.com/ubuntu bionic-security InRelease [88.7 kB]\n",
            "Get:8 http://ppa.launchpad.net/c2d4u.team/c2d4u4.0+/ubuntu bionic InRelease [15.9 kB]\n",
            "Get:9 https://cloud.r-project.org/bin/linux/ubuntu bionic-cran40/ Packages [60.9 kB]\n",
            "Hit:10 http://archive.ubuntu.com/ubuntu bionic InRelease\n",
            "Get:11 http://archive.ubuntu.com/ubuntu bionic-updates InRelease [88.7 kB]\n",
            "Hit:13 http://ppa.launchpad.net/cran/libgit2/ubuntu bionic InRelease\n",
            "Ign:14 https://developer.download.nvidia.com/compute/cuda/repos/ubuntu1804/x86_64  Packages\n",
            "Get:14 https://developer.download.nvidia.com/compute/cuda/repos/ubuntu1804/x86_64  Packages [796 kB]\n",
            "Hit:15 http://ppa.launchpad.net/deadsnakes/ppa/ubuntu bionic InRelease\n",
            "Get:16 http://archive.ubuntu.com/ubuntu bionic-backports InRelease [74.6 kB]\n",
            "Get:17 http://ppa.launchpad.net/graphics-drivers/ppa/ubuntu bionic InRelease [21.3 kB]\n",
            "Get:18 http://ppa.launchpad.net/c2d4u.team/c2d4u4.0+/ubuntu bionic/main Sources [1,769 kB]\n",
            "Get:19 http://security.ubuntu.com/ubuntu bionic-security/restricted amd64 Packages [423 kB]\n",
            "Get:20 http://security.ubuntu.com/ubuntu bionic-security/main amd64 Packages [2,152 kB]\n",
            "Get:21 http://security.ubuntu.com/ubuntu bionic-security/universe amd64 Packages [1,412 kB]\n",
            "Get:22 http://archive.ubuntu.com/ubuntu bionic-updates/restricted amd64 Packages [452 kB]\n",
            "Get:23 http://archive.ubuntu.com/ubuntu bionic-updates/main amd64 Packages [2,583 kB]\n",
            "Get:24 http://ppa.launchpad.net/c2d4u.team/c2d4u4.0+/ubuntu bionic/main amd64 Packages [905 kB]\n",
            "Get:25 http://archive.ubuntu.com/ubuntu bionic-updates/universe amd64 Packages [2,183 kB]\n",
            "Get:26 http://ppa.launchpad.net/graphics-drivers/ppa/ubuntu bionic/main amd64 Packages [41.5 kB]\n",
            "Fetched 13.1 MB in 4s (3,077 kB/s)\n",
            "Reading package lists... Done\n",
            "Hit:1 https://cloud.r-project.org/bin/linux/ubuntu bionic-cran40/ InRelease\n",
            "Ign:2 https://developer.download.nvidia.com/compute/cuda/repos/ubuntu1804/x86_64  InRelease\n",
            "Ign:3 https://developer.download.nvidia.com/compute/machine-learning/repos/ubuntu1804/x86_64  InRelease\n",
            "Hit:4 https://developer.download.nvidia.com/compute/cuda/repos/ubuntu1804/x86_64  Release\n",
            "Hit:5 http://security.ubuntu.com/ubuntu bionic-security InRelease\n",
            "Hit:6 https://developer.download.nvidia.com/compute/machine-learning/repos/ubuntu1804/x86_64  Release\n",
            "Hit:7 http://archive.ubuntu.com/ubuntu bionic InRelease\n",
            "Hit:8 http://ppa.launchpad.net/c2d4u.team/c2d4u4.0+/ubuntu bionic InRelease\n",
            "Hit:9 http://archive.ubuntu.com/ubuntu bionic-updates InRelease\n",
            "Hit:11 http://archive.ubuntu.com/ubuntu bionic-backports InRelease\n",
            "Hit:12 http://ppa.launchpad.net/cran/libgit2/ubuntu bionic InRelease\n",
            "Hit:13 http://ppa.launchpad.net/deadsnakes/ppa/ubuntu bionic InRelease\n",
            "Hit:15 http://ppa.launchpad.net/graphics-drivers/ppa/ubuntu bionic InRelease\n",
            "Reading package lists... Done\n"
          ],
          "name": "stdout"
        }
      ]
    },
    {
      "cell_type": "code",
      "metadata": {
        "colab": {
          "base_uri": "https://localhost:8080/"
        },
        "id": "CPiGPttMJvYO",
        "outputId": "d4fa473e-22ec-4f67-efcf-c5364fbfda90"
      },
      "source": [
        "# Download the Postgres driver that will allow Spark to interact with Postgres.\n",
        "!wget https://jdbc.postgresql.org/download/postgresql-42.2.16.jar"
      ],
      "execution_count": 2,
      "outputs": [
        {
          "output_type": "stream",
          "text": [
            "--2021-05-25 02:24:36--  https://jdbc.postgresql.org/download/postgresql-42.2.16.jar\n",
            "Resolving jdbc.postgresql.org (jdbc.postgresql.org)... 72.32.157.228, 2001:4800:3e1:1::228\n",
            "Connecting to jdbc.postgresql.org (jdbc.postgresql.org)|72.32.157.228|:443... connected.\n",
            "HTTP request sent, awaiting response... 200 OK\n",
            "Length: 1002883 (979K) [application/java-archive]\n",
            "Saving to: ‘postgresql-42.2.16.jar’\n",
            "\n",
            "postgresql-42.2.16. 100%[===================>] 979.38K  4.79MB/s    in 0.2s    \n",
            "\n",
            "2021-05-25 02:24:37 (4.79 MB/s) - ‘postgresql-42.2.16.jar’ saved [1002883/1002883]\n",
            "\n"
          ],
          "name": "stdout"
        }
      ]
    },
    {
      "cell_type": "code",
      "metadata": {
        "id": "RM36-lu38F8q"
      },
      "source": [
        "from pyspark.sql import SparkSession\n",
        "spark = SparkSession.builder.appName(\"Wine-Project\").config(\"spark.driver.extraClassPath\",\"/content/postgresql-42.2.16.jar\").getOrCreate()"
      ],
      "execution_count": 3,
      "outputs": []
    },
    {
      "cell_type": "code",
      "metadata": {
        "id": "ev4fvY58-xwS"
      },
      "source": [
        "# Configure settings for RDS\n",
        "mode = \"append\"\n",
        "#jdbc_url=\"jdbc:postgresql://<connection string>:5432/<database-name>\"\n",
        "jdbc_url=\"jdbc:postgresql://wine-final-project.czqkltznl3rl.us-east-2.rds.amazonaws.com/winedb\"\n",
        "#config = {\"user\":\"postgres\",\n",
        "          #\"password\": \"<password>\",\n",
        "          #\"driver\":\"org.postgresql.Driver\"}\n",
        "config = {\"user\":\"wineuser\",\n",
        "          \"password\": rds_pwd,\n",
        "          \"driver\":\"org.postgresql.Driver\"}"
      ],
      "execution_count": 4,
      "outputs": []
    },
    {
      "cell_type": "code",
      "metadata": {
        "id": "ag7P8QDBHvqt",
        "colab": {
          "base_uri": "https://localhost:8080/"
        },
        "outputId": "81883aa5-bbd3-464b-f8a2-6144e08b9f5c"
      },
      "source": [
        "#select_sql = \"(SELECT points, variety, avg_temp, avg_airp, avg_humid, avg_precip FROM machine\"\n",
        "wine_rds = spark.read.jdbc(url=jdbc_url, table='weather_mapscaled', properties=config)\n",
        "#county_df = spark.read.jdbc(url=jdbc_url, table='counties', properties=config)\n",
        "wine_rds.show()"
      ],
      "execution_count": 129,
      "outputs": [
        {
          "output_type": "stream",
          "text": [
            "+--------------------+---+----+--------------------+--------------------+--------------------+--------------------+------------+------+------------------+--------------------+\n",
            "|  winery_search_term|lat| lng|            avg_temp|            avg_airp|           avg_humid|          avg_precip|     country|points|           variety|              winery|\n",
            "+--------------------+---+----+--------------------+--------------------+--------------------+--------------------+------------+------+------------------+--------------------+\n",
            "|   LaZarre winery US| 36|-121|279.6850000000000...|1018.230000000000...|73.42000000000000...|0.025000000000000000|          US|    88|        Chardonnay|             LaZarre|\n",
            "|Negretti winery I...| 45|   8|275.6025000000000...|1016.337500000000...|79.04000000000000...|0.070000000000000000|       Italy|    88|        Chardonnay|            Negretti|\n",
            "|Pico Maccario win...| 45|   8|280.6950000000000...|1017.880000000000...|70.50250000000000...|0.147500000000000000|       Italy|    85|        Chardonnay|       Pico Maccario|\n",
            "|Farnese winery Italy| 43|  12|278.1475000000000...|1014.445000000000...|81.86750000000000...|0.182500000000000000|       Italy|    85|        Chardonnay|             Farnese|\n",
            "|Farnese winery Italy| 43|  12|278.1475000000000...|1014.445000000000...|81.86750000000000...|0.182500000000000000|       Italy|    86|        Chardonnay|             Farnese|\n",
            "|Farnese winery Italy| 43|  12|278.1475000000000...|1014.445000000000...|81.86750000000000...|0.182500000000000000|       Italy|    85|        Chardonnay|             Farnese|\n",
            "|Farnese winery Italy| 43|  12|278.1475000000000...|1014.445000000000...|81.86750000000000...|0.182500000000000000|       Italy|    88|        Chardonnay|             Farnese|\n",
            "|Castellargo winer...| 46|  13|277.6100000000000...|1016.707500000000...|79.63250000000000...|0.147500000000000000|       Italy|    85|        Chardonnay|         Castellargo|\n",
            "|Di Lenardo winery...| 46|  13|277.6100000000000...|1016.707500000000...|79.63250000000000...|0.147500000000000000|       Italy|    85|   Sauvignon Blanc|          Di Lenardo|\n",
            "|Di Lenardo winery...| 46|  13|277.6100000000000...|1016.707500000000...|79.63250000000000...|0.147500000000000000|       Italy|    86|        Chardonnay|          Di Lenardo|\n",
            "|Di Lenardo winery...| 46|  13|277.6100000000000...|1016.707500000000...|79.63250000000000...|0.147500000000000000|       Italy|    85|        Chardonnay|          Di Lenardo|\n",
            "|Di Lenardo winery...| 46|  13|277.6100000000000...|1016.707500000000...|79.63250000000000...|0.147500000000000000|       Italy|    87|        Chardonnay|          Di Lenardo|\n",
            "|A.A. Badenhorst F...|-34|  19|293.1100000000000...|1003.365000000000...|66.92750000000000...|0.255000000000000000|South Africa|    85|              Rosé|A.A. Badenhorst F...|\n",
            "|Post House winery...| 36| -87|277.1825000000000...|1020.142500000000...|77.92500000000000...|0.187500000000000000|South Africa|    85|Cabernet Sauvignon|          Post House|\n",
            "|Post House winery...| 36| -87|277.1825000000000...|1020.142500000000...|77.92500000000000...|0.187500000000000000|South Africa|    85|Cabernet Sauvignon|          Post House|\n",
            "|Post House winery...| 36| -87|277.1825000000000...|1020.142500000000...|77.92500000000000...|0.187500000000000000|South Africa|    88|            Merlot|          Post House|\n",
            "|Post House winery...| 36| -87|277.1825000000000...|1020.142500000000...|77.92500000000000...|0.187500000000000000|South Africa|    88|            Merlot|          Post House|\n",
            "|Ladoucette winery...| 47|   3|278.4050000000000...|1019.597500000000...|90.47500000000000...|0.062500000000000000|      France|    86|   Sauvignon Blanc|          Ladoucette|\n",
            "|   Paschal winery US| 42|-123|276.0250000000000...|1019.887500000000...|85.45250000000000...|0.057500000000000000|          US|    86|        Pinot Noir|             Paschal|\n",
            "|   Paschal winery US| 42|-123|276.0250000000000...|1019.887500000000...|85.45250000000000...|0.057500000000000000|          US|    88|        Chardonnay|             Paschal|\n",
            "+--------------------+---+----+--------------------+--------------------+--------------------+--------------------+------------+------+------------------+--------------------+\n",
            "only showing top 20 rows\n",
            "\n"
          ],
          "name": "stdout"
        }
      ]
    },
    {
      "cell_type": "code",
      "metadata": {
        "colab": {
          "base_uri": "https://localhost:8080/"
        },
        "id": "1yYCLlF2UwZX",
        "outputId": "fb088c55-a86b-434f-a2cb-c8c88639debe"
      },
      "source": [
        "wine_rds.columns"
      ],
      "execution_count": 130,
      "outputs": [
        {
          "output_type": "execute_result",
          "data": {
            "text/plain": [
              "['winery_search_term',\n",
              " 'lat',\n",
              " 'lng',\n",
              " 'avg_temp',\n",
              " 'avg_airp',\n",
              " 'avg_humid',\n",
              " 'avg_precip',\n",
              " 'country',\n",
              " 'points',\n",
              " 'variety',\n",
              " 'winery']"
            ]
          },
          "metadata": {
            "tags": []
          },
          "execution_count": 130
        }
      ]
    },
    {
      "cell_type": "code",
      "metadata": {
        "colab": {
          "base_uri": "https://localhost:8080/"
        },
        "id": "F8GYxc3JQ5n4",
        "outputId": "f16f2a9a-2914-4b5c-fc87-b0d1383f036a"
      },
      "source": [
        "wine_ids = wine_rds.select('country',\n",
        " 'points',\n",
        " 'variety',\n",
        " 'winery')\n",
        "wine_ids.dtypes"
      ],
      "execution_count": 131,
      "outputs": [
        {
          "output_type": "execute_result",
          "data": {
            "text/plain": [
              "[('country', 'string'),\n",
              " ('points', 'int'),\n",
              " ('variety', 'string'),\n",
              " ('winery', 'string')]"
            ]
          },
          "metadata": {
            "tags": []
          },
          "execution_count": 131
        }
      ]
    },
    {
      "cell_type": "code",
      "metadata": {
        "colab": {
          "base_uri": "https://localhost:8080/"
        },
        "id": "xSfASp6vU-uf",
        "outputId": "ec98707b-c7d6-4ae0-8471-d6fcdbe4ef80"
      },
      "source": [
        "allwines = pd.DataFrame(wine_rds.select('lat',\n",
        " 'lng',\n",
        " 'avg_temp',\n",
        " 'avg_airp',\n",
        " 'avg_humid',\n",
        " 'avg_precip','points','variety').collect(), columns=['lat',\n",
        " 'lng',\n",
        " 'avg_temp',\n",
        " 'avg_airp',\n",
        " 'avg_humid',\n",
        " 'avg_precip','points','variety'], dtype=float)\n",
        "allwines.dtypes"
      ],
      "execution_count": 132,
      "outputs": [
        {
          "output_type": "execute_result",
          "data": {
            "text/plain": [
              "lat           float64\n",
              "lng           float64\n",
              "avg_temp      float64\n",
              "avg_airp      float64\n",
              "avg_humid     float64\n",
              "avg_precip    float64\n",
              "points        float64\n",
              "variety        object\n",
              "dtype: object"
            ]
          },
          "metadata": {
            "tags": []
          },
          "execution_count": 132
        }
      ]
    },
    {
      "cell_type": "code",
      "metadata": {
        "colab": {
          "base_uri": "https://localhost:8080/"
        },
        "id": "QNWusI7bFFlw",
        "outputId": "c0e144eb-fd50-48bf-f4cb-4f9ef5776911"
      },
      "source": [
        "uscounties = spark.read.jdbc(url=jdbc_url, table='uscounty', properties=config)\n",
        "uscounties.show(5)"
      ],
      "execution_count": 184,
      "outputs": [
        {
          "output_type": "stream",
          "text": [
            "+----+---+---+---------+--------+-------------+-----------+--------------------+--------------------+--------------------+--------------------+\n",
            "| zip|lat|lng|     city|state_id|   state_name|county_name|            avg_temp|            avg_airp|           avg_humid|          avg_precip|\n",
            "+----+---+---+---------+--------+-------------+-----------+--------------------+--------------------+--------------------+--------------------+\n",
            "|1001| 42|-73|   Agawam|      MA|Massachusetts|    Hampden|270.8050000000000...|1016.122500000000...|72.21500000000000...|0.125000000000000000|\n",
            "|1002| 42|-72|  Amherst|      MA|Massachusetts|  Hampshire|270.8050000000000...|1016.122500000000...|72.21500000000000...|0.125000000000000000|\n",
            "|1005| 42|-72|    Barre|      MA|Massachusetts|  Worcester|270.7250000000000...|1014.960000000000...|71.75250000000000...|0.135000000000000000|\n",
            "|1029| 42|-73|East Otis|      MA|Massachusetts|  Berkshire|270.8050000000000...|1016.122500000000...|72.21500000000000...|0.125000000000000000|\n",
            "|1054| 42|-72| Leverett|      MA|Massachusetts|   Franklin|270.8050000000000...|1016.122500000000...|72.21500000000000...|0.125000000000000000|\n",
            "+----+---+---+---------+--------+-------------+-----------+--------------------+--------------------+--------------------+--------------------+\n",
            "only showing top 5 rows\n",
            "\n"
          ],
          "name": "stdout"
        }
      ]
    },
    {
      "cell_type": "code",
      "metadata": {
        "colab": {
          "base_uri": "https://localhost:8080/"
        },
        "id": "ktqgIJRPXfEQ",
        "outputId": "fc366c76-8688-4644-adc0-46fca3c354f1"
      },
      "source": [
        "uscounties.columns"
      ],
      "execution_count": 185,
      "outputs": [
        {
          "output_type": "execute_result",
          "data": {
            "text/plain": [
              "['zip',\n",
              " 'lat',\n",
              " 'lng',\n",
              " 'city',\n",
              " 'state_id',\n",
              " 'state_name',\n",
              " 'county_name',\n",
              " 'avg_temp',\n",
              " 'avg_airp',\n",
              " 'avg_humid',\n",
              " 'avg_precip']"
            ]
          },
          "metadata": {
            "tags": []
          },
          "execution_count": 185
        }
      ]
    },
    {
      "cell_type": "code",
      "metadata": {
        "colab": {
          "base_uri": "https://localhost:8080/",
          "height": 166
        },
        "id": "HtTseH7sjmYY",
        "outputId": "6cad123d-8f1d-4104-b540-cfa8ed241773"
      },
      "source": [
        "county_ids = pd.DataFrame((uscounties.select('zip',\n",
        "                                             'city',\n",
        "                                             'state_id',\n",
        "                                             'state_name',\n",
        "                                             'county_name').collect()), columns=['zip',\n",
        "                                             'city',\n",
        "                                             'state_id',\n",
        "                                             'state_name',\n",
        "                                             'county_name']).dropna()\n",
        "county_ids.head(4)"
      ],
      "execution_count": 186,
      "outputs": [
        {
          "output_type": "execute_result",
          "data": {
            "text/html": [
              "<div>\n",
              "<style scoped>\n",
              "    .dataframe tbody tr th:only-of-type {\n",
              "        vertical-align: middle;\n",
              "    }\n",
              "\n",
              "    .dataframe tbody tr th {\n",
              "        vertical-align: top;\n",
              "    }\n",
              "\n",
              "    .dataframe thead th {\n",
              "        text-align: right;\n",
              "    }\n",
              "</style>\n",
              "<table border=\"1\" class=\"dataframe\">\n",
              "  <thead>\n",
              "    <tr style=\"text-align: right;\">\n",
              "      <th></th>\n",
              "      <th>zip</th>\n",
              "      <th>city</th>\n",
              "      <th>state_id</th>\n",
              "      <th>state_name</th>\n",
              "      <th>county_name</th>\n",
              "    </tr>\n",
              "  </thead>\n",
              "  <tbody>\n",
              "    <tr>\n",
              "      <th>0</th>\n",
              "      <td>1001</td>\n",
              "      <td>Agawam</td>\n",
              "      <td>MA</td>\n",
              "      <td>Massachusetts</td>\n",
              "      <td>Hampden</td>\n",
              "    </tr>\n",
              "    <tr>\n",
              "      <th>1</th>\n",
              "      <td>1002</td>\n",
              "      <td>Amherst</td>\n",
              "      <td>MA</td>\n",
              "      <td>Massachusetts</td>\n",
              "      <td>Hampshire</td>\n",
              "    </tr>\n",
              "    <tr>\n",
              "      <th>2</th>\n",
              "      <td>1005</td>\n",
              "      <td>Barre</td>\n",
              "      <td>MA</td>\n",
              "      <td>Massachusetts</td>\n",
              "      <td>Worcester</td>\n",
              "    </tr>\n",
              "    <tr>\n",
              "      <th>3</th>\n",
              "      <td>1029</td>\n",
              "      <td>East Otis</td>\n",
              "      <td>MA</td>\n",
              "      <td>Massachusetts</td>\n",
              "      <td>Berkshire</td>\n",
              "    </tr>\n",
              "  </tbody>\n",
              "</table>\n",
              "</div>"
            ],
            "text/plain": [
              "    zip       city state_id     state_name county_name\n",
              "0  1001     Agawam       MA  Massachusetts     Hampden\n",
              "1  1002    Amherst       MA  Massachusetts   Hampshire\n",
              "2  1005      Barre       MA  Massachusetts   Worcester\n",
              "3  1029  East Otis       MA  Massachusetts   Berkshire"
            ]
          },
          "metadata": {
            "tags": []
          },
          "execution_count": 186
        }
      ]
    },
    {
      "cell_type": "code",
      "metadata": {
        "colab": {
          "base_uri": "https://localhost:8080/"
        },
        "id": "hOorn3fmkvNn",
        "outputId": "c925f792-a63d-49db-a38c-6b156e3d6be3"
      },
      "source": [
        "len(county_ids)"
      ],
      "execution_count": 187,
      "outputs": [
        {
          "output_type": "execute_result",
          "data": {
            "text/plain": [
              "1797"
            ]
          },
          "metadata": {
            "tags": []
          },
          "execution_count": 187
        }
      ]
    },
    {
      "cell_type": "code",
      "metadata": {
        "colab": {
          "base_uri": "https://localhost:8080/"
        },
        "id": "Chc5U9FOSLN4",
        "outputId": "382e0bb6-3da6-4ee7-8372-b91c90d86ea2"
      },
      "source": [
        "bigcounty = pd.DataFrame((uscounties.select('zip',\n",
        " 'lat',\n",
        " 'lng',\n",
        " 'avg_temp',\n",
        " 'avg_airp',\n",
        " 'avg_humid',\n",
        " 'avg_precip').collect()), columns=['zip',\n",
        " 'lat',\n",
        " 'lng',\n",
        " 'avg_temp',\n",
        " 'avg_airp',\n",
        " 'avg_humid',\n",
        " 'avg_precip'], dtype=float).dropna()\n",
        "bigcounty.dtypes"
      ],
      "execution_count": 188,
      "outputs": [
        {
          "output_type": "execute_result",
          "data": {
            "text/plain": [
              "zip           float64\n",
              "lat           float64\n",
              "lng           float64\n",
              "avg_temp      float64\n",
              "avg_airp      float64\n",
              "avg_humid     float64\n",
              "avg_precip    float64\n",
              "dtype: object"
            ]
          },
          "metadata": {
            "tags": []
          },
          "execution_count": 188
        }
      ]
    },
    {
      "cell_type": "code",
      "metadata": {
        "colab": {
          "base_uri": "https://localhost:8080/"
        },
        "id": "SM5EZo24ksye",
        "outputId": "e090db89-192d-4e08-cf7d-1b1d732d8d67"
      },
      "source": [
        "len(bigcounty)"
      ],
      "execution_count": 189,
      "outputs": [
        {
          "output_type": "execute_result",
          "data": {
            "text/plain": [
              "1795"
            ]
          },
          "metadata": {
            "tags": []
          },
          "execution_count": 189
        }
      ]
    },
    {
      "cell_type": "code",
      "metadata": {
        "id": "sNkD_Ts7bDXv"
      },
      "source": [
        "countydrops = ['zip']"
      ],
      "execution_count": 190,
      "outputs": []
    },
    {
      "cell_type": "code",
      "metadata": {
        "colab": {
          "base_uri": "https://localhost:8080/"
        },
        "id": "oBWmVOhZY2Qo",
        "outputId": "66f0a0f4-ee74-4f3d-ac23-eac49c134645"
      },
      "source": [
        "allwines['variety'].unique()"
      ],
      "execution_count": 191,
      "outputs": [
        {
          "output_type": "execute_result",
          "data": {
            "text/plain": [
              "array(['Chardonnay', 'Sauvignon Blanc', 'Rosé', 'Cabernet Sauvignon',\n",
              "       'Merlot', 'Pinot Noir', 'Riesling', 'Syrah'], dtype=object)"
            ]
          },
          "metadata": {
            "tags": []
          },
          "execution_count": 191
        }
      ]
    },
    {
      "cell_type": "code",
      "metadata": {
        "id": "b4woMuSd9QsO"
      },
      "source": [
        "mer_df = allwines[allwines['variety'] == 'Merlot']\n",
        "syr_df = allwines[allwines['variety'] == 'Syrah']\n",
        "savyb_df = allwines[allwines['variety'] == 'Sauvignon Blanc']\n",
        "ries_df = allwines[allwines['variety'] == 'Riesling']\n",
        "cabsav_df = allwines[allwines['variety'] == 'Cabernet Sauvignon']\n",
        "char_df = allwines[allwines['variety'] == 'Chardonnay']\n",
        "pino_df = allwines[allwines['variety'] == 'Pinot Noir']"
      ],
      "execution_count": 192,
      "outputs": []
    },
    {
      "cell_type": "code",
      "metadata": {
        "colab": {
          "base_uri": "https://localhost:8080/"
        },
        "id": "IeuTOtY4xdqx",
        "outputId": "ce7bf50c-9b11-435b-bfff-579306b422a4"
      },
      "source": [
        "mer_df.dtypes"
      ],
      "execution_count": 193,
      "outputs": [
        {
          "output_type": "execute_result",
          "data": {
            "text/plain": [
              "lat           float64\n",
              "lng           float64\n",
              "avg_temp      float64\n",
              "avg_airp      float64\n",
              "avg_humid     float64\n",
              "avg_precip    float64\n",
              "points        float64\n",
              "variety        object\n",
              "dtype: object"
            ]
          },
          "metadata": {
            "tags": []
          },
          "execution_count": 193
        }
      ]
    },
    {
      "cell_type": "code",
      "metadata": {
        "id": "zR-Lpgr29QnD"
      },
      "source": [
        "winedropcols = ['points','variety']"
      ],
      "execution_count": 194,
      "outputs": []
    },
    {
      "cell_type": "code",
      "metadata": {
        "colab": {
          "base_uri": "https://localhost:8080/"
        },
        "id": "fWXQJq1A9Qtl",
        "outputId": "beefb2d5-599f-4161-8ac5-4c01315a141e"
      },
      "source": [
        "#features and targets\n",
        "variety = mer_df.copy()\n",
        "y = variety['points']\n",
        "X = variety.drop(columns=winedropcols)\n",
        "X_train, X_test, y_train, y_test = train_test_split(X,y)\n",
        "#init model again\n",
        "rf = RandomForestRegressor(n_estimators=200, random_state=99)\n",
        "rf.fit(X, y)\n",
        "rf.score(X,y)"
      ],
      "execution_count": 195,
      "outputs": [
        {
          "output_type": "execute_result",
          "data": {
            "text/plain": [
              "0.31708703561405066"
            ]
          },
          "metadata": {
            "tags": []
          },
          "execution_count": 195
        }
      ]
    },
    {
      "cell_type": "code",
      "metadata": {
        "id": "ZegfCHX1-KIF"
      },
      "source": [
        "#using model to predict the counties\n",
        "Xcount = bigcounty.drop(columns=countydrops)\n",
        "mer_preds = rf.predict(Xcount)"
      ],
      "execution_count": 196,
      "outputs": []
    },
    {
      "cell_type": "code",
      "metadata": {
        "colab": {
          "base_uri": "https://localhost:8080/"
        },
        "id": "Z63vhufX-KTa",
        "outputId": "28f9c34e-3c05-464f-e964-789d3ba16575"
      },
      "source": [
        "#features and targets\n",
        "variety = syr_df\n",
        "y = variety['points']\n",
        "X = variety.drop(columns=winedropcols)\n",
        "X_train, X_test, y_train, y_test = train_test_split(X,y)\n",
        "#init model again\n",
        "rf = RandomForestRegressor(n_estimators=200, random_state=99)\n",
        "rf.fit(X, y)\n",
        "rf.score(X,y)"
      ],
      "execution_count": 197,
      "outputs": [
        {
          "output_type": "execute_result",
          "data": {
            "text/plain": [
              "0.24766239118394037"
            ]
          },
          "metadata": {
            "tags": []
          },
          "execution_count": 197
        }
      ]
    },
    {
      "cell_type": "code",
      "metadata": {
        "id": "TFOTgtQT9Q1Q"
      },
      "source": [
        "#using model to predict the counties\n",
        "Xcount = bigcounty.drop(columns=countydrops)\n",
        "syr_preds = rf.predict(Xcount)"
      ],
      "execution_count": 198,
      "outputs": []
    },
    {
      "cell_type": "code",
      "metadata": {
        "colab": {
          "base_uri": "https://localhost:8080/"
        },
        "id": "lwrmYR3dAOxL",
        "outputId": "fb0832c8-30cb-4dca-8208-ed6f86086ec8"
      },
      "source": [
        "#features and targets\n",
        "variety = savyb_df\n",
        "y = variety['points']\n",
        "X = variety.drop(columns=winedropcols)\n",
        "X_train, X_test, y_train, y_test = train_test_split(X,y)\n",
        "#init model again\n",
        "rf = RandomForestRegressor(n_estimators=200, random_state=99)\n",
        "rf.fit(X, y)\n",
        "rf.score(X,y)"
      ],
      "execution_count": 199,
      "outputs": [
        {
          "output_type": "execute_result",
          "data": {
            "text/plain": [
              "0.2740873924253874"
            ]
          },
          "metadata": {
            "tags": []
          },
          "execution_count": 199
        }
      ]
    },
    {
      "cell_type": "code",
      "metadata": {
        "id": "7D8JpmyAAO3S"
      },
      "source": [
        "#using model to predict the counties\n",
        "Xcount = bigcounty.drop(columns=countydrops)\n",
        "savyb_preds = rf.predict(Xcount)"
      ],
      "execution_count": 200,
      "outputs": []
    },
    {
      "cell_type": "code",
      "metadata": {
        "colab": {
          "base_uri": "https://localhost:8080/"
        },
        "id": "xhaocGCMAO6F",
        "outputId": "adf92d2d-9b0e-4d4a-a2f6-3c7e86443d4d"
      },
      "source": [
        "#features and targets\n",
        "variety = ries_df\n",
        "y = variety['points']\n",
        "X = variety.drop(columns=winedropcols)\n",
        "X_train, X_test, y_train, y_test = train_test_split(X,y)\n",
        "#init model again\n",
        "rf = RandomForestRegressor(n_estimators=200, random_state=99)\n",
        "rf.fit(X, y)\n",
        "rf.score(X,y)"
      ],
      "execution_count": 201,
      "outputs": [
        {
          "output_type": "execute_result",
          "data": {
            "text/plain": [
              "0.32150114413761166"
            ]
          },
          "metadata": {
            "tags": []
          },
          "execution_count": 201
        }
      ]
    },
    {
      "cell_type": "code",
      "metadata": {
        "id": "mIdHq6h3APAE"
      },
      "source": [
        "#using model to predict the counties\n",
        "Xcount = bigcounty.drop(columns=countydrops)\n",
        "ries_preds = rf.predict(Xcount)"
      ],
      "execution_count": 202,
      "outputs": []
    },
    {
      "cell_type": "code",
      "metadata": {
        "colab": {
          "base_uri": "https://localhost:8080/"
        },
        "id": "zPnqrGohAPDJ",
        "outputId": "54d93a89-85b1-45d0-bfdd-e0c900391974"
      },
      "source": [
        "#features and targets\n",
        "variety = cabsav_df\n",
        "y = variety['points']\n",
        "X = variety.drop(columns=winedropcols)\n",
        "X_train, X_test, y_train, y_test = train_test_split(X,y)\n",
        "#init model again\n",
        "rf = RandomForestRegressor(n_estimators=200, random_state=99)\n",
        "rf.fit(X, y)\n",
        "rf.score(X,y)"
      ],
      "execution_count": 203,
      "outputs": [
        {
          "output_type": "execute_result",
          "data": {
            "text/plain": [
              "0.2602562254348104"
            ]
          },
          "metadata": {
            "tags": []
          },
          "execution_count": 203
        }
      ]
    },
    {
      "cell_type": "code",
      "metadata": {
        "id": "hQJjjtoCAPJB"
      },
      "source": [
        "#using model to predict the counties\n",
        "Xcount = bigcounty.drop(columns=countydrops)\n",
        "cabsav_preds = rf.predict(Xcount)"
      ],
      "execution_count": 204,
      "outputs": []
    },
    {
      "cell_type": "code",
      "metadata": {
        "colab": {
          "base_uri": "https://localhost:8080/"
        },
        "id": "cczRRBijAPMk",
        "outputId": "7bd0cb2b-9ac3-4d54-d31e-6f58d0959055"
      },
      "source": [
        "#features and targets\n",
        "variety = char_df\n",
        "y = variety['points']\n",
        "X = variety.drop(columns=winedropcols)\n",
        "X_train, X_test, y_train, y_test = train_test_split(X,y)\n",
        "#init model again\n",
        "rf = RandomForestRegressor(n_estimators=200, random_state=99)\n",
        "rf.fit(X, y)\n",
        "rf.score(X,y)"
      ],
      "execution_count": 205,
      "outputs": [
        {
          "output_type": "execute_result",
          "data": {
            "text/plain": [
              "0.281147493665847"
            ]
          },
          "metadata": {
            "tags": []
          },
          "execution_count": 205
        }
      ]
    },
    {
      "cell_type": "code",
      "metadata": {
        "id": "3la9DNFpAla0"
      },
      "source": [
        "#using model to predict the counties\n",
        "Xcount = bigcounty.drop(columns=countydrops)\n",
        "char_preds = rf.predict(Xcount)"
      ],
      "execution_count": 206,
      "outputs": []
    },
    {
      "cell_type": "code",
      "metadata": {
        "colab": {
          "base_uri": "https://localhost:8080/"
        },
        "id": "rpV2LT1UAliu",
        "outputId": "9349e046-2094-463c-ccad-247d80e4f450"
      },
      "source": [
        "#features and targets\n",
        "variety = pino_df\n",
        "y = variety['points']\n",
        "X = variety.drop(columns=winedropcols)\n",
        "X_train, X_test, y_train, y_test = train_test_split(X,y)\n",
        "#init model again\n",
        "rf = RandomForestRegressor(n_estimators=200, random_state=99)\n",
        "rf.fit(X, y)\n",
        "rf.score(X,y)"
      ],
      "execution_count": 207,
      "outputs": [
        {
          "output_type": "execute_result",
          "data": {
            "text/plain": [
              "0.1950767218357803"
            ]
          },
          "metadata": {
            "tags": []
          },
          "execution_count": 207
        }
      ]
    },
    {
      "cell_type": "code",
      "metadata": {
        "id": "Vt6CNH7xAlzS"
      },
      "source": [
        "#using model to predict the counties\n",
        "Xcount = bigcounty.drop(columns=countydrops)\n",
        "pino_preds = rf.predict(Xcount)"
      ],
      "execution_count": 208,
      "outputs": []
    },
    {
      "cell_type": "code",
      "metadata": {
        "id": "kn67tSDZAl3L"
      },
      "source": [
        "counties_preds = bigcounty.copy()\n",
        "counties_preds['mer_points'] = mer_preds\n",
        "counties_preds['syr_points'] = syr_preds\n",
        "counties_preds['savyb_points'] = savyb_preds\n",
        "counties_preds['ries_points'] = ries_preds\n",
        "counties_preds['cabsav_points'] = cabsav_preds\n",
        "counties_preds['char_points'] = char_preds\n",
        "counties_preds['pinot_points'] = pino_preds"
      ],
      "execution_count": 209,
      "outputs": []
    },
    {
      "cell_type": "code",
      "metadata": {
        "colab": {
          "base_uri": "https://localhost:8080/",
          "height": 304
        },
        "id": "lFKhpvltAmCS",
        "outputId": "886e63e7-cde8-4ba0-fd0e-bd43b4cf56b2"
      },
      "source": [
        "counties_preds.describe()"
      ],
      "execution_count": 210,
      "outputs": [
        {
          "output_type": "execute_result",
          "data": {
            "text/html": [
              "<div>\n",
              "<style scoped>\n",
              "    .dataframe tbody tr th:only-of-type {\n",
              "        vertical-align: middle;\n",
              "    }\n",
              "\n",
              "    .dataframe tbody tr th {\n",
              "        vertical-align: top;\n",
              "    }\n",
              "\n",
              "    .dataframe thead th {\n",
              "        text-align: right;\n",
              "    }\n",
              "</style>\n",
              "<table border=\"1\" class=\"dataframe\">\n",
              "  <thead>\n",
              "    <tr style=\"text-align: right;\">\n",
              "      <th></th>\n",
              "      <th>zip</th>\n",
              "      <th>lat</th>\n",
              "      <th>lng</th>\n",
              "      <th>avg_temp</th>\n",
              "      <th>avg_airp</th>\n",
              "      <th>avg_humid</th>\n",
              "      <th>avg_precip</th>\n",
              "      <th>mer_points</th>\n",
              "      <th>syr_points</th>\n",
              "      <th>savyb_points</th>\n",
              "      <th>ries_points</th>\n",
              "      <th>cabsav_points</th>\n",
              "      <th>char_points</th>\n",
              "      <th>pinot_points</th>\n",
              "    </tr>\n",
              "  </thead>\n",
              "  <tbody>\n",
              "    <tr>\n",
              "      <th>count</th>\n",
              "      <td>1795.000000</td>\n",
              "      <td>1795.000000</td>\n",
              "      <td>1795.000000</td>\n",
              "      <td>1795.000000</td>\n",
              "      <td>1795.000000</td>\n",
              "      <td>1795.000000</td>\n",
              "      <td>1795.000000</td>\n",
              "      <td>1795.000000</td>\n",
              "      <td>1795.000000</td>\n",
              "      <td>1795.000000</td>\n",
              "      <td>1795.000000</td>\n",
              "      <td>1795.000000</td>\n",
              "      <td>1795.000000</td>\n",
              "      <td>1795.000000</td>\n",
              "    </tr>\n",
              "    <tr>\n",
              "      <th>mean</th>\n",
              "      <td>50734.467967</td>\n",
              "      <td>38.357103</td>\n",
              "      <td>-91.311421</td>\n",
              "      <td>274.303437</td>\n",
              "      <td>1017.654591</td>\n",
              "      <td>74.131337</td>\n",
              "      <td>0.106546</td>\n",
              "      <td>86.002639</td>\n",
              "      <td>87.398963</td>\n",
              "      <td>86.565681</td>\n",
              "      <td>86.920057</td>\n",
              "      <td>87.268075</td>\n",
              "      <td>86.668671</td>\n",
              "      <td>87.569186</td>\n",
              "    </tr>\n",
              "    <tr>\n",
              "      <th>std</th>\n",
              "      <td>24597.722869</td>\n",
              "      <td>5.101211</td>\n",
              "      <td>12.403000</td>\n",
              "      <td>6.620178</td>\n",
              "      <td>4.407807</td>\n",
              "      <td>6.428987</td>\n",
              "      <td>0.098159</td>\n",
              "      <td>1.417427</td>\n",
              "      <td>1.602512</td>\n",
              "      <td>1.352219</td>\n",
              "      <td>1.070443</td>\n",
              "      <td>1.742589</td>\n",
              "      <td>1.592718</td>\n",
              "      <td>1.696042</td>\n",
              "    </tr>\n",
              "    <tr>\n",
              "      <th>min</th>\n",
              "      <td>1001.000000</td>\n",
              "      <td>26.000000</td>\n",
              "      <td>-124.000000</td>\n",
              "      <td>260.640000</td>\n",
              "      <td>962.630000</td>\n",
              "      <td>37.947500</td>\n",
              "      <td>0.000000</td>\n",
              "      <td>82.256850</td>\n",
              "      <td>82.567656</td>\n",
              "      <td>82.433153</td>\n",
              "      <td>82.013727</td>\n",
              "      <td>82.452449</td>\n",
              "      <td>82.193786</td>\n",
              "      <td>82.812724</td>\n",
              "    </tr>\n",
              "    <tr>\n",
              "      <th>25%</th>\n",
              "      <td>30127.000000</td>\n",
              "      <td>34.000000</td>\n",
              "      <td>-99.000000</td>\n",
              "      <td>269.471250</td>\n",
              "      <td>1016.560000</td>\n",
              "      <td>71.022500</td>\n",
              "      <td>0.017500</td>\n",
              "      <td>85.072781</td>\n",
              "      <td>86.482048</td>\n",
              "      <td>85.666644</td>\n",
              "      <td>86.204160</td>\n",
              "      <td>86.046166</td>\n",
              "      <td>85.667427</td>\n",
              "      <td>86.443757</td>\n",
              "    </tr>\n",
              "    <tr>\n",
              "      <th>50%</th>\n",
              "      <td>50515.000000</td>\n",
              "      <td>38.000000</td>\n",
              "      <td>-89.000000</td>\n",
              "      <td>274.070000</td>\n",
              "      <td>1019.040000</td>\n",
              "      <td>75.952500</td>\n",
              "      <td>0.097500</td>\n",
              "      <td>86.017360</td>\n",
              "      <td>87.446114</td>\n",
              "      <td>86.602199</td>\n",
              "      <td>87.004087</td>\n",
              "      <td>87.250444</td>\n",
              "      <td>86.617376</td>\n",
              "      <td>87.418991</td>\n",
              "    </tr>\n",
              "    <tr>\n",
              "      <th>75%</th>\n",
              "      <td>71632.500000</td>\n",
              "      <td>42.000000</td>\n",
              "      <td>-82.000000</td>\n",
              "      <td>279.122500</td>\n",
              "      <td>1020.105000</td>\n",
              "      <td>78.457500</td>\n",
              "      <td>0.155000</td>\n",
              "      <td>87.017417</td>\n",
              "      <td>88.177460</td>\n",
              "      <td>87.447183</td>\n",
              "      <td>87.580843</td>\n",
              "      <td>88.370631</td>\n",
              "      <td>87.542553</td>\n",
              "      <td>88.553000</td>\n",
              "    </tr>\n",
              "    <tr>\n",
              "      <th>max</th>\n",
              "      <td>99401.000000</td>\n",
              "      <td>49.000000</td>\n",
              "      <td>-68.000000</td>\n",
              "      <td>295.845000</td>\n",
              "      <td>1022.525000</td>\n",
              "      <td>87.015000</td>\n",
              "      <td>0.917500</td>\n",
              "      <td>91.516494</td>\n",
              "      <td>93.027501</td>\n",
              "      <td>90.791276</td>\n",
              "      <td>90.845201</td>\n",
              "      <td>93.909851</td>\n",
              "      <td>92.952938</td>\n",
              "      <td>93.428774</td>\n",
              "    </tr>\n",
              "  </tbody>\n",
              "</table>\n",
              "</div>"
            ],
            "text/plain": [
              "                zip          lat  ...  char_points  pinot_points\n",
              "count   1795.000000  1795.000000  ...  1795.000000   1795.000000\n",
              "mean   50734.467967    38.357103  ...    86.668671     87.569186\n",
              "std    24597.722869     5.101211  ...     1.592718      1.696042\n",
              "min     1001.000000    26.000000  ...    82.193786     82.812724\n",
              "25%    30127.000000    34.000000  ...    85.667427     86.443757\n",
              "50%    50515.000000    38.000000  ...    86.617376     87.418991\n",
              "75%    71632.500000    42.000000  ...    87.542553     88.553000\n",
              "max    99401.000000    49.000000  ...    92.952938     93.428774\n",
              "\n",
              "[8 rows x 14 columns]"
            ]
          },
          "metadata": {
            "tags": []
          },
          "execution_count": 210
        }
      ]
    },
    {
      "cell_type": "code",
      "metadata": {
        "colab": {
          "base_uri": "https://localhost:8080/",
          "height": 304
        },
        "id": "kMWRPMKtf_Ox",
        "outputId": "23332b25-5ef4-4665-9840-4e5b72535aac"
      },
      "source": [
        "savyb_df.describe()"
      ],
      "execution_count": 211,
      "outputs": [
        {
          "output_type": "execute_result",
          "data": {
            "text/html": [
              "<div>\n",
              "<style scoped>\n",
              "    .dataframe tbody tr th:only-of-type {\n",
              "        vertical-align: middle;\n",
              "    }\n",
              "\n",
              "    .dataframe tbody tr th {\n",
              "        vertical-align: top;\n",
              "    }\n",
              "\n",
              "    .dataframe thead th {\n",
              "        text-align: right;\n",
              "    }\n",
              "</style>\n",
              "<table border=\"1\" class=\"dataframe\">\n",
              "  <thead>\n",
              "    <tr style=\"text-align: right;\">\n",
              "      <th></th>\n",
              "      <th>lat</th>\n",
              "      <th>lng</th>\n",
              "      <th>avg_temp</th>\n",
              "      <th>avg_airp</th>\n",
              "      <th>avg_humid</th>\n",
              "      <th>avg_precip</th>\n",
              "      <th>points</th>\n",
              "    </tr>\n",
              "  </thead>\n",
              "  <tbody>\n",
              "    <tr>\n",
              "      <th>count</th>\n",
              "      <td>4718.000000</td>\n",
              "      <td>4718.000000</td>\n",
              "      <td>4718.000000</td>\n",
              "      <td>4718.000000</td>\n",
              "      <td>4718.000000</td>\n",
              "      <td>4718.000000</td>\n",
              "      <td>4718.000000</td>\n",
              "    </tr>\n",
              "    <tr>\n",
              "      <th>mean</th>\n",
              "      <td>20.845485</td>\n",
              "      <td>-47.642433</td>\n",
              "      <td>282.140502</td>\n",
              "      <td>1014.725774</td>\n",
              "      <td>75.244232</td>\n",
              "      <td>0.096221</td>\n",
              "      <td>87.454854</td>\n",
              "    </tr>\n",
              "    <tr>\n",
              "      <th>std</th>\n",
              "      <td>33.964335</td>\n",
              "      <td>87.643879</td>\n",
              "      <td>6.913607</td>\n",
              "      <td>9.921554</td>\n",
              "      <td>11.133844</td>\n",
              "      <td>0.081495</td>\n",
              "      <td>2.681127</td>\n",
              "    </tr>\n",
              "    <tr>\n",
              "      <th>min</th>\n",
              "      <td>-49.000000</td>\n",
              "      <td>-124.000000</td>\n",
              "      <td>263.640000</td>\n",
              "      <td>942.702500</td>\n",
              "      <td>35.680000</td>\n",
              "      <td>0.000000</td>\n",
              "      <td>80.000000</td>\n",
              "    </tr>\n",
              "    <tr>\n",
              "      <th>25%</th>\n",
              "      <td>-33.000000</td>\n",
              "      <td>-121.000000</td>\n",
              "      <td>278.405000</td>\n",
              "      <td>1012.035000</td>\n",
              "      <td>71.685000</td>\n",
              "      <td>0.057500</td>\n",
              "      <td>86.000000</td>\n",
              "    </tr>\n",
              "    <tr>\n",
              "      <th>50%</th>\n",
              "      <td>38.000000</td>\n",
              "      <td>-77.000000</td>\n",
              "      <td>281.032500</td>\n",
              "      <td>1018.500000</td>\n",
              "      <td>78.512500</td>\n",
              "      <td>0.077500</td>\n",
              "      <td>87.000000</td>\n",
              "    </tr>\n",
              "    <tr>\n",
              "      <th>75%</th>\n",
              "      <td>43.000000</td>\n",
              "      <td>3.000000</td>\n",
              "      <td>289.522500</td>\n",
              "      <td>1019.670000</td>\n",
              "      <td>80.530000</td>\n",
              "      <td>0.145000</td>\n",
              "      <td>89.000000</td>\n",
              "    </tr>\n",
              "    <tr>\n",
              "      <th>max</th>\n",
              "      <td>53.000000</td>\n",
              "      <td>178.000000</td>\n",
              "      <td>300.137500</td>\n",
              "      <td>1025.890000</td>\n",
              "      <td>90.847500</td>\n",
              "      <td>0.917500</td>\n",
              "      <td>96.000000</td>\n",
              "    </tr>\n",
              "  </tbody>\n",
              "</table>\n",
              "</div>"
            ],
            "text/plain": [
              "               lat          lng  ...   avg_precip       points\n",
              "count  4718.000000  4718.000000  ...  4718.000000  4718.000000\n",
              "mean     20.845485   -47.642433  ...     0.096221    87.454854\n",
              "std      33.964335    87.643879  ...     0.081495     2.681127\n",
              "min     -49.000000  -124.000000  ...     0.000000    80.000000\n",
              "25%     -33.000000  -121.000000  ...     0.057500    86.000000\n",
              "50%      38.000000   -77.000000  ...     0.077500    87.000000\n",
              "75%      43.000000     3.000000  ...     0.145000    89.000000\n",
              "max      53.000000   178.000000  ...     0.917500    96.000000\n",
              "\n",
              "[8 rows x 7 columns]"
            ]
          },
          "metadata": {
            "tags": []
          },
          "execution_count": 211
        }
      ]
    },
    {
      "cell_type": "code",
      "metadata": {
        "colab": {
          "base_uri": "https://localhost:8080/",
          "height": 304
        },
        "id": "QiRyeZZAkHU4",
        "outputId": "25f9f548-3abf-42ea-bbcc-8edf016ec738"
      },
      "source": [
        "county_output = county_ids.merge(counties_preds, how='left', on='zip')\n",
        "county_output.describe()"
      ],
      "execution_count": 212,
      "outputs": [
        {
          "output_type": "execute_result",
          "data": {
            "text/html": [
              "<div>\n",
              "<style scoped>\n",
              "    .dataframe tbody tr th:only-of-type {\n",
              "        vertical-align: middle;\n",
              "    }\n",
              "\n",
              "    .dataframe tbody tr th {\n",
              "        vertical-align: top;\n",
              "    }\n",
              "\n",
              "    .dataframe thead th {\n",
              "        text-align: right;\n",
              "    }\n",
              "</style>\n",
              "<table border=\"1\" class=\"dataframe\">\n",
              "  <thead>\n",
              "    <tr style=\"text-align: right;\">\n",
              "      <th></th>\n",
              "      <th>zip</th>\n",
              "      <th>lat</th>\n",
              "      <th>lng</th>\n",
              "      <th>avg_temp</th>\n",
              "      <th>avg_airp</th>\n",
              "      <th>avg_humid</th>\n",
              "      <th>avg_precip</th>\n",
              "      <th>mer_points</th>\n",
              "      <th>syr_points</th>\n",
              "      <th>savyb_points</th>\n",
              "      <th>ries_points</th>\n",
              "      <th>cabsav_points</th>\n",
              "      <th>char_points</th>\n",
              "      <th>pinot_points</th>\n",
              "    </tr>\n",
              "  </thead>\n",
              "  <tbody>\n",
              "    <tr>\n",
              "      <th>count</th>\n",
              "      <td>1797.000000</td>\n",
              "      <td>1795.000000</td>\n",
              "      <td>1795.000000</td>\n",
              "      <td>1795.000000</td>\n",
              "      <td>1795.000000</td>\n",
              "      <td>1795.000000</td>\n",
              "      <td>1795.000000</td>\n",
              "      <td>1795.000000</td>\n",
              "      <td>1795.000000</td>\n",
              "      <td>1795.000000</td>\n",
              "      <td>1795.000000</td>\n",
              "      <td>1795.000000</td>\n",
              "      <td>1795.000000</td>\n",
              "      <td>1795.000000</td>\n",
              "    </tr>\n",
              "    <tr>\n",
              "      <th>mean</th>\n",
              "      <td>50714.359488</td>\n",
              "      <td>38.357103</td>\n",
              "      <td>-91.311421</td>\n",
              "      <td>274.303437</td>\n",
              "      <td>1017.654591</td>\n",
              "      <td>74.131337</td>\n",
              "      <td>0.106546</td>\n",
              "      <td>86.002639</td>\n",
              "      <td>87.398963</td>\n",
              "      <td>86.565681</td>\n",
              "      <td>86.920057</td>\n",
              "      <td>87.268075</td>\n",
              "      <td>86.668671</td>\n",
              "      <td>87.569186</td>\n",
              "    </tr>\n",
              "    <tr>\n",
              "      <th>std</th>\n",
              "      <td>24597.447200</td>\n",
              "      <td>5.101211</td>\n",
              "      <td>12.403000</td>\n",
              "      <td>6.620178</td>\n",
              "      <td>4.407807</td>\n",
              "      <td>6.428987</td>\n",
              "      <td>0.098159</td>\n",
              "      <td>1.417427</td>\n",
              "      <td>1.602512</td>\n",
              "      <td>1.352219</td>\n",
              "      <td>1.070443</td>\n",
              "      <td>1.742589</td>\n",
              "      <td>1.592718</td>\n",
              "      <td>1.696042</td>\n",
              "    </tr>\n",
              "    <tr>\n",
              "      <th>min</th>\n",
              "      <td>1001.000000</td>\n",
              "      <td>26.000000</td>\n",
              "      <td>-124.000000</td>\n",
              "      <td>260.640000</td>\n",
              "      <td>962.630000</td>\n",
              "      <td>37.947500</td>\n",
              "      <td>0.000000</td>\n",
              "      <td>82.256850</td>\n",
              "      <td>82.567656</td>\n",
              "      <td>82.433153</td>\n",
              "      <td>82.013727</td>\n",
              "      <td>82.452449</td>\n",
              "      <td>82.193786</td>\n",
              "      <td>82.812724</td>\n",
              "    </tr>\n",
              "    <tr>\n",
              "      <th>25%</th>\n",
              "      <td>30122.000000</td>\n",
              "      <td>34.000000</td>\n",
              "      <td>-99.000000</td>\n",
              "      <td>269.471250</td>\n",
              "      <td>1016.560000</td>\n",
              "      <td>71.022500</td>\n",
              "      <td>0.017500</td>\n",
              "      <td>85.072781</td>\n",
              "      <td>86.482048</td>\n",
              "      <td>85.666644</td>\n",
              "      <td>86.204160</td>\n",
              "      <td>86.046166</td>\n",
              "      <td>85.667427</td>\n",
              "      <td>86.443757</td>\n",
              "    </tr>\n",
              "    <tr>\n",
              "      <th>50%</th>\n",
              "      <td>50451.000000</td>\n",
              "      <td>38.000000</td>\n",
              "      <td>-89.000000</td>\n",
              "      <td>274.070000</td>\n",
              "      <td>1019.040000</td>\n",
              "      <td>75.952500</td>\n",
              "      <td>0.097500</td>\n",
              "      <td>86.017360</td>\n",
              "      <td>87.446114</td>\n",
              "      <td>86.602199</td>\n",
              "      <td>87.004087</td>\n",
              "      <td>87.250444</td>\n",
              "      <td>86.617376</td>\n",
              "      <td>87.418991</td>\n",
              "    </tr>\n",
              "    <tr>\n",
              "      <th>75%</th>\n",
              "      <td>71630.000000</td>\n",
              "      <td>42.000000</td>\n",
              "      <td>-82.000000</td>\n",
              "      <td>279.122500</td>\n",
              "      <td>1020.105000</td>\n",
              "      <td>78.457500</td>\n",
              "      <td>0.155000</td>\n",
              "      <td>87.017417</td>\n",
              "      <td>88.177460</td>\n",
              "      <td>87.447183</td>\n",
              "      <td>87.580843</td>\n",
              "      <td>88.370631</td>\n",
              "      <td>87.542553</td>\n",
              "      <td>88.553000</td>\n",
              "    </tr>\n",
              "    <tr>\n",
              "      <th>max</th>\n",
              "      <td>99401.000000</td>\n",
              "      <td>49.000000</td>\n",
              "      <td>-68.000000</td>\n",
              "      <td>295.845000</td>\n",
              "      <td>1022.525000</td>\n",
              "      <td>87.015000</td>\n",
              "      <td>0.917500</td>\n",
              "      <td>91.516494</td>\n",
              "      <td>93.027501</td>\n",
              "      <td>90.791276</td>\n",
              "      <td>90.845201</td>\n",
              "      <td>93.909851</td>\n",
              "      <td>92.952938</td>\n",
              "      <td>93.428774</td>\n",
              "    </tr>\n",
              "  </tbody>\n",
              "</table>\n",
              "</div>"
            ],
            "text/plain": [
              "                zip          lat  ...  char_points  pinot_points\n",
              "count   1797.000000  1795.000000  ...  1795.000000   1795.000000\n",
              "mean   50714.359488    38.357103  ...    86.668671     87.569186\n",
              "std    24597.447200     5.101211  ...     1.592718      1.696042\n",
              "min     1001.000000    26.000000  ...    82.193786     82.812724\n",
              "25%    30122.000000    34.000000  ...    85.667427     86.443757\n",
              "50%    50451.000000    38.000000  ...    86.617376     87.418991\n",
              "75%    71630.000000    42.000000  ...    87.542553     88.553000\n",
              "max    99401.000000    49.000000  ...    92.952938     93.428774\n",
              "\n",
              "[8 rows x 14 columns]"
            ]
          },
          "metadata": {
            "tags": []
          },
          "execution_count": 212
        }
      ]
    },
    {
      "cell_type": "code",
      "metadata": {
        "id": "ibeCn7A1kHbn"
      },
      "source": [
        ""
      ],
      "execution_count": 212,
      "outputs": []
    },
    {
      "cell_type": "code",
      "metadata": {
        "id": "wON1OxiDkHfQ"
      },
      "source": [
        ""
      ],
      "execution_count": 212,
      "outputs": []
    },
    {
      "cell_type": "code",
      "metadata": {
        "id": "XRMRV5XrAmGK"
      },
      "source": [
        "#counties_preds.to_csv('county_predictions.csv')\n",
        "#counties_preds.to_json('county_predictions.json')"
      ],
      "execution_count": 213,
      "outputs": []
    },
    {
      "cell_type": "code",
      "metadata": {
        "id": "iAS97wguAmJ4"
      },
      "source": [
        "#spark_counties = spark.createDataFrame(counties_preds)\n",
        "#spark_counties.show()"
      ],
      "execution_count": 214,
      "outputs": []
    },
    {
      "cell_type": "code",
      "metadata": {
        "id": "gIL0N7FVAPQy"
      },
      "source": [
        "#spark_counties.write.jdbc(url=jdbc_url, table='county_predictions', mode=mode, properties=config)"
      ],
      "execution_count": 215,
      "outputs": []
    },
    {
      "cell_type": "code",
      "metadata": {
        "id": "sfyfK9Ov0Ugf"
      },
      "source": [
        "#sparked_preds = spark.read.jdbc(url=jdbc_url, table='county_predictions', properties=config)"
      ],
      "execution_count": 216,
      "outputs": []
    },
    {
      "cell_type": "code",
      "metadata": {
        "id": "oZ_v44oe0bmg"
      },
      "source": [
        "#sparked_preds.show()"
      ],
      "execution_count": 217,
      "outputs": []
    },
    {
      "cell_type": "code",
      "metadata": {
        "id": "3_DHlPOh1O-o"
      },
      "source": [
        "#winners_df = pd.DataFrame(sparked_preds.select('zip','lat','lng','state_id','county_name','mer_success','rose_success','syr_success','savyb_success','ries_success','cabsav_success','char_success','pinot_success').collect(), columns=['zip','lat','lng','state','county_name','mer_success','rose_success','syr_success','savyb_success','ries_success','cabsav_success','char_success','pinot_success'], dtype=float)\n",
        "#winners_df.describe()"
      ],
      "execution_count": 218,
      "outputs": []
    },
    {
      "cell_type": "code",
      "metadata": {
        "id": "OMMF9B9PngPJ"
      },
      "source": [
        "#winners_df.columns"
      ],
      "execution_count": 219,
      "outputs": []
    },
    {
      "cell_type": "code",
      "metadata": {
        "id": "VjdZ1xDloCk-"
      },
      "source": [
        "#winners_df"
      ],
      "execution_count": 220,
      "outputs": []
    },
    {
      "cell_type": "code",
      "metadata": {
        "id": "BrIcwIChn_Ui"
      },
      "source": [
        "#winners_df['mer_success'].value_counts()"
      ],
      "execution_count": 221,
      "outputs": []
    }
  ]
}