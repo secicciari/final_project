{
  "nbformat": 4,
  "nbformat_minor": 0,
  "metadata": {
    "colab": {
      "name": "weatherlearn_trees_experiment.ipynb",
      "provenance": [],
      "collapsed_sections": []
    },
    "kernelspec": {
      "name": "python3",
      "display_name": "Python 3"
    },
    "language_info": {
      "name": "python"
    }
  },
  "cells": [
    {
      "cell_type": "code",
      "metadata": {
        "id": "ARW5HqwLa5ld"
      },
      "source": [
        "# Initial imports.\n",
        "import pandas as pd\n",
        "import numpy as np\n",
        "from numpy import random\n",
        "import os\n",
        "from sklearn.ensemble import RandomForestClassifier\n",
        "from sklearn.preprocessing import StandardScaler\n",
        "from sklearn.model_selection import train_test_split\n",
        "from sklearn.metrics import confusion_matrix, accuracy_score, classification_report"
      ],
      "execution_count": 340,
      "outputs": []
    },
    {
      "cell_type": "code",
      "metadata": {
        "id": "IeCv2IieXs5I",
        "colab": {
          "base_uri": "https://localhost:8080/",
          "height": 195
        },
        "outputId": "29e34502-4a29-434c-c263-72fc42729502"
      },
      "source": [
        "weatherfile = '/content/winery_weather.csv'\n",
        "wineweather_df = pd.read_csv(weatherfile, index_col=0)\n",
        "wineweather_df.head()"
      ],
      "execution_count": 7,
      "outputs": [
        {
          "output_type": "execute_result",
          "data": {
            "text/html": [
              "<div>\n",
              "<style scoped>\n",
              "    .dataframe tbody tr th:only-of-type {\n",
              "        vertical-align: middle;\n",
              "    }\n",
              "\n",
              "    .dataframe tbody tr th {\n",
              "        vertical-align: top;\n",
              "    }\n",
              "\n",
              "    .dataframe thead th {\n",
              "        text-align: right;\n",
              "    }\n",
              "</style>\n",
              "<table border=\"1\" class=\"dataframe\">\n",
              "  <thead>\n",
              "    <tr style=\"text-align: right;\">\n",
              "      <th></th>\n",
              "      <th>Winery</th>\n",
              "      <th>Average Temperature (Kelvin)</th>\n",
              "      <th>Average Air Pressure (hPa)</th>\n",
              "      <th>Average Humidity (%)</th>\n",
              "      <th>Average Daily Precipitation (mm)</th>\n",
              "    </tr>\n",
              "  </thead>\n",
              "  <tbody>\n",
              "    <tr>\n",
              "      <th>0</th>\n",
              "      <td>St. Julian winery US</td>\n",
              "      <td>269.6375</td>\n",
              "      <td>1018.1500</td>\n",
              "      <td>79.2400</td>\n",
              "      <td>0.0725</td>\n",
              "    </tr>\n",
              "    <tr>\n",
              "      <th>1</th>\n",
              "      <td>Sweet Cheeks winery US</td>\n",
              "      <td>276.0250</td>\n",
              "      <td>1019.8875</td>\n",
              "      <td>85.4525</td>\n",
              "      <td>0.0575</td>\n",
              "    </tr>\n",
              "    <tr>\n",
              "      <th>2</th>\n",
              "      <td>Kirkland Signature winery US</td>\n",
              "      <td>277.3750</td>\n",
              "      <td>1020.0125</td>\n",
              "      <td>79.1975</td>\n",
              "      <td>0.2350</td>\n",
              "    </tr>\n",
              "    <tr>\n",
              "      <th>3</th>\n",
              "      <td>Louis M. Martini winery US</td>\n",
              "      <td>281.0325</td>\n",
              "      <td>1018.5000</td>\n",
              "      <td>79.1550</td>\n",
              "      <td>0.0775</td>\n",
              "    </tr>\n",
              "    <tr>\n",
              "      <th>4</th>\n",
              "      <td>Richard Böcking winery Germany</td>\n",
              "      <td>275.7100</td>\n",
              "      <td>1014.9425</td>\n",
              "      <td>92.2150</td>\n",
              "      <td>0.1350</td>\n",
              "    </tr>\n",
              "  </tbody>\n",
              "</table>\n",
              "</div>"
            ],
            "text/plain": [
              "                           Winery  ...  Average Daily Precipitation (mm)\n",
              "0            St. Julian winery US  ...                            0.0725\n",
              "1          Sweet Cheeks winery US  ...                            0.0575\n",
              "2    Kirkland Signature winery US  ...                            0.2350\n",
              "3      Louis M. Martini winery US  ...                            0.0775\n",
              "4  Richard Böcking winery Germany  ...                            0.1350\n",
              "\n",
              "[5 rows x 5 columns]"
            ]
          },
          "metadata": {
            "tags": []
          },
          "execution_count": 7
        }
      ]
    },
    {
      "cell_type": "code",
      "metadata": {
        "colab": {
          "base_uri": "https://localhost:8080/"
        },
        "id": "DwTC_b_tALG3",
        "outputId": "53410206-7129-403e-d4de-e7fb432b33f0"
      },
      "source": [
        "wineweather_df.dtypes"
      ],
      "execution_count": 6,
      "outputs": [
        {
          "output_type": "execute_result",
          "data": {
            "text/plain": [
              "Unnamed: 0                            int64\n",
              "Winery                               object\n",
              "Average Temperature (Kelvin)        float64\n",
              "Average Air Pressure (hPa)          float64\n",
              "Average Humidity (%)                float64\n",
              "Average Daily Precipitation (mm)    float64\n",
              "dtype: object"
            ]
          },
          "metadata": {
            "tags": []
          },
          "execution_count": 6
        }
      ]
    },
    {
      "cell_type": "code",
      "metadata": {
        "colab": {
          "base_uri": "https://localhost:8080/",
          "height": 195
        },
        "id": "gvPi-1r6AYPH",
        "outputId": "bd353b5f-1242-4fcc-a18f-e52bb1d5b63a"
      },
      "source": [
        "scorefile = '/content/winemag_top8score.csv'\n",
        "readscore = pd.read_csv(scorefile)\n",
        "score_df = readscore.drop(columns=['Unnamed: 0'])\n",
        "score_df.head()"
      ],
      "execution_count": 12,
      "outputs": [
        {
          "output_type": "execute_result",
          "data": {
            "text/html": [
              "<div>\n",
              "<style scoped>\n",
              "    .dataframe tbody tr th:only-of-type {\n",
              "        vertical-align: middle;\n",
              "    }\n",
              "\n",
              "    .dataframe tbody tr th {\n",
              "        vertical-align: top;\n",
              "    }\n",
              "\n",
              "    .dataframe thead th {\n",
              "        text-align: right;\n",
              "    }\n",
              "</style>\n",
              "<table border=\"1\" class=\"dataframe\">\n",
              "  <thead>\n",
              "    <tr style=\"text-align: right;\">\n",
              "      <th></th>\n",
              "      <th>country</th>\n",
              "      <th>points</th>\n",
              "      <th>price</th>\n",
              "      <th>title</th>\n",
              "      <th>variety</th>\n",
              "      <th>winery</th>\n",
              "    </tr>\n",
              "  </thead>\n",
              "  <tbody>\n",
              "    <tr>\n",
              "      <th>0</th>\n",
              "      <td>US</td>\n",
              "      <td>87</td>\n",
              "      <td>13.0</td>\n",
              "      <td>St. Julian 2013 Reserve Late Harvest Riesling ...</td>\n",
              "      <td>Riesling</td>\n",
              "      <td>St. Julian</td>\n",
              "    </tr>\n",
              "    <tr>\n",
              "      <th>1</th>\n",
              "      <td>US</td>\n",
              "      <td>87</td>\n",
              "      <td>65.0</td>\n",
              "      <td>Sweet Cheeks 2012 Vintner's Reserve Wild Child...</td>\n",
              "      <td>Pinot Noir</td>\n",
              "      <td>Sweet Cheeks</td>\n",
              "    </tr>\n",
              "    <tr>\n",
              "      <th>2</th>\n",
              "      <td>US</td>\n",
              "      <td>87</td>\n",
              "      <td>19.0</td>\n",
              "      <td>Kirkland Signature 2011 Mountain Cuvée Caberne...</td>\n",
              "      <td>Cabernet Sauvignon</td>\n",
              "      <td>Kirkland Signature</td>\n",
              "    </tr>\n",
              "    <tr>\n",
              "      <th>3</th>\n",
              "      <td>US</td>\n",
              "      <td>87</td>\n",
              "      <td>34.0</td>\n",
              "      <td>Louis M. Martini 2012 Cabernet Sauvignon (Alex...</td>\n",
              "      <td>Cabernet Sauvignon</td>\n",
              "      <td>Louis M. Martini</td>\n",
              "    </tr>\n",
              "    <tr>\n",
              "      <th>4</th>\n",
              "      <td>US</td>\n",
              "      <td>87</td>\n",
              "      <td>12.0</td>\n",
              "      <td>Mirassou 2012 Chardonnay (Central Coast)</td>\n",
              "      <td>Chardonnay</td>\n",
              "      <td>Mirassou</td>\n",
              "    </tr>\n",
              "  </tbody>\n",
              "</table>\n",
              "</div>"
            ],
            "text/plain": [
              "  country  points  ...             variety              winery\n",
              "0      US      87  ...            Riesling          St. Julian\n",
              "1      US      87  ...          Pinot Noir        Sweet Cheeks\n",
              "2      US      87  ...  Cabernet Sauvignon  Kirkland Signature\n",
              "3      US      87  ...  Cabernet Sauvignon    Louis M. Martini\n",
              "4      US      87  ...          Chardonnay            Mirassou\n",
              "\n",
              "[5 rows x 6 columns]"
            ]
          },
          "metadata": {
            "tags": []
          },
          "execution_count": 12
        }
      ]
    },
    {
      "cell_type": "code",
      "metadata": {
        "colab": {
          "base_uri": "https://localhost:8080/"
        },
        "id": "-Bxk5MM_AYSi",
        "outputId": "010314b3-ace5-45e0-ffa9-0445bde3906c"
      },
      "source": [
        "score_df.dtypes"
      ],
      "execution_count": 13,
      "outputs": [
        {
          "output_type": "execute_result",
          "data": {
            "text/plain": [
              "country     object\n",
              "points       int64\n",
              "price      float64\n",
              "title       object\n",
              "variety     object\n",
              "winery      object\n",
              "dtype: object"
            ]
          },
          "metadata": {
            "tags": []
          },
          "execution_count": 13
        }
      ]
    },
    {
      "cell_type": "code",
      "metadata": {
        "colab": {
          "base_uri": "https://localhost:8080/",
          "height": 262
        },
        "id": "sb6IxqXJDRKM",
        "outputId": "514efbb7-c6f0-4d7b-cc44-90b2919968b0"
      },
      "source": [
        "wineweather_df['score'] = score_df['points']\n",
        "wineweather_df['variety'] = score_df['variety']\n",
        "wineweather_df.head()"
      ],
      "execution_count": 34,
      "outputs": [
        {
          "output_type": "execute_result",
          "data": {
            "text/html": [
              "<div>\n",
              "<style scoped>\n",
              "    .dataframe tbody tr th:only-of-type {\n",
              "        vertical-align: middle;\n",
              "    }\n",
              "\n",
              "    .dataframe tbody tr th {\n",
              "        vertical-align: top;\n",
              "    }\n",
              "\n",
              "    .dataframe thead th {\n",
              "        text-align: right;\n",
              "    }\n",
              "</style>\n",
              "<table border=\"1\" class=\"dataframe\">\n",
              "  <thead>\n",
              "    <tr style=\"text-align: right;\">\n",
              "      <th></th>\n",
              "      <th>Winery</th>\n",
              "      <th>Average Temperature (Kelvin)</th>\n",
              "      <th>Average Air Pressure (hPa)</th>\n",
              "      <th>Average Humidity (%)</th>\n",
              "      <th>Average Daily Precipitation (mm)</th>\n",
              "      <th>score</th>\n",
              "      <th>variety</th>\n",
              "    </tr>\n",
              "  </thead>\n",
              "  <tbody>\n",
              "    <tr>\n",
              "      <th>0</th>\n",
              "      <td>St. Julian winery US</td>\n",
              "      <td>269.6375</td>\n",
              "      <td>1018.1500</td>\n",
              "      <td>79.2400</td>\n",
              "      <td>0.0725</td>\n",
              "      <td>87</td>\n",
              "      <td>Riesling</td>\n",
              "    </tr>\n",
              "    <tr>\n",
              "      <th>1</th>\n",
              "      <td>Sweet Cheeks winery US</td>\n",
              "      <td>276.0250</td>\n",
              "      <td>1019.8875</td>\n",
              "      <td>85.4525</td>\n",
              "      <td>0.0575</td>\n",
              "      <td>87</td>\n",
              "      <td>Pinot Noir</td>\n",
              "    </tr>\n",
              "    <tr>\n",
              "      <th>2</th>\n",
              "      <td>Kirkland Signature winery US</td>\n",
              "      <td>277.3750</td>\n",
              "      <td>1020.0125</td>\n",
              "      <td>79.1975</td>\n",
              "      <td>0.2350</td>\n",
              "      <td>87</td>\n",
              "      <td>Cabernet Sauvignon</td>\n",
              "    </tr>\n",
              "    <tr>\n",
              "      <th>3</th>\n",
              "      <td>Louis M. Martini winery US</td>\n",
              "      <td>281.0325</td>\n",
              "      <td>1018.5000</td>\n",
              "      <td>79.1550</td>\n",
              "      <td>0.0775</td>\n",
              "      <td>87</td>\n",
              "      <td>Cabernet Sauvignon</td>\n",
              "    </tr>\n",
              "    <tr>\n",
              "      <th>4</th>\n",
              "      <td>Richard Böcking winery Germany</td>\n",
              "      <td>275.7100</td>\n",
              "      <td>1014.9425</td>\n",
              "      <td>92.2150</td>\n",
              "      <td>0.1350</td>\n",
              "      <td>87</td>\n",
              "      <td>Chardonnay</td>\n",
              "    </tr>\n",
              "  </tbody>\n",
              "</table>\n",
              "</div>"
            ],
            "text/plain": [
              "                           Winery  ...             variety\n",
              "0            St. Julian winery US  ...            Riesling\n",
              "1          Sweet Cheeks winery US  ...          Pinot Noir\n",
              "2    Kirkland Signature winery US  ...  Cabernet Sauvignon\n",
              "3      Louis M. Martini winery US  ...  Cabernet Sauvignon\n",
              "4  Richard Böcking winery Germany  ...          Chardonnay\n",
              "\n",
              "[5 rows x 7 columns]"
            ]
          },
          "metadata": {
            "tags": []
          },
          "execution_count": 34
        }
      ]
    },
    {
      "cell_type": "code",
      "metadata": {
        "colab": {
          "base_uri": "https://localhost:8080/"
        },
        "id": "X0g9PDrIDnE4",
        "outputId": "3a7870af-dec7-4f0d-830d-04ed0915564a"
      },
      "source": [
        "wineweather_df.dtypes"
      ],
      "execution_count": 20,
      "outputs": [
        {
          "output_type": "execute_result",
          "data": {
            "text/plain": [
              "Winery                               object\n",
              "Average Temperature (Kelvin)        float64\n",
              "Average Air Pressure (hPa)          float64\n",
              "Average Humidity (%)                float64\n",
              "Average Daily Precipitation (mm)    float64\n",
              "score                                 int64\n",
              "variety                              object\n",
              "dtype: object"
            ]
          },
          "metadata": {
            "tags": []
          },
          "execution_count": 20
        }
      ]
    },
    {
      "cell_type": "code",
      "metadata": {
        "colab": {
          "base_uri": "https://localhost:8080/",
          "height": 284
        },
        "id": "blIfYKR0NBUT",
        "outputId": "aead242c-4d8d-4ee1-f2c0-cf74e4cfe194"
      },
      "source": [
        "wineweather_df.describe()"
      ],
      "execution_count": 135,
      "outputs": [
        {
          "output_type": "execute_result",
          "data": {
            "text/html": [
              "<div>\n",
              "<style scoped>\n",
              "    .dataframe tbody tr th:only-of-type {\n",
              "        vertical-align: middle;\n",
              "    }\n",
              "\n",
              "    .dataframe tbody tr th {\n",
              "        vertical-align: top;\n",
              "    }\n",
              "\n",
              "    .dataframe thead th {\n",
              "        text-align: right;\n",
              "    }\n",
              "</style>\n",
              "<table border=\"1\" class=\"dataframe\">\n",
              "  <thead>\n",
              "    <tr style=\"text-align: right;\">\n",
              "      <th></th>\n",
              "      <th>Average Temperature (Kelvin)</th>\n",
              "      <th>Average Air Pressure (hPa)</th>\n",
              "      <th>Average Humidity (%)</th>\n",
              "      <th>Average Daily Precipitation (mm)</th>\n",
              "      <th>score</th>\n",
              "    </tr>\n",
              "  </thead>\n",
              "  <tbody>\n",
              "    <tr>\n",
              "      <th>count</th>\n",
              "      <td>7892.000000</td>\n",
              "      <td>7892.000000</td>\n",
              "      <td>7892.000000</td>\n",
              "      <td>7892.000000</td>\n",
              "      <td>7892.000000</td>\n",
              "    </tr>\n",
              "    <tr>\n",
              "      <th>mean</th>\n",
              "      <td>280.023354</td>\n",
              "      <td>1016.093086</td>\n",
              "      <td>75.890336</td>\n",
              "      <td>0.107172</td>\n",
              "      <td>88.535859</td>\n",
              "    </tr>\n",
              "    <tr>\n",
              "      <th>std</th>\n",
              "      <td>6.478670</td>\n",
              "      <td>9.364375</td>\n",
              "      <td>9.738065</td>\n",
              "      <td>0.076782</td>\n",
              "      <td>3.165499</td>\n",
              "    </tr>\n",
              "    <tr>\n",
              "      <th>min</th>\n",
              "      <td>263.445000</td>\n",
              "      <td>907.987500</td>\n",
              "      <td>35.680000</td>\n",
              "      <td>0.000000</td>\n",
              "      <td>80.000000</td>\n",
              "    </tr>\n",
              "    <tr>\n",
              "      <th>25%</th>\n",
              "      <td>276.477500</td>\n",
              "      <td>1016.240000</td>\n",
              "      <td>71.772500</td>\n",
              "      <td>0.055000</td>\n",
              "      <td>86.000000</td>\n",
              "    </tr>\n",
              "    <tr>\n",
              "      <th>50%</th>\n",
              "      <td>279.685000</td>\n",
              "      <td>1018.895000</td>\n",
              "      <td>78.357500</td>\n",
              "      <td>0.093750</td>\n",
              "      <td>88.000000</td>\n",
              "    </tr>\n",
              "    <tr>\n",
              "      <th>75%</th>\n",
              "      <td>281.742500</td>\n",
              "      <td>1020.257500</td>\n",
              "      <td>81.310000</td>\n",
              "      <td>0.145000</td>\n",
              "      <td>91.000000</td>\n",
              "    </tr>\n",
              "    <tr>\n",
              "      <th>max</th>\n",
              "      <td>300.575000</td>\n",
              "      <td>1027.607500</td>\n",
              "      <td>92.215000</td>\n",
              "      <td>0.917500</td>\n",
              "      <td>99.000000</td>\n",
              "    </tr>\n",
              "  </tbody>\n",
              "</table>\n",
              "</div>"
            ],
            "text/plain": [
              "       Average Temperature (Kelvin)  ...        score\n",
              "count                   7892.000000  ...  7892.000000\n",
              "mean                     280.023354  ...    88.535859\n",
              "std                        6.478670  ...     3.165499\n",
              "min                      263.445000  ...    80.000000\n",
              "25%                      276.477500  ...    86.000000\n",
              "50%                      279.685000  ...    88.000000\n",
              "75%                      281.742500  ...    91.000000\n",
              "max                      300.575000  ...    99.000000\n",
              "\n",
              "[8 rows x 5 columns]"
            ]
          },
          "metadata": {
            "tags": []
          },
          "execution_count": 135
        }
      ]
    },
    {
      "cell_type": "code",
      "metadata": {
        "colab": {
          "base_uri": "https://localhost:8080/"
        },
        "id": "o8RYAhU3DRNn",
        "outputId": "6e016244-5ead-4b97-ec67-3f7ce1272ec7"
      },
      "source": [
        "wineweather_df['score'].describe()"
      ],
      "execution_count": 111,
      "outputs": [
        {
          "output_type": "execute_result",
          "data": {
            "text/plain": [
              "count    7892.000000\n",
              "mean       88.535859\n",
              "std         3.165499\n",
              "min        80.000000\n",
              "25%        86.000000\n",
              "50%        88.000000\n",
              "75%        91.000000\n",
              "max        99.000000\n",
              "Name: score, dtype: float64"
            ]
          },
          "metadata": {
            "tags": []
          },
          "execution_count": 111
        }
      ]
    },
    {
      "cell_type": "code",
      "metadata": {
        "colab": {
          "base_uri": "https://localhost:8080/"
        },
        "id": "rquBn99hLfDV",
        "outputId": "b4bc1482-51bc-435d-fa53-b5619bf6be4e"
      },
      "source": [
        "wineweather_df['score'].unique()"
      ],
      "execution_count": 112,
      "outputs": [
        {
          "output_type": "execute_result",
          "data": {
            "text/plain": [
              "array([87, 86, 85, 88, 92, 91, 90, 89, 83, 82, 81, 80, 97, 96, 95, 93, 94,\n",
              "       84, 99, 98])"
            ]
          },
          "metadata": {
            "tags": []
          },
          "execution_count": 112
        }
      ]
    },
    {
      "cell_type": "code",
      "metadata": {
        "colab": {
          "base_uri": "https://localhost:8080/"
        },
        "id": "IQ13p1kCOFeN",
        "outputId": "28e93560-48c2-4ab9-9468-27da6d851d5e"
      },
      "source": [
        "wineweather_df['variety'].value_counts()"
      ],
      "execution_count": 138,
      "outputs": [
        {
          "output_type": "execute_result",
          "data": {
            "text/plain": [
              "Pinot Noir            1902\n",
              "Chardonnay            1619\n",
              "Cabernet Sauvignon    1418\n",
              "Sauvignon Blanc        747\n",
              "Riesling               744\n",
              "Syrah                  588\n",
              "Rosé                   441\n",
              "Merlot                 433\n",
              "Name: variety, dtype: int64"
            ]
          },
          "metadata": {
            "tags": []
          },
          "execution_count": 138
        }
      ]
    },
    {
      "cell_type": "code",
      "metadata": {
        "id": "e74OFPwZXs7R",
        "colab": {
          "base_uri": "https://localhost:8080/",
          "height": 195
        },
        "outputId": "0db8bc95-833f-4e3f-a350-951b3ad79cc7"
      },
      "source": [
        "#Features of all\n",
        "Xall = wineweather_df.copy()\n",
        "Xall = Xall.drop(columns=['Winery','score','variety'])\n",
        "Xall.head()"
      ],
      "execution_count": 37,
      "outputs": [
        {
          "output_type": "execute_result",
          "data": {
            "text/html": [
              "<div>\n",
              "<style scoped>\n",
              "    .dataframe tbody tr th:only-of-type {\n",
              "        vertical-align: middle;\n",
              "    }\n",
              "\n",
              "    .dataframe tbody tr th {\n",
              "        vertical-align: top;\n",
              "    }\n",
              "\n",
              "    .dataframe thead th {\n",
              "        text-align: right;\n",
              "    }\n",
              "</style>\n",
              "<table border=\"1\" class=\"dataframe\">\n",
              "  <thead>\n",
              "    <tr style=\"text-align: right;\">\n",
              "      <th></th>\n",
              "      <th>Average Temperature (Kelvin)</th>\n",
              "      <th>Average Air Pressure (hPa)</th>\n",
              "      <th>Average Humidity (%)</th>\n",
              "      <th>Average Daily Precipitation (mm)</th>\n",
              "    </tr>\n",
              "  </thead>\n",
              "  <tbody>\n",
              "    <tr>\n",
              "      <th>0</th>\n",
              "      <td>269.6375</td>\n",
              "      <td>1018.1500</td>\n",
              "      <td>79.2400</td>\n",
              "      <td>0.0725</td>\n",
              "    </tr>\n",
              "    <tr>\n",
              "      <th>1</th>\n",
              "      <td>276.0250</td>\n",
              "      <td>1019.8875</td>\n",
              "      <td>85.4525</td>\n",
              "      <td>0.0575</td>\n",
              "    </tr>\n",
              "    <tr>\n",
              "      <th>2</th>\n",
              "      <td>277.3750</td>\n",
              "      <td>1020.0125</td>\n",
              "      <td>79.1975</td>\n",
              "      <td>0.2350</td>\n",
              "    </tr>\n",
              "    <tr>\n",
              "      <th>3</th>\n",
              "      <td>281.0325</td>\n",
              "      <td>1018.5000</td>\n",
              "      <td>79.1550</td>\n",
              "      <td>0.0775</td>\n",
              "    </tr>\n",
              "    <tr>\n",
              "      <th>4</th>\n",
              "      <td>275.7100</td>\n",
              "      <td>1014.9425</td>\n",
              "      <td>92.2150</td>\n",
              "      <td>0.1350</td>\n",
              "    </tr>\n",
              "  </tbody>\n",
              "</table>\n",
              "</div>"
            ],
            "text/plain": [
              "   Average Temperature (Kelvin)  ...  Average Daily Precipitation (mm)\n",
              "0                      269.6375  ...                            0.0725\n",
              "1                      276.0250  ...                            0.0575\n",
              "2                      277.3750  ...                            0.2350\n",
              "3                      281.0325  ...                            0.0775\n",
              "4                      275.7100  ...                            0.1350\n",
              "\n",
              "[5 rows x 4 columns]"
            ]
          },
          "metadata": {
            "tags": []
          },
          "execution_count": 37
        }
      ]
    },
    {
      "cell_type": "code",
      "metadata": {
        "id": "wfiUY-d7Xs86",
        "colab": {
          "base_uri": "https://localhost:8080/"
        },
        "outputId": "c6fd2fdf-0135-4532-b52a-e25203bc31db"
      },
      "source": [
        "#Target\n",
        "yall = wineweather_df['score'].ravel()\n",
        "yall"
      ],
      "execution_count": 109,
      "outputs": [
        {
          "output_type": "execute_result",
          "data": {
            "text/plain": [
              "array([87, 87, 87, ..., 91, 91, 91])"
            ]
          },
          "metadata": {
            "tags": []
          },
          "execution_count": 109
        }
      ]
    },
    {
      "cell_type": "code",
      "metadata": {
        "id": "WcOUa5gHXs-h"
      },
      "source": [
        "#Split\n",
        "Xall_train, Xall_test, yall_train, yall_test = train_test_split(Xall,yall,random_state=99)"
      ],
      "execution_count": 113,
      "outputs": []
    },
    {
      "cell_type": "code",
      "metadata": {
        "id": "JHEUrMgVXtAW"
      },
      "source": [
        "#Scaler made and fit\n",
        "scaler = StandardScaler()\n",
        "Xall_scaler = scaler.fit(Xall_train)\n",
        "\n",
        "# Scaling the data\n",
        "Xall_train_scaled = Xall_scaler.transform(X_train)\n",
        "Xall_test_scaled = Xall_scaler.transform(X_test)"
      ],
      "execution_count": 122,
      "outputs": []
    },
    {
      "cell_type": "code",
      "metadata": {
        "colab": {
          "base_uri": "https://localhost:8080/"
        },
        "id": "b7RekNW5I8K2",
        "outputId": "964efe77-67fe-4345-a791-96ae9768c6a4"
      },
      "source": [
        "Xall_train_scaled"
      ],
      "execution_count": 123,
      "outputs": [
        {
          "output_type": "execute_result",
          "data": {
            "text/plain": [
              "array([[-0.49956474,  0.05001811,  0.98858686,  0.16570393],\n",
              "       [-1.65817618,  0.51801975,  0.34942681, -0.94122207],\n",
              "       [ 0.03599032,  0.01403834,  0.01580638, -1.03889201],\n",
              "       ...,\n",
              "       [-1.73044291, -0.80899903,  0.80773625, -1.00633536],\n",
              "       [ 0.04028726,  0.43759437, -0.96264177, -1.23423189],\n",
              "       [ 0.28130656,  0.32409934, -0.57028355,  0.23081722]])"
            ]
          },
          "metadata": {
            "tags": []
          },
          "execution_count": 123
        }
      ]
    },
    {
      "cell_type": "code",
      "metadata": {
        "id": "I9CVSQgGXtB_"
      },
      "source": [
        "#Init model\n",
        "rf_model = RandomForestClassifier(n_estimators=140, random_state=99) "
      ],
      "execution_count": 124,
      "outputs": []
    },
    {
      "cell_type": "code",
      "metadata": {
        "id": "nHtY6WAQgVUb"
      },
      "source": [
        "#https://courses.bootcampspot.com/courses/488/pages/17-dot-8-3-fit-the-model-make-predictions-and-evaluate-results?module_item_id=117963"
      ],
      "execution_count": null,
      "outputs": []
    },
    {
      "cell_type": "code",
      "metadata": {
        "id": "f8KARinhgVYw"
      },
      "source": [
        "# Fitting the model\n",
        "rf_model_all = rf_model.fit(Xall_train, yall_train)"
      ],
      "execution_count": 140,
      "outputs": []
    },
    {
      "cell_type": "code",
      "metadata": {
        "id": "WtELwEiigVdx",
        "colab": {
          "base_uri": "https://localhost:8080/"
        },
        "outputId": "9750fd2a-484b-4d92-c0e7-ccb179e077ac"
      },
      "source": [
        "# Making predictions using the testing data.\n",
        "predictions_all = rf_model_all.predict(Xall_test)\n",
        "predictions_all"
      ],
      "execution_count": 141,
      "outputs": [
        {
          "output_type": "execute_result",
          "data": {
            "text/plain": [
              "array([89, 87, 90, ..., 88, 87, 86])"
            ]
          },
          "metadata": {
            "tags": []
          },
          "execution_count": 141
        }
      ]
    },
    {
      "cell_type": "code",
      "metadata": {
        "id": "GsRJH5TtGUlT"
      },
      "source": [
        "#i dont think this is that useful\n",
        "# Calculating the confusion matrix.\n",
        "#cm_all = confusion_matrix(yall_test, predictions_all)\n",
        "#cm_all\n",
        "# Create a DataFrame from the confusion matrix.\n",
        "#cmall_df = pd.DataFrame(\n",
        "#    cm_all, index=[\"Actual 0\", \"Actual 1\"], columns=[\"Predicted 0\", \"Predicted 1\"])\n",
        "\n",
        "#cmall_df"
      ],
      "execution_count": 90,
      "outputs": []
    },
    {
      "cell_type": "code",
      "metadata": {
        "colab": {
          "base_uri": "https://localhost:8080/"
        },
        "id": "Ay_UsQBRGUoL",
        "outputId": "40f2c499-ea65-4790-aa49-e3ce03ab8a91"
      },
      "source": [
        "# Calculating the accuracy score.\n",
        "acc_score_all = accuracy_score(yall_test, predictions_all)\n",
        "acc_score_all"
      ],
      "execution_count": 142,
      "outputs": [
        {
          "output_type": "execute_result",
          "data": {
            "text/plain": [
              "0.10745058286872783"
            ]
          },
          "metadata": {
            "tags": []
          },
          "execution_count": 142
        }
      ]
    },
    {
      "cell_type": "code",
      "metadata": {
        "colab": {
          "base_uri": "https://localhost:8080/"
        },
        "id": "gHSH0VSIGUr7",
        "outputId": "c6e84f4f-eae2-438e-ee93-c3dad1bf2ec4"
      },
      "source": [
        "# Calculate feature importance in the Random Forest model.\n",
        "importances = rf_model_all.feature_importances_\n",
        "importances"
      ],
      "execution_count": 143,
      "outputs": [
        {
          "output_type": "execute_result",
          "data": {
            "text/plain": [
              "array([0.25711982, 0.25596895, 0.2614882 , 0.22542302])"
            ]
          },
          "metadata": {
            "tags": []
          },
          "execution_count": 143
        }
      ]
    },
    {
      "cell_type": "code",
      "metadata": {
        "colab": {
          "base_uri": "https://localhost:8080/"
        },
        "id": "RGjG7j8bIs23",
        "outputId": "3ae38f28-e02a-4c5e-b216-4970e9e6c276"
      },
      "source": [
        "# We can sort the features by their importance.\n",
        "sorted(zip(rf_model_all.feature_importances_, Xall.columns), reverse=True)"
      ],
      "execution_count": 144,
      "outputs": [
        {
          "output_type": "execute_result",
          "data": {
            "text/plain": [
              "[(0.26148820491838354, 'Average Humidity (%)'),\n",
              " (0.2571198236390153, 'Average Temperature (Kelvin)'),\n",
              " (0.2559689538869403, 'Average Air Pressure (hPa)'),\n",
              " (0.22542301755566085, 'Average Daily Precipitation (mm)')]"
            ]
          },
          "metadata": {
            "tags": []
          },
          "execution_count": 144
        }
      ]
    },
    {
      "cell_type": "code",
      "metadata": {
        "id": "eYbNyU0BXtHq"
      },
      "source": [
        "#none of these are particularly weighted comparitively high. let's boost"
      ],
      "execution_count": null,
      "outputs": []
    },
    {
      "cell_type": "code",
      "metadata": {
        "id": "N6Yz-2XyXtbb",
        "colab": {
          "base_uri": "https://localhost:8080/"
        },
        "outputId": "2135ccc5-e2e2-4f49-e8a3-c9ed8916179b"
      },
      "source": [
        "from sklearn.ensemble import GradientBoostingClassifier\n",
        "learning_rates = [0.05, 0.1, 0.25, 0.5, 0.75, 1]\n",
        "for learning_rate in learning_rates:\n",
        "   classifier = GradientBoostingClassifier(n_estimators=20,\n",
        "   learning_rate=learning_rate,\n",
        "   max_features=4,\n",
        "   max_depth=25,\n",
        "   random_state=99)\n",
        "   classifier.fit(Xall_train, yall_train)\n",
        "   print(\"Learning rate: \", learning_rate)\n",
        "   print(\"Accuracy score (training): {0:.3f}\".format(\n",
        "       classifier.score(\n",
        "           Xall_train,\n",
        "           yall_train)))\n",
        "   print(\"Accuracy score (validation): {0:.3f}\".format(\n",
        "       classifier.score(\n",
        "           Xall_test,\n",
        "           yall_test)))"
      ],
      "execution_count": 146,
      "outputs": [
        {
          "output_type": "stream",
          "text": [
            "Learning rate:  0.05\n",
            "Accuracy score (training): 0.215\n",
            "Accuracy score (validation): 0.110\n",
            "Learning rate:  0.1\n",
            "Accuracy score (training): 0.215\n",
            "Accuracy score (validation): 0.109\n",
            "Learning rate:  0.25\n",
            "Accuracy score (training): 0.212\n",
            "Accuracy score (validation): 0.106\n",
            "Learning rate:  0.5\n",
            "Accuracy score (training): 0.211\n",
            "Accuracy score (validation): 0.098\n",
            "Learning rate:  0.75\n",
            "Accuracy score (training): 0.208\n",
            "Accuracy score (validation): 0.100\n",
            "Learning rate:  1\n",
            "Accuracy score (training): 0.200\n",
            "Accuracy score (validation): 0.101\n"
          ],
          "name": "stdout"
        }
      ]
    },
    {
      "cell_type": "code",
      "metadata": {
        "id": "RCFO89aFXtdZ"
      },
      "source": [
        "#trying SMOTE first to get better groupings. after this I'm going to try by variety instead\n",
        "#i don't know what this means. damn it. ok let's try isolating variety\n",
        "#from imblearn.over_sampling import SMOTE\n",
        "#Xall_resampled, yall_resampled = SMOTE(random_state=99,\n",
        "#sampling_strategy='auto').fit_resample(\n",
        "#   Xall_train, yall_train)"
      ],
      "execution_count": 189,
      "outputs": []
    },
    {
      "cell_type": "code",
      "metadata": {
        "id": "gHeD5OyuXtfE",
        "colab": {
          "base_uri": "https://localhost:8080/",
          "height": 195
        },
        "outputId": "15e7bd0b-3a37-43a9-ef4f-d59142288df3"
      },
      "source": [
        "#Feature df\n",
        "X = wineweather_df.copy()\n",
        "X = X.drop(columns=['Winery'])\n",
        "X.head()"
      ],
      "execution_count": 155,
      "outputs": [
        {
          "output_type": "execute_result",
          "data": {
            "text/html": [
              "<div>\n",
              "<style scoped>\n",
              "    .dataframe tbody tr th:only-of-type {\n",
              "        vertical-align: middle;\n",
              "    }\n",
              "\n",
              "    .dataframe tbody tr th {\n",
              "        vertical-align: top;\n",
              "    }\n",
              "\n",
              "    .dataframe thead th {\n",
              "        text-align: right;\n",
              "    }\n",
              "</style>\n",
              "<table border=\"1\" class=\"dataframe\">\n",
              "  <thead>\n",
              "    <tr style=\"text-align: right;\">\n",
              "      <th></th>\n",
              "      <th>Average Temperature (Kelvin)</th>\n",
              "      <th>Average Air Pressure (hPa)</th>\n",
              "      <th>Average Humidity (%)</th>\n",
              "      <th>Average Daily Precipitation (mm)</th>\n",
              "      <th>score</th>\n",
              "      <th>variety</th>\n",
              "    </tr>\n",
              "  </thead>\n",
              "  <tbody>\n",
              "    <tr>\n",
              "      <th>0</th>\n",
              "      <td>269.6375</td>\n",
              "      <td>1018.1500</td>\n",
              "      <td>79.2400</td>\n",
              "      <td>0.0725</td>\n",
              "      <td>87</td>\n",
              "      <td>Riesling</td>\n",
              "    </tr>\n",
              "    <tr>\n",
              "      <th>1</th>\n",
              "      <td>276.0250</td>\n",
              "      <td>1019.8875</td>\n",
              "      <td>85.4525</td>\n",
              "      <td>0.0575</td>\n",
              "      <td>87</td>\n",
              "      <td>Pinot Noir</td>\n",
              "    </tr>\n",
              "    <tr>\n",
              "      <th>2</th>\n",
              "      <td>277.3750</td>\n",
              "      <td>1020.0125</td>\n",
              "      <td>79.1975</td>\n",
              "      <td>0.2350</td>\n",
              "      <td>87</td>\n",
              "      <td>Cabernet Sauvignon</td>\n",
              "    </tr>\n",
              "    <tr>\n",
              "      <th>3</th>\n",
              "      <td>281.0325</td>\n",
              "      <td>1018.5000</td>\n",
              "      <td>79.1550</td>\n",
              "      <td>0.0775</td>\n",
              "      <td>87</td>\n",
              "      <td>Cabernet Sauvignon</td>\n",
              "    </tr>\n",
              "    <tr>\n",
              "      <th>4</th>\n",
              "      <td>275.7100</td>\n",
              "      <td>1014.9425</td>\n",
              "      <td>92.2150</td>\n",
              "      <td>0.1350</td>\n",
              "      <td>87</td>\n",
              "      <td>Chardonnay</td>\n",
              "    </tr>\n",
              "  </tbody>\n",
              "</table>\n",
              "</div>"
            ],
            "text/plain": [
              "   Average Temperature (Kelvin)  ...             variety\n",
              "0                      269.6375  ...            Riesling\n",
              "1                      276.0250  ...          Pinot Noir\n",
              "2                      277.3750  ...  Cabernet Sauvignon\n",
              "3                      281.0325  ...  Cabernet Sauvignon\n",
              "4                      275.7100  ...          Chardonnay\n",
              "\n",
              "[5 rows x 6 columns]"
            ]
          },
          "metadata": {
            "tags": []
          },
          "execution_count": 155
        }
      ]
    },
    {
      "cell_type": "code",
      "metadata": {
        "colab": {
          "base_uri": "https://localhost:8080/",
          "height": 284
        },
        "id": "5kfzjIW0RJ2m",
        "outputId": "9d78566e-de08-4b77-cb08-6036493b279e"
      },
      "source": [
        "X.describe()"
      ],
      "execution_count": 156,
      "outputs": [
        {
          "output_type": "execute_result",
          "data": {
            "text/html": [
              "<div>\n",
              "<style scoped>\n",
              "    .dataframe tbody tr th:only-of-type {\n",
              "        vertical-align: middle;\n",
              "    }\n",
              "\n",
              "    .dataframe tbody tr th {\n",
              "        vertical-align: top;\n",
              "    }\n",
              "\n",
              "    .dataframe thead th {\n",
              "        text-align: right;\n",
              "    }\n",
              "</style>\n",
              "<table border=\"1\" class=\"dataframe\">\n",
              "  <thead>\n",
              "    <tr style=\"text-align: right;\">\n",
              "      <th></th>\n",
              "      <th>Average Temperature (Kelvin)</th>\n",
              "      <th>Average Air Pressure (hPa)</th>\n",
              "      <th>Average Humidity (%)</th>\n",
              "      <th>Average Daily Precipitation (mm)</th>\n",
              "      <th>score</th>\n",
              "    </tr>\n",
              "  </thead>\n",
              "  <tbody>\n",
              "    <tr>\n",
              "      <th>count</th>\n",
              "      <td>7892.000000</td>\n",
              "      <td>7892.000000</td>\n",
              "      <td>7892.000000</td>\n",
              "      <td>7892.000000</td>\n",
              "      <td>7892.000000</td>\n",
              "    </tr>\n",
              "    <tr>\n",
              "      <th>mean</th>\n",
              "      <td>280.023354</td>\n",
              "      <td>1016.093086</td>\n",
              "      <td>75.890336</td>\n",
              "      <td>0.107172</td>\n",
              "      <td>88.535859</td>\n",
              "    </tr>\n",
              "    <tr>\n",
              "      <th>std</th>\n",
              "      <td>6.478670</td>\n",
              "      <td>9.364375</td>\n",
              "      <td>9.738065</td>\n",
              "      <td>0.076782</td>\n",
              "      <td>3.165499</td>\n",
              "    </tr>\n",
              "    <tr>\n",
              "      <th>min</th>\n",
              "      <td>263.445000</td>\n",
              "      <td>907.987500</td>\n",
              "      <td>35.680000</td>\n",
              "      <td>0.000000</td>\n",
              "      <td>80.000000</td>\n",
              "    </tr>\n",
              "    <tr>\n",
              "      <th>25%</th>\n",
              "      <td>276.477500</td>\n",
              "      <td>1016.240000</td>\n",
              "      <td>71.772500</td>\n",
              "      <td>0.055000</td>\n",
              "      <td>86.000000</td>\n",
              "    </tr>\n",
              "    <tr>\n",
              "      <th>50%</th>\n",
              "      <td>279.685000</td>\n",
              "      <td>1018.895000</td>\n",
              "      <td>78.357500</td>\n",
              "      <td>0.093750</td>\n",
              "      <td>88.000000</td>\n",
              "    </tr>\n",
              "    <tr>\n",
              "      <th>75%</th>\n",
              "      <td>281.742500</td>\n",
              "      <td>1020.257500</td>\n",
              "      <td>81.310000</td>\n",
              "      <td>0.145000</td>\n",
              "      <td>91.000000</td>\n",
              "    </tr>\n",
              "    <tr>\n",
              "      <th>max</th>\n",
              "      <td>300.575000</td>\n",
              "      <td>1027.607500</td>\n",
              "      <td>92.215000</td>\n",
              "      <td>0.917500</td>\n",
              "      <td>99.000000</td>\n",
              "    </tr>\n",
              "  </tbody>\n",
              "</table>\n",
              "</div>"
            ],
            "text/plain": [
              "       Average Temperature (Kelvin)  ...        score\n",
              "count                   7892.000000  ...  7892.000000\n",
              "mean                     280.023354  ...    88.535859\n",
              "std                        6.478670  ...     3.165499\n",
              "min                      263.445000  ...    80.000000\n",
              "25%                      276.477500  ...    86.000000\n",
              "50%                      279.685000  ...    88.000000\n",
              "75%                      281.742500  ...    91.000000\n",
              "max                      300.575000  ...    99.000000\n",
              "\n",
              "[8 rows x 5 columns]"
            ]
          },
          "metadata": {
            "tags": []
          },
          "execution_count": 156
        }
      ]
    },
    {
      "cell_type": "code",
      "metadata": {
        "colab": {
          "base_uri": "https://localhost:8080/"
        },
        "id": "HKLM1iB7RTkk",
        "outputId": "11b0a3c5-4afe-4c1c-bf24-4ebe1fd853ba"
      },
      "source": [
        "X['variety'].value_counts()"
      ],
      "execution_count": 157,
      "outputs": [
        {
          "output_type": "execute_result",
          "data": {
            "text/plain": [
              "Pinot Noir            1902\n",
              "Chardonnay            1619\n",
              "Cabernet Sauvignon    1418\n",
              "Sauvignon Blanc        747\n",
              "Riesling               744\n",
              "Syrah                  588\n",
              "Rosé                   441\n",
              "Merlot                 433\n",
              "Name: variety, dtype: int64"
            ]
          },
          "metadata": {
            "tags": []
          },
          "execution_count": 157
        }
      ]
    },
    {
      "cell_type": "code",
      "metadata": {
        "id": "3xKaosiKECLw"
      },
      "source": [
        "#divide varieties\n",
        "Xries = X[X['variety'] == 'Riesling']\n",
        "Xpinot = X[X['variety'] == 'Pinot Noir']\n",
        "Xcabsav = X[X['variety'] == 'Cabernet Sauvignon']\n",
        "Xchard = X[X['variety'] == 'Chardonnay']\n",
        "Xmerl = X[X['variety'] == 'Merlot']\n",
        "Xsavyb = X[X['variety'] == 'Sauvignon Blanc']\n",
        "Xrose = X[X['variety'] == 'Rosé']\n",
        "Xsyrah = X[X['variety'] == 'Syrah']"
      ],
      "execution_count": 158,
      "outputs": []
    },
    {
      "cell_type": "code",
      "metadata": {
        "id": "FZKx5W7TXthy",
        "colab": {
          "base_uri": "https://localhost:8080/",
          "height": 195
        },
        "outputId": "c4ba8a8a-f63d-47e2-9985-6e0f46354c34"
      },
      "source": [
        "Xpin = Xpinot.drop(columns=['score','variety'])\n",
        "Xpin.head()"
      ],
      "execution_count": 161,
      "outputs": [
        {
          "output_type": "execute_result",
          "data": {
            "text/html": [
              "<div>\n",
              "<style scoped>\n",
              "    .dataframe tbody tr th:only-of-type {\n",
              "        vertical-align: middle;\n",
              "    }\n",
              "\n",
              "    .dataframe tbody tr th {\n",
              "        vertical-align: top;\n",
              "    }\n",
              "\n",
              "    .dataframe thead th {\n",
              "        text-align: right;\n",
              "    }\n",
              "</style>\n",
              "<table border=\"1\" class=\"dataframe\">\n",
              "  <thead>\n",
              "    <tr style=\"text-align: right;\">\n",
              "      <th></th>\n",
              "      <th>Average Temperature (Kelvin)</th>\n",
              "      <th>Average Air Pressure (hPa)</th>\n",
              "      <th>Average Humidity (%)</th>\n",
              "      <th>Average Daily Precipitation (mm)</th>\n",
              "    </tr>\n",
              "  </thead>\n",
              "  <tbody>\n",
              "    <tr>\n",
              "      <th>1</th>\n",
              "      <td>276.0250</td>\n",
              "      <td>1019.8875</td>\n",
              "      <td>85.4525</td>\n",
              "      <td>0.0575</td>\n",
              "    </tr>\n",
              "    <tr>\n",
              "      <th>6</th>\n",
              "      <td>281.0325</td>\n",
              "      <td>1018.5000</td>\n",
              "      <td>79.1550</td>\n",
              "      <td>0.0775</td>\n",
              "    </tr>\n",
              "    <tr>\n",
              "      <th>8</th>\n",
              "      <td>276.2200</td>\n",
              "      <td>1020.7575</td>\n",
              "      <td>76.7050</td>\n",
              "      <td>0.1400</td>\n",
              "    </tr>\n",
              "    <tr>\n",
              "      <th>10</th>\n",
              "      <td>276.0775</td>\n",
              "      <td>1020.8975</td>\n",
              "      <td>74.8725</td>\n",
              "      <td>0.1350</td>\n",
              "    </tr>\n",
              "    <tr>\n",
              "      <th>12</th>\n",
              "      <td>269.7550</td>\n",
              "      <td>1013.9600</td>\n",
              "      <td>58.3000</td>\n",
              "      <td>0.0100</td>\n",
              "    </tr>\n",
              "  </tbody>\n",
              "</table>\n",
              "</div>"
            ],
            "text/plain": [
              "    Average Temperature (Kelvin)  ...  Average Daily Precipitation (mm)\n",
              "1                       276.0250  ...                            0.0575\n",
              "6                       281.0325  ...                            0.0775\n",
              "8                       276.2200  ...                            0.1400\n",
              "10                      276.0775  ...                            0.1350\n",
              "12                      269.7550  ...                            0.0100\n",
              "\n",
              "[5 rows x 4 columns]"
            ]
          },
          "metadata": {
            "tags": []
          },
          "execution_count": 161
        }
      ]
    },
    {
      "cell_type": "code",
      "metadata": {
        "id": "Evdy8pVkXtkn",
        "colab": {
          "base_uri": "https://localhost:8080/"
        },
        "outputId": "7e0cedce-f4aa-4296-b0e5-052a3e2f2101"
      },
      "source": [
        "#target dfs\n",
        "ypin = Xpinot['score'].ravel()\n",
        "ypin"
      ],
      "execution_count": 160,
      "outputs": [
        {
          "output_type": "execute_result",
          "data": {
            "text/plain": [
              "array([87, 87, 87, ..., 91, 91, 91])"
            ]
          },
          "metadata": {
            "tags": []
          },
          "execution_count": 160
        }
      ]
    },
    {
      "cell_type": "code",
      "metadata": {
        "id": "A_8bsJGWXtmC"
      },
      "source": [
        "#Split\n",
        "Xpin_train, Xpin_test, ypin_train, ypin_test = train_test_split(Xpin,ypin,random_state=99)"
      ],
      "execution_count": 162,
      "outputs": []
    },
    {
      "cell_type": "code",
      "metadata": {
        "id": "rPwe_l1rXtnd"
      },
      "source": [
        "#init model again\n",
        "rf_model = RandomForestClassifier(n_estimators=140, random_state=99) "
      ],
      "execution_count": 163,
      "outputs": []
    },
    {
      "cell_type": "code",
      "metadata": {
        "id": "jYxqriCOXto7"
      },
      "source": [
        "rf_model_pin = rf_model.fit(Xpin, ypin)"
      ],
      "execution_count": 164,
      "outputs": []
    },
    {
      "cell_type": "code",
      "metadata": {
        "id": "pcf1t_wHXtq9",
        "colab": {
          "base_uri": "https://localhost:8080/"
        },
        "outputId": "2ae6763a-7b90-4661-8f11-e30b9f3711b0"
      },
      "source": [
        "predictions_pin = rf_model_pin.predict(Xpin_test)\n",
        "predictions_pin"
      ],
      "execution_count": 167,
      "outputs": [
        {
          "output_type": "execute_result",
          "data": {
            "text/plain": [
              "array([91, 92, 92, 86, 86, 90, 87, 90, 85, 90, 82, 91, 89, 90, 88, 90, 93,\n",
              "       85, 92, 90, 88, 88, 93, 92, 87, 90, 91, 85, 91, 85, 91, 93, 91, 92,\n",
              "       90, 92, 91, 87, 91, 91, 90, 89, 91, 91, 90, 90, 91, 92, 86, 90, 92,\n",
              "       91, 92, 86, 93, 87, 91, 90, 91, 90, 86, 86, 91, 86, 86, 90, 85, 92,\n",
              "       90, 91, 90, 90, 86, 91, 92, 90, 90, 86, 85, 91, 92, 93, 91, 91, 89,\n",
              "       92, 92, 86, 89, 89, 93, 89, 91, 87, 91, 92, 82, 82, 91, 91, 92, 91,\n",
              "       91, 90, 92, 90, 91, 93, 91, 89, 91, 89, 89, 89, 92, 90, 90, 86, 87,\n",
              "       87, 86, 87, 88, 91, 90, 87, 91, 92, 91, 91, 92, 90, 91, 87, 85, 91,\n",
              "       89, 93, 85, 86, 92, 91, 90, 90, 92, 91, 87, 90, 88, 89, 87, 91, 87,\n",
              "       89, 85, 85, 86, 90, 91, 91, 90, 92, 87, 92, 86, 89, 90, 87, 97, 90,\n",
              "       90, 93, 88, 89, 90, 91, 94, 90, 90, 90, 88, 91, 94, 86, 91, 86, 89,\n",
              "       90, 87, 86, 92, 90, 90, 91, 90, 91, 92, 90, 87, 87, 90, 91, 90, 90,\n",
              "       92, 90, 90, 90, 91, 90, 92, 91, 90, 90, 91, 92, 92, 90, 91, 85, 86,\n",
              "       91, 91, 91, 86, 90, 87, 91, 90, 86, 90, 87, 86, 93, 91, 86, 90, 89,\n",
              "       84, 88, 91, 89, 94, 90, 86, 86, 86, 87, 91, 90, 90, 91, 88, 93, 86,\n",
              "       86, 91, 89, 92, 92, 90, 87, 91, 91, 92, 91, 94, 90, 90, 91, 88, 91,\n",
              "       91, 86, 85, 85, 92, 92, 90, 86, 92, 92, 88, 91, 82, 91, 90, 86, 90,\n",
              "       88, 89, 86, 92, 90, 93, 82, 92, 91, 85, 86, 91, 88, 91, 90, 86, 85,\n",
              "       92, 87, 92, 85, 87, 88, 91, 91, 90, 87, 90, 90, 87, 86, 94, 87, 86,\n",
              "       86, 93, 90, 87, 92, 90, 87, 90, 89, 90, 92, 91, 87, 92, 92, 87, 91,\n",
              "       91, 93, 86, 94, 86, 91, 90, 91, 89, 91, 91, 91, 88, 90, 89, 94, 93,\n",
              "       90, 87, 91, 90, 91, 90, 86, 88, 91, 86, 92, 86, 86, 90, 94, 93, 91,\n",
              "       91, 91, 90, 90, 90, 91, 90, 93, 91, 92, 88, 91, 86, 92, 91, 91, 86,\n",
              "       89, 86, 91, 89, 88, 92, 88, 89, 91, 90, 86, 87, 92, 87, 90, 94, 92,\n",
              "       91, 92, 89, 92, 91, 91, 90, 92, 91, 87, 91, 82, 92, 87, 87, 92, 87,\n",
              "       88, 92, 92, 90, 86, 91, 92, 92, 88, 89, 91, 91, 89, 92, 88, 90, 85,\n",
              "       88, 92, 93, 87, 91, 90, 92, 90, 86, 87, 91, 91, 90, 89, 90, 85, 91,\n",
              "       86, 86, 90, 90, 90, 91, 91, 91, 91, 90, 91, 90, 91, 90, 88, 91, 90])"
            ]
          },
          "metadata": {
            "tags": []
          },
          "execution_count": 167
        }
      ]
    },
    {
      "cell_type": "code",
      "metadata": {
        "id": "ZRxctH9vXtsZ",
        "colab": {
          "base_uri": "https://localhost:8080/"
        },
        "outputId": "8f5a4e54-b773-484b-e7f8-ef0e9c808b9d"
      },
      "source": [
        "# Calculating the accuracy score.\n",
        "acc_score_pin = accuracy_score(ypin_test, predictions_pin)\n",
        "acc_score_pin"
      ],
      "execution_count": 168,
      "outputs": [
        {
          "output_type": "execute_result",
          "data": {
            "text/plain": [
              "0.28781512605042014"
            ]
          },
          "metadata": {
            "tags": []
          },
          "execution_count": 168
        }
      ]
    },
    {
      "cell_type": "code",
      "metadata": {
        "colab": {
          "base_uri": "https://localhost:8080/"
        },
        "id": "ZCxZzhHeTcIq",
        "outputId": "551b82ea-2880-433c-df37-30e5878d0d4a"
      },
      "source": [
        "#let's try this\n",
        "learning_rates = [0.05, 0.1, 0.25, 0.5, 0.75, 1]\n",
        "for learning_rate in learning_rates:\n",
        "   classifier = GradientBoostingClassifier(n_estimators=20,\n",
        "   learning_rate=learning_rate,\n",
        "   max_features=4,\n",
        "   max_depth=25,\n",
        "   random_state=99)\n",
        "   classifier.fit(Xpin_train, ypin_train)\n",
        "   print(\"Learning rate: \", learning_rate)\n",
        "   print(\"Accuracy score (training): {0:.3f}\".format(\n",
        "       classifier.score(\n",
        "           Xpin_train,\n",
        "           ypin_train)))\n",
        "   print(\"Accuracy score (validation): {0:.3f}\".format(\n",
        "       classifier.score(\n",
        "           Xpin_test,\n",
        "           ypin_test)))"
      ],
      "execution_count": 169,
      "outputs": [
        {
          "output_type": "stream",
          "text": [
            "Learning rate:  0.05\n",
            "Accuracy score (training): 0.316\n",
            "Accuracy score (validation): 0.113\n",
            "Learning rate:  0.1\n",
            "Accuracy score (training): 0.316\n",
            "Accuracy score (validation): 0.109\n",
            "Learning rate:  0.25\n",
            "Accuracy score (training): 0.314\n",
            "Accuracy score (validation): 0.111\n",
            "Learning rate:  0.5\n",
            "Accuracy score (training): 0.313\n",
            "Accuracy score (validation): 0.097\n",
            "Learning rate:  0.75\n",
            "Accuracy score (training): 0.308\n",
            "Accuracy score (validation): 0.105\n",
            "Learning rate:  1\n",
            "Accuracy score (training): 0.290\n",
            "Accuracy score (validation): 0.086\n"
          ],
          "name": "stdout"
        }
      ]
    },
    {
      "cell_type": "code",
      "metadata": {
        "id": "Q_j55cwMXtt_",
        "colab": {
          "base_uri": "https://localhost:8080/"
        },
        "outputId": "ad76a55a-a92a-4716-d1c1-9e0010ddf727"
      },
      "source": [
        "Xpinot['score'].value_counts()"
      ],
      "execution_count": 171,
      "outputs": [
        {
          "output_type": "execute_result",
          "data": {
            "text/plain": [
              "92    235\n",
              "91    219\n",
              "87    209\n",
              "90    208\n",
              "88    184\n",
              "89    149\n",
              "93    141\n",
              "86    137\n",
              "94    117\n",
              "85    108\n",
              "84     81\n",
              "95     31\n",
              "82     27\n",
              "83     27\n",
              "96     14\n",
              "81      7\n",
              "97      4\n",
              "80      2\n",
              "98      1\n",
              "99      1\n",
              "Name: score, dtype: int64"
            ]
          },
          "metadata": {
            "tags": []
          },
          "execution_count": 171
        }
      ]
    },
    {
      "cell_type": "code",
      "metadata": {
        "id": "Yc3DiclUXtvU",
        "colab": {
          "base_uri": "https://localhost:8080/"
        },
        "outputId": "1cec3bd0-d58a-41e8-a984-b68be22a180d"
      },
      "source": [
        "#let's try classification instead. I'll make success >= 90\n",
        "Xpinot['scorestomp'] = (Xpinot['score'] >= 91).astype(int)\n",
        "Xpinot['scorestomp'].value_counts()\n",
        "print(Xpinot['scorestomp'].value_counts())\n",
        "print(Xpinot.columns)"
      ],
      "execution_count": 176,
      "outputs": [
        {
          "output_type": "stream",
          "text": [
            "0    1139\n",
            "1     763\n",
            "Name: scorestomp, dtype: int64\n",
            "Index(['Average Temperature (Kelvin)', 'Average Air Pressure (hPa)',\n",
            "       'Average Humidity (%)', 'Average Daily Precipitation (mm)', 'score',\n",
            "       'variety', 'scorestomp'],\n",
            "      dtype='object')\n"
          ],
          "name": "stdout"
        },
        {
          "output_type": "stream",
          "text": [
            "/usr/local/lib/python3.7/dist-packages/ipykernel_launcher.py:2: SettingWithCopyWarning: \n",
            "A value is trying to be set on a copy of a slice from a DataFrame.\n",
            "Try using .loc[row_indexer,col_indexer] = value instead\n",
            "\n",
            "See the caveats in the documentation: https://pandas.pydata.org/pandas-docs/stable/user_guide/indexing.html#returning-a-view-versus-a-copy\n",
            "  \n"
          ],
          "name": "stderr"
        }
      ]
    },
    {
      "cell_type": "code",
      "metadata": {
        "id": "z73LHAqjXtwu"
      },
      "source": [
        "Xpin = Xpinot.drop(columns=['score','variety','scorestomp'])\n",
        "ypin = Xpinot['scorestomp'].ravel()"
      ],
      "execution_count": 177,
      "outputs": []
    },
    {
      "cell_type": "code",
      "metadata": {
        "id": "4yDRpchgXtyi"
      },
      "source": [
        "Xpin_test, Xpin_train, ypin_test, ypin_train = train_test_split(Xpin, ypin)"
      ],
      "execution_count": 178,
      "outputs": []
    },
    {
      "cell_type": "code",
      "metadata": {
        "id": "NnelZi4gV6zp"
      },
      "source": [
        "#init model again\n",
        "rf_model = RandomForestClassifier(n_estimators=256, random_state=99) \n",
        "rf_model_pin = rf_model.fit(Xpin, ypin)"
      ],
      "execution_count": 186,
      "outputs": []
    },
    {
      "cell_type": "code",
      "metadata": {
        "colab": {
          "base_uri": "https://localhost:8080/"
        },
        "id": "W3Ui75k9V62n",
        "outputId": "8ce3cc09-758d-41a8-8daf-c4bc860a27e8"
      },
      "source": [
        "pin_predicts = rf_model_pin.predict(Xpin_test)\n",
        "pin_predicts"
      ],
      "execution_count": 187,
      "outputs": [
        {
          "output_type": "execute_result",
          "data": {
            "text/plain": [
              "array([0, 1, 0, ..., 0, 0, 1])"
            ]
          },
          "metadata": {
            "tags": []
          },
          "execution_count": 187
        }
      ]
    },
    {
      "cell_type": "code",
      "metadata": {
        "colab": {
          "base_uri": "https://localhost:8080/"
        },
        "id": "gwyOKStcV65v",
        "outputId": "bc229e65-30de-4614-da2d-eb1f8a729e6b"
      },
      "source": [
        "# Calculating the accuracy score.\n",
        "acc_score_pin = accuracy_score(ypin_test, pin_predicts)\n",
        "acc_score_pin"
      ],
      "execution_count": 188,
      "outputs": [
        {
          "output_type": "execute_result",
          "data": {
            "text/plain": [
              "0.6725105189340813"
            ]
          },
          "metadata": {
            "tags": []
          },
          "execution_count": 188
        }
      ]
    },
    {
      "cell_type": "code",
      "metadata": {
        "id": "E83MXaeHV6_Z"
      },
      "source": [
        "#that's a hell of a lot better. let's try the whole dataset"
      ],
      "execution_count": null,
      "outputs": []
    },
    {
      "cell_type": "code",
      "metadata": {
        "colab": {
          "base_uri": "https://localhost:8080/",
          "height": 195
        },
        "id": "NzIeK9bOV7GC",
        "outputId": "08930e7b-767b-4ad3-c428-4a21d1899552"
      },
      "source": [
        "#Features of all\n",
        "Xall = wineweather_df.copy()\n",
        "Xall = Xall.drop(columns=['Winery','variety'])\n",
        "Xall.head()"
      ],
      "execution_count": 192,
      "outputs": [
        {
          "output_type": "execute_result",
          "data": {
            "text/html": [
              "<div>\n",
              "<style scoped>\n",
              "    .dataframe tbody tr th:only-of-type {\n",
              "        vertical-align: middle;\n",
              "    }\n",
              "\n",
              "    .dataframe tbody tr th {\n",
              "        vertical-align: top;\n",
              "    }\n",
              "\n",
              "    .dataframe thead th {\n",
              "        text-align: right;\n",
              "    }\n",
              "</style>\n",
              "<table border=\"1\" class=\"dataframe\">\n",
              "  <thead>\n",
              "    <tr style=\"text-align: right;\">\n",
              "      <th></th>\n",
              "      <th>Average Temperature (Kelvin)</th>\n",
              "      <th>Average Air Pressure (hPa)</th>\n",
              "      <th>Average Humidity (%)</th>\n",
              "      <th>Average Daily Precipitation (mm)</th>\n",
              "      <th>score</th>\n",
              "    </tr>\n",
              "  </thead>\n",
              "  <tbody>\n",
              "    <tr>\n",
              "      <th>0</th>\n",
              "      <td>269.6375</td>\n",
              "      <td>1018.1500</td>\n",
              "      <td>79.2400</td>\n",
              "      <td>0.0725</td>\n",
              "      <td>87</td>\n",
              "    </tr>\n",
              "    <tr>\n",
              "      <th>1</th>\n",
              "      <td>276.0250</td>\n",
              "      <td>1019.8875</td>\n",
              "      <td>85.4525</td>\n",
              "      <td>0.0575</td>\n",
              "      <td>87</td>\n",
              "    </tr>\n",
              "    <tr>\n",
              "      <th>2</th>\n",
              "      <td>277.3750</td>\n",
              "      <td>1020.0125</td>\n",
              "      <td>79.1975</td>\n",
              "      <td>0.2350</td>\n",
              "      <td>87</td>\n",
              "    </tr>\n",
              "    <tr>\n",
              "      <th>3</th>\n",
              "      <td>281.0325</td>\n",
              "      <td>1018.5000</td>\n",
              "      <td>79.1550</td>\n",
              "      <td>0.0775</td>\n",
              "      <td>87</td>\n",
              "    </tr>\n",
              "    <tr>\n",
              "      <th>4</th>\n",
              "      <td>275.7100</td>\n",
              "      <td>1014.9425</td>\n",
              "      <td>92.2150</td>\n",
              "      <td>0.1350</td>\n",
              "      <td>87</td>\n",
              "    </tr>\n",
              "  </tbody>\n",
              "</table>\n",
              "</div>"
            ],
            "text/plain": [
              "   Average Temperature (Kelvin)  ...  score\n",
              "0                      269.6375  ...     87\n",
              "1                      276.0250  ...     87\n",
              "2                      277.3750  ...     87\n",
              "3                      281.0325  ...     87\n",
              "4                      275.7100  ...     87\n",
              "\n",
              "[5 rows x 5 columns]"
            ]
          },
          "metadata": {
            "tags": []
          },
          "execution_count": 192
        }
      ]
    },
    {
      "cell_type": "code",
      "metadata": {
        "colab": {
          "base_uri": "https://localhost:8080/"
        },
        "id": "_QKXE-MFXtuK",
        "outputId": "44f33df1-906b-4409-a68f-1021f65b59cc"
      },
      "source": [
        "Xall['scorestomp'] = (Xall['score'] >= 92).astype(int)\n",
        "Xall['scorestomp'].value_counts()\n",
        "print(Xall['scorestomp'].value_counts())\n",
        "print(Xall.columns)"
      ],
      "execution_count": 309,
      "outputs": [
        {
          "output_type": "stream",
          "text": [
            "0    6306\n",
            "1    1586\n",
            "Name: scorestomp, dtype: int64\n",
            "Index(['Average Temperature (Kelvin)', 'Average Air Pressure (hPa)',\n",
            "       'Average Humidity (%)', 'Average Daily Precipitation (mm)', 'score',\n",
            "       'scorestomp'],\n",
            "      dtype='object')\n"
          ],
          "name": "stdout"
        }
      ]
    },
    {
      "cell_type": "code",
      "metadata": {
        "id": "e6mSZPD1XtxT"
      },
      "source": [
        "Xtot = Xall.drop(columns=['score','scorestomp'])\n",
        "ytot = Xall['scorestomp'].ravel()"
      ],
      "execution_count": 310,
      "outputs": []
    },
    {
      "cell_type": "code",
      "metadata": {
        "id": "fBFfN_2ZXt1E"
      },
      "source": [
        "Xtot_train, Xtot_test, ytot_train, ytot_test = train_test_split(Xtot,ytot, random_state=99)"
      ],
      "execution_count": 311,
      "outputs": []
    },
    {
      "cell_type": "code",
      "metadata": {
        "colab": {
          "base_uri": "https://localhost:8080/",
          "height": 385
        },
        "id": "fAcabZaO5WvU",
        "outputId": "d71d5e41-b92c-4585-a69f-8a626b4e8ed6"
      },
      "source": [
        "Xtot_train['real_success'] = ytot_train\n",
        "Xtot_train.describe()"
      ],
      "execution_count": 349,
      "outputs": [
        {
          "output_type": "stream",
          "text": [
            "/usr/local/lib/python3.7/dist-packages/ipykernel_launcher.py:1: SettingWithCopyWarning: \n",
            "A value is trying to be set on a copy of a slice from a DataFrame.\n",
            "Try using .loc[row_indexer,col_indexer] = value instead\n",
            "\n",
            "See the caveats in the documentation: https://pandas.pydata.org/pandas-docs/stable/user_guide/indexing.html#returning-a-view-versus-a-copy\n",
            "  \"\"\"Entry point for launching an IPython kernel.\n"
          ],
          "name": "stderr"
        },
        {
          "output_type": "execute_result",
          "data": {
            "text/html": [
              "<div>\n",
              "<style scoped>\n",
              "    .dataframe tbody tr th:only-of-type {\n",
              "        vertical-align: middle;\n",
              "    }\n",
              "\n",
              "    .dataframe tbody tr th {\n",
              "        vertical-align: top;\n",
              "    }\n",
              "\n",
              "    .dataframe thead th {\n",
              "        text-align: right;\n",
              "    }\n",
              "</style>\n",
              "<table border=\"1\" class=\"dataframe\">\n",
              "  <thead>\n",
              "    <tr style=\"text-align: right;\">\n",
              "      <th></th>\n",
              "      <th>Average Temperature (Kelvin)</th>\n",
              "      <th>Average Air Pressure (hPa)</th>\n",
              "      <th>Average Humidity (%)</th>\n",
              "      <th>Average Daily Precipitation (mm)</th>\n",
              "      <th>real_success</th>\n",
              "    </tr>\n",
              "  </thead>\n",
              "  <tbody>\n",
              "    <tr>\n",
              "      <th>count</th>\n",
              "      <td>5919.000000</td>\n",
              "      <td>5919.000000</td>\n",
              "      <td>5919.000000</td>\n",
              "      <td>5919.000000</td>\n",
              "      <td>5919.000000</td>\n",
              "    </tr>\n",
              "    <tr>\n",
              "      <th>mean</th>\n",
              "      <td>279.942165</td>\n",
              "      <td>1016.089841</td>\n",
              "      <td>76.021613</td>\n",
              "      <td>0.107276</td>\n",
              "      <td>0.203075</td>\n",
              "    </tr>\n",
              "    <tr>\n",
              "      <th>std</th>\n",
              "      <td>6.400443</td>\n",
              "      <td>9.450552</td>\n",
              "      <td>9.704962</td>\n",
              "      <td>0.076796</td>\n",
              "      <td>0.402322</td>\n",
              "    </tr>\n",
              "    <tr>\n",
              "      <th>min</th>\n",
              "      <td>263.445000</td>\n",
              "      <td>907.987500</td>\n",
              "      <td>35.680000</td>\n",
              "      <td>0.000000</td>\n",
              "      <td>0.000000</td>\n",
              "    </tr>\n",
              "    <tr>\n",
              "      <th>25%</th>\n",
              "      <td>276.457500</td>\n",
              "      <td>1016.287500</td>\n",
              "      <td>71.772500</td>\n",
              "      <td>0.055000</td>\n",
              "      <td>0.000000</td>\n",
              "    </tr>\n",
              "    <tr>\n",
              "      <th>50%</th>\n",
              "      <td>279.460000</td>\n",
              "      <td>1018.912500</td>\n",
              "      <td>78.357500</td>\n",
              "      <td>0.095000</td>\n",
              "      <td>0.000000</td>\n",
              "    </tr>\n",
              "    <tr>\n",
              "      <th>75%</th>\n",
              "      <td>281.742500</td>\n",
              "      <td>1020.257500</td>\n",
              "      <td>81.310000</td>\n",
              "      <td>0.145000</td>\n",
              "      <td>0.000000</td>\n",
              "    </tr>\n",
              "    <tr>\n",
              "      <th>max</th>\n",
              "      <td>300.575000</td>\n",
              "      <td>1027.607500</td>\n",
              "      <td>92.215000</td>\n",
              "      <td>0.917500</td>\n",
              "      <td>1.000000</td>\n",
              "    </tr>\n",
              "  </tbody>\n",
              "</table>\n",
              "</div>"
            ],
            "text/plain": [
              "       Average Temperature (Kelvin)  ...  real_success\n",
              "count                   5919.000000  ...   5919.000000\n",
              "mean                     279.942165  ...      0.203075\n",
              "std                        6.400443  ...      0.402322\n",
              "min                      263.445000  ...      0.000000\n",
              "25%                      276.457500  ...      0.000000\n",
              "50%                      279.460000  ...      0.000000\n",
              "75%                      281.742500  ...      0.000000\n",
              "max                      300.575000  ...      1.000000\n",
              "\n",
              "[8 rows x 5 columns]"
            ]
          },
          "metadata": {
            "tags": []
          },
          "execution_count": 349
        }
      ]
    },
    {
      "cell_type": "code",
      "metadata": {
        "colab": {
          "base_uri": "https://localhost:8080/"
        },
        "id": "MoENLgZG5f6o",
        "outputId": "1158ed86-c1f8-46c5-a98d-b75a3d3b1308"
      },
      "source": [
        "Xtot_train['real_success'].value_counts()"
      ],
      "execution_count": 350,
      "outputs": [
        {
          "output_type": "execute_result",
          "data": {
            "text/plain": [
              "0    4717\n",
              "1    1202\n",
              "Name: real_success, dtype: int64"
            ]
          },
          "metadata": {
            "tags": []
          },
          "execution_count": 350
        }
      ]
    },
    {
      "cell_type": "code",
      "metadata": {
        "colab": {
          "base_uri": "https://localhost:8080/",
          "height": 385
        },
        "id": "VOMq18T9500-",
        "outputId": "3450cc10-0ed8-499f-a78e-a1548d63b69e"
      },
      "source": [
        "Xtot_test['real_success'] = ytot_test\n",
        "Xtot_test.describe()"
      ],
      "execution_count": 351,
      "outputs": [
        {
          "output_type": "stream",
          "text": [
            "/usr/local/lib/python3.7/dist-packages/ipykernel_launcher.py:1: SettingWithCopyWarning: \n",
            "A value is trying to be set on a copy of a slice from a DataFrame.\n",
            "Try using .loc[row_indexer,col_indexer] = value instead\n",
            "\n",
            "See the caveats in the documentation: https://pandas.pydata.org/pandas-docs/stable/user_guide/indexing.html#returning-a-view-versus-a-copy\n",
            "  \"\"\"Entry point for launching an IPython kernel.\n"
          ],
          "name": "stderr"
        },
        {
          "output_type": "execute_result",
          "data": {
            "text/html": [
              "<div>\n",
              "<style scoped>\n",
              "    .dataframe tbody tr th:only-of-type {\n",
              "        vertical-align: middle;\n",
              "    }\n",
              "\n",
              "    .dataframe tbody tr th {\n",
              "        vertical-align: top;\n",
              "    }\n",
              "\n",
              "    .dataframe thead th {\n",
              "        text-align: right;\n",
              "    }\n",
              "</style>\n",
              "<table border=\"1\" class=\"dataframe\">\n",
              "  <thead>\n",
              "    <tr style=\"text-align: right;\">\n",
              "      <th></th>\n",
              "      <th>Average Temperature (Kelvin)</th>\n",
              "      <th>Average Air Pressure (hPa)</th>\n",
              "      <th>Average Humidity (%)</th>\n",
              "      <th>Average Daily Precipitation (mm)</th>\n",
              "      <th>predicted_success</th>\n",
              "      <th>real_success</th>\n",
              "    </tr>\n",
              "  </thead>\n",
              "  <tbody>\n",
              "    <tr>\n",
              "      <th>count</th>\n",
              "      <td>1973.000000</td>\n",
              "      <td>1973.000000</td>\n",
              "      <td>1973.000000</td>\n",
              "      <td>1973.000000</td>\n",
              "      <td>1973.000000</td>\n",
              "      <td>1973.000000</td>\n",
              "    </tr>\n",
              "    <tr>\n",
              "      <th>mean</th>\n",
              "      <td>280.266920</td>\n",
              "      <td>1016.102822</td>\n",
              "      <td>75.496508</td>\n",
              "      <td>0.106859</td>\n",
              "      <td>0.010644</td>\n",
              "      <td>0.194627</td>\n",
              "    </tr>\n",
              "    <tr>\n",
              "      <th>std</th>\n",
              "      <td>6.703641</td>\n",
              "      <td>9.103296</td>\n",
              "      <td>9.828663</td>\n",
              "      <td>0.076760</td>\n",
              "      <td>0.102644</td>\n",
              "      <td>0.396014</td>\n",
              "    </tr>\n",
              "    <tr>\n",
              "      <th>min</th>\n",
              "      <td>263.445000</td>\n",
              "      <td>942.702500</td>\n",
              "      <td>35.680000</td>\n",
              "      <td>0.000000</td>\n",
              "      <td>0.000000</td>\n",
              "      <td>0.000000</td>\n",
              "    </tr>\n",
              "    <tr>\n",
              "      <th>25%</th>\n",
              "      <td>276.745000</td>\n",
              "      <td>1016.222500</td>\n",
              "      <td>71.772500</td>\n",
              "      <td>0.055000</td>\n",
              "      <td>0.000000</td>\n",
              "      <td>0.000000</td>\n",
              "    </tr>\n",
              "    <tr>\n",
              "      <th>50%</th>\n",
              "      <td>280.037500</td>\n",
              "      <td>1018.895000</td>\n",
              "      <td>77.800000</td>\n",
              "      <td>0.092500</td>\n",
              "      <td>0.000000</td>\n",
              "      <td>0.000000</td>\n",
              "    </tr>\n",
              "    <tr>\n",
              "      <th>75%</th>\n",
              "      <td>281.927500</td>\n",
              "      <td>1020.257500</td>\n",
              "      <td>80.530000</td>\n",
              "      <td>0.145000</td>\n",
              "      <td>0.000000</td>\n",
              "      <td>0.000000</td>\n",
              "    </tr>\n",
              "    <tr>\n",
              "      <th>max</th>\n",
              "      <td>298.527500</td>\n",
              "      <td>1027.607500</td>\n",
              "      <td>92.215000</td>\n",
              "      <td>0.917500</td>\n",
              "      <td>1.000000</td>\n",
              "      <td>1.000000</td>\n",
              "    </tr>\n",
              "  </tbody>\n",
              "</table>\n",
              "</div>"
            ],
            "text/plain": [
              "       Average Temperature (Kelvin)  ...  real_success\n",
              "count                   1973.000000  ...   1973.000000\n",
              "mean                     280.266920  ...      0.194627\n",
              "std                        6.703641  ...      0.396014\n",
              "min                      263.445000  ...      0.000000\n",
              "25%                      276.745000  ...      0.000000\n",
              "50%                      280.037500  ...      0.000000\n",
              "75%                      281.927500  ...      0.000000\n",
              "max                      298.527500  ...      1.000000\n",
              "\n",
              "[8 rows x 6 columns]"
            ]
          },
          "metadata": {
            "tags": []
          },
          "execution_count": 351
        }
      ]
    },
    {
      "cell_type": "code",
      "metadata": {
        "colab": {
          "base_uri": "https://localhost:8080/"
        },
        "id": "BULPjN7056aU",
        "outputId": "c87d84ae-195d-48d0-d2b1-ba9f7f1ecb50"
      },
      "source": [
        "Xtot_test['real_success'].value_counts()"
      ],
      "execution_count": 352,
      "outputs": [
        {
          "output_type": "execute_result",
          "data": {
            "text/plain": [
              "0    1589\n",
              "1     384\n",
              "Name: real_success, dtype: int64"
            ]
          },
          "metadata": {
            "tags": []
          },
          "execution_count": 352
        }
      ]
    },
    {
      "cell_type": "code",
      "metadata": {
        "id": "WsALajEBXt3H"
      },
      "source": [
        "#init model again\n",
        "rf_model = RandomForestClassifier(n_estimators=256, random_state=99) \n",
        "rf_model_tot = rf_model.fit(Xtot, ytot)"
      ],
      "execution_count": 312,
      "outputs": []
    },
    {
      "cell_type": "code",
      "metadata": {
        "colab": {
          "base_uri": "https://localhost:8080/"
        },
        "id": "HMxvbmesXt5w",
        "outputId": "cebcc382-4bb8-4493-e7ac-7cf5396ce5cf"
      },
      "source": [
        "tot_predicts = rf_model_tot.predict(Xtot_test)\n",
        "tot_predicts"
      ],
      "execution_count": 313,
      "outputs": [
        {
          "output_type": "execute_result",
          "data": {
            "text/plain": [
              "array([0, 0, 0, ..., 0, 0, 0])"
            ]
          },
          "metadata": {
            "tags": []
          },
          "execution_count": 313
        }
      ]
    },
    {
      "cell_type": "code",
      "metadata": {
        "colab": {
          "base_uri": "https://localhost:8080/"
        },
        "id": "rpyXIrBiXt9u",
        "outputId": "410a163c-c51a-4ad7-f6e6-3254b8123236"
      },
      "source": [
        "# Calculating the accuracy score.\n",
        "acc_score_tot = accuracy_score(ytot_test, tot_predicts)\n",
        "acc_score_tot"
      ],
      "execution_count": 314,
      "outputs": [
        {
          "output_type": "execute_result",
          "data": {
            "text/plain": [
              "0.8109477952356817"
            ]
          },
          "metadata": {
            "tags": []
          },
          "execution_count": 314
        }
      ]
    },
    {
      "cell_type": "code",
      "metadata": {
        "id": "u8y9DEZMiZxq"
      },
      "source": [
        "#.64267 accscore when success >=90 n_est=256\n",
        "#.71312 accscore when success >=91\n",
        "#.81246 accscore when success >=92\n",
        "#.89102 accscore when success >=93\n",
        "#.93765 accscore when success >=94"
      ],
      "execution_count": 315,
      "outputs": []
    },
    {
      "cell_type": "code",
      "metadata": {
        "colab": {
          "base_uri": "https://localhost:8080/",
          "height": 296
        },
        "id": "LsBhSaS74inG",
        "outputId": "30e1c1c2-b6d4-492d-9542-77a88dcf7745"
      },
      "source": [
        "Xtot_test['predicted_success'] = tot_predicts\n",
        "Xtot_test.head()"
      ],
      "execution_count": 345,
      "outputs": [
        {
          "output_type": "stream",
          "text": [
            "/usr/local/lib/python3.7/dist-packages/ipykernel_launcher.py:1: SettingWithCopyWarning: \n",
            "A value is trying to be set on a copy of a slice from a DataFrame.\n",
            "Try using .loc[row_indexer,col_indexer] = value instead\n",
            "\n",
            "See the caveats in the documentation: https://pandas.pydata.org/pandas-docs/stable/user_guide/indexing.html#returning-a-view-versus-a-copy\n",
            "  \"\"\"Entry point for launching an IPython kernel.\n"
          ],
          "name": "stderr"
        },
        {
          "output_type": "execute_result",
          "data": {
            "text/html": [
              "<div>\n",
              "<style scoped>\n",
              "    .dataframe tbody tr th:only-of-type {\n",
              "        vertical-align: middle;\n",
              "    }\n",
              "\n",
              "    .dataframe tbody tr th {\n",
              "        vertical-align: top;\n",
              "    }\n",
              "\n",
              "    .dataframe thead th {\n",
              "        text-align: right;\n",
              "    }\n",
              "</style>\n",
              "<table border=\"1\" class=\"dataframe\">\n",
              "  <thead>\n",
              "    <tr style=\"text-align: right;\">\n",
              "      <th></th>\n",
              "      <th>Average Temperature (Kelvin)</th>\n",
              "      <th>Average Air Pressure (hPa)</th>\n",
              "      <th>Average Humidity (%)</th>\n",
              "      <th>Average Daily Precipitation (mm)</th>\n",
              "      <th>predicted_success</th>\n",
              "    </tr>\n",
              "  </thead>\n",
              "  <tbody>\n",
              "    <tr>\n",
              "      <th>4477</th>\n",
              "      <td>282.1450</td>\n",
              "      <td>1019.6700</td>\n",
              "      <td>71.3375</td>\n",
              "      <td>0.0475</td>\n",
              "      <td>0</td>\n",
              "    </tr>\n",
              "    <tr>\n",
              "      <th>4642</th>\n",
              "      <td>276.8850</td>\n",
              "      <td>1020.4425</td>\n",
              "      <td>71.7725</td>\n",
              "      <td>0.1900</td>\n",
              "      <td>0</td>\n",
              "    </tr>\n",
              "    <tr>\n",
              "      <th>5709</th>\n",
              "      <td>281.0325</td>\n",
              "      <td>1018.5000</td>\n",
              "      <td>79.1550</td>\n",
              "      <td>0.0775</td>\n",
              "      <td>0</td>\n",
              "    </tr>\n",
              "    <tr>\n",
              "      <th>1416</th>\n",
              "      <td>281.0325</td>\n",
              "      <td>1018.5000</td>\n",
              "      <td>79.1550</td>\n",
              "      <td>0.0775</td>\n",
              "      <td>0</td>\n",
              "    </tr>\n",
              "    <tr>\n",
              "      <th>5836</th>\n",
              "      <td>295.3925</td>\n",
              "      <td>1012.0350</td>\n",
              "      <td>53.5275</td>\n",
              "      <td>0.0225</td>\n",
              "      <td>0</td>\n",
              "    </tr>\n",
              "  </tbody>\n",
              "</table>\n",
              "</div>"
            ],
            "text/plain": [
              "      Average Temperature (Kelvin)  ...  predicted_success\n",
              "4477                      282.1450  ...                  0\n",
              "4642                      276.8850  ...                  0\n",
              "5709                      281.0325  ...                  0\n",
              "1416                      281.0325  ...                  0\n",
              "5836                      295.3925  ...                  0\n",
              "\n",
              "[5 rows x 5 columns]"
            ]
          },
          "metadata": {
            "tags": []
          },
          "execution_count": 345
        }
      ]
    },
    {
      "cell_type": "code",
      "metadata": {
        "colab": {
          "base_uri": "https://localhost:8080/"
        },
        "id": "4Bj4oqs44iqJ",
        "outputId": "ca7789be-4977-4122-8e20-487edd2b08a8"
      },
      "source": [
        "Xtot_test['predicted_success'].value_counts()"
      ],
      "execution_count": 346,
      "outputs": [
        {
          "output_type": "execute_result",
          "data": {
            "text/plain": [
              "0    1952\n",
              "1      21\n",
              "Name: predicted_success, dtype: int64"
            ]
          },
          "metadata": {
            "tags": []
          },
          "execution_count": 346
        }
      ]
    },
    {
      "cell_type": "code",
      "metadata": {
        "colab": {
          "base_uri": "https://localhost:8080/",
          "height": 284
        },
        "id": "F2d4BmQ_4is8",
        "outputId": "b55d30f3-0235-4c40-b4ab-f34197009d2a"
      },
      "source": [
        "Xtot_test.describe()"
      ],
      "execution_count": 348,
      "outputs": [
        {
          "output_type": "execute_result",
          "data": {
            "text/html": [
              "<div>\n",
              "<style scoped>\n",
              "    .dataframe tbody tr th:only-of-type {\n",
              "        vertical-align: middle;\n",
              "    }\n",
              "\n",
              "    .dataframe tbody tr th {\n",
              "        vertical-align: top;\n",
              "    }\n",
              "\n",
              "    .dataframe thead th {\n",
              "        text-align: right;\n",
              "    }\n",
              "</style>\n",
              "<table border=\"1\" class=\"dataframe\">\n",
              "  <thead>\n",
              "    <tr style=\"text-align: right;\">\n",
              "      <th></th>\n",
              "      <th>Average Temperature (Kelvin)</th>\n",
              "      <th>Average Air Pressure (hPa)</th>\n",
              "      <th>Average Humidity (%)</th>\n",
              "      <th>Average Daily Precipitation (mm)</th>\n",
              "      <th>predicted_success</th>\n",
              "    </tr>\n",
              "  </thead>\n",
              "  <tbody>\n",
              "    <tr>\n",
              "      <th>count</th>\n",
              "      <td>1973.000000</td>\n",
              "      <td>1973.000000</td>\n",
              "      <td>1973.000000</td>\n",
              "      <td>1973.000000</td>\n",
              "      <td>1973.000000</td>\n",
              "    </tr>\n",
              "    <tr>\n",
              "      <th>mean</th>\n",
              "      <td>280.266920</td>\n",
              "      <td>1016.102822</td>\n",
              "      <td>75.496508</td>\n",
              "      <td>0.106859</td>\n",
              "      <td>0.010644</td>\n",
              "    </tr>\n",
              "    <tr>\n",
              "      <th>std</th>\n",
              "      <td>6.703641</td>\n",
              "      <td>9.103296</td>\n",
              "      <td>9.828663</td>\n",
              "      <td>0.076760</td>\n",
              "      <td>0.102644</td>\n",
              "    </tr>\n",
              "    <tr>\n",
              "      <th>min</th>\n",
              "      <td>263.445000</td>\n",
              "      <td>942.702500</td>\n",
              "      <td>35.680000</td>\n",
              "      <td>0.000000</td>\n",
              "      <td>0.000000</td>\n",
              "    </tr>\n",
              "    <tr>\n",
              "      <th>25%</th>\n",
              "      <td>276.745000</td>\n",
              "      <td>1016.222500</td>\n",
              "      <td>71.772500</td>\n",
              "      <td>0.055000</td>\n",
              "      <td>0.000000</td>\n",
              "    </tr>\n",
              "    <tr>\n",
              "      <th>50%</th>\n",
              "      <td>280.037500</td>\n",
              "      <td>1018.895000</td>\n",
              "      <td>77.800000</td>\n",
              "      <td>0.092500</td>\n",
              "      <td>0.000000</td>\n",
              "    </tr>\n",
              "    <tr>\n",
              "      <th>75%</th>\n",
              "      <td>281.927500</td>\n",
              "      <td>1020.257500</td>\n",
              "      <td>80.530000</td>\n",
              "      <td>0.145000</td>\n",
              "      <td>0.000000</td>\n",
              "    </tr>\n",
              "    <tr>\n",
              "      <th>max</th>\n",
              "      <td>298.527500</td>\n",
              "      <td>1027.607500</td>\n",
              "      <td>92.215000</td>\n",
              "      <td>0.917500</td>\n",
              "      <td>1.000000</td>\n",
              "    </tr>\n",
              "  </tbody>\n",
              "</table>\n",
              "</div>"
            ],
            "text/plain": [
              "       Average Temperature (Kelvin)  ...  predicted_success\n",
              "count                   1973.000000  ...        1973.000000\n",
              "mean                     280.266920  ...           0.010644\n",
              "std                        6.703641  ...           0.102644\n",
              "min                      263.445000  ...           0.000000\n",
              "25%                      276.745000  ...           0.000000\n",
              "50%                      280.037500  ...           0.000000\n",
              "75%                      281.927500  ...           0.000000\n",
              "max                      298.527500  ...           1.000000\n",
              "\n",
              "[8 rows x 5 columns]"
            ]
          },
          "metadata": {
            "tags": []
          },
          "execution_count": 348
        }
      ]
    },
    {
      "cell_type": "code",
      "metadata": {
        "id": "YvbPNzKr4iwa"
      },
      "source": [
        ""
      ],
      "execution_count": null,
      "outputs": []
    },
    {
      "cell_type": "code",
      "metadata": {
        "id": "fsVeg7QL4i14"
      },
      "source": [
        ""
      ],
      "execution_count": null,
      "outputs": []
    },
    {
      "cell_type": "code",
      "metadata": {
        "colab": {
          "base_uri": "https://localhost:8080/"
        },
        "id": "SnLQp7t6XuCP",
        "outputId": "b780a2ca-4897-40e0-d79e-66a3310b5913"
      },
      "source": [
        "#let's try this for all data by classification\n",
        "learning_rates = [0.05, 0.1, 0.25, 0.5, 0.75, 1]\n",
        "for learning_rate in learning_rates:\n",
        "   classifier = GradientBoostingClassifier(n_estimators=200,\n",
        "   learning_rate=learning_rate,\n",
        "   max_features=4,\n",
        "   max_depth=25,\n",
        "   random_state=99)\n",
        "   classifier.fit(Xtot_train, ytot_train)\n",
        "   print(\"Learning rate: \", learning_rate)\n",
        "   print(\"Accuracy score (training): {0:.3f}\".format(\n",
        "       classifier.score(\n",
        "           Xtot_train,\n",
        "           ytot_train)))\n",
        "   print(\"Accuracy score (validation): {0:.3f}\".format(\n",
        "       classifier.score(\n",
        "           Xtot_test,\n",
        "           ytot_test)))"
      ],
      "execution_count": 317,
      "outputs": [
        {
          "output_type": "stream",
          "text": [
            "Learning rate:  0.05\n",
            "Accuracy score (training): 0.806\n",
            "Accuracy score (validation): 0.798\n",
            "Learning rate:  0.1\n",
            "Accuracy score (training): 0.806\n",
            "Accuracy score (validation): 0.800\n",
            "Learning rate:  0.25\n",
            "Accuracy score (training): 0.806\n",
            "Accuracy score (validation): 0.798\n",
            "Learning rate:  0.5\n",
            "Accuracy score (training): 0.806\n",
            "Accuracy score (validation): 0.800\n",
            "Learning rate:  0.75\n",
            "Accuracy score (training): 0.806\n",
            "Accuracy score (validation): 0.800\n",
            "Learning rate:  1\n",
            "Accuracy score (training): 0.806\n",
            "Accuracy score (validation): 0.801\n"
          ],
          "name": "stdout"
        }
      ]
    },
    {
      "cell_type": "code",
      "metadata": {
        "id": "3LFDv2E9XuHk"
      },
      "source": [
        "#ok, that test is getting us nowhere. let's boost the all data and see what kind of model accuracy we get"
      ],
      "execution_count": null,
      "outputs": []
    },
    {
      "cell_type": "code",
      "metadata": {
        "colab": {
          "base_uri": "https://localhost:8080/"
        },
        "id": "E2hy82FVbOcZ",
        "outputId": "fecd5019-10c1-4135-e609-c7d29143e0de"
      },
      "source": [
        "from imblearn.over_sampling import SMOTE\n",
        "Xtot_resampled, ytot_resampled = SMOTE(random_state=1,\n",
        "sampling_strategy='auto').fit_resample(\n",
        "   Xtot_train, ytot_train)"
      ],
      "execution_count": 319,
      "outputs": [
        {
          "output_type": "stream",
          "text": [
            "/usr/local/lib/python3.7/dist-packages/sklearn/utils/deprecation.py:87: FutureWarning: Function safe_indexing is deprecated; safe_indexing is deprecated in version 0.22 and will be removed in version 0.24.\n",
            "  warnings.warn(msg, category=FutureWarning)\n"
          ],
          "name": "stderr"
        }
      ]
    },
    {
      "cell_type": "code",
      "metadata": {
        "id": "ja3Dw3FwbOf6"
      },
      "source": [
        "#init model again\n",
        "rf_model = RandomForestClassifier(n_estimators=256, random_state=99) \n",
        "rf_model_totrs = rf_model.fit(Xtot_resampled, ytot_resampled)"
      ],
      "execution_count": 320,
      "outputs": []
    },
    {
      "cell_type": "code",
      "metadata": {
        "colab": {
          "base_uri": "https://localhost:8080/"
        },
        "id": "aROCBZsnbOjV",
        "outputId": "7506843f-c41b-404b-d478-dd053219657a"
      },
      "source": [
        "totrs_predicts = rf_model_totrs.predict(Xtot_test)\n",
        "totrs_predicts"
      ],
      "execution_count": 321,
      "outputs": [
        {
          "output_type": "execute_result",
          "data": {
            "text/plain": [
              "array([1, 1, 0, ..., 0, 0, 0])"
            ]
          },
          "metadata": {
            "tags": []
          },
          "execution_count": 321
        }
      ]
    },
    {
      "cell_type": "code",
      "metadata": {
        "colab": {
          "base_uri": "https://localhost:8080/"
        },
        "id": "HxuccGjdbOog",
        "outputId": "25e1009d-a959-4602-8d7c-bb044e691039"
      },
      "source": [
        "# Calculating the accuracy score.\n",
        "acc_score_totrs = accuracy_score(ytot_test, tot_predicts)\n",
        "acc_score_totrs"
      ],
      "execution_count": 322,
      "outputs": [
        {
          "output_type": "execute_result",
          "data": {
            "text/plain": [
              "0.8109477952356817"
            ]
          },
          "metadata": {
            "tags": []
          },
          "execution_count": 322
        }
      ]
    },
    {
      "cell_type": "code",
      "metadata": {
        "id": "equ5iWAEbVBX"
      },
      "source": [
        "#cool. let's try logreg"
      ],
      "execution_count": 323,
      "outputs": []
    },
    {
      "cell_type": "code",
      "metadata": {
        "colab": {
          "base_uri": "https://localhost:8080/"
        },
        "id": "n1gbpI-vbVD-",
        "outputId": "05f01e47-518c-4031-ffff-77fd80d075f1"
      },
      "source": [
        "from sklearn.linear_model import LogisticRegression\n",
        "model = LogisticRegression(solver='lbfgs', random_state=99)\n",
        "model.fit(Xtot_resampled, ytot_resampled)\n",
        "\n",
        "y_pred = model.predict(Xtot_test)\n",
        "\n",
        "lracc_score_totrs = accuracy_score(ytot_test, y_pred)\n",
        "lracc_score_totrs"
      ],
      "execution_count": 324,
      "outputs": [
        {
          "output_type": "execute_result",
          "data": {
            "text/plain": [
              "0.5509376583882413"
            ]
          },
          "metadata": {
            "tags": []
          },
          "execution_count": 324
        }
      ]
    },
    {
      "cell_type": "code",
      "metadata": {
        "id": "M-EUl_MsbVJN"
      },
      "source": [
        "#ok so logreg is out. let's scale and go back to RandomForest, then try ROS"
      ],
      "execution_count": 325,
      "outputs": []
    },
    {
      "cell_type": "code",
      "metadata": {
        "id": "mIf19_fYeoj3"
      },
      "source": [
        "# Creating a StandardScaler instance.\n",
        "scaler = StandardScaler()\n",
        "# Fitting the Standard Scaler with the training data.\n",
        "Xtot_scaler = scaler.fit(Xtot_train)\n",
        "\n",
        "# Scaling the data.\n",
        "Xtot_train_scaled = Xtot_scaler.transform(X_train)\n",
        "Xtot_test_scaled = Xtot_scaler.transform(X_test)"
      ],
      "execution_count": 326,
      "outputs": []
    },
    {
      "cell_type": "code",
      "metadata": {
        "id": "2bgOljfReosm"
      },
      "source": [
        "#init model again\n",
        "rf_model = RandomForestClassifier(n_estimators=256, random_state=99) \n",
        "scalrf_model_tot = rf_model.fit(Xtot_train_scaled, ytot_train)"
      ],
      "execution_count": 327,
      "outputs": []
    },
    {
      "cell_type": "code",
      "metadata": {
        "colab": {
          "base_uri": "https://localhost:8080/"
        },
        "id": "N0rG3Gmbeowu",
        "outputId": "a0782d50-92d9-4224-8299-f2b3bfe03ae8"
      },
      "source": [
        "scaltot_predicts = scalrf_model_tot.predict(Xtot_test_scaled)\n",
        "scaltot_predicts"
      ],
      "execution_count": 328,
      "outputs": [
        {
          "output_type": "execute_result",
          "data": {
            "text/plain": [
              "array([0, 0, 0, ..., 0, 0, 0])"
            ]
          },
          "metadata": {
            "tags": []
          },
          "execution_count": 328
        }
      ]
    },
    {
      "cell_type": "code",
      "metadata": {
        "colab": {
          "base_uri": "https://localhost:8080/",
          "height": 106
        },
        "id": "VdzpOt-yheQB",
        "outputId": "015f3bb1-2914-4a3d-85d4-794af87acfc2"
      },
      "source": [
        "# Calculating the confusion matrix.\n",
        "cm = confusion_matrix(ytot_test, scaltot_predicts)\n",
        "\n",
        "# Create a DataFrame from the confusion matrix.\n",
        "cm_df = pd.DataFrame(\n",
        "    cm, index=[\"Actual 0\", \"Actual 1\"], columns=[\"Predicted 0\", \"Predicted 1\"])\n",
        "\n",
        "cm_df"
      ],
      "execution_count": 329,
      "outputs": [
        {
          "output_type": "execute_result",
          "data": {
            "text/html": [
              "<div>\n",
              "<style scoped>\n",
              "    .dataframe tbody tr th:only-of-type {\n",
              "        vertical-align: middle;\n",
              "    }\n",
              "\n",
              "    .dataframe tbody tr th {\n",
              "        vertical-align: top;\n",
              "    }\n",
              "\n",
              "    .dataframe thead th {\n",
              "        text-align: right;\n",
              "    }\n",
              "</style>\n",
              "<table border=\"1\" class=\"dataframe\">\n",
              "  <thead>\n",
              "    <tr style=\"text-align: right;\">\n",
              "      <th></th>\n",
              "      <th>Predicted 0</th>\n",
              "      <th>Predicted 1</th>\n",
              "    </tr>\n",
              "  </thead>\n",
              "  <tbody>\n",
              "    <tr>\n",
              "      <th>Actual 0</th>\n",
              "      <td>1573</td>\n",
              "      <td>16</td>\n",
              "    </tr>\n",
              "    <tr>\n",
              "      <th>Actual 1</th>\n",
              "      <td>381</td>\n",
              "      <td>3</td>\n",
              "    </tr>\n",
              "  </tbody>\n",
              "</table>\n",
              "</div>"
            ],
            "text/plain": [
              "          Predicted 0  Predicted 1\n",
              "Actual 0         1573           16\n",
              "Actual 1          381            3"
            ]
          },
          "metadata": {
            "tags": []
          },
          "execution_count": 329
        }
      ]
    },
    {
      "cell_type": "code",
      "metadata": {
        "colab": {
          "base_uri": "https://localhost:8080/"
        },
        "id": "x5X3QVt1eo13",
        "outputId": "ff2f4673-9b20-47c9-c033-697356390c9f"
      },
      "source": [
        "# Calculating the accuracy score.\n",
        "acc_score_scaltot = accuracy_score(ytot_test, scaltot_predicts)\n",
        "acc_score_scaltot"
      ],
      "execution_count": 331,
      "outputs": [
        {
          "output_type": "execute_result",
          "data": {
            "text/plain": [
              "0.7987835783071465"
            ]
          },
          "metadata": {
            "tags": []
          },
          "execution_count": 331
        }
      ]
    },
    {
      "cell_type": "code",
      "metadata": {
        "colab": {
          "base_uri": "https://localhost:8080/",
          "height": 284
        },
        "id": "fYPjodUflS1q",
        "outputId": "908321d5-d0a8-49ae-820b-291931c5de9c"
      },
      "source": [
        "#scaling dropped acc but not by much. what happens if we feed this model a random location\n",
        "Xtot.describe()"
      ],
      "execution_count": 334,
      "outputs": [
        {
          "output_type": "execute_result",
          "data": {
            "text/html": [
              "<div>\n",
              "<style scoped>\n",
              "    .dataframe tbody tr th:only-of-type {\n",
              "        vertical-align: middle;\n",
              "    }\n",
              "\n",
              "    .dataframe tbody tr th {\n",
              "        vertical-align: top;\n",
              "    }\n",
              "\n",
              "    .dataframe thead th {\n",
              "        text-align: right;\n",
              "    }\n",
              "</style>\n",
              "<table border=\"1\" class=\"dataframe\">\n",
              "  <thead>\n",
              "    <tr style=\"text-align: right;\">\n",
              "      <th></th>\n",
              "      <th>Average Temperature (Kelvin)</th>\n",
              "      <th>Average Air Pressure (hPa)</th>\n",
              "      <th>Average Humidity (%)</th>\n",
              "      <th>Average Daily Precipitation (mm)</th>\n",
              "    </tr>\n",
              "  </thead>\n",
              "  <tbody>\n",
              "    <tr>\n",
              "      <th>count</th>\n",
              "      <td>7892.000000</td>\n",
              "      <td>7892.000000</td>\n",
              "      <td>7892.000000</td>\n",
              "      <td>7892.000000</td>\n",
              "    </tr>\n",
              "    <tr>\n",
              "      <th>mean</th>\n",
              "      <td>280.023354</td>\n",
              "      <td>1016.093086</td>\n",
              "      <td>75.890336</td>\n",
              "      <td>0.107172</td>\n",
              "    </tr>\n",
              "    <tr>\n",
              "      <th>std</th>\n",
              "      <td>6.478670</td>\n",
              "      <td>9.364375</td>\n",
              "      <td>9.738065</td>\n",
              "      <td>0.076782</td>\n",
              "    </tr>\n",
              "    <tr>\n",
              "      <th>min</th>\n",
              "      <td>263.445000</td>\n",
              "      <td>907.987500</td>\n",
              "      <td>35.680000</td>\n",
              "      <td>0.000000</td>\n",
              "    </tr>\n",
              "    <tr>\n",
              "      <th>25%</th>\n",
              "      <td>276.477500</td>\n",
              "      <td>1016.240000</td>\n",
              "      <td>71.772500</td>\n",
              "      <td>0.055000</td>\n",
              "    </tr>\n",
              "    <tr>\n",
              "      <th>50%</th>\n",
              "      <td>279.685000</td>\n",
              "      <td>1018.895000</td>\n",
              "      <td>78.357500</td>\n",
              "      <td>0.093750</td>\n",
              "    </tr>\n",
              "    <tr>\n",
              "      <th>75%</th>\n",
              "      <td>281.742500</td>\n",
              "      <td>1020.257500</td>\n",
              "      <td>81.310000</td>\n",
              "      <td>0.145000</td>\n",
              "    </tr>\n",
              "    <tr>\n",
              "      <th>max</th>\n",
              "      <td>300.575000</td>\n",
              "      <td>1027.607500</td>\n",
              "      <td>92.215000</td>\n",
              "      <td>0.917500</td>\n",
              "    </tr>\n",
              "  </tbody>\n",
              "</table>\n",
              "</div>"
            ],
            "text/plain": [
              "       Average Temperature (Kelvin)  ...  Average Daily Precipitation (mm)\n",
              "count                   7892.000000  ...                       7892.000000\n",
              "mean                     280.023354  ...                          0.107172\n",
              "std                        6.478670  ...                          0.076782\n",
              "min                      263.445000  ...                          0.000000\n",
              "25%                      276.477500  ...                          0.055000\n",
              "50%                      279.685000  ...                          0.093750\n",
              "75%                      281.742500  ...                          0.145000\n",
              "max                      300.575000  ...                          0.917500\n",
              "\n",
              "[8 rows x 4 columns]"
            ]
          },
          "metadata": {
            "tags": []
          },
          "execution_count": 334
        }
      ]
    },
    {
      "cell_type": "code",
      "metadata": {
        "id": "87oD0rT6hUyQ"
      },
      "source": [
        "#divide varieties\n",
        "Xries = X[X['variety'] == 'Riesling']\n",
        "Xpinot = X[X['variety'] == 'Pinot Noir']\n",
        "Xcabsav = X[X['variety'] == 'Cabernet Sauvignon']\n",
        "Xchard = X[X['variety'] == 'Chardonnay']\n",
        "Xmerl = X[X['variety'] == 'Merlot']"
      ],
      "execution_count": 342,
      "outputs": []
    },
    {
      "cell_type": "code",
      "metadata": {
        "id": "dynSTs1ul-8D"
      },
      "source": [
        ""
      ],
      "execution_count": null,
      "outputs": []
    }
  ]
}