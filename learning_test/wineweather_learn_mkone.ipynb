{
  "nbformat": 4,
  "nbformat_minor": 0,
  "metadata": {
    "colab": {
      "name": "wineweather_firstuse_learn.ipynb",
      "provenance": []
    },
    "kernelspec": {
      "name": "python3",
      "display_name": "Python 3"
    },
    "language_info": {
      "name": "python"
    }
  },
  "cells": [
    {
      "cell_type": "code",
      "metadata": {
        "id": "g1EZ04H39K0x"
      },
      "source": [
        "# Initial imports.\n",
        "import pandas as pd\n",
        "import numpy as np\n",
        "from numpy import random\n",
        "import os\n",
        "from sklearn.ensemble import RandomForestClassifier\n",
        "from sklearn.preprocessing import StandardScaler\n",
        "from sklearn.model_selection import train_test_split\n",
        "from sklearn.metrics import confusion_matrix, accuracy_score, classification_report"
      ],
      "execution_count": 1,
      "outputs": []
    },
    {
      "cell_type": "code",
      "metadata": {
        "id": "_YqjMpT49Qek"
      },
      "source": [
        "counties = '/content/uscounty_weather.csv'\n",
        "wineweather = '/content/weather_mapscaled.csv'\n",
        "county_df = pd.read_csv(counties, index_col=0)\n",
        "wine_df = pd.read_csv(wineweather)"
      ],
      "execution_count": 2,
      "outputs": []
    },
    {
      "cell_type": "code",
      "metadata": {
        "colab": {
          "base_uri": "https://localhost:8080/",
          "height": 262
        },
        "id": "whsYSp4o9Qhk",
        "outputId": "baa8b249-362f-491f-a49d-2707fe216c80"
      },
      "source": [
        "counties = county_df.dropna()\n",
        "counties.head(5)"
      ],
      "execution_count": 3,
      "outputs": [
        {
          "output_type": "execute_result",
          "data": {
            "text/html": [
              "<div>\n",
              "<style scoped>\n",
              "    .dataframe tbody tr th:only-of-type {\n",
              "        vertical-align: middle;\n",
              "    }\n",
              "\n",
              "    .dataframe tbody tr th {\n",
              "        vertical-align: top;\n",
              "    }\n",
              "\n",
              "    .dataframe thead th {\n",
              "        text-align: right;\n",
              "    }\n",
              "</style>\n",
              "<table border=\"1\" class=\"dataframe\">\n",
              "  <thead>\n",
              "    <tr style=\"text-align: right;\">\n",
              "      <th></th>\n",
              "      <th>zip</th>\n",
              "      <th>lat</th>\n",
              "      <th>lng</th>\n",
              "      <th>city</th>\n",
              "      <th>state_id</th>\n",
              "      <th>state_name</th>\n",
              "      <th>county_name</th>\n",
              "      <th>Average Temperature (Kelvin)</th>\n",
              "      <th>Average Air Pressure (hPa)</th>\n",
              "      <th>Average Humidity (%)</th>\n",
              "      <th>Average Daily Precipitation (mm)</th>\n",
              "    </tr>\n",
              "  </thead>\n",
              "  <tbody>\n",
              "    <tr>\n",
              "      <th>0</th>\n",
              "      <td>1001</td>\n",
              "      <td>42.06259</td>\n",
              "      <td>-72.62589</td>\n",
              "      <td>Agawam</td>\n",
              "      <td>MA</td>\n",
              "      <td>Massachusetts</td>\n",
              "      <td>Hampden</td>\n",
              "      <td>270.805</td>\n",
              "      <td>1016.1225</td>\n",
              "      <td>72.2150</td>\n",
              "      <td>0.125</td>\n",
              "    </tr>\n",
              "    <tr>\n",
              "      <th>1</th>\n",
              "      <td>1002</td>\n",
              "      <td>42.37492</td>\n",
              "      <td>-72.46210</td>\n",
              "      <td>Amherst</td>\n",
              "      <td>MA</td>\n",
              "      <td>Massachusetts</td>\n",
              "      <td>Hampshire</td>\n",
              "      <td>270.805</td>\n",
              "      <td>1016.1225</td>\n",
              "      <td>72.2150</td>\n",
              "      <td>0.125</td>\n",
              "    </tr>\n",
              "    <tr>\n",
              "      <th>2</th>\n",
              "      <td>1005</td>\n",
              "      <td>42.42017</td>\n",
              "      <td>-72.10615</td>\n",
              "      <td>Barre</td>\n",
              "      <td>MA</td>\n",
              "      <td>Massachusetts</td>\n",
              "      <td>Worcester</td>\n",
              "      <td>270.725</td>\n",
              "      <td>1014.9600</td>\n",
              "      <td>71.7525</td>\n",
              "      <td>0.135</td>\n",
              "    </tr>\n",
              "    <tr>\n",
              "      <th>3</th>\n",
              "      <td>1029</td>\n",
              "      <td>42.19632</td>\n",
              "      <td>-73.04836</td>\n",
              "      <td>East Otis</td>\n",
              "      <td>MA</td>\n",
              "      <td>Massachusetts</td>\n",
              "      <td>Berkshire</td>\n",
              "      <td>270.805</td>\n",
              "      <td>1016.1225</td>\n",
              "      <td>72.2150</td>\n",
              "      <td>0.125</td>\n",
              "    </tr>\n",
              "    <tr>\n",
              "      <th>4</th>\n",
              "      <td>1054</td>\n",
              "      <td>42.47363</td>\n",
              "      <td>-72.48746</td>\n",
              "      <td>Leverett</td>\n",
              "      <td>MA</td>\n",
              "      <td>Massachusetts</td>\n",
              "      <td>Franklin</td>\n",
              "      <td>270.805</td>\n",
              "      <td>1016.1225</td>\n",
              "      <td>72.2150</td>\n",
              "      <td>0.125</td>\n",
              "    </tr>\n",
              "  </tbody>\n",
              "</table>\n",
              "</div>"
            ],
            "text/plain": [
              "    zip       lat  ...  Average Humidity (%) Average Daily Precipitation (mm)\n",
              "0  1001  42.06259  ...               72.2150                            0.125\n",
              "1  1002  42.37492  ...               72.2150                            0.125\n",
              "2  1005  42.42017  ...               71.7525                            0.135\n",
              "3  1029  42.19632  ...               72.2150                            0.125\n",
              "4  1054  42.47363  ...               72.2150                            0.125\n",
              "\n",
              "[5 rows x 11 columns]"
            ]
          },
          "metadata": {
            "tags": []
          },
          "execution_count": 3
        }
      ]
    },
    {
      "cell_type": "code",
      "metadata": {
        "colab": {
          "base_uri": "https://localhost:8080/"
        },
        "id": "a5fm6jCC9QkZ",
        "outputId": "35149a84-4629-44fe-e5a0-58dbeb0488bc"
      },
      "source": [
        "wine_df['success'] = (wine_df['points'] >= 90).astype(int)\n",
        "wine_df['success'].value_counts()"
      ],
      "execution_count": 4,
      "outputs": [
        {
          "output_type": "execute_result",
          "data": {
            "text/plain": [
              "0    31032\n",
              "1    21874\n",
              "Name: success, dtype: int64"
            ]
          },
          "metadata": {
            "tags": []
          },
          "execution_count": 4
        }
      ]
    },
    {
      "cell_type": "code",
      "metadata": {
        "id": "zR-Lpgr29QnD"
      },
      "source": [
        "winedropcols = ['winery_search_term', 'country',\n",
        "       'points', 'variety', 'winery','success']"
      ],
      "execution_count": 5,
      "outputs": []
    },
    {
      "cell_type": "code",
      "metadata": {
        "id": "b4woMuSd9QsO"
      },
      "source": [
        "mer_df = wine_df[wine_df['variety'] == 'Merlot']\n",
        "rose_df = wine_df[wine_df['variety'] == 'Rosé']\n",
        "syr_df = wine_df[wine_df['variety'] == 'Syrah']\n",
        "savyb_df = wine_df[wine_df['variety'] == 'Sauvignon Blanc']\n",
        "ries_df = wine_df[wine_df['variety'] == 'Riesling']\n",
        "cabsav_df = wine_df[wine_df['variety'] == 'Cabernet Sauvignon']\n",
        "char_df = wine_df[wine_df['variety'] == 'Chardonnay']\n",
        "pino_df = wine_df[wine_df['variety'] == 'Pinot Noir']"
      ],
      "execution_count": 6,
      "outputs": []
    },
    {
      "cell_type": "code",
      "metadata": {
        "colab": {
          "base_uri": "https://localhost:8080/"
        },
        "id": "fWXQJq1A9Qtl",
        "outputId": "1f9edd37-8dc4-490e-e57e-437312dd95c2"
      },
      "source": [
        "#features and targets\n",
        "variety = mer_df\n",
        "y = variety['success']\n",
        "X = variety.drop(columns=winedropcols)\n",
        "X_train, X_test, y_train, y_test = train_test_split(X,y)\n",
        "#init model again\n",
        "rf = RandomForestClassifier(n_estimators=200, random_state=99)\n",
        "rf.fit(X, y)"
      ],
      "execution_count": 7,
      "outputs": [
        {
          "output_type": "execute_result",
          "data": {
            "text/plain": [
              "RandomForestClassifier(bootstrap=True, ccp_alpha=0.0, class_weight=None,\n",
              "                       criterion='gini', max_depth=None, max_features='auto',\n",
              "                       max_leaf_nodes=None, max_samples=None,\n",
              "                       min_impurity_decrease=0.0, min_impurity_split=None,\n",
              "                       min_samples_leaf=1, min_samples_split=2,\n",
              "                       min_weight_fraction_leaf=0.0, n_estimators=200,\n",
              "                       n_jobs=None, oob_score=False, random_state=99, verbose=0,\n",
              "                       warm_start=False)"
            ]
          },
          "metadata": {
            "tags": []
          },
          "execution_count": 7
        }
      ]
    },
    {
      "cell_type": "code",
      "metadata": {
        "colab": {
          "base_uri": "https://localhost:8080/"
        },
        "id": "W7HjASbM-KF1",
        "outputId": "3122a332-fb87-480a-b018-b20eff401744"
      },
      "source": [
        "preds = rf.predict(X_test)\n",
        "acc_score = accuracy_score(y_test, preds)\n",
        "acc_score"
      ],
      "execution_count": 8,
      "outputs": [
        {
          "output_type": "execute_result",
          "data": {
            "text/plain": [
              "0.896505376344086"
            ]
          },
          "metadata": {
            "tags": []
          },
          "execution_count": 8
        }
      ]
    },
    {
      "cell_type": "code",
      "metadata": {
        "id": "ZegfCHX1-KIF"
      },
      "source": [
        "#using model to predict the counties\n",
        "Xcount = counties.drop(columns=['zip','city', 'state_id', 'state_name', 'county_name'])\n",
        "mer_preds = rf.predict(Xcount)"
      ],
      "execution_count": 9,
      "outputs": []
    },
    {
      "cell_type": "code",
      "metadata": {
        "colab": {
          "base_uri": "https://localhost:8080/"
        },
        "id": "wBGD59IL-KKg",
        "outputId": "856b4a98-b799-45ea-e7c7-e4f90745ea28"
      },
      "source": [
        "#features and targets\n",
        "variety = rose_df\n",
        "y = variety['success']\n",
        "X = variety.drop(columns=winedropcols)\n",
        "X_train, X_test, y_train, y_test = train_test_split(X,y)\n",
        "#init model again\n",
        "rf = RandomForestClassifier(n_estimators=200, random_state=99)\n",
        "rf.fit(X, y)"
      ],
      "execution_count": 10,
      "outputs": [
        {
          "output_type": "execute_result",
          "data": {
            "text/plain": [
              "RandomForestClassifier(bootstrap=True, ccp_alpha=0.0, class_weight=None,\n",
              "                       criterion='gini', max_depth=None, max_features='auto',\n",
              "                       max_leaf_nodes=None, max_samples=None,\n",
              "                       min_impurity_decrease=0.0, min_impurity_split=None,\n",
              "                       min_samples_leaf=1, min_samples_split=2,\n",
              "                       min_weight_fraction_leaf=0.0, n_estimators=200,\n",
              "                       n_jobs=None, oob_score=False, random_state=99, verbose=0,\n",
              "                       warm_start=False)"
            ]
          },
          "metadata": {
            "tags": []
          },
          "execution_count": 10
        }
      ]
    },
    {
      "cell_type": "code",
      "metadata": {
        "colab": {
          "base_uri": "https://localhost:8080/"
        },
        "id": "cuvjjk4f-KMU",
        "outputId": "18538140-2391-43f1-d783-6c4e35f6f4f9"
      },
      "source": [
        "preds = rf.predict(X_test)\n",
        "acc_score = accuracy_score(y_test, preds)\n",
        "acc_score"
      ],
      "execution_count": 11,
      "outputs": [
        {
          "output_type": "execute_result",
          "data": {
            "text/plain": [
              "0.9044289044289044"
            ]
          },
          "metadata": {
            "tags": []
          },
          "execution_count": 11
        }
      ]
    },
    {
      "cell_type": "code",
      "metadata": {
        "id": "eDBJYcun-KOQ"
      },
      "source": [
        "#using model to predict the counties\n",
        "Xcount = counties.drop(columns=['zip','city', 'state_id', 'state_name', 'county_name'])\n",
        "rose_preds = rf.predict(Xcount)"
      ],
      "execution_count": 12,
      "outputs": []
    },
    {
      "cell_type": "code",
      "metadata": {
        "colab": {
          "base_uri": "https://localhost:8080/"
        },
        "id": "Z63vhufX-KTa",
        "outputId": "fdbc4e11-f520-4705-e44b-961853354a6e"
      },
      "source": [
        "#features and targets\n",
        "variety = syr_df\n",
        "y = variety['success']\n",
        "X = variety.drop(columns=winedropcols)\n",
        "X_train, X_test, y_train, y_test = train_test_split(X,y)\n",
        "#init model again\n",
        "rf = RandomForestClassifier(n_estimators=200, random_state=99)\n",
        "rf.fit(X, y)"
      ],
      "execution_count": 13,
      "outputs": [
        {
          "output_type": "execute_result",
          "data": {
            "text/plain": [
              "RandomForestClassifier(bootstrap=True, ccp_alpha=0.0, class_weight=None,\n",
              "                       criterion='gini', max_depth=None, max_features='auto',\n",
              "                       max_leaf_nodes=None, max_samples=None,\n",
              "                       min_impurity_decrease=0.0, min_impurity_split=None,\n",
              "                       min_samples_leaf=1, min_samples_split=2,\n",
              "                       min_weight_fraction_leaf=0.0, n_estimators=200,\n",
              "                       n_jobs=None, oob_score=False, random_state=99, verbose=0,\n",
              "                       warm_start=False)"
            ]
          },
          "metadata": {
            "tags": []
          },
          "execution_count": 13
        }
      ]
    },
    {
      "cell_type": "code",
      "metadata": {
        "colab": {
          "base_uri": "https://localhost:8080/"
        },
        "id": "gwW4fvQu9Qwq",
        "outputId": "078965b8-5861-480b-93b2-8e34dff86825"
      },
      "source": [
        "preds = rf.predict(X_test)\n",
        "acc_score = accuracy_score(y_test, preds)\n",
        "acc_score"
      ],
      "execution_count": 14,
      "outputs": [
        {
          "output_type": "execute_result",
          "data": {
            "text/plain": [
              "0.8584521384928717"
            ]
          },
          "metadata": {
            "tags": []
          },
          "execution_count": 14
        }
      ]
    },
    {
      "cell_type": "code",
      "metadata": {
        "id": "TFOTgtQT9Q1Q"
      },
      "source": [
        "#using model to predict the counties\n",
        "Xcount = counties.drop(columns=['zip','city', 'state_id', 'state_name', 'county_name'])\n",
        "syr_preds = rf.predict(Xcount)"
      ],
      "execution_count": 15,
      "outputs": []
    },
    {
      "cell_type": "code",
      "metadata": {
        "colab": {
          "base_uri": "https://localhost:8080/"
        },
        "id": "lwrmYR3dAOxL",
        "outputId": "af57f891-1150-426c-e47e-2ed43f69ecc8"
      },
      "source": [
        "#features and targets\n",
        "variety = savyb_df\n",
        "y = variety['success']\n",
        "X = variety.drop(columns=winedropcols)\n",
        "X_train, X_test, y_train, y_test = train_test_split(X,y)\n",
        "#init model again\n",
        "rf = RandomForestClassifier(n_estimators=200, random_state=99)\n",
        "rf.fit(X, y)"
      ],
      "execution_count": 16,
      "outputs": [
        {
          "output_type": "execute_result",
          "data": {
            "text/plain": [
              "RandomForestClassifier(bootstrap=True, ccp_alpha=0.0, class_weight=None,\n",
              "                       criterion='gini', max_depth=None, max_features='auto',\n",
              "                       max_leaf_nodes=None, max_samples=None,\n",
              "                       min_impurity_decrease=0.0, min_impurity_split=None,\n",
              "                       min_samples_leaf=1, min_samples_split=2,\n",
              "                       min_weight_fraction_leaf=0.0, n_estimators=200,\n",
              "                       n_jobs=None, oob_score=False, random_state=99, verbose=0,\n",
              "                       warm_start=False)"
            ]
          },
          "metadata": {
            "tags": []
          },
          "execution_count": 16
        }
      ]
    },
    {
      "cell_type": "code",
      "metadata": {
        "colab": {
          "base_uri": "https://localhost:8080/"
        },
        "id": "K6ZBxxGrAOz9",
        "outputId": "fb7f64ba-ca38-4746-eddb-ca126b22bdb6"
      },
      "source": [
        "preds = rf.predict(X_test)\n",
        "acc_score = accuracy_score(y_test, preds)\n",
        "acc_score"
      ],
      "execution_count": 17,
      "outputs": [
        {
          "output_type": "execute_result",
          "data": {
            "text/plain": [
              "0.8584745762711864"
            ]
          },
          "metadata": {
            "tags": []
          },
          "execution_count": 17
        }
      ]
    },
    {
      "cell_type": "code",
      "metadata": {
        "id": "7D8JpmyAAO3S"
      },
      "source": [
        "#using model to predict the counties\n",
        "Xcount = counties.drop(columns=['zip','city', 'state_id', 'state_name', 'county_name'])\n",
        "savyb_preds = rf.predict(Xcount)"
      ],
      "execution_count": 18,
      "outputs": []
    },
    {
      "cell_type": "code",
      "metadata": {
        "colab": {
          "base_uri": "https://localhost:8080/"
        },
        "id": "xhaocGCMAO6F",
        "outputId": "71095cee-68ae-4d20-d626-0c28bb80590e"
      },
      "source": [
        "#features and targets\n",
        "variety = ries_df\n",
        "y = variety['success']\n",
        "X = variety.drop(columns=winedropcols)\n",
        "X_train, X_test, y_train, y_test = train_test_split(X,y)\n",
        "#init model again\n",
        "rf = RandomForestClassifier(n_estimators=200, random_state=99)\n",
        "rf.fit(X, y)"
      ],
      "execution_count": 19,
      "outputs": [
        {
          "output_type": "execute_result",
          "data": {
            "text/plain": [
              "RandomForestClassifier(bootstrap=True, ccp_alpha=0.0, class_weight=None,\n",
              "                       criterion='gini', max_depth=None, max_features='auto',\n",
              "                       max_leaf_nodes=None, max_samples=None,\n",
              "                       min_impurity_decrease=0.0, min_impurity_split=None,\n",
              "                       min_samples_leaf=1, min_samples_split=2,\n",
              "                       min_weight_fraction_leaf=0.0, n_estimators=200,\n",
              "                       n_jobs=None, oob_score=False, random_state=99, verbose=0,\n",
              "                       warm_start=False)"
            ]
          },
          "metadata": {
            "tags": []
          },
          "execution_count": 19
        }
      ]
    },
    {
      "cell_type": "code",
      "metadata": {
        "colab": {
          "base_uri": "https://localhost:8080/"
        },
        "id": "FLQkK0qZAO9B",
        "outputId": "a9f8fddb-5a5b-4218-838c-af3734ccb751"
      },
      "source": [
        "preds = rf.predict(X_test)\n",
        "acc_score = accuracy_score(y_test, preds)\n",
        "acc_score"
      ],
      "execution_count": 20,
      "outputs": [
        {
          "output_type": "execute_result",
          "data": {
            "text/plain": [
              "0.7909162098668755"
            ]
          },
          "metadata": {
            "tags": []
          },
          "execution_count": 20
        }
      ]
    },
    {
      "cell_type": "code",
      "metadata": {
        "id": "mIdHq6h3APAE"
      },
      "source": [
        "#using model to predict the counties\n",
        "Xcount = counties.drop(columns=['zip','city', 'state_id', 'state_name', 'county_name'])\n",
        "ries_preds = rf.predict(Xcount)"
      ],
      "execution_count": 21,
      "outputs": []
    },
    {
      "cell_type": "code",
      "metadata": {
        "colab": {
          "base_uri": "https://localhost:8080/"
        },
        "id": "zPnqrGohAPDJ",
        "outputId": "f7fbbdab-da70-4c4b-eefb-54bb8d20bdac"
      },
      "source": [
        "#features and targets\n",
        "variety = cabsav_df\n",
        "y = variety['success']\n",
        "X = variety.drop(columns=winedropcols)\n",
        "X_train, X_test, y_train, y_test = train_test_split(X,y)\n",
        "#init model again\n",
        "rf = RandomForestClassifier(n_estimators=200, random_state=99)\n",
        "rf.fit(X, y)"
      ],
      "execution_count": 22,
      "outputs": [
        {
          "output_type": "execute_result",
          "data": {
            "text/plain": [
              "RandomForestClassifier(bootstrap=True, ccp_alpha=0.0, class_weight=None,\n",
              "                       criterion='gini', max_depth=None, max_features='auto',\n",
              "                       max_leaf_nodes=None, max_samples=None,\n",
              "                       min_impurity_decrease=0.0, min_impurity_split=None,\n",
              "                       min_samples_leaf=1, min_samples_split=2,\n",
              "                       min_weight_fraction_leaf=0.0, n_estimators=200,\n",
              "                       n_jobs=None, oob_score=False, random_state=99, verbose=0,\n",
              "                       warm_start=False)"
            ]
          },
          "metadata": {
            "tags": []
          },
          "execution_count": 22
        }
      ]
    },
    {
      "cell_type": "code",
      "metadata": {
        "colab": {
          "base_uri": "https://localhost:8080/"
        },
        "id": "NUWHFYYwAPGE",
        "outputId": "1adb60d6-3243-4897-fc1e-de8921a52658"
      },
      "source": [
        "preds = rf.predict(X_test)\n",
        "acc_score = accuracy_score(y_test, preds)\n",
        "acc_score"
      ],
      "execution_count": 23,
      "outputs": [
        {
          "output_type": "execute_result",
          "data": {
            "text/plain": [
              "0.8057194734453018"
            ]
          },
          "metadata": {
            "tags": []
          },
          "execution_count": 23
        }
      ]
    },
    {
      "cell_type": "code",
      "metadata": {
        "id": "hQJjjtoCAPJB"
      },
      "source": [
        "#using model to predict the counties\n",
        "Xcount = counties.drop(columns=['zip','city', 'state_id', 'state_name', 'county_name'])\n",
        "cabsav_preds = rf.predict(Xcount)"
      ],
      "execution_count": 24,
      "outputs": []
    },
    {
      "cell_type": "code",
      "metadata": {
        "colab": {
          "base_uri": "https://localhost:8080/"
        },
        "id": "cczRRBijAPMk",
        "outputId": "dd9cdc11-7a16-43b1-fada-bbdb72c61a35"
      },
      "source": [
        "#features and targets\n",
        "variety = char_df\n",
        "y = variety['success']\n",
        "X = variety.drop(columns=winedropcols)\n",
        "X_train, X_test, y_train, y_test = train_test_split(X,y)\n",
        "#init model again\n",
        "rf = RandomForestClassifier(n_estimators=200, random_state=99)\n",
        "rf.fit(X, y)"
      ],
      "execution_count": 25,
      "outputs": [
        {
          "output_type": "execute_result",
          "data": {
            "text/plain": [
              "RandomForestClassifier(bootstrap=True, ccp_alpha=0.0, class_weight=None,\n",
              "                       criterion='gini', max_depth=None, max_features='auto',\n",
              "                       max_leaf_nodes=None, max_samples=None,\n",
              "                       min_impurity_decrease=0.0, min_impurity_split=None,\n",
              "                       min_samples_leaf=1, min_samples_split=2,\n",
              "                       min_weight_fraction_leaf=0.0, n_estimators=200,\n",
              "                       n_jobs=None, oob_score=False, random_state=99, verbose=0,\n",
              "                       warm_start=False)"
            ]
          },
          "metadata": {
            "tags": []
          },
          "execution_count": 25
        }
      ]
    },
    {
      "cell_type": "code",
      "metadata": {
        "colab": {
          "base_uri": "https://localhost:8080/"
        },
        "id": "e6bQ-rEjAlXd",
        "outputId": "3afadcaa-cbb8-4d21-8b08-43d9886fa780"
      },
      "source": [
        "preds = rf.predict(X_test)\n",
        "acc_score = accuracy_score(y_test, preds)\n",
        "acc_score"
      ],
      "execution_count": 26,
      "outputs": [
        {
          "output_type": "execute_result",
          "data": {
            "text/plain": [
              "0.8138053097345133"
            ]
          },
          "metadata": {
            "tags": []
          },
          "execution_count": 26
        }
      ]
    },
    {
      "cell_type": "code",
      "metadata": {
        "id": "3la9DNFpAla0"
      },
      "source": [
        "#using model to predict the counties\n",
        "Xcount = counties.drop(columns=['zip','city', 'state_id', 'state_name', 'county_name'])\n",
        "char_preds = rf.predict(Xcount)"
      ],
      "execution_count": 27,
      "outputs": []
    },
    {
      "cell_type": "code",
      "metadata": {
        "colab": {
          "base_uri": "https://localhost:8080/"
        },
        "id": "rpV2LT1UAliu",
        "outputId": "ff419462-a0a3-4f3c-e806-edcbc30cce91"
      },
      "source": [
        "#features and targets\n",
        "variety = pino_df\n",
        "y = variety['success']\n",
        "X = variety.drop(columns=winedropcols)\n",
        "X_train, X_test, y_train, y_test = train_test_split(X,y)\n",
        "#init model again\n",
        "rf = RandomForestClassifier(n_estimators=200, random_state=99)\n",
        "rf.fit(X, y)"
      ],
      "execution_count": 28,
      "outputs": [
        {
          "output_type": "execute_result",
          "data": {
            "text/plain": [
              "RandomForestClassifier(bootstrap=True, ccp_alpha=0.0, class_weight=None,\n",
              "                       criterion='gini', max_depth=None, max_features='auto',\n",
              "                       max_leaf_nodes=None, max_samples=None,\n",
              "                       min_impurity_decrease=0.0, min_impurity_split=None,\n",
              "                       min_samples_leaf=1, min_samples_split=2,\n",
              "                       min_weight_fraction_leaf=0.0, n_estimators=200,\n",
              "                       n_jobs=None, oob_score=False, random_state=99, verbose=0,\n",
              "                       warm_start=False)"
            ]
          },
          "metadata": {
            "tags": []
          },
          "execution_count": 28
        }
      ]
    },
    {
      "cell_type": "code",
      "metadata": {
        "colab": {
          "base_uri": "https://localhost:8080/"
        },
        "id": "c2g2IZGBAlvA",
        "outputId": "b61e3804-e82c-4f95-95a8-9260c8b85a2b"
      },
      "source": [
        "preds = rf.predict(X_test)\n",
        "acc_score = accuracy_score(y_test, preds)\n",
        "acc_score"
      ],
      "execution_count": 29,
      "outputs": [
        {
          "output_type": "execute_result",
          "data": {
            "text/plain": [
              "0.7880417589370452"
            ]
          },
          "metadata": {
            "tags": []
          },
          "execution_count": 29
        }
      ]
    },
    {
      "cell_type": "code",
      "metadata": {
        "id": "Vt6CNH7xAlzS"
      },
      "source": [
        "#using model to predict the counties\n",
        "Xcount = counties.drop(columns=['zip','city', 'state_id', 'state_name', 'county_name'])\n",
        "pino_preds = rf.predict(Xcount)"
      ],
      "execution_count": 30,
      "outputs": []
    },
    {
      "cell_type": "code",
      "metadata": {
        "id": "kn67tSDZAl3L"
      },
      "source": [
        "counties_preds = counties.copy()\n",
        "counties_preds['mer_success'] = mer_preds\n",
        "counties_preds['rose_success'] = rose_preds\n",
        "counties_preds['syr_success'] = syr_preds\n",
        "counties_preds['savyb_success'] = savyb_preds\n",
        "counties_preds['ries_success'] = ries_preds\n",
        "counties_preds['cabsav_success'] = cabsav_preds\n",
        "counties_preds['char_success'] = char_preds\n",
        "counties_preds['pinot_success'] = pino_preds"
      ],
      "execution_count": 31,
      "outputs": []
    },
    {
      "cell_type": "code",
      "metadata": {
        "colab": {
          "base_uri": "https://localhost:8080/",
          "height": 282
        },
        "id": "lFKhpvltAmCS",
        "outputId": "261d9e05-e2e7-4e0e-a38c-3841b5521db7"
      },
      "source": [
        "counties_preds.head()"
      ],
      "execution_count": 32,
      "outputs": [
        {
          "output_type": "execute_result",
          "data": {
            "text/html": [
              "<div>\n",
              "<style scoped>\n",
              "    .dataframe tbody tr th:only-of-type {\n",
              "        vertical-align: middle;\n",
              "    }\n",
              "\n",
              "    .dataframe tbody tr th {\n",
              "        vertical-align: top;\n",
              "    }\n",
              "\n",
              "    .dataframe thead th {\n",
              "        text-align: right;\n",
              "    }\n",
              "</style>\n",
              "<table border=\"1\" class=\"dataframe\">\n",
              "  <thead>\n",
              "    <tr style=\"text-align: right;\">\n",
              "      <th></th>\n",
              "      <th>zip</th>\n",
              "      <th>lat</th>\n",
              "      <th>lng</th>\n",
              "      <th>city</th>\n",
              "      <th>state_id</th>\n",
              "      <th>state_name</th>\n",
              "      <th>county_name</th>\n",
              "      <th>Average Temperature (Kelvin)</th>\n",
              "      <th>Average Air Pressure (hPa)</th>\n",
              "      <th>Average Humidity (%)</th>\n",
              "      <th>Average Daily Precipitation (mm)</th>\n",
              "      <th>mer_success</th>\n",
              "      <th>rose_success</th>\n",
              "      <th>syr_success</th>\n",
              "      <th>savyb_success</th>\n",
              "      <th>ries_success</th>\n",
              "      <th>cabsav_success</th>\n",
              "      <th>char_success</th>\n",
              "      <th>pinot_success</th>\n",
              "    </tr>\n",
              "  </thead>\n",
              "  <tbody>\n",
              "    <tr>\n",
              "      <th>0</th>\n",
              "      <td>1001</td>\n",
              "      <td>42.06259</td>\n",
              "      <td>-72.62589</td>\n",
              "      <td>Agawam</td>\n",
              "      <td>MA</td>\n",
              "      <td>Massachusetts</td>\n",
              "      <td>Hampden</td>\n",
              "      <td>270.805</td>\n",
              "      <td>1016.1225</td>\n",
              "      <td>72.2150</td>\n",
              "      <td>0.125</td>\n",
              "      <td>0</td>\n",
              "      <td>0</td>\n",
              "      <td>0</td>\n",
              "      <td>0</td>\n",
              "      <td>0</td>\n",
              "      <td>0</td>\n",
              "      <td>0</td>\n",
              "      <td>1</td>\n",
              "    </tr>\n",
              "    <tr>\n",
              "      <th>1</th>\n",
              "      <td>1002</td>\n",
              "      <td>42.37492</td>\n",
              "      <td>-72.46210</td>\n",
              "      <td>Amherst</td>\n",
              "      <td>MA</td>\n",
              "      <td>Massachusetts</td>\n",
              "      <td>Hampshire</td>\n",
              "      <td>270.805</td>\n",
              "      <td>1016.1225</td>\n",
              "      <td>72.2150</td>\n",
              "      <td>0.125</td>\n",
              "      <td>0</td>\n",
              "      <td>0</td>\n",
              "      <td>0</td>\n",
              "      <td>0</td>\n",
              "      <td>0</td>\n",
              "      <td>0</td>\n",
              "      <td>0</td>\n",
              "      <td>1</td>\n",
              "    </tr>\n",
              "    <tr>\n",
              "      <th>2</th>\n",
              "      <td>1005</td>\n",
              "      <td>42.42017</td>\n",
              "      <td>-72.10615</td>\n",
              "      <td>Barre</td>\n",
              "      <td>MA</td>\n",
              "      <td>Massachusetts</td>\n",
              "      <td>Worcester</td>\n",
              "      <td>270.725</td>\n",
              "      <td>1014.9600</td>\n",
              "      <td>71.7525</td>\n",
              "      <td>0.135</td>\n",
              "      <td>0</td>\n",
              "      <td>0</td>\n",
              "      <td>0</td>\n",
              "      <td>0</td>\n",
              "      <td>0</td>\n",
              "      <td>0</td>\n",
              "      <td>0</td>\n",
              "      <td>1</td>\n",
              "    </tr>\n",
              "    <tr>\n",
              "      <th>3</th>\n",
              "      <td>1029</td>\n",
              "      <td>42.19632</td>\n",
              "      <td>-73.04836</td>\n",
              "      <td>East Otis</td>\n",
              "      <td>MA</td>\n",
              "      <td>Massachusetts</td>\n",
              "      <td>Berkshire</td>\n",
              "      <td>270.805</td>\n",
              "      <td>1016.1225</td>\n",
              "      <td>72.2150</td>\n",
              "      <td>0.125</td>\n",
              "      <td>0</td>\n",
              "      <td>0</td>\n",
              "      <td>0</td>\n",
              "      <td>0</td>\n",
              "      <td>0</td>\n",
              "      <td>0</td>\n",
              "      <td>0</td>\n",
              "      <td>1</td>\n",
              "    </tr>\n",
              "    <tr>\n",
              "      <th>4</th>\n",
              "      <td>1054</td>\n",
              "      <td>42.47363</td>\n",
              "      <td>-72.48746</td>\n",
              "      <td>Leverett</td>\n",
              "      <td>MA</td>\n",
              "      <td>Massachusetts</td>\n",
              "      <td>Franklin</td>\n",
              "      <td>270.805</td>\n",
              "      <td>1016.1225</td>\n",
              "      <td>72.2150</td>\n",
              "      <td>0.125</td>\n",
              "      <td>0</td>\n",
              "      <td>0</td>\n",
              "      <td>0</td>\n",
              "      <td>0</td>\n",
              "      <td>0</td>\n",
              "      <td>0</td>\n",
              "      <td>0</td>\n",
              "      <td>1</td>\n",
              "    </tr>\n",
              "  </tbody>\n",
              "</table>\n",
              "</div>"
            ],
            "text/plain": [
              "    zip       lat       lng  ... cabsav_success char_success pinot_success\n",
              "0  1001  42.06259 -72.62589  ...              0            0             1\n",
              "1  1002  42.37492 -72.46210  ...              0            0             1\n",
              "2  1005  42.42017 -72.10615  ...              0            0             1\n",
              "3  1029  42.19632 -73.04836  ...              0            0             1\n",
              "4  1054  42.47363 -72.48746  ...              0            0             1\n",
              "\n",
              "[5 rows x 19 columns]"
            ]
          },
          "metadata": {
            "tags": []
          },
          "execution_count": 32
        }
      ]
    },
    {
      "cell_type": "code",
      "metadata": {
        "id": "XRMRV5XrAmGK"
      },
      "source": [
        "counties_preds.to_csv('county_predictions.csv')"
      ],
      "execution_count": 33,
      "outputs": []
    },
    {
      "cell_type": "code",
      "metadata": {
        "id": "iAS97wguAmJ4"
      },
      "source": [
        ""
      ],
      "execution_count": 32,
      "outputs": []
    },
    {
      "cell_type": "code",
      "metadata": {
        "id": "gIL0N7FVAPQy"
      },
      "source": [
        ""
      ],
      "execution_count": 32,
      "outputs": []
    }
  ]
}