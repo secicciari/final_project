{
 "cells": [
  {
   "cell_type": "code",
   "execution_count": 14,
   "metadata": {},
   "outputs": [],
   "source": [
    "import numpy as np\n",
    "import pandas as pd\n",
    "import os\n",
    "from random import randint"
   ]
  },
  {
   "cell_type": "code",
   "execution_count": 4,
   "metadata": {},
   "outputs": [
    {
     "data": {
      "text/html": [
       "<div>\n",
       "<style scoped>\n",
       "    .dataframe tbody tr th:only-of-type {\n",
       "        vertical-align: middle;\n",
       "    }\n",
       "\n",
       "    .dataframe tbody tr th {\n",
       "        vertical-align: top;\n",
       "    }\n",
       "\n",
       "    .dataframe thead th {\n",
       "        text-align: right;\n",
       "    }\n",
       "</style>\n",
       "<table border=\"1\" class=\"dataframe\">\n",
       "  <thead>\n",
       "    <tr style=\"text-align: right;\">\n",
       "      <th></th>\n",
       "      <th>STATION</th>\n",
       "      <th>NAME</th>\n",
       "      <th>LATITUDE</th>\n",
       "      <th>LONGITUDE</th>\n",
       "      <th>ELEVATION</th>\n",
       "      <th>DATE</th>\n",
       "      <th>AWND</th>\n",
       "      <th>PRCP</th>\n",
       "      <th>SN32</th>\n",
       "      <th>SNOW</th>\n",
       "      <th>SX32</th>\n",
       "      <th>TAVG</th>\n",
       "      <th>TMAX</th>\n",
       "      <th>TMIN</th>\n",
       "    </tr>\n",
       "  </thead>\n",
       "  <tbody>\n",
       "    <tr>\n",
       "      <th>0</th>\n",
       "      <td>USC00012209</td>\n",
       "      <td>DECATUR 4 SE, AL US</td>\n",
       "      <td>34.57556</td>\n",
       "      <td>-86.93389</td>\n",
       "      <td>167.6</td>\n",
       "      <td>2013-01-01</td>\n",
       "      <td>NaN</td>\n",
       "      <td>1.73</td>\n",
       "      <td>NaN</td>\n",
       "      <td>NaN</td>\n",
       "      <td>NaN</td>\n",
       "      <td>NaN</td>\n",
       "      <td>51.0</td>\n",
       "      <td>33.0</td>\n",
       "    </tr>\n",
       "    <tr>\n",
       "      <th>1</th>\n",
       "      <td>USC00012209</td>\n",
       "      <td>DECATUR 4 SE, AL US</td>\n",
       "      <td>34.57556</td>\n",
       "      <td>-86.93389</td>\n",
       "      <td>167.6</td>\n",
       "      <td>2013-01-02</td>\n",
       "      <td>NaN</td>\n",
       "      <td>0.00</td>\n",
       "      <td>NaN</td>\n",
       "      <td>NaN</td>\n",
       "      <td>NaN</td>\n",
       "      <td>NaN</td>\n",
       "      <td>51.0</td>\n",
       "      <td>33.0</td>\n",
       "    </tr>\n",
       "    <tr>\n",
       "      <th>2</th>\n",
       "      <td>USC00012209</td>\n",
       "      <td>DECATUR 4 SE, AL US</td>\n",
       "      <td>34.57556</td>\n",
       "      <td>-86.93389</td>\n",
       "      <td>167.6</td>\n",
       "      <td>2013-01-03</td>\n",
       "      <td>NaN</td>\n",
       "      <td>0.00</td>\n",
       "      <td>NaN</td>\n",
       "      <td>NaN</td>\n",
       "      <td>NaN</td>\n",
       "      <td>NaN</td>\n",
       "      <td>51.0</td>\n",
       "      <td>31.0</td>\n",
       "    </tr>\n",
       "    <tr>\n",
       "      <th>3</th>\n",
       "      <td>USC00012209</td>\n",
       "      <td>DECATUR 4 SE, AL US</td>\n",
       "      <td>34.57556</td>\n",
       "      <td>-86.93389</td>\n",
       "      <td>167.6</td>\n",
       "      <td>2013-01-04</td>\n",
       "      <td>NaN</td>\n",
       "      <td>0.00</td>\n",
       "      <td>NaN</td>\n",
       "      <td>NaN</td>\n",
       "      <td>NaN</td>\n",
       "      <td>NaN</td>\n",
       "      <td>45.0</td>\n",
       "      <td>28.0</td>\n",
       "    </tr>\n",
       "    <tr>\n",
       "      <th>4</th>\n",
       "      <td>USC00012209</td>\n",
       "      <td>DECATUR 4 SE, AL US</td>\n",
       "      <td>34.57556</td>\n",
       "      <td>-86.93389</td>\n",
       "      <td>167.6</td>\n",
       "      <td>2013-01-05</td>\n",
       "      <td>NaN</td>\n",
       "      <td>0.00</td>\n",
       "      <td>NaN</td>\n",
       "      <td>NaN</td>\n",
       "      <td>NaN</td>\n",
       "      <td>NaN</td>\n",
       "      <td>45.0</td>\n",
       "      <td>28.0</td>\n",
       "    </tr>\n",
       "  </tbody>\n",
       "</table>\n",
       "</div>"
      ],
      "text/plain": [
       "       STATION                 NAME  LATITUDE  LONGITUDE  ELEVATION  \\\n",
       "0  USC00012209  DECATUR 4 SE, AL US  34.57556  -86.93389      167.6   \n",
       "1  USC00012209  DECATUR 4 SE, AL US  34.57556  -86.93389      167.6   \n",
       "2  USC00012209  DECATUR 4 SE, AL US  34.57556  -86.93389      167.6   \n",
       "3  USC00012209  DECATUR 4 SE, AL US  34.57556  -86.93389      167.6   \n",
       "4  USC00012209  DECATUR 4 SE, AL US  34.57556  -86.93389      167.6   \n",
       "\n",
       "         DATE  AWND  PRCP  SN32  SNOW  SX32  TAVG  TMAX  TMIN  \n",
       "0  2013-01-01   NaN  1.73   NaN   NaN   NaN   NaN  51.0  33.0  \n",
       "1  2013-01-02   NaN  0.00   NaN   NaN   NaN   NaN  51.0  33.0  \n",
       "2  2013-01-03   NaN  0.00   NaN   NaN   NaN   NaN  51.0  31.0  \n",
       "3  2013-01-04   NaN  0.00   NaN   NaN   NaN   NaN  45.0  28.0  \n",
       "4  2013-01-05   NaN  0.00   NaN   NaN   NaN   NaN  45.0  28.0  "
      ]
     },
     "execution_count": 4,
     "metadata": {},
     "output_type": "execute_result"
    }
   ],
   "source": [
    "al_countyfile = '../NOAA_testpulls/US_AL_cseat13t19.csv'\n",
    "county_df = pd.read_csv(al_countyfile)\n",
    "county_df.head()"
   ]
  },
  {
   "cell_type": "code",
   "execution_count": 7,
   "metadata": {},
   "outputs": [
    {
     "data": {
      "text/plain": [
       "['DECATUR 4 SE, AL US',\n",
       " 'TROY MUNICIPAL AIRPORT, AL US',\n",
       " 'MOBILE DOWNTOWN AIRPORT, AL US',\n",
       " 'LAFAYETTE 2 W, AL US',\n",
       " 'BAY MINETTE, AL US',\n",
       " 'HEFLIN, AL US',\n",
       " 'JASPER, AL US',\n",
       " 'DADEVILLE 2, AL US',\n",
       " 'FAYETTE, AL US',\n",
       " 'ROCKFORD 3 ESE, AL US',\n",
       " 'MARION JUNCTION 2 NE, AL US',\n",
       " 'ATHENS, AL US',\n",
       " 'BREWTON 3 ENE, AL US',\n",
       " 'OPELIKA, AL US',\n",
       " 'MOULTON 2, AL US',\n",
       " 'PHENIX CITY 2.2 NNW, AL US',\n",
       " 'EVERGREEN MIDDLETON FIELD, AL US',\n",
       " 'FLORENCE 0.6 NE, AL US',\n",
       " 'HAMILTON 3 S, AL US',\n",
       " 'ENTERPRISE 2 W, AL US',\n",
       " 'RUSSELLVILLE NUMBER 2, AL US',\n",
       " 'CAMDEN 1.0 NNE, AL US',\n",
       " 'ONEONTA, AL US',\n",
       " 'FORT PAYNE, AL US',\n",
       " 'GENEVA NUMBER 2, AL US',\n",
       " 'SELMA, AL US',\n",
       " 'DOUBLE SPRINGS 3.2 NNE, AL US',\n",
       " 'GREENVILLE MAC CRENSHAW MEMORIAL AIRPORT, AL US',\n",
       " 'GUNTERSVILLE 2.2 SW, AL US',\n",
       " 'TALLADEGA ALABAMA, AL US',\n",
       " 'MONTGOMERY AIRPORT, AL US',\n",
       " 'FORT PAYNE 1.4 WSW, AL US',\n",
       " 'HUNTSVILLE INTNL AIRPORT, AL US',\n",
       " 'JACKSONVILLE, AL US',\n",
       " 'GREENSBORO, AL US',\n",
       " 'CLANTON, AL US',\n",
       " 'GADSDEN, AL US',\n",
       " 'TUSCALOOSA AIRPORT ASOS, AL US',\n",
       " 'CULLMAN 4.4 E, AL US',\n",
       " 'ANDALUSIA OPP AIRPORT, AL US',\n",
       " 'CLAYTON, AL US',\n",
       " 'CHATOM, AL US',\n",
       " 'DOTHAN, AL US',\n",
       " 'CENTREVILLE 2.9 SW, AL US',\n",
       " 'ANNISTON METROPOLITAN AIRPORT, AL US',\n",
       " 'CENTRE, AL US',\n",
       " 'SCOTTSBORO 2 NE, AL US',\n",
       " 'WETUMPKA 5.4 WNW, AL US',\n",
       " 'VERNON, AL US',\n",
       " 'TUSCUMBIA 8.9 SW, AL US',\n",
       " 'BIRMINGHAM AIRPORT, AL US',\n",
       " 'GROVE HILL 6.1 SW, AL US']"
      ]
     },
     "execution_count": 7,
     "metadata": {},
     "output_type": "execute_result"
    }
   ],
   "source": [
    "countynames = list(county_df['NAME'].unique())\n",
    "countynames"
   ]
  },
  {
   "cell_type": "code",
   "execution_count": 34,
   "metadata": {},
   "outputs": [
    {
     "data": {
      "text/html": [
       "<div>\n",
       "<style scoped>\n",
       "    .dataframe tbody tr th:only-of-type {\n",
       "        vertical-align: middle;\n",
       "    }\n",
       "\n",
       "    .dataframe tbody tr th {\n",
       "        vertical-align: top;\n",
       "    }\n",
       "\n",
       "    .dataframe thead th {\n",
       "        text-align: right;\n",
       "    }\n",
       "</style>\n",
       "<table border=\"1\" class=\"dataframe\">\n",
       "  <thead>\n",
       "    <tr style=\"text-align: right;\">\n",
       "      <th></th>\n",
       "      <th>county</th>\n",
       "    </tr>\n",
       "  </thead>\n",
       "  <tbody>\n",
       "    <tr>\n",
       "      <th>0</th>\n",
       "      <td>DECATUR 4 SE, AL US</td>\n",
       "    </tr>\n",
       "    <tr>\n",
       "      <th>1</th>\n",
       "      <td>TROY MUNICIPAL AIRPORT, AL US</td>\n",
       "    </tr>\n",
       "    <tr>\n",
       "      <th>2</th>\n",
       "      <td>MOBILE DOWNTOWN AIRPORT, AL US</td>\n",
       "    </tr>\n",
       "    <tr>\n",
       "      <th>3</th>\n",
       "      <td>LAFAYETTE 2 W, AL US</td>\n",
       "    </tr>\n",
       "    <tr>\n",
       "      <th>4</th>\n",
       "      <td>BAY MINETTE, AL US</td>\n",
       "    </tr>\n",
       "  </tbody>\n",
       "</table>\n",
       "</div>"
      ],
      "text/plain": [
       "                           county\n",
       "0             DECATUR 4 SE, AL US\n",
       "1   TROY MUNICIPAL AIRPORT, AL US\n",
       "2  MOBILE DOWNTOWN AIRPORT, AL US\n",
       "3            LAFAYETTE 2 W, AL US\n",
       "4              BAY MINETTE, AL US"
      ]
     },
     "execution_count": 34,
     "metadata": {},
     "output_type": "execute_result"
    }
   ],
   "source": [
    "machine_df = pd.DataFrame(countynames, columns=['county'])\n",
    "machine_df.head()"
   ]
  },
  {
   "cell_type": "code",
   "execution_count": 35,
   "metadata": {},
   "outputs": [
    {
     "data": {
      "text/plain": [
       "52"
      ]
     },
     "execution_count": 35,
     "metadata": {},
     "output_type": "execute_result"
    }
   ],
   "source": [
    "len(machine_df)"
   ]
  },
  {
   "cell_type": "code",
   "execution_count": 57,
   "metadata": {},
   "outputs": [],
   "source": [
    "machine_df['avgmaxF'] = np.random.randint(70,100,52)\n",
    "machine_df['avgminF'] = np.random.randint(0,40,52)\n",
    "machine_df['avgprecip'] = np.random.randint(0,30,52)\n",
    "machine_df['avgsnow'] = np.random.randint(0,10,52)\n",
    "machine_df['success'] = np.random.randint(0,2,52)"
   ]
  },
  {
   "cell_type": "code",
   "execution_count": 58,
   "metadata": {},
   "outputs": [
    {
     "data": {
      "text/html": [
       "<div>\n",
       "<style scoped>\n",
       "    .dataframe tbody tr th:only-of-type {\n",
       "        vertical-align: middle;\n",
       "    }\n",
       "\n",
       "    .dataframe tbody tr th {\n",
       "        vertical-align: top;\n",
       "    }\n",
       "\n",
       "    .dataframe thead th {\n",
       "        text-align: right;\n",
       "    }\n",
       "</style>\n",
       "<table border=\"1\" class=\"dataframe\">\n",
       "  <thead>\n",
       "    <tr style=\"text-align: right;\">\n",
       "      <th></th>\n",
       "      <th>county</th>\n",
       "      <th>avgmaxF</th>\n",
       "      <th>avgminF</th>\n",
       "      <th>avgprecip</th>\n",
       "      <th>avgsnow</th>\n",
       "      <th>success</th>\n",
       "    </tr>\n",
       "  </thead>\n",
       "  <tbody>\n",
       "    <tr>\n",
       "      <th>0</th>\n",
       "      <td>DECATUR 4 SE, AL US</td>\n",
       "      <td>95</td>\n",
       "      <td>28</td>\n",
       "      <td>2</td>\n",
       "      <td>5</td>\n",
       "      <td>1</td>\n",
       "    </tr>\n",
       "    <tr>\n",
       "      <th>1</th>\n",
       "      <td>TROY MUNICIPAL AIRPORT, AL US</td>\n",
       "      <td>81</td>\n",
       "      <td>4</td>\n",
       "      <td>28</td>\n",
       "      <td>7</td>\n",
       "      <td>1</td>\n",
       "    </tr>\n",
       "    <tr>\n",
       "      <th>2</th>\n",
       "      <td>MOBILE DOWNTOWN AIRPORT, AL US</td>\n",
       "      <td>74</td>\n",
       "      <td>7</td>\n",
       "      <td>17</td>\n",
       "      <td>7</td>\n",
       "      <td>0</td>\n",
       "    </tr>\n",
       "    <tr>\n",
       "      <th>3</th>\n",
       "      <td>LAFAYETTE 2 W, AL US</td>\n",
       "      <td>74</td>\n",
       "      <td>5</td>\n",
       "      <td>6</td>\n",
       "      <td>4</td>\n",
       "      <td>0</td>\n",
       "    </tr>\n",
       "    <tr>\n",
       "      <th>4</th>\n",
       "      <td>BAY MINETTE, AL US</td>\n",
       "      <td>84</td>\n",
       "      <td>15</td>\n",
       "      <td>29</td>\n",
       "      <td>5</td>\n",
       "      <td>0</td>\n",
       "    </tr>\n",
       "  </tbody>\n",
       "</table>\n",
       "</div>"
      ],
      "text/plain": [
       "                           county  avgmaxF  avgminF  avgprecip  avgsnow  \\\n",
       "0             DECATUR 4 SE, AL US       95       28          2        5   \n",
       "1   TROY MUNICIPAL AIRPORT, AL US       81        4         28        7   \n",
       "2  MOBILE DOWNTOWN AIRPORT, AL US       74        7         17        7   \n",
       "3            LAFAYETTE 2 W, AL US       74        5          6        4   \n",
       "4              BAY MINETTE, AL US       84       15         29        5   \n",
       "\n",
       "   success  \n",
       "0        1  \n",
       "1        1  \n",
       "2        0  \n",
       "3        0  \n",
       "4        0  "
      ]
     },
     "execution_count": 58,
     "metadata": {},
     "output_type": "execute_result"
    }
   ],
   "source": [
    "machine_df.head()"
   ]
  },
  {
   "cell_type": "code",
   "execution_count": 59,
   "metadata": {},
   "outputs": [],
   "source": [
    "y = machine_df['success']\n",
    "X = machine_df.drop(columns=['county','success'])"
   ]
  },
  {
   "cell_type": "code",
   "execution_count": 60,
   "metadata": {},
   "outputs": [],
   "source": [
    "from sklearn.linear_model import LinearRegression\n",
    "model = LinearRegression()"
   ]
  },
  {
   "cell_type": "code",
   "execution_count": 61,
   "metadata": {},
   "outputs": [],
   "source": [
    "import sklearn\n",
    "from sklearn import model_selection\n",
    "from sklearn.model_selection import train_test_split\n",
    "import matplotlib.pyplot as plt\n"
   ]
  },
  {
   "cell_type": "code",
   "execution_count": 62,
   "metadata": {},
   "outputs": [],
   "source": [
    "X_train, X_test, y_train, y_test = train_test_split(X,y)"
   ]
  },
  {
   "cell_type": "code",
   "execution_count": 63,
   "metadata": {},
   "outputs": [
    {
     "name": "stdout",
     "output_type": "stream",
     "text": [
      "R2 Score: 0.05382034525449819\n"
     ]
    }
   ],
   "source": [
    "model.fit(X, y)\n",
    "\n",
    "score = model.score(X, y)\n",
    "print(f\"R2 Score: {score}\")"
   ]
  },
  {
   "cell_type": "code",
   "execution_count": 64,
   "metadata": {},
   "outputs": [
    {
     "data": {
      "image/png": "[encoded data removed]",
      "text/plain": [
       "<Figure size 432x288 with 1 Axes>"
      ]
     },
     "metadata": {
      "needs_background": "light"
     },
     "output_type": "display_data"
    }
   ],
   "source": [
    "predictions = model.predict(X)\n",
    "# Plot Residuals\n",
    "plt.scatter(predictions, predictions - y)\n",
    "plt.hlines(y=0, xmin=predictions.min(), xmax=predictions.max())\n",
    "plt.show()"
   ]
  },
  {
   "cell_type": "code",
   "execution_count": 67,
   "metadata": {},
   "outputs": [
    {
     "name": "stdout",
     "output_type": "stream",
     "text": [
      "Training Score: 1.0\n",
      "Testing Score: 0.6153846153846154\n"
     ]
    }
   ],
   "source": [
    "from sklearn.ensemble import RandomForestClassifier\n",
    "clf = RandomForestClassifier(random_state=1, n_estimators=50).fit(X_train, y_train)\n",
    "print(f'Training Score: {clf.score(X_train, y_train)}')\n",
    "print(f'Testing Score: {clf.score(X_test, y_test)}')"
   ]
  },
  {
   "cell_type": "code",
   "execution_count": 71,
   "metadata": {},
   "outputs": [],
   "source": [
    "%matplotlib inline\n",
    "from matplotlib import pyplot as plt\n",
    "from sklearn.datasets import make_classification\n",
    "from sklearn.metrics import confusion_matrix, classification_report\n",
    "import numpy as np\n",
    "import pandas as pd\n",
    "from sklearn.tree import DecisionTreeClassifier\n",
    "from sklearn.model_selection import train_test_split\n",
    "from sklearn.preprocessing import StandardScaler\n",
    "from sklearn.metrics import accuracy_score\n",
    "from sklearn.utils.random import sample_without_replacement\n",
    "from sklearn.utils import resample"
   ]
  },
  {
   "cell_type": "code",
   "execution_count": 73,
   "metadata": {},
   "outputs": [
    {
     "data": {
      "image/png": "[encoded data removed]",
      "text/plain": [
       "<Figure size 432x288 with 1 Axes>"
      ]
     },
     "metadata": {
      "needs_background": "light"
     },
     "output_type": "display_data"
    },
    {
     "name": "stdout",
     "output_type": "stream",
     "text": [
      "score: 0.6923076923076923\n"
     ]
    }
   ],
   "source": [
    "clfs = []\n",
    "scores = []\n",
    "for i in range(50):\n",
    "    \n",
    "    # Sample the data for each new tree\n",
    "    X_train_bootstrap, y_train_bootstrap = resample(X_train, y_train, random_state=i)\n",
    "    \n",
    "    # Create a decision tree and append it to our list of classifiers\n",
    "    clf = DecisionTreeClassifier(random_state=i+200).fit(X_train_bootstrap, y_train_bootstrap)\n",
    "    clfs.append(clf)\n",
    "    \n",
    "    # Take the median score of all the created classifiers\n",
    "    y_preds = [clf.predict(X_test) for clf in clfs]\n",
    "    y_pred = pd.DataFrame(y_preds).median().round()\n",
    "    score = score = accuracy_score(y_test, y_pred)\n",
    "    scores.append(score)\n",
    "\n",
    "plt.plot(scores)\n",
    "plt.show()\n",
    "print(f'score: {score}')"
   ]
  },
  {
   "cell_type": "code",
   "execution_count": null,
   "metadata": {},
   "outputs": [],
   "source": []
  }
 ],
 "metadata": {
  "kernelspec": {
   "display_name": "PythonData",
   "language": "python",
   "name": "pythondata"
  },
  "language_info": {
   "codemirror_mode": {
    "name": "ipython",
    "version": 3
   },
   "file_extension": ".py",
   "mimetype": "text/x-python",
   "name": "python",
   "nbconvert_exporter": "python",
   "pygments_lexer": "ipython3",
   "version": "3.7.9"
  }
 },
 "nbformat": 4,
 "nbformat_minor": 4
}
