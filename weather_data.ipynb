{
 "cells": [
  {
   "cell_type": "code",
   "execution_count": 41,
   "metadata": {},
   "outputs": [],
   "source": [
    "import pandas as pd\n",
    "import matplotlib.pyplot as plt\n",
    "import numpy as np\n",
    "import requests\n",
    "\n",
    "from config import weather_api_key"
   ]
  },
  {
   "cell_type": "code",
   "execution_count": 2,
   "metadata": {},
   "outputs": [
    {
     "data": {
      "text/html": [
       "<div>\n",
       "<style scoped>\n",
       "    .dataframe tbody tr th:only-of-type {\n",
       "        vertical-align: middle;\n",
       "    }\n",
       "\n",
       "    .dataframe tbody tr th {\n",
       "        vertical-align: top;\n",
       "    }\n",
       "\n",
       "    .dataframe thead th {\n",
       "        text-align: right;\n",
       "    }\n",
       "</style>\n",
       "<table border=\"1\" class=\"dataframe\">\n",
       "  <thead>\n",
       "    <tr style=\"text-align: right;\">\n",
       "      <th></th>\n",
       "      <th>Unnamed: 0</th>\n",
       "      <th>latitude</th>\n",
       "      <th>longitude</th>\n",
       "      <th>input_string</th>\n",
       "      <th>number_of_results</th>\n",
       "      <th>status</th>\n",
       "    </tr>\n",
       "  </thead>\n",
       "  <tbody>\n",
       "    <tr>\n",
       "      <th>0</th>\n",
       "      <td>0</td>\n",
       "      <td>37.622150</td>\n",
       "      <td>15.074750</td>\n",
       "      <td>Nicosia winery Italy</td>\n",
       "      <td>1</td>\n",
       "      <td>OK</td>\n",
       "    </tr>\n",
       "    <tr>\n",
       "      <th>1</th>\n",
       "      <td>1</td>\n",
       "      <td>41.183402</td>\n",
       "      <td>-7.757935</td>\n",
       "      <td>Quinta dos Avidagos winery Portugal</td>\n",
       "      <td>1</td>\n",
       "      <td>OK</td>\n",
       "    </tr>\n",
       "    <tr>\n",
       "      <th>2</th>\n",
       "      <td>2</td>\n",
       "      <td>NaN</td>\n",
       "      <td>NaN</td>\n",
       "      <td>Rainstorm winery US</td>\n",
       "      <td>0</td>\n",
       "      <td>ZERO_RESULTS</td>\n",
       "    </tr>\n",
       "    <tr>\n",
       "      <th>3</th>\n",
       "      <td>3</td>\n",
       "      <td>42.212251</td>\n",
       "      <td>-85.891713</td>\n",
       "      <td>St. Julian winery US</td>\n",
       "      <td>1</td>\n",
       "      <td>OK</td>\n",
       "    </tr>\n",
       "    <tr>\n",
       "      <th>4</th>\n",
       "      <td>4</td>\n",
       "      <td>43.956670</td>\n",
       "      <td>-123.279135</td>\n",
       "      <td>Sweet Cheeks winery US</td>\n",
       "      <td>1</td>\n",
       "      <td>OK</td>\n",
       "    </tr>\n",
       "  </tbody>\n",
       "</table>\n",
       "</div>"
      ],
      "text/plain": [
       "   Unnamed: 0   latitude   longitude                         input_string  \\\n",
       "0           0  37.622150   15.074750                 Nicosia winery Italy   \n",
       "1           1  41.183402   -7.757935  Quinta dos Avidagos winery Portugal   \n",
       "2           2        NaN         NaN                  Rainstorm winery US   \n",
       "3           3  42.212251  -85.891713                 St. Julian winery US   \n",
       "4           4  43.956670 -123.279135               Sweet Cheeks winery US   \n",
       "\n",
       "   number_of_results        status  \n",
       "0                  1            OK  \n",
       "1                  1            OK  \n",
       "2                  0  ZERO_RESULTS  \n",
       "3                  1            OK  \n",
       "4                  1            OK  "
      ]
     },
     "execution_count": 2,
     "metadata": {},
     "output_type": "execute_result"
    }
   ],
   "source": [
    "latlong_df = pd.read_csv(\"wine_reviews_latlong.csv\")\n",
    "latlong_df.head()"
   ]
  },
  {
   "cell_type": "code",
   "execution_count": 13,
   "metadata": {},
   "outputs": [],
   "source": [
    "latlong_df.dropna(inplace=True)"
   ]
  },
  {
   "cell_type": "code",
   "execution_count": 36,
   "metadata": {},
   "outputs": [],
   "source": [
    "# Create lists of latitudes and longitudes\n",
    "lats = list(latlong_df['latitude'])\n",
    "lngs = list(latlong_df['longitude'])\n",
    "\n",
    "wineries = list(latlong_df['input_string'])"
   ]
  },
  {
   "cell_type": "code",
   "execution_count": 44,
   "metadata": {},
   "outputs": [],
   "source": [
    "# Starting URL for Weather Map API Call.\n",
    "url = \"http://history.openweathermap.org/data/2.5/aggregated/month?month=10&units=imperial&appid=\" + weather_api_key\n",
    "\n",
    "test_url = winery_url = url + \"&lat=\" + str(lats[0]) + \"&lon=\" + str(lngs[0])"
   ]
  },
  {
   "cell_type": "code",
   "execution_count": 47,
   "metadata": {},
   "outputs": [
    {
     "data": {
      "text/plain": [
       "282.56"
      ]
     },
     "execution_count": 47,
     "metadata": {},
     "output_type": "execute_result"
    }
   ],
   "source": [
    "winery_weather = requests.get(winery_url).json()\n",
    "winery_weather\n",
    "avg_min = winery_weather[\"result\"][\"temp\"][\"average_min\"]\n",
    "avg_min"
   ]
  },
  {
   "cell_type": "code",
   "execution_count": 43,
   "metadata": {},
   "outputs": [
    {
     "name": "stdout",
     "output_type": "stream",
     "text": [
      "Beginning Data Retrieval     \n",
      "-----------------------------\n",
      "Processing Record 1 of Set 1 | Nicosia winery Italy\n",
      "Weather not found. Skipping...\n",
      "-----------------------------\n",
      "Data Retrieval Complete      \n",
      "-----------------------------\n",
      "Processing Record 2 of Set 1 | Quinta dos Avidagos winery Portugal\n",
      "Weather not found. Skipping...\n",
      "-----------------------------\n",
      "Data Retrieval Complete      \n",
      "-----------------------------\n",
      "Processing Record 3 of Set 1 | St. Julian winery US\n",
      "Weather not found. Skipping...\n",
      "-----------------------------\n",
      "Data Retrieval Complete      \n",
      "-----------------------------\n",
      "Processing Record 4 of Set 1 | Sweet Cheeks winery US\n",
      "Weather not found. Skipping...\n",
      "-----------------------------\n",
      "Data Retrieval Complete      \n",
      "-----------------------------\n",
      "Processing Record 5 of Set 1 | Tandem winery Spain\n",
      "Weather not found. Skipping...\n",
      "-----------------------------\n",
      "Data Retrieval Complete      \n",
      "-----------------------------\n",
      "Processing Record 6 of Set 1 | Terre di Giurfo winery Italy\n",
      "Weather not found. Skipping...\n",
      "-----------------------------\n",
      "Data Retrieval Complete      \n",
      "-----------------------------\n",
      "Processing Record 7 of Set 1 | Trimbach winery France\n",
      "Weather not found. Skipping...\n",
      "-----------------------------\n",
      "Data Retrieval Complete      \n",
      "-----------------------------\n",
      "Processing Record 8 of Set 1 | Heinz Eifel winery Germany\n",
      "Weather not found. Skipping...\n",
      "-----------------------------\n",
      "Data Retrieval Complete      \n",
      "-----------------------------\n",
      "Processing Record 9 of Set 1 | Jean-Baptiste Adam winery France\n",
      "Weather not found. Skipping...\n",
      "-----------------------------\n",
      "Data Retrieval Complete      \n",
      "-----------------------------\n"
     ]
    }
   ],
   "source": [
    "# Create an empty list to hold the weather data.\n",
    "winery_weather_data = []\n",
    "# Print the beginning of the logging.\n",
    "print(\"Beginning Data Retrieval     \")\n",
    "print(\"-----------------------------\")\n",
    "\n",
    "# Create counters.\n",
    "record_count = 1\n",
    "set_count = 1\n",
    "winery_count = 0\n",
    "\n",
    "# Loop through all the wineries in the list.\n",
    "for i, winery in enumerate(wineries):\n",
    "\n",
    "    # Group wineries in sets of 50 for logging purposes.\n",
    "    if (i % 50 == 0 and i >= 50):\n",
    "        set_count += 1\n",
    "        record_count = 1\n",
    "    # Create endpoint URL with each winery.\n",
    "    winery_url = url + \"&lat=\" + str(lats[winery_count]) + \"&lon=\" + str(lngs[winery_count])\n",
    "\n",
    "    # Log the URL, record, and set numbers and the city.\n",
    "    print(f\"Processing Record {record_count} of Set {set_count} | {winery}\")\n",
    "    # Add 1 to the record count and winery count.\n",
    "    record_count += 1\n",
    "    winery_count += 1\n",
    "    \n",
    "    # Run an API request for each of the wineries.\n",
    "    try:\n",
    "        # Parse the JSON and retrieve data.\n",
    "        winery_weather = requests.get(winery_url).json()\n",
    "        # Parse out the needed data.\n",
    "        avg_min = winery_weather[\"result\"][\"temp\"][\"average_min\"]\n",
    "        avg_max = winery_weather[\"result\"][\"temp\"][\"average_max\"]\n",
    "        mean_humidity = winery_weather[\"result\"][\"humidity\"][\"mean\"]\n",
    "   \n",
    "        # Append the winery information into city_data list.\n",
    "        winery_data.append({\"Winery\": wineries[winery_count],\n",
    "                          \"Avg Min Temp\": avg_min,\n",
    "                          \"Avg Max Temp\": avg_max,\n",
    "                          \"Mean Humidity\": \"mean_humidity\"})\n",
    "\n",
    "    # If an error is experienced, skip the winery.\n",
    "    except:\n",
    "        print(\"Weather not found. Skipping...\")\n",
    "        pass\n",
    "    \n",
    "    # Indicate that Data Loading is complete.\n",
    "    print(\"-----------------------------\")\n",
    "    print(\"Data Retrieval Complete      \")\n",
    "    print(\"-----------------------------\")"
   ]
  },
  {
   "cell_type": "code",
   "execution_count": null,
   "metadata": {},
   "outputs": [],
   "source": []
  }
 ],
 "metadata": {
  "kernelspec": {
   "display_name": "PythonData",
   "language": "python",
   "name": "pythondata"
  },
  "language_info": {
   "codemirror_mode": {
    "name": "ipython",
    "version": 3
   },
   "file_extension": ".py",
   "mimetype": "text/x-python",
   "name": "python",
   "nbconvert_exporter": "python",
   "pygments_lexer": "ipython3",
   "version": "3.7.9"
  },
  "metadata": {
   "interpreter": {
    "hash": "8ca112590d5279a21d25a01e459e2f947e915014892776e0cab24266007210ef"
   }
  }
 },
 "nbformat": 4,
 "nbformat_minor": 2
}
