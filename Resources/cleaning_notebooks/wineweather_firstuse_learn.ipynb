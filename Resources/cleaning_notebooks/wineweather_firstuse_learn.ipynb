{
  "nbformat": 4,
  "nbformat_minor": 0,
  "metadata": {
    "colab": {
      "name": "wineweather_firstuse_learn.ipynb",
      "provenance": [],
      "collapsed_sections": []
    },
    "kernelspec": {
      "name": "python3",
      "display_name": "Python 3"
    },
    "language_info": {
      "name": "python"
    }
  },
  "cells": [
    {
      "cell_type": "code",
      "metadata": {
        "colab": {
          "base_uri": "https://localhost:8080/"
        },
        "id": "g1EZ04H39K0x",
        "outputId": "477165f7-de9f-4812-e568-dad178495686"
      },
      "source": [
        "# Initial imports.\n",
        "import pandas as pd\n",
        "import numpy as np\n",
        "from numpy import random\n",
        "import os\n",
        "from sklearn.ensemble import RandomForestClassifier\n",
        "from sklearn.preprocessing import StandardScaler\n",
        "from sklearn.model_selection import train_test_split\n",
        "from sklearn.metrics import confusion_matrix, accuracy_score, classification_report\n",
        "\n",
        "# Import RDS password\n",
        "from config import rds_pwd\n",
        "\n",
        "import os\n",
        "# Find the latest version of spark 2.0  from http://www-us.apache.org/dist/spark/ and enter as the spark version\n",
        "spark_version = 'spark-3.0.2'\n",
        "os.environ['SPARK_VERSION']=spark_version\n",
        "\n",
        "# Install Spark and Java\n",
        "!apt-get update\n",
        "!apt-get install openjdk-11-jdk-headless -qq > /dev/null\n",
        "!wget -q http://www-us.apache.org/dist/spark/$SPARK_VERSION/$SPARK_VERSION-bin-hadoop2.7.tgz\n",
        "!tar xf $SPARK_VERSION-bin-hadoop2.7.tgz\n",
        "!pip install -q findspark\n",
        "\n",
        "# Set Environment Variables\n",
        "import os\n",
        "os.environ[\"JAVA_HOME\"] = \"/usr/lib/jvm/java-11-openjdk-amd64\"\n",
        "os.environ[\"SPARK_HOME\"] = f\"/content/{spark_version}-bin-hadoop2.7\"\n",
        "\n",
        "# Start a SparkSession\n",
        "import findspark\n",
        "findspark.init()\n",
        "\n",
        "spark_version = 'spark-3.0.2'\n",
        "os.environ['SPARK_VERSION']=spark_version\n",
        "\n",
        "# Install Spark and Java\n",
        "!apt-get update\n",
        "!apt-get install openjdk-11-jdk-headless -qq > /dev/null\n",
        "!wget -q http://www-us.apache.org/dist/spark/$SPARK_VERSION/$SPARK_VERSION-bin-hadoop2.7.tgz\n",
        "!tar xf $SPARK_VERSION-bin-hadoop2.7.tgz\n",
        "!pip install -q findspark\n",
        "\n",
        "# Set Environment Variables\n",
        "import os\n",
        "os.environ[\"JAVA_HOME\"] = \"/usr/lib/jvm/java-11-openjdk-amd64\"\n",
        "os.environ[\"SPARK_HOME\"] = f\"/content/{spark_version}-bin-hadoop2.7\"\n",
        "\n",
        "# Start a SparkSession\n",
        "import findspark\n",
        "findspark.init()"
      ],
      "execution_count": null,
      "outputs": [
        {
          "output_type": "stream",
          "text": [
            "\r0% [Working]\r            \rGet:1 http://security.ubuntu.com/ubuntu bionic-security InRelease [88.7 kB]\n",
            "\r0% [Connecting to archive.ubuntu.com (91.189.88.152)] [1 InRelease 14.2 kB/88.7\r                                                                               \rHit:2 https://cloud.r-project.org/bin/linux/ubuntu bionic-cran40/ InRelease\n",
            "\r0% [Connecting to archive.ubuntu.com (91.189.88.152)] [1 InRelease 37.3 kB/88.7\r0% [2 InRelease gpgv 3,626 B] [Connecting to archive.ubuntu.com (91.189.88.152)\r                                                                               \rIgn:3 https://developer.download.nvidia.com/compute/cuda/repos/ubuntu1804/x86_64  InRelease\n",
            "\r0% [2 InRelease gpgv 3,626 B] [Connecting to archive.ubuntu.com (91.189.88.152)\r0% [2 InRelease gpgv 3,626 B] [Waiting for headers] [Waiting for headers] [Wait\r                                                                               \rIgn:4 https://developer.download.nvidia.com/compute/machine-learning/repos/ubuntu1804/x86_64  InRelease\n",
            "\r                                                                               \r0% [2 InRelease gpgv 3,626 B] [Waiting for headers] [Waiting for headers]\r                                                                         \rHit:5 https://developer.download.nvidia.com/compute/cuda/repos/ubuntu1804/x86_64  Release\n",
            "\r0% [2 InRelease gpgv 3,626 B] [Waiting for headers] [Waiting for headers]\r                                                                         \rHit:6 https://developer.download.nvidia.com/compute/machine-learning/repos/ubuntu1804/x86_64  Release\n",
            "Hit:7 http://ppa.launchpad.net/c2d4u.team/c2d4u4.0+/ubuntu bionic InRelease\n",
            "Hit:8 http://archive.ubuntu.com/ubuntu bionic InRelease\n",
            "Get:9 http://archive.ubuntu.com/ubuntu bionic-updates InRelease [88.7 kB]\n",
            "Hit:10 http://ppa.launchpad.net/cran/libgit2/ubuntu bionic InRelease\n",
            "Hit:11 http://ppa.launchpad.net/deadsnakes/ppa/ubuntu bionic InRelease\n",
            "Get:12 http://archive.ubuntu.com/ubuntu bionic-backports InRelease [74.6 kB]\n",
            "Hit:14 http://ppa.launchpad.net/graphics-drivers/ppa/ubuntu bionic InRelease\n",
            "Fetched 252 kB in 2s (112 kB/s)\n",
            "Reading package lists... Done\n",
            "Hit:1 https://cloud.r-project.org/bin/linux/ubuntu bionic-cran40/ InRelease\n",
            "Ign:2 https://developer.download.nvidia.com/compute/cuda/repos/ubuntu1804/x86_64  InRelease\n",
            "Get:3 http://security.ubuntu.com/ubuntu bionic-security InRelease [88.7 kB]\n",
            "Ign:4 https://developer.download.nvidia.com/compute/machine-learning/repos/ubuntu1804/x86_64  InRelease\n",
            "Hit:5 https://developer.download.nvidia.com/compute/cuda/repos/ubuntu1804/x86_64  Release\n",
            "Hit:6 https://developer.download.nvidia.com/compute/machine-learning/repos/ubuntu1804/x86_64  Release\n",
            "Hit:7 http://ppa.launchpad.net/c2d4u.team/c2d4u4.0+/ubuntu bionic InRelease\n",
            "Hit:8 http://archive.ubuntu.com/ubuntu bionic InRelease\n",
            "Get:9 http://archive.ubuntu.com/ubuntu bionic-updates InRelease [88.7 kB]\n",
            "Hit:10 http://ppa.launchpad.net/cran/libgit2/ubuntu bionic InRelease\n",
            "Hit:12 http://ppa.launchpad.net/deadsnakes/ppa/ubuntu bionic InRelease\n",
            "Get:14 http://archive.ubuntu.com/ubuntu bionic-backports InRelease [74.6 kB]\n",
            "Hit:15 http://ppa.launchpad.net/graphics-drivers/ppa/ubuntu bionic InRelease\n",
            "Fetched 252 kB in 2s (117 kB/s)\n",
            "Reading package lists... Done\n"
          ],
          "name": "stdout"
        }
      ]
    },
    {
      "cell_type": "code",
      "metadata": {
        "colab": {
          "base_uri": "https://localhost:8080/"
        },
        "id": "CPiGPttMJvYO",
        "outputId": "b8713886-9d9e-4bab-8fbe-88666e6bfb48"
      },
      "source": [
        "# Download the Postgres driver that will allow Spark to interact with Postgres.\n",
        "!wget https://jdbc.postgresql.org/download/postgresql-42.2.16.jar"
      ],
      "execution_count": null,
      "outputs": [
        {
          "output_type": "stream",
          "text": [
            "--2021-05-13 03:35:29--  https://jdbc.postgresql.org/download/postgresql-42.2.16.jar\n",
            "Resolving jdbc.postgresql.org (jdbc.postgresql.org)... 72.32.157.228, 2001:4800:3e1:1::228\n",
            "Connecting to jdbc.postgresql.org (jdbc.postgresql.org)|72.32.157.228|:443... connected.\n",
            "HTTP request sent, awaiting response... 200 OK\n",
            "Length: 1002883 (979K) [application/java-archive]\n",
            "Saving to: ‘postgresql-42.2.16.jar.5’\n",
            "\n",
            "postgresql-42.2.16. 100%[===================>] 979.38K  --.-KB/s    in 0.08s   \n",
            "\n",
            "2021-05-13 03:35:30 (11.6 MB/s) - ‘postgresql-42.2.16.jar.5’ saved [1002883/1002883]\n",
            "\n"
          ],
          "name": "stdout"
        }
      ]
    },
    {
      "cell_type": "code",
      "metadata": {
        "id": "RM36-lu38F8q"
      },
      "source": [
        "from pyspark.sql import SparkSession\n",
        "spark = SparkSession.builder.appName(\"Wine-Project\").config(\"spark.driver.extraClassPath\",\"/content/postgresql-42.2.16.jar\").getOrCreate()"
      ],
      "execution_count": null,
      "outputs": []
    },
    {
      "cell_type": "code",
      "metadata": {
        "id": "ev4fvY58-xwS"
      },
      "source": [
        "# Configure settings for RDS\n",
        "mode = \"append\"\n",
        "#jdbc_url=\"jdbc:postgresql://<connection string>:5432/<database-name>\"\n",
        "jdbc_url=\"jdbc:postgresql://wine-final-project.czqkltznl3rl.us-east-2.rds.amazonaws.com/winedb\"\n",
        "#config = {\"user\":\"postgres\",\n",
        "          #\"password\": \"<password>\",\n",
        "          #\"driver\":\"org.postgresql.Driver\"}\n",
        "config = {\"user\":\"wineuser\",\n",
        "          \"password\": rds_pwd,\n",
        "          \"driver\":\"org.postgresql.Driver\"}"
      ],
      "execution_count": null,
      "outputs": []
    },
    {
      "cell_type": "code",
      "metadata": {
        "id": "ag7P8QDBHvqt",
        "colab": {
          "base_uri": "https://localhost:8080/"
        },
        "outputId": "2ea6daa9-22bc-4cee-d967-c2cf66869d29"
      },
      "source": [
        "select_sql = \"(SELECT points, variety, avg_temp, avg_airp, avg_humid, avg_precip FROM machine\"\n",
        "wine_df = spark.read.jdbc(url=jdbc_url, table='weather_mapscaled', properties=config)\n",
        "#county_df = spark.read.jdbc(url=jdbc_url, table='counties', properties=config)\n",
        "wine_df.show()"
      ],
      "execution_count": null,
      "outputs": [
        {
          "output_type": "stream",
          "text": [
            "+--------------------+---+----+--------------------+--------------------+--------------------+--------------------+------------+------+------------------+--------------------+\n",
            "|  winery_search_term|lat| lng|            avg_temp|            avg_airp|           avg_humid|          avg_precip|     country|points|           variety|              winery|\n",
            "+--------------------+---+----+--------------------+--------------------+--------------------+--------------------+------------+------+------------------+--------------------+\n",
            "|   LaZarre winery US| 36|-121|279.6850000000000...|1018.230000000000...|73.42000000000000...|0.025000000000000000|          US|    88|        Chardonnay|             LaZarre|\n",
            "|Negretti winery I...| 45|   8|275.6025000000000...|1016.337500000000...|79.04000000000000...|0.070000000000000000|       Italy|    88|        Chardonnay|            Negretti|\n",
            "|Pico Maccario win...| 45|   8|280.6950000000000...|1017.880000000000...|70.50250000000000...|0.147500000000000000|       Italy|    85|        Chardonnay|       Pico Maccario|\n",
            "|Farnese winery Italy| 43|  12|278.1475000000000...|1014.445000000000...|81.86750000000000...|0.182500000000000000|       Italy|    85|        Chardonnay|             Farnese|\n",
            "|Farnese winery Italy| 43|  12|278.1475000000000...|1014.445000000000...|81.86750000000000...|0.182500000000000000|       Italy|    86|        Chardonnay|             Farnese|\n",
            "|Farnese winery Italy| 43|  12|278.1475000000000...|1014.445000000000...|81.86750000000000...|0.182500000000000000|       Italy|    85|        Chardonnay|             Farnese|\n",
            "|Farnese winery Italy| 43|  12|278.1475000000000...|1014.445000000000...|81.86750000000000...|0.182500000000000000|       Italy|    88|        Chardonnay|             Farnese|\n",
            "|Castellargo winer...| 46|  13|277.6100000000000...|1016.707500000000...|79.63250000000000...|0.147500000000000000|       Italy|    85|        Chardonnay|         Castellargo|\n",
            "|Di Lenardo winery...| 46|  13|277.6100000000000...|1016.707500000000...|79.63250000000000...|0.147500000000000000|       Italy|    85|   Sauvignon Blanc|          Di Lenardo|\n",
            "|Di Lenardo winery...| 46|  13|277.6100000000000...|1016.707500000000...|79.63250000000000...|0.147500000000000000|       Italy|    86|        Chardonnay|          Di Lenardo|\n",
            "|Di Lenardo winery...| 46|  13|277.6100000000000...|1016.707500000000...|79.63250000000000...|0.147500000000000000|       Italy|    85|        Chardonnay|          Di Lenardo|\n",
            "|Di Lenardo winery...| 46|  13|277.6100000000000...|1016.707500000000...|79.63250000000000...|0.147500000000000000|       Italy|    87|        Chardonnay|          Di Lenardo|\n",
            "|A.A. Badenhorst F...|-34|  19|293.1100000000000...|1003.365000000000...|66.92750000000000...|0.255000000000000000|South Africa|    85|              Rosé|A.A. Badenhorst F...|\n",
            "|Post House winery...| 36| -87|277.1825000000000...|1020.142500000000...|77.92500000000000...|0.187500000000000000|South Africa|    85|Cabernet Sauvignon|          Post House|\n",
            "|Post House winery...| 36| -87|277.1825000000000...|1020.142500000000...|77.92500000000000...|0.187500000000000000|South Africa|    85|Cabernet Sauvignon|          Post House|\n",
            "|Post House winery...| 36| -87|277.1825000000000...|1020.142500000000...|77.92500000000000...|0.187500000000000000|South Africa|    88|            Merlot|          Post House|\n",
            "|Post House winery...| 36| -87|277.1825000000000...|1020.142500000000...|77.92500000000000...|0.187500000000000000|South Africa|    88|            Merlot|          Post House|\n",
            "|Ladoucette winery...| 47|   3|278.4050000000000...|1019.597500000000...|90.47500000000000...|0.062500000000000000|      France|    86|   Sauvignon Blanc|          Ladoucette|\n",
            "|   Paschal winery US| 42|-123|276.0250000000000...|1019.887500000000...|85.45250000000000...|0.057500000000000000|          US|    86|        Pinot Noir|             Paschal|\n",
            "|   Paschal winery US| 42|-123|276.0250000000000...|1019.887500000000...|85.45250000000000...|0.057500000000000000|          US|    88|        Chardonnay|             Paschal|\n",
            "+--------------------+---+----+--------------------+--------------------+--------------------+--------------------+------------+------+------------------+--------------------+\n",
            "only showing top 20 rows\n",
            "\n"
          ],
          "name": "stdout"
        }
      ]
    },
    {
      "cell_type": "code",
      "metadata": {
        "colab": {
          "base_uri": "https://localhost:8080/"
        },
        "id": "R7aJMuipQvqo",
        "outputId": "a925f7c9-6ddd-4619-af98-aeb1af300614"
      },
      "source": [
        "allwines = wine_df.select('variety','lat','lng','avg_temp','avg_airp','avg_humid','avg_precip', (wine_df.points >= 90).alias('success'))\n",
        "allwines.show()"
      ],
      "execution_count": null,
      "outputs": [
        {
          "output_type": "stream",
          "text": [
            "+------------------+---+----+--------------------+--------------------+--------------------+--------------------+-------+\n",
            "|           variety|lat| lng|            avg_temp|            avg_airp|           avg_humid|          avg_precip|success|\n",
            "+------------------+---+----+--------------------+--------------------+--------------------+--------------------+-------+\n",
            "|        Chardonnay| 36|-121|279.6850000000000...|1018.230000000000...|73.42000000000000...|0.025000000000000000|  false|\n",
            "|        Chardonnay| 45|   8|275.6025000000000...|1016.337500000000...|79.04000000000000...|0.070000000000000000|  false|\n",
            "|        Chardonnay| 45|   8|280.6950000000000...|1017.880000000000...|70.50250000000000...|0.147500000000000000|  false|\n",
            "|        Chardonnay| 43|  12|278.1475000000000...|1014.445000000000...|81.86750000000000...|0.182500000000000000|  false|\n",
            "|        Chardonnay| 43|  12|278.1475000000000...|1014.445000000000...|81.86750000000000...|0.182500000000000000|  false|\n",
            "|        Chardonnay| 43|  12|278.1475000000000...|1014.445000000000...|81.86750000000000...|0.182500000000000000|  false|\n",
            "|        Chardonnay| 43|  12|278.1475000000000...|1014.445000000000...|81.86750000000000...|0.182500000000000000|  false|\n",
            "|        Chardonnay| 46|  13|277.6100000000000...|1016.707500000000...|79.63250000000000...|0.147500000000000000|  false|\n",
            "|   Sauvignon Blanc| 46|  13|277.6100000000000...|1016.707500000000...|79.63250000000000...|0.147500000000000000|  false|\n",
            "|        Chardonnay| 46|  13|277.6100000000000...|1016.707500000000...|79.63250000000000...|0.147500000000000000|  false|\n",
            "|        Chardonnay| 46|  13|277.6100000000000...|1016.707500000000...|79.63250000000000...|0.147500000000000000|  false|\n",
            "|        Chardonnay| 46|  13|277.6100000000000...|1016.707500000000...|79.63250000000000...|0.147500000000000000|  false|\n",
            "|              Rosé|-34|  19|293.1100000000000...|1003.365000000000...|66.92750000000000...|0.255000000000000000|  false|\n",
            "|Cabernet Sauvignon| 36| -87|277.1825000000000...|1020.142500000000...|77.92500000000000...|0.187500000000000000|  false|\n",
            "|Cabernet Sauvignon| 36| -87|277.1825000000000...|1020.142500000000...|77.92500000000000...|0.187500000000000000|  false|\n",
            "|            Merlot| 36| -87|277.1825000000000...|1020.142500000000...|77.92500000000000...|0.187500000000000000|  false|\n",
            "|            Merlot| 36| -87|277.1825000000000...|1020.142500000000...|77.92500000000000...|0.187500000000000000|  false|\n",
            "|   Sauvignon Blanc| 47|   3|278.4050000000000...|1019.597500000000...|90.47500000000000...|0.062500000000000000|  false|\n",
            "|        Pinot Noir| 42|-123|276.0250000000000...|1019.887500000000...|85.45250000000000...|0.057500000000000000|  false|\n",
            "|        Chardonnay| 42|-123|276.0250000000000...|1019.887500000000...|85.45250000000000...|0.057500000000000000|  false|\n",
            "+------------------+---+----+--------------------+--------------------+--------------------+--------------------+-------+\n",
            "only showing top 20 rows\n",
            "\n"
          ],
          "name": "stdout"
        }
      ]
    },
    {
      "cell_type": "code",
      "metadata": {
        "colab": {
          "base_uri": "https://localhost:8080/",
          "height": 402
        },
        "id": "lIWBeHSPmqRC",
        "outputId": "d27f9149-de8b-48df-d17d-451e4b1818ff"
      },
      "source": [
        "mer_df = allwines.select('lat','lng','avg_temp','avg_airp','avg_humid','avg_precip','success').filter(allwines.variety == 'Merlot').collect()\n",
        "#mer_df = wine_df.select(variety='Merlot').collect()\n",
        "merlot = pd.DataFrame(mer_df, columns=['lat','lng','avg_temp','avg_airp','avg_humid','avg_precid','success'], dtype=float)\n",
        "merlot"
      ],
      "execution_count": null,
      "outputs": [
        {
          "output_type": "execute_result",
          "data": {
            "text/html": [
              "<div>\n",
              "<style scoped>\n",
              "    .dataframe tbody tr th:only-of-type {\n",
              "        vertical-align: middle;\n",
              "    }\n",
              "\n",
              "    .dataframe tbody tr th {\n",
              "        vertical-align: top;\n",
              "    }\n",
              "\n",
              "    .dataframe thead th {\n",
              "        text-align: right;\n",
              "    }\n",
              "</style>\n",
              "<table border=\"1\" class=\"dataframe\">\n",
              "  <thead>\n",
              "    <tr style=\"text-align: right;\">\n",
              "      <th></th>\n",
              "      <th>lat</th>\n",
              "      <th>lng</th>\n",
              "      <th>avg_temp</th>\n",
              "      <th>avg_airp</th>\n",
              "      <th>avg_humid</th>\n",
              "      <th>avg_precid</th>\n",
              "      <th>success</th>\n",
              "    </tr>\n",
              "  </thead>\n",
              "  <tbody>\n",
              "    <tr>\n",
              "      <th>0</th>\n",
              "      <td>36.0</td>\n",
              "      <td>-87.0</td>\n",
              "      <td>277.1825</td>\n",
              "      <td>1020.1425</td>\n",
              "      <td>77.9250</td>\n",
              "      <td>0.1875</td>\n",
              "      <td>0.0</td>\n",
              "    </tr>\n",
              "    <tr>\n",
              "      <th>1</th>\n",
              "      <td>36.0</td>\n",
              "      <td>-87.0</td>\n",
              "      <td>277.1825</td>\n",
              "      <td>1020.1425</td>\n",
              "      <td>77.9250</td>\n",
              "      <td>0.1875</td>\n",
              "      <td>0.0</td>\n",
              "    </tr>\n",
              "    <tr>\n",
              "      <th>2</th>\n",
              "      <td>42.0</td>\n",
              "      <td>-123.0</td>\n",
              "      <td>276.0250</td>\n",
              "      <td>1019.8875</td>\n",
              "      <td>85.4525</td>\n",
              "      <td>0.0575</td>\n",
              "      <td>0.0</td>\n",
              "    </tr>\n",
              "    <tr>\n",
              "      <th>3</th>\n",
              "      <td>44.0</td>\n",
              "      <td>-123.0</td>\n",
              "      <td>276.0250</td>\n",
              "      <td>1019.8875</td>\n",
              "      <td>85.4525</td>\n",
              "      <td>0.0575</td>\n",
              "      <td>0.0</td>\n",
              "    </tr>\n",
              "    <tr>\n",
              "      <th>4</th>\n",
              "      <td>36.0</td>\n",
              "      <td>-84.0</td>\n",
              "      <td>277.3750</td>\n",
              "      <td>1020.0125</td>\n",
              "      <td>79.1975</td>\n",
              "      <td>0.2350</td>\n",
              "      <td>0.0</td>\n",
              "    </tr>\n",
              "    <tr>\n",
              "      <th>...</th>\n",
              "      <td>...</td>\n",
              "      <td>...</td>\n",
              "      <td>...</td>\n",
              "      <td>...</td>\n",
              "      <td>...</td>\n",
              "      <td>...</td>\n",
              "      <td>...</td>\n",
              "    </tr>\n",
              "    <tr>\n",
              "      <th>2969</th>\n",
              "      <td>41.0</td>\n",
              "      <td>-72.0</td>\n",
              "      <td>272.7475</td>\n",
              "      <td>1016.8375</td>\n",
              "      <td>70.1425</td>\n",
              "      <td>0.1400</td>\n",
              "      <td>0.0</td>\n",
              "    </tr>\n",
              "    <tr>\n",
              "      <th>2970</th>\n",
              "      <td>41.0</td>\n",
              "      <td>-72.0</td>\n",
              "      <td>272.7475</td>\n",
              "      <td>1016.8375</td>\n",
              "      <td>70.1425</td>\n",
              "      <td>0.1400</td>\n",
              "      <td>0.0</td>\n",
              "    </tr>\n",
              "    <tr>\n",
              "      <th>2971</th>\n",
              "      <td>41.0</td>\n",
              "      <td>-72.0</td>\n",
              "      <td>272.7475</td>\n",
              "      <td>1016.8375</td>\n",
              "      <td>70.1425</td>\n",
              "      <td>0.1400</td>\n",
              "      <td>0.0</td>\n",
              "    </tr>\n",
              "    <tr>\n",
              "      <th>2972</th>\n",
              "      <td>35.0</td>\n",
              "      <td>-84.0</td>\n",
              "      <td>280.4425</td>\n",
              "      <td>1019.8050</td>\n",
              "      <td>73.0225</td>\n",
              "      <td>0.2600</td>\n",
              "      <td>0.0</td>\n",
              "    </tr>\n",
              "    <tr>\n",
              "      <th>2973</th>\n",
              "      <td>36.0</td>\n",
              "      <td>-121.0</td>\n",
              "      <td>279.6850</td>\n",
              "      <td>1018.2300</td>\n",
              "      <td>73.4200</td>\n",
              "      <td>0.0250</td>\n",
              "      <td>0.0</td>\n",
              "    </tr>\n",
              "  </tbody>\n",
              "</table>\n",
              "<p>2974 rows × 7 columns</p>\n",
              "</div>"
            ],
            "text/plain": [
              "       lat    lng  avg_temp   avg_airp  avg_humid  avg_precid  success\n",
              "0     36.0  -87.0  277.1825  1020.1425    77.9250      0.1875      0.0\n",
              "1     36.0  -87.0  277.1825  1020.1425    77.9250      0.1875      0.0\n",
              "2     42.0 -123.0  276.0250  1019.8875    85.4525      0.0575      0.0\n",
              "3     44.0 -123.0  276.0250  1019.8875    85.4525      0.0575      0.0\n",
              "4     36.0  -84.0  277.3750  1020.0125    79.1975      0.2350      0.0\n",
              "...    ...    ...       ...        ...        ...         ...      ...\n",
              "2969  41.0  -72.0  272.7475  1016.8375    70.1425      0.1400      0.0\n",
              "2970  41.0  -72.0  272.7475  1016.8375    70.1425      0.1400      0.0\n",
              "2971  41.0  -72.0  272.7475  1016.8375    70.1425      0.1400      0.0\n",
              "2972  35.0  -84.0  280.4425  1019.8050    73.0225      0.2600      0.0\n",
              "2973  36.0 -121.0  279.6850  1018.2300    73.4200      0.0250      0.0\n",
              "\n",
              "[2974 rows x 7 columns]"
            ]
          },
          "metadata": {
            "tags": []
          },
          "execution_count": 7
        }
      ]
    },
    {
      "cell_type": "code",
      "metadata": {
        "colab": {
          "base_uri": "https://localhost:8080/"
        },
        "id": "ZV6w_adeofmb",
        "outputId": "c0afc2e0-c2ee-4b6d-cda4-751c95d7af75"
      },
      "source": [
        "merlot.dtypes"
      ],
      "execution_count": null,
      "outputs": [
        {
          "output_type": "execute_result",
          "data": {
            "text/plain": [
              "lat           float64\n",
              "lng           float64\n",
              "avg_temp      float64\n",
              "avg_airp      float64\n",
              "avg_humid     float64\n",
              "avg_precid    float64\n",
              "success       float64\n",
              "dtype: object"
            ]
          },
          "metadata": {
            "tags": []
          },
          "execution_count": 8
        }
      ]
    },
    {
      "cell_type": "code",
      "metadata": {
        "id": "bcqluZNMh4ql"
      },
      "source": [
        "#allwine = pd.DataFrame(allwines)\n",
        "#allwine['success'] = (allwine['points'] >= 90).astype(int)"
      ],
      "execution_count": null,
      "outputs": []
    },
    {
      "cell_type": "code",
      "metadata": {
        "id": "_YqjMpT49Qek"
      },
      "source": [
        "#counties = '/content/uscounty_weather.csv'\n",
        "#wineweather = '/content/weather_mapscaled.csv'\n",
        "#county_df = pd.read_csv(counties, index_col=0)\n",
        "#wine_df = pd.read_csv(wineweather)"
      ],
      "execution_count": null,
      "outputs": []
    },
    {
      "cell_type": "code",
      "metadata": {
        "id": "p0EXvOTJUUIh"
      },
      "source": [
        "#county_df.columns"
      ],
      "execution_count": null,
      "outputs": []
    },
    {
      "cell_type": "code",
      "metadata": {
        "id": "Pk8AcwZdVtOm"
      },
      "source": [
        "#zipdrops = ['zip', 'city', 'state_id', 'state_name', 'county_name']"
      ],
      "execution_count": null,
      "outputs": []
    },
    {
      "cell_type": "code",
      "metadata": {
        "id": "whsYSp4o9Qhk"
      },
      "source": [
        "#zipdata = county_df.dropna()\n",
        "#zipdata.columns"
      ],
      "execution_count": null,
      "outputs": []
    },
    {
      "cell_type": "code",
      "metadata": {
        "id": "a5fm6jCC9QkZ"
      },
      "source": [
        "#wine_df['success'] = (wine_df['points'] >= 90).astype(int)\n",
        "#wine_df['success'].value_counts()"
      ],
      "execution_count": null,
      "outputs": []
    },
    {
      "cell_type": "code",
      "metadata": {
        "id": "47R3gl_HDaGj"
      },
      "source": [
        "#wine_df.columns"
      ],
      "execution_count": null,
      "outputs": []
    },
    {
      "cell_type": "code",
      "metadata": {
        "id": "zR-Lpgr29QnD"
      },
      "source": [
        "winedropcols = ['success']"
      ],
      "execution_count": null,
      "outputs": []
    },
    {
      "cell_type": "code",
      "metadata": {
        "id": "GWcLwXGdTVgs"
      },
      "source": [
        "#learndropcols = ['latitude', 'longitude', 'Average Temperature (Kelvin)','Average Air Pressure (hPa)', 'Average Humidity (%)','Average Daily Precipitation (mm)', 'success']"
      ],
      "execution_count": null,
      "outputs": []
    },
    {
      "cell_type": "code",
      "metadata": {
        "id": "6dPvg2agDwRx"
      },
      "source": [
        "#def splitwines(winedata, point_thresh, winetype):\n",
        "  \n",
        "  #winedata['success'] = (winedata['points'] >= point_thresh).astype(int)\n",
        "  #varieties = list(winedata['variety'].unique())\n",
        "  #vardfs = {}\n",
        "  #for variety in varieties:\n",
        "  #  vardfs[variety] = winedata[winedata['variety'] == variety].drop(columns=winedropcols)\n",
        "  #return vardfs[conv].columns\n"
      ],
      "execution_count": null,
      "outputs": []
    },
    {
      "cell_type": "code",
      "metadata": {
        "id": "wTtBUyB-Tdmf"
      },
      "source": [
        "#splitwines(wine_df, 90)"
      ],
      "execution_count": null,
      "outputs": []
    },
    {
      "cell_type": "code",
      "metadata": {
        "id": "xKalAde6ONKs"
      },
      "source": [
        "#def learnwine (varietydict, variety, zipdata):\n",
        " # usewine = varietydict[variety]\n",
        "  #y = usewine['success']\n",
        "#  X = usewine.drop(columns='success')\n",
        " # X_train, X_test, y_train, y_test = train_test_split(X,y)\n",
        "#  rf = RandomForestClassifier(n_estimators=200)\n",
        "#  rf.fit(X,y)\n",
        "#  testpreds = rf.predict(X_test)\n",
        "#  acc_score = accuracy_score(y_test, testpreds)\n",
        "#  counties = zipdata.drop(columns=dropcounties)\n",
        "#  preds = rf.predict(counties)\n",
        "#  return acc_score, preds"
      ],
      "execution_count": null,
      "outputs": []
    },
    {
      "cell_type": "code",
      "metadata": {
        "id": "Wwd_61szOlfn"
      },
      "source": [
        "#def biglearn (winedata, cutoff, winetype, zipdata):\n",
        "#  countypreds = zipdata.copy()\n",
        "#  targvar = str(winetype)\n",
        "#  predcounties = zipdata['zip']\n",
        "#  winedata['success'] = (winedata['points'] >= cutoff).astype(int)\n",
        "#  varieties = list(winedata['variety'].unique())\n",
        "#  vardfs = {}\n",
        "#  for variety in varieties:\n",
        "#    vardfs[variety] = winedata[winedata['variety'] == variety].drop(columns=winedropcols)\n",
        "#  usewine = vardfs[targvar]\n",
        " # y = usewine['success']\n",
        " # X = usewine.drop(columns='success')\n",
        "#  Xcounts = zipdata.drop(columns=['zip', 'city', 'state_id', 'state_name', 'county_name'])\n",
        "#  X_train, X_test, y_train, y_test = train_test_split(X,y)\n",
        "#  rf = RandomForestClassifier(n_estimators=200)\n",
        "#  rf.fit(X,y)\n",
        "#  testpreds = rf.predict(X_test)\n",
        "#  acc_score = accuracy_score(y_test, testpreds)\n",
        "#  cpreds = rf.predict(Xcounts)\n",
        "#  countypreds[targvar] = cpreds\n",
        "#    \n",
        "#  return print(acc_score, countypreds[targvar].value_counts())"
      ],
      "execution_count": null,
      "outputs": []
    },
    {
      "cell_type": "code",
      "metadata": {
        "id": "_nA-L0_MRXLI"
      },
      "source": [
        "#biglearn(wine_df, 89, 'Merlot', zipdata)"
      ],
      "execution_count": null,
      "outputs": []
    },
    {
      "cell_type": "code",
      "metadata": {
        "id": "qL20GILkXB99"
      },
      "source": [
        "#teststr('Merlot')"
      ],
      "execution_count": null,
      "outputs": []
    },
    {
      "cell_type": "code",
      "metadata": {
        "colab": {
          "base_uri": "https://localhost:8080/"
        },
        "id": "QNWusI7bFFlw",
        "outputId": "f155e2cc-0e2f-48bb-e383-7a15f3584a50"
      },
      "source": [
        "county_weath = spark.read.jdbc(url=jdbc_url, table='uscounty', properties=config)\n",
        "county_weath.show()"
      ],
      "execution_count": null,
      "outputs": [
        {
          "output_type": "stream",
          "text": [
            "+----+---+---+------------+--------+-------------+------------+--------------------+--------------------+--------------------+--------------------+\n",
            "| zip|lat|lng|        city|state_id|   state_name| county_name|            avg_temp|            avg_airp|           avg_humid|          avg_precip|\n",
            "+----+---+---+------------+--------+-------------+------------+--------------------+--------------------+--------------------+--------------------+\n",
            "|1001| 42|-73|      Agawam|      MA|Massachusetts|     Hampden|270.8050000000000...|1016.122500000000...|72.21500000000000...|0.125000000000000000|\n",
            "|1002| 42|-72|     Amherst|      MA|Massachusetts|   Hampshire|270.8050000000000...|1016.122500000000...|72.21500000000000...|0.125000000000000000|\n",
            "|1005| 42|-72|       Barre|      MA|Massachusetts|   Worcester|270.7250000000000...|1014.960000000000...|71.75250000000000...|0.135000000000000000|\n",
            "|1029| 42|-73|   East Otis|      MA|Massachusetts|   Berkshire|270.8050000000000...|1016.122500000000...|72.21500000000000...|0.125000000000000000|\n",
            "|1054| 42|-72|    Leverett|      MA|Massachusetts|    Franklin|270.8050000000000...|1016.122500000000...|72.21500000000000...|0.125000000000000000|\n",
            "|1431| 43|-72|       Ashby|      MA|Massachusetts|   Middlesex|270.6650000000000...|1016.715000000000...|69.78500000000000...|0.132500000000000000|\n",
            "|1810| 43|-71|     Andover|      MA|Massachusetts|       Essex|270.6650000000000...|1016.715000000000...|69.78500000000000...|0.132500000000000000|\n",
            "|2019| 42|-71|  Bellingham|      MA|Massachusetts|     Norfolk|272.1650000000000...|1016.140000000000...|71.24750000000000...|0.135000000000000000|\n",
            "|2043| 42|-71|     Hingham|      MA|Massachusetts|    Plymouth|271.7750000000000...|1016.035000000000...|69.25250000000000...|0.135000000000000000|\n",
            "|2048| 42|-71|   Mansfield|      MA|Massachusetts|     Bristol|272.1650000000000...|1016.140000000000...|71.24750000000000...|0.135000000000000000|\n",
            "|2108| 42|-71|      Boston|      MA|Massachusetts|     Suffolk|271.7475000000000...|1016.092500000000...|69.65500000000000...|0.135000000000000000|\n",
            "|2532| 42|-71|Buzzards Bay|      MA|Massachusetts|  Barnstable|272.1650000000000...|1016.140000000000...|71.24750000000000...|0.135000000000000000|\n",
            "|2535| 41|-71|    Chilmark|      MA|Massachusetts|       Dukes|272.1650000000000...|1016.140000000000...|71.24750000000000...|0.135000000000000000|\n",
            "|2554| 41|-70|   Nantucket|      MA|Massachusetts|   Nantucket|272.1650000000000...|1016.140000000000...|71.24750000000000...|0.135000000000000000|\n",
            "|2802| 42|-71|      Albion|      RI| Rhode Island|  Providence|272.1650000000000...|1016.140000000000...|71.24750000000000...|0.135000000000000000|\n",
            "|2804| 41|-72|     Ashaway|      RI| Rhode Island|  Washington|272.1650000000000...|1016.140000000000...|71.24750000000000...|0.135000000000000000|\n",
            "|2816| 42|-72|    Coventry|      RI| Rhode Island|        Kent|272.1650000000000...|1016.140000000000...|71.24750000000000...|0.135000000000000000|\n",
            "|2835| 42|-71|   Jamestown|      RI| Rhode Island|     Newport|272.1650000000000...|1016.140000000000...|71.24750000000000...|0.135000000000000000|\n",
            "|3031| 43|-72|     Amherst|      NH|New Hampshire|Hillsborough|269.7375000000000...|1015.325000000000...|69.26250000000000...|0.097500000000000000|\n",
            "|3032| 43|-71|      Auburn|      NH|New Hampshire|  Rockingham|269.7375000000000...|1015.325000000000...|69.26250000000000...|0.097500000000000000|\n",
            "+----+---+---+------------+--------+-------------+------------+--------------------+--------------------+--------------------+--------------------+\n",
            "only showing top 20 rows\n",
            "\n"
          ],
          "name": "stdout"
        }
      ]
    },
    {
      "cell_type": "code",
      "metadata": {
        "colab": {
          "base_uri": "https://localhost:8080/",
          "height": 106
        },
        "id": "nh_L9vY2sqgo",
        "outputId": "b1b90828-d722-47b9-c7f7-c44e4d39570e"
      },
      "source": [
        "county_df = county_weath.select('*').collect()\n",
        "county = pd.DataFrame(county_df, columns=['zip','lat','lng','city','state_id','state_name','county_name','avg_temp','avg_airp','avg_humid','avg_precip'])\n",
        "counties = county.dropna()\n",
        "counties.head(2)"
      ],
      "execution_count": null,
      "outputs": [
        {
          "output_type": "execute_result",
          "data": {
            "text/html": [
              "<div>\n",
              "<style scoped>\n",
              "    .dataframe tbody tr th:only-of-type {\n",
              "        vertical-align: middle;\n",
              "    }\n",
              "\n",
              "    .dataframe tbody tr th {\n",
              "        vertical-align: top;\n",
              "    }\n",
              "\n",
              "    .dataframe thead th {\n",
              "        text-align: right;\n",
              "    }\n",
              "</style>\n",
              "<table border=\"1\" class=\"dataframe\">\n",
              "  <thead>\n",
              "    <tr style=\"text-align: right;\">\n",
              "      <th></th>\n",
              "      <th>zip</th>\n",
              "      <th>lat</th>\n",
              "      <th>lng</th>\n",
              "      <th>city</th>\n",
              "      <th>state_id</th>\n",
              "      <th>state_name</th>\n",
              "      <th>county_name</th>\n",
              "      <th>avg_temp</th>\n",
              "      <th>avg_airp</th>\n",
              "      <th>avg_humid</th>\n",
              "      <th>avg_precip</th>\n",
              "    </tr>\n",
              "  </thead>\n",
              "  <tbody>\n",
              "    <tr>\n",
              "      <th>0</th>\n",
              "      <td>1001</td>\n",
              "      <td>42</td>\n",
              "      <td>-73</td>\n",
              "      <td>Agawam</td>\n",
              "      <td>MA</td>\n",
              "      <td>Massachusetts</td>\n",
              "      <td>Hampden</td>\n",
              "      <td>270.805000000000000000</td>\n",
              "      <td>1016.122500000000000000</td>\n",
              "      <td>72.215000000000000000</td>\n",
              "      <td>0.125000000000000000</td>\n",
              "    </tr>\n",
              "    <tr>\n",
              "      <th>1</th>\n",
              "      <td>1002</td>\n",
              "      <td>42</td>\n",
              "      <td>-72</td>\n",
              "      <td>Amherst</td>\n",
              "      <td>MA</td>\n",
              "      <td>Massachusetts</td>\n",
              "      <td>Hampshire</td>\n",
              "      <td>270.805000000000000000</td>\n",
              "      <td>1016.122500000000000000</td>\n",
              "      <td>72.215000000000000000</td>\n",
              "      <td>0.125000000000000000</td>\n",
              "    </tr>\n",
              "  </tbody>\n",
              "</table>\n",
              "</div>"
            ],
            "text/plain": [
              "    zip  lat  ...              avg_humid            avg_precip\n",
              "0  1001   42  ...  72.215000000000000000  0.125000000000000000\n",
              "1  1002   42  ...  72.215000000000000000  0.125000000000000000\n",
              "\n",
              "[2 rows x 11 columns]"
            ]
          },
          "metadata": {
            "tags": []
          },
          "execution_count": 25
        }
      ]
    },
    {
      "cell_type": "code",
      "metadata": {
        "colab": {
          "base_uri": "https://localhost:8080/"
        },
        "id": "_gTBo6rButQg",
        "outputId": "d62f1684-c3d5-4792-dc35-c1744a3ad89b"
      },
      "source": [
        "counties.dtypes"
      ],
      "execution_count": null,
      "outputs": [
        {
          "output_type": "execute_result",
          "data": {
            "text/plain": [
              "zip             int64\n",
              "lat             int64\n",
              "lng             int64\n",
              "city           object\n",
              "state_id       object\n",
              "state_name     object\n",
              "county_name    object\n",
              "avg_temp       object\n",
              "avg_airp       object\n",
              "avg_humid      object\n",
              "avg_precip     object\n",
              "dtype: object"
            ]
          },
          "metadata": {
            "tags": []
          },
          "execution_count": 26
        }
      ]
    },
    {
      "cell_type": "code",
      "metadata": {
        "id": "b4woMuSd9QsO"
      },
      "source": [
        "mer_df = pd.DataFrame(allwines.select('lat','lng','avg_temp','avg_airp','avg_humid','avg_precip','success').filter(allwines.variety == 'Merlot').collect(), columns=['lat','lng','avg_temp','avg_airp','avg_humid','avg_precid','success'], dtype=float)\n",
        "rose_df = pd.DataFrame(allwines.select('lat','lng','avg_temp','avg_airp','avg_humid','avg_precip','success').filter(allwines.variety == 'Rosé').collect(), columns=['lat','lng','avg_temp','avg_airp','avg_humid','avg_precid','success'], dtype=float)\n",
        "syr_df = pd.DataFrame(allwines.select('lat','lng','avg_temp','avg_airp','avg_humid','avg_precip','success').filter(allwines.variety == 'Syrah').collect(), columns=['lat','lng','avg_temp','avg_airp','avg_humid','avg_precid','success'], dtype=float)\n",
        "savyb_df = pd.DataFrame(allwines.select('lat','lng','avg_temp','avg_airp','avg_humid','avg_precip','success').filter(allwines.variety == 'Sauvignon Blanc').collect(), columns=['lat','lng','avg_temp','avg_airp','avg_humid','avg_precid','success'], dtype=float)\n",
        "ries_df = pd.DataFrame(allwines.select('lat','lng','avg_temp','avg_airp','avg_humid','avg_precip','success').filter(allwines.variety == 'Riesling').collect(), columns=['lat','lng','avg_temp','avg_airp','avg_humid','avg_precid','success'], dtype=float)\n",
        "cabsav_df = pd.DataFrame(allwines.select('lat','lng','avg_temp','avg_airp','avg_humid','avg_precip','success').filter(allwines.variety == 'Cabernet Sauvignon').collect(), columns=['lat','lng','avg_temp','avg_airp','avg_humid','avg_precid','success'], dtype=float)\n",
        "char_df = pd.DataFrame(allwines.select('lat','lng','avg_temp','avg_airp','avg_humid','avg_precip','success').filter(allwines.variety == 'Chardonnay').collect(), columns=['lat','lng','avg_temp','avg_airp','avg_humid','avg_precid','success'], dtype=float)\n",
        "pino_df = pd.DataFrame(allwines.select('lat','lng','avg_temp','avg_airp','avg_humid','avg_precip','success').filter(allwines.variety == 'Pinot Noir').collect(), columns=['lat','lng','avg_temp','avg_airp','avg_humid','avg_precid','success'], dtype=float)"
      ],
      "execution_count": null,
      "outputs": []
    },
    {
      "cell_type": "code",
      "metadata": {
        "colab": {
          "base_uri": "https://localhost:8080/"
        },
        "id": "IeuTOtY4xdqx",
        "outputId": "5296a394-0adf-4a34-979f-5adc48d8bbda"
      },
      "source": [
        "mer_df.dtypes"
      ],
      "execution_count": null,
      "outputs": [
        {
          "output_type": "execute_result",
          "data": {
            "text/plain": [
              "lat           float64\n",
              "lng           float64\n",
              "avg_temp      float64\n",
              "avg_airp      float64\n",
              "avg_humid     float64\n",
              "avg_precid    float64\n",
              "success       float64\n",
              "dtype: object"
            ]
          },
          "metadata": {
            "tags": []
          },
          "execution_count": 28
        }
      ]
    },
    {
      "cell_type": "code",
      "metadata": {
        "colab": {
          "base_uri": "https://localhost:8080/"
        },
        "id": "fWXQJq1A9Qtl",
        "outputId": "9233865e-5b92-48e2-c72a-26d6747a10cb"
      },
      "source": [
        "#features and targets\n",
        "variety = mer_df.copy()\n",
        "y = variety['success']\n",
        "X = variety.drop(columns=winedropcols)\n",
        "X_train, X_test, y_train, y_test = train_test_split(X,y)\n",
        "#init model again\n",
        "rf = RandomForestClassifier(n_estimators=200, random_state=99)\n",
        "rf.fit(X, y)"
      ],
      "execution_count": null,
      "outputs": [
        {
          "output_type": "execute_result",
          "data": {
            "text/plain": [
              "RandomForestClassifier(bootstrap=True, ccp_alpha=0.0, class_weight=None,\n",
              "                       criterion='gini', max_depth=None, max_features='auto',\n",
              "                       max_leaf_nodes=None, max_samples=None,\n",
              "                       min_impurity_decrease=0.0, min_impurity_split=None,\n",
              "                       min_samples_leaf=1, min_samples_split=2,\n",
              "                       min_weight_fraction_leaf=0.0, n_estimators=200,\n",
              "                       n_jobs=None, oob_score=False, random_state=99, verbose=0,\n",
              "                       warm_start=False)"
            ]
          },
          "metadata": {
            "tags": []
          },
          "execution_count": 29
        }
      ]
    },
    {
      "cell_type": "code",
      "metadata": {
        "colab": {
          "base_uri": "https://localhost:8080/"
        },
        "id": "W7HjASbM-KF1",
        "outputId": "f76ec1fa-a6fd-4048-a47a-98d5861204fe"
      },
      "source": [
        "preds = rf.predict(X_test)\n",
        "acc_score = accuracy_score(y_test, preds)\n",
        "acc_score"
      ],
      "execution_count": null,
      "outputs": [
        {
          "output_type": "execute_result",
          "data": {
            "text/plain": [
              "0.7768817204301075"
            ]
          },
          "metadata": {
            "tags": []
          },
          "execution_count": 30
        }
      ]
    },
    {
      "cell_type": "code",
      "metadata": {
        "id": "ZegfCHX1-KIF"
      },
      "source": [
        "#using model to predict the counties\n",
        "Xcount = counties.drop(columns=['zip','city', 'state_id', 'state_name', 'county_name'])\n",
        "mer_preds = rf.predict(Xcount)"
      ],
      "execution_count": null,
      "outputs": []
    },
    {
      "cell_type": "code",
      "metadata": {
        "colab": {
          "base_uri": "https://localhost:8080/"
        },
        "id": "wBGD59IL-KKg",
        "outputId": "851b36a1-f5b2-4bd0-e1fb-bda7bc88bd70"
      },
      "source": [
        "#features and targets\n",
        "variety = rose_df\n",
        "y = variety['success']\n",
        "X = variety.drop(columns=winedropcols)\n",
        "X_train, X_test, y_train, y_test = train_test_split(X,y)\n",
        "#init model again\n",
        "rf = RandomForestClassifier(n_estimators=200, random_state=99)\n",
        "rf.fit(X, y)"
      ],
      "execution_count": null,
      "outputs": [
        {
          "output_type": "execute_result",
          "data": {
            "text/plain": [
              "RandomForestClassifier(bootstrap=True, ccp_alpha=0.0, class_weight=None,\n",
              "                       criterion='gini', max_depth=None, max_features='auto',\n",
              "                       max_leaf_nodes=None, max_samples=None,\n",
              "                       min_impurity_decrease=0.0, min_impurity_split=None,\n",
              "                       min_samples_leaf=1, min_samples_split=2,\n",
              "                       min_weight_fraction_leaf=0.0, n_estimators=200,\n",
              "                       n_jobs=None, oob_score=False, random_state=99, verbose=0,\n",
              "                       warm_start=False)"
            ]
          },
          "metadata": {
            "tags": []
          },
          "execution_count": 32
        }
      ]
    },
    {
      "cell_type": "code",
      "metadata": {
        "colab": {
          "base_uri": "https://localhost:8080/"
        },
        "id": "cuvjjk4f-KMU",
        "outputId": "454dc915-1680-4522-99f8-bad0cd5ce606"
      },
      "source": [
        "preds = rf.predict(X_test)\n",
        "acc_score = accuracy_score(y_test, preds)\n",
        "acc_score"
      ],
      "execution_count": null,
      "outputs": [
        {
          "output_type": "execute_result",
          "data": {
            "text/plain": [
              "0.8263403263403264"
            ]
          },
          "metadata": {
            "tags": []
          },
          "execution_count": 33
        }
      ]
    },
    {
      "cell_type": "code",
      "metadata": {
        "id": "eDBJYcun-KOQ"
      },
      "source": [
        "#using model to predict the counties\n",
        "Xcount = counties.drop(columns=['zip','city', 'state_id', 'state_name', 'county_name'])\n",
        "rose_preds = rf.predict(Xcount)"
      ],
      "execution_count": null,
      "outputs": []
    },
    {
      "cell_type": "code",
      "metadata": {
        "colab": {
          "base_uri": "https://localhost:8080/"
        },
        "id": "Z63vhufX-KTa",
        "outputId": "cafd82ee-7dc7-456e-b525-950ce8b6b85b"
      },
      "source": [
        "#features and targets\n",
        "variety = syr_df\n",
        "y = variety['success']\n",
        "X = variety.drop(columns=winedropcols)\n",
        "X_train, X_test, y_train, y_test = train_test_split(X,y)\n",
        "#init model again\n",
        "rf = RandomForestClassifier(n_estimators=200, random_state=99)\n",
        "rf.fit(X, y)"
      ],
      "execution_count": null,
      "outputs": [
        {
          "output_type": "execute_result",
          "data": {
            "text/plain": [
              "RandomForestClassifier(bootstrap=True, ccp_alpha=0.0, class_weight=None,\n",
              "                       criterion='gini', max_depth=None, max_features='auto',\n",
              "                       max_leaf_nodes=None, max_samples=None,\n",
              "                       min_impurity_decrease=0.0, min_impurity_split=None,\n",
              "                       min_samples_leaf=1, min_samples_split=2,\n",
              "                       min_weight_fraction_leaf=0.0, n_estimators=200,\n",
              "                       n_jobs=None, oob_score=False, random_state=99, verbose=0,\n",
              "                       warm_start=False)"
            ]
          },
          "metadata": {
            "tags": []
          },
          "execution_count": 35
        }
      ]
    },
    {
      "cell_type": "code",
      "metadata": {
        "colab": {
          "base_uri": "https://localhost:8080/"
        },
        "id": "gwW4fvQu9Qwq",
        "outputId": "51947576-c0e7-4b60-cda4-ab4238042151"
      },
      "source": [
        "preds = rf.predict(X_test)\n",
        "acc_score = accuracy_score(y_test, preds)\n",
        "acc_score"
      ],
      "execution_count": null,
      "outputs": [
        {
          "output_type": "execute_result",
          "data": {
            "text/plain": [
              "0.6832993890020367"
            ]
          },
          "metadata": {
            "tags": []
          },
          "execution_count": 36
        }
      ]
    },
    {
      "cell_type": "code",
      "metadata": {
        "id": "TFOTgtQT9Q1Q"
      },
      "source": [
        "#using model to predict the counties\n",
        "Xcount = counties.drop(columns=['zip','city', 'state_id', 'state_name', 'county_name'])\n",
        "syr_preds = rf.predict(Xcount)"
      ],
      "execution_count": null,
      "outputs": []
    },
    {
      "cell_type": "code",
      "metadata": {
        "colab": {
          "base_uri": "https://localhost:8080/"
        },
        "id": "lwrmYR3dAOxL",
        "outputId": "f0ff3110-eba5-4a9c-bb90-73101ae8df34"
      },
      "source": [
        "#features and targets\n",
        "variety = savyb_df\n",
        "y = variety['success']\n",
        "X = variety.drop(columns=winedropcols)\n",
        "X_train, X_test, y_train, y_test = train_test_split(X,y)\n",
        "#init model again\n",
        "rf = RandomForestClassifier(n_estimators=200, random_state=99)\n",
        "rf.fit(X, y)"
      ],
      "execution_count": null,
      "outputs": [
        {
          "output_type": "execute_result",
          "data": {
            "text/plain": [
              "RandomForestClassifier(bootstrap=True, ccp_alpha=0.0, class_weight=None,\n",
              "                       criterion='gini', max_depth=None, max_features='auto',\n",
              "                       max_leaf_nodes=None, max_samples=None,\n",
              "                       min_impurity_decrease=0.0, min_impurity_split=None,\n",
              "                       min_samples_leaf=1, min_samples_split=2,\n",
              "                       min_weight_fraction_leaf=0.0, n_estimators=200,\n",
              "                       n_jobs=None, oob_score=False, random_state=99, verbose=0,\n",
              "                       warm_start=False)"
            ]
          },
          "metadata": {
            "tags": []
          },
          "execution_count": 38
        }
      ]
    },
    {
      "cell_type": "code",
      "metadata": {
        "colab": {
          "base_uri": "https://localhost:8080/"
        },
        "id": "K6ZBxxGrAOz9",
        "outputId": "2d45e651-32fd-48ee-b56d-e67cd333ed96"
      },
      "source": [
        "preds = rf.predict(X_test)\n",
        "acc_score = accuracy_score(y_test, preds)\n",
        "acc_score"
      ],
      "execution_count": null,
      "outputs": [
        {
          "output_type": "execute_result",
          "data": {
            "text/plain": [
              "0.7627118644067796"
            ]
          },
          "metadata": {
            "tags": []
          },
          "execution_count": 39
        }
      ]
    },
    {
      "cell_type": "code",
      "metadata": {
        "id": "7D8JpmyAAO3S"
      },
      "source": [
        "#using model to predict the counties\n",
        "Xcount = counties.drop(columns=['zip','city', 'state_id', 'state_name', 'county_name'])\n",
        "savyb_preds = rf.predict(Xcount)"
      ],
      "execution_count": null,
      "outputs": []
    },
    {
      "cell_type": "code",
      "metadata": {
        "colab": {
          "base_uri": "https://localhost:8080/"
        },
        "id": "xhaocGCMAO6F",
        "outputId": "21c92da3-f3eb-4f10-8a7a-192c61405e46"
      },
      "source": [
        "#features and targets\n",
        "variety = ries_df\n",
        "y = variety['success']\n",
        "X = variety.drop(columns=winedropcols)\n",
        "X_train, X_test, y_train, y_test = train_test_split(X,y)\n",
        "#init model again\n",
        "rf = RandomForestClassifier(n_estimators=200, random_state=99)\n",
        "rf.fit(X, y)"
      ],
      "execution_count": null,
      "outputs": [
        {
          "output_type": "execute_result",
          "data": {
            "text/plain": [
              "RandomForestClassifier(bootstrap=True, ccp_alpha=0.0, class_weight=None,\n",
              "                       criterion='gini', max_depth=None, max_features='auto',\n",
              "                       max_leaf_nodes=None, max_samples=None,\n",
              "                       min_impurity_decrease=0.0, min_impurity_split=None,\n",
              "                       min_samples_leaf=1, min_samples_split=2,\n",
              "                       min_weight_fraction_leaf=0.0, n_estimators=200,\n",
              "                       n_jobs=None, oob_score=False, random_state=99, verbose=0,\n",
              "                       warm_start=False)"
            ]
          },
          "metadata": {
            "tags": []
          },
          "execution_count": 41
        }
      ]
    },
    {
      "cell_type": "code",
      "metadata": {
        "colab": {
          "base_uri": "https://localhost:8080/"
        },
        "id": "FLQkK0qZAO9B",
        "outputId": "2c7cf17e-0f4b-4d23-e18d-ae56e90a0869"
      },
      "source": [
        "preds = rf.predict(X_test)\n",
        "acc_score = accuracy_score(y_test, preds)\n",
        "acc_score"
      ],
      "execution_count": null,
      "outputs": [
        {
          "output_type": "execute_result",
          "data": {
            "text/plain": [
              "0.7282693813625685"
            ]
          },
          "metadata": {
            "tags": []
          },
          "execution_count": 42
        }
      ]
    },
    {
      "cell_type": "code",
      "metadata": {
        "id": "mIdHq6h3APAE"
      },
      "source": [
        "#using model to predict the counties\n",
        "Xcount = counties.drop(columns=['zip','city', 'state_id', 'state_name', 'county_name'])\n",
        "ries_preds = rf.predict(Xcount)"
      ],
      "execution_count": null,
      "outputs": []
    },
    {
      "cell_type": "code",
      "metadata": {
        "colab": {
          "base_uri": "https://localhost:8080/"
        },
        "id": "zPnqrGohAPDJ",
        "outputId": "90f30561-6c64-4950-89c4-d6b498566675"
      },
      "source": [
        "#features and targets\n",
        "variety = cabsav_df\n",
        "y = variety['success']\n",
        "X = variety.drop(columns=winedropcols)\n",
        "X_train, X_test, y_train, y_test = train_test_split(X,y)\n",
        "#init model again\n",
        "rf = RandomForestClassifier(n_estimators=200, random_state=99)\n",
        "rf.fit(X, y)"
      ],
      "execution_count": null,
      "outputs": [
        {
          "output_type": "execute_result",
          "data": {
            "text/plain": [
              "RandomForestClassifier(bootstrap=True, ccp_alpha=0.0, class_weight=None,\n",
              "                       criterion='gini', max_depth=None, max_features='auto',\n",
              "                       max_leaf_nodes=None, max_samples=None,\n",
              "                       min_impurity_decrease=0.0, min_impurity_split=None,\n",
              "                       min_samples_leaf=1, min_samples_split=2,\n",
              "                       min_weight_fraction_leaf=0.0, n_estimators=200,\n",
              "                       n_jobs=None, oob_score=False, random_state=99, verbose=0,\n",
              "                       warm_start=False)"
            ]
          },
          "metadata": {
            "tags": []
          },
          "execution_count": 44
        }
      ]
    },
    {
      "cell_type": "code",
      "metadata": {
        "colab": {
          "base_uri": "https://localhost:8080/"
        },
        "id": "NUWHFYYwAPGE",
        "outputId": "bee9f817-8821-450b-da86-fb70be247a27"
      },
      "source": [
        "preds = rf.predict(X_test)\n",
        "acc_score = accuracy_score(y_test, preds)\n",
        "acc_score"
      ],
      "execution_count": null,
      "outputs": [
        {
          "output_type": "execute_result",
          "data": {
            "text/plain": [
              "0.7054017249205629"
            ]
          },
          "metadata": {
            "tags": []
          },
          "execution_count": 45
        }
      ]
    },
    {
      "cell_type": "code",
      "metadata": {
        "id": "hQJjjtoCAPJB"
      },
      "source": [
        "#using model to predict the counties\n",
        "Xcount = counties.drop(columns=['zip','city', 'state_id', 'state_name', 'county_name'])\n",
        "cabsav_preds = rf.predict(Xcount)"
      ],
      "execution_count": null,
      "outputs": []
    },
    {
      "cell_type": "code",
      "metadata": {
        "colab": {
          "base_uri": "https://localhost:8080/"
        },
        "id": "cczRRBijAPMk",
        "outputId": "370e18b9-d353-4a0c-e5a6-0155799ee704"
      },
      "source": [
        "#features and targets\n",
        "variety = char_df\n",
        "y = variety['success']\n",
        "X = variety.drop(columns=winedropcols)\n",
        "X_train, X_test, y_train, y_test = train_test_split(X,y)\n",
        "#init model again\n",
        "rf = RandomForestClassifier(n_estimators=200, random_state=99)\n",
        "rf.fit(X, y)"
      ],
      "execution_count": null,
      "outputs": [
        {
          "output_type": "execute_result",
          "data": {
            "text/plain": [
              "RandomForestClassifier(bootstrap=True, ccp_alpha=0.0, class_weight=None,\n",
              "                       criterion='gini', max_depth=None, max_features='auto',\n",
              "                       max_leaf_nodes=None, max_samples=None,\n",
              "                       min_impurity_decrease=0.0, min_impurity_split=None,\n",
              "                       min_samples_leaf=1, min_samples_split=2,\n",
              "                       min_weight_fraction_leaf=0.0, n_estimators=200,\n",
              "                       n_jobs=None, oob_score=False, random_state=99, verbose=0,\n",
              "                       warm_start=False)"
            ]
          },
          "metadata": {
            "tags": []
          },
          "execution_count": 47
        }
      ]
    },
    {
      "cell_type": "code",
      "metadata": {
        "colab": {
          "base_uri": "https://localhost:8080/"
        },
        "id": "e6bQ-rEjAlXd",
        "outputId": "51659807-486f-4ef5-ae80-142c6278c629"
      },
      "source": [
        "preds = rf.predict(X_test)\n",
        "acc_score = accuracy_score(y_test, preds)\n",
        "acc_score"
      ],
      "execution_count": null,
      "outputs": [
        {
          "output_type": "execute_result",
          "data": {
            "text/plain": [
              "0.6952212389380531"
            ]
          },
          "metadata": {
            "tags": []
          },
          "execution_count": 48
        }
      ]
    },
    {
      "cell_type": "code",
      "metadata": {
        "id": "3la9DNFpAla0"
      },
      "source": [
        "#using model to predict the counties\n",
        "Xcount = counties.drop(columns=['zip','city', 'state_id', 'state_name', 'county_name'])\n",
        "char_preds = rf.predict(Xcount)"
      ],
      "execution_count": null,
      "outputs": []
    },
    {
      "cell_type": "code",
      "metadata": {
        "colab": {
          "base_uri": "https://localhost:8080/"
        },
        "id": "rpV2LT1UAliu",
        "outputId": "20a12268-e7c0-40d1-c2b9-6eaf8eb38e30"
      },
      "source": [
        "#features and targets\n",
        "variety = pino_df\n",
        "y = variety['success']\n",
        "X = variety.drop(columns=winedropcols)\n",
        "X_train, X_test, y_train, y_test = train_test_split(X,y)\n",
        "#init model again\n",
        "rf = RandomForestClassifier(n_estimators=200, random_state=99)\n",
        "rf.fit(X, y)"
      ],
      "execution_count": null,
      "outputs": [
        {
          "output_type": "execute_result",
          "data": {
            "text/plain": [
              "RandomForestClassifier(bootstrap=True, ccp_alpha=0.0, class_weight=None,\n",
              "                       criterion='gini', max_depth=None, max_features='auto',\n",
              "                       max_leaf_nodes=None, max_samples=None,\n",
              "                       min_impurity_decrease=0.0, min_impurity_split=None,\n",
              "                       min_samples_leaf=1, min_samples_split=2,\n",
              "                       min_weight_fraction_leaf=0.0, n_estimators=200,\n",
              "                       n_jobs=None, oob_score=False, random_state=99, verbose=0,\n",
              "                       warm_start=False)"
            ]
          },
          "metadata": {
            "tags": []
          },
          "execution_count": 50
        }
      ]
    },
    {
      "cell_type": "code",
      "metadata": {
        "colab": {
          "base_uri": "https://localhost:8080/"
        },
        "id": "c2g2IZGBAlvA",
        "outputId": "1113a790-c725-41aa-a156-61284f71100a"
      },
      "source": [
        "preds = rf.predict(X_test)\n",
        "acc_score = accuracy_score(y_test, preds)\n",
        "acc_score"
      ],
      "execution_count": null,
      "outputs": [
        {
          "output_type": "execute_result",
          "data": {
            "text/plain": [
              "0.6450490351154697"
            ]
          },
          "metadata": {
            "tags": []
          },
          "execution_count": 51
        }
      ]
    },
    {
      "cell_type": "code",
      "metadata": {
        "id": "Vt6CNH7xAlzS"
      },
      "source": [
        "#using model to predict the counties\n",
        "Xcount = counties.drop(columns=['zip','city', 'state_id', 'state_name', 'county_name'])\n",
        "pino_preds = rf.predict(Xcount)"
      ],
      "execution_count": null,
      "outputs": []
    },
    {
      "cell_type": "code",
      "metadata": {
        "id": "kn67tSDZAl3L"
      },
      "source": [
        "counties_preds = counties.copy()\n",
        "counties_preds['mer_success'] = mer_preds\n",
        "counties_preds['rose_success'] = rose_preds\n",
        "counties_preds['syr_success'] = syr_preds\n",
        "counties_preds['savyb_success'] = savyb_preds\n",
        "counties_preds['ries_success'] = ries_preds\n",
        "counties_preds['cabsav_success'] = cabsav_preds\n",
        "counties_preds['char_success'] = char_preds\n",
        "counties_preds['pinot_success'] = pino_preds"
      ],
      "execution_count": null,
      "outputs": []
    },
    {
      "cell_type": "code",
      "metadata": {
        "colab": {
          "base_uri": "https://localhost:8080/",
          "height": 232
        },
        "id": "lFKhpvltAmCS",
        "outputId": "afedd60e-5196-4e38-a688-3ee0e7385346"
      },
      "source": [
        "counties_preds.head()"
      ],
      "execution_count": null,
      "outputs": [
        {
          "output_type": "execute_result",
          "data": {
            "text/html": [
              "<div>\n",
              "<style scoped>\n",
              "    .dataframe tbody tr th:only-of-type {\n",
              "        vertical-align: middle;\n",
              "    }\n",
              "\n",
              "    .dataframe tbody tr th {\n",
              "        vertical-align: top;\n",
              "    }\n",
              "\n",
              "    .dataframe thead th {\n",
              "        text-align: right;\n",
              "    }\n",
              "</style>\n",
              "<table border=\"1\" class=\"dataframe\">\n",
              "  <thead>\n",
              "    <tr style=\"text-align: right;\">\n",
              "      <th></th>\n",
              "      <th>zip</th>\n",
              "      <th>lat</th>\n",
              "      <th>lng</th>\n",
              "      <th>city</th>\n",
              "      <th>state_id</th>\n",
              "      <th>state_name</th>\n",
              "      <th>county_name</th>\n",
              "      <th>avg_temp</th>\n",
              "      <th>avg_airp</th>\n",
              "      <th>avg_humid</th>\n",
              "      <th>avg_precip</th>\n",
              "      <th>mer_success</th>\n",
              "      <th>rose_success</th>\n",
              "      <th>syr_success</th>\n",
              "      <th>savyb_success</th>\n",
              "      <th>ries_success</th>\n",
              "      <th>cabsav_success</th>\n",
              "      <th>char_success</th>\n",
              "      <th>pinot_success</th>\n",
              "    </tr>\n",
              "  </thead>\n",
              "  <tbody>\n",
              "    <tr>\n",
              "      <th>0</th>\n",
              "      <td>1001</td>\n",
              "      <td>42</td>\n",
              "      <td>-73</td>\n",
              "      <td>Agawam</td>\n",
              "      <td>MA</td>\n",
              "      <td>Massachusetts</td>\n",
              "      <td>Hampden</td>\n",
              "      <td>270.805000000000000000</td>\n",
              "      <td>1016.122500000000000000</td>\n",
              "      <td>72.215000000000000000</td>\n",
              "      <td>0.125000000000000000</td>\n",
              "      <td>0.0</td>\n",
              "      <td>0.0</td>\n",
              "      <td>0.0</td>\n",
              "      <td>0.0</td>\n",
              "      <td>0.0</td>\n",
              "      <td>0.0</td>\n",
              "      <td>0.0</td>\n",
              "      <td>1.0</td>\n",
              "    </tr>\n",
              "    <tr>\n",
              "      <th>1</th>\n",
              "      <td>1002</td>\n",
              "      <td>42</td>\n",
              "      <td>-72</td>\n",
              "      <td>Amherst</td>\n",
              "      <td>MA</td>\n",
              "      <td>Massachusetts</td>\n",
              "      <td>Hampshire</td>\n",
              "      <td>270.805000000000000000</td>\n",
              "      <td>1016.122500000000000000</td>\n",
              "      <td>72.215000000000000000</td>\n",
              "      <td>0.125000000000000000</td>\n",
              "      <td>0.0</td>\n",
              "      <td>0.0</td>\n",
              "      <td>0.0</td>\n",
              "      <td>0.0</td>\n",
              "      <td>0.0</td>\n",
              "      <td>0.0</td>\n",
              "      <td>0.0</td>\n",
              "      <td>1.0</td>\n",
              "    </tr>\n",
              "    <tr>\n",
              "      <th>2</th>\n",
              "      <td>1005</td>\n",
              "      <td>42</td>\n",
              "      <td>-72</td>\n",
              "      <td>Barre</td>\n",
              "      <td>MA</td>\n",
              "      <td>Massachusetts</td>\n",
              "      <td>Worcester</td>\n",
              "      <td>270.725000000000000000</td>\n",
              "      <td>1014.960000000000000000</td>\n",
              "      <td>71.752500000000000000</td>\n",
              "      <td>0.135000000000000000</td>\n",
              "      <td>0.0</td>\n",
              "      <td>0.0</td>\n",
              "      <td>0.0</td>\n",
              "      <td>0.0</td>\n",
              "      <td>0.0</td>\n",
              "      <td>0.0</td>\n",
              "      <td>0.0</td>\n",
              "      <td>1.0</td>\n",
              "    </tr>\n",
              "    <tr>\n",
              "      <th>3</th>\n",
              "      <td>1029</td>\n",
              "      <td>42</td>\n",
              "      <td>-73</td>\n",
              "      <td>East Otis</td>\n",
              "      <td>MA</td>\n",
              "      <td>Massachusetts</td>\n",
              "      <td>Berkshire</td>\n",
              "      <td>270.805000000000000000</td>\n",
              "      <td>1016.122500000000000000</td>\n",
              "      <td>72.215000000000000000</td>\n",
              "      <td>0.125000000000000000</td>\n",
              "      <td>0.0</td>\n",
              "      <td>0.0</td>\n",
              "      <td>0.0</td>\n",
              "      <td>0.0</td>\n",
              "      <td>0.0</td>\n",
              "      <td>0.0</td>\n",
              "      <td>0.0</td>\n",
              "      <td>1.0</td>\n",
              "    </tr>\n",
              "    <tr>\n",
              "      <th>4</th>\n",
              "      <td>1054</td>\n",
              "      <td>42</td>\n",
              "      <td>-72</td>\n",
              "      <td>Leverett</td>\n",
              "      <td>MA</td>\n",
              "      <td>Massachusetts</td>\n",
              "      <td>Franklin</td>\n",
              "      <td>270.805000000000000000</td>\n",
              "      <td>1016.122500000000000000</td>\n",
              "      <td>72.215000000000000000</td>\n",
              "      <td>0.125000000000000000</td>\n",
              "      <td>0.0</td>\n",
              "      <td>0.0</td>\n",
              "      <td>0.0</td>\n",
              "      <td>0.0</td>\n",
              "      <td>0.0</td>\n",
              "      <td>0.0</td>\n",
              "      <td>0.0</td>\n",
              "      <td>1.0</td>\n",
              "    </tr>\n",
              "  </tbody>\n",
              "</table>\n",
              "</div>"
            ],
            "text/plain": [
              "    zip  lat  lng  ... cabsav_success char_success pinot_success\n",
              "0  1001   42  -73  ...            0.0          0.0           1.0\n",
              "1  1002   42  -72  ...            0.0          0.0           1.0\n",
              "2  1005   42  -72  ...            0.0          0.0           1.0\n",
              "3  1029   42  -73  ...            0.0          0.0           1.0\n",
              "4  1054   42  -72  ...            0.0          0.0           1.0\n",
              "\n",
              "[5 rows x 19 columns]"
            ]
          },
          "metadata": {
            "tags": []
          },
          "execution_count": 54
        }
      ]
    },
    {
      "cell_type": "code",
      "metadata": {
        "id": "XRMRV5XrAmGK"
      },
      "source": [
        "#counties_preds.to_csv('county_predictions.csv')"
      ],
      "execution_count": null,
      "outputs": []
    },
    {
      "cell_type": "code",
      "metadata": {
        "id": "iAS97wguAmJ4"
      },
      "source": [
        "spark_counties = spark.createDataFrame(counties_preds)"
      ],
      "execution_count": null,
      "outputs": []
    },
    {
      "cell_type": "code",
      "metadata": {
        "id": "gIL0N7FVAPQy"
      },
      "source": [
        "spark_counties.write.jdbc(url=jdbc_url, table='county_predictions', mode=mode, properties=config)"
      ],
      "execution_count": null,
      "outputs": []
    },
    {
      "cell_type": "code",
      "metadata": {
        "id": "sfyfK9Ov0Ugf"
      },
      "source": [
        "sparked_preds = spark.read.jdbc(url=jdbc_url, table='county_predictions', properties=config)"
      ],
      "execution_count": null,
      "outputs": []
    },
    {
      "cell_type": "code",
      "metadata": {
        "colab": {
          "base_uri": "https://localhost:8080/"
        },
        "id": "oZ_v44oe0bmg",
        "outputId": "34ed3175-d466-4fae-9f2b-7c650c17d2bc"
      },
      "source": [
        "sparked_preds.show()"
      ],
      "execution_count": null,
      "outputs": [
        {
          "output_type": "stream",
          "text": [
            "+-----+---+---+--------------+--------+----------+-------------+--------------------+--------------------+--------------------+--------------------+-----------+------------+-----------+-------------+------------+--------------+------------+-------------+\n",
            "|  zip|lat|lng|          city|state_id|state_name|  county_name|            avg_temp|            avg_airp|           avg_humid|          avg_precip|mer_success|rose_success|syr_success|savyb_success|ries_success|cabsav_success|char_success|pinot_success|\n",
            "+-----+---+---+--------------+--------+----------+-------------+--------------------+--------------------+--------------------+--------------------+-----------+------------+-----------+-------------+------------+--------------+------------+-------------+\n",
            "|50515| 43|-95|      Ayrshire|      IA|      Iowa|    Palo Alto|263.4875000000000...|1013.162500000000...|80.39500000000000...|0.015000000000000000|        0.0|         0.0|        0.0|          0.0|         0.0|           0.0|         0.0|          0.0|\n",
            "|50519| 43|-94|          Bode|      IA|      Iowa|     Humboldt|266.6625000000000...|1019.822500000000...|74.75750000000000...|0.005000000000000000|        0.0|         0.0|        0.0|          1.0|         0.0|           0.0|         0.0|          0.0|\n",
            "|50535| 42|-95|         Early|      IA|      Iowa|          Sac|266.6700000000000...|1020.350000000000...|75.49750000000000...|0.010000000000000000|        0.0|         0.0|        0.0|          0.0|         0.0|           0.0|         0.0|          0.0|\n",
            "|50613| 43|-92|   Cedar Falls|      IA|      Iowa|   Black Hawk|266.1775000000000...|1018.550000000000...|79.09250000000000...|0.007500000000000000|        0.0|         0.0|        0.0|          0.0|         0.0|           0.0|         0.0|          0.0|\n",
            "|50622| 43|-92|        Denver|      IA|      Iowa|       Bremer|266.1775000000000...|1018.550000000000...|79.09250000000000...|0.007500000000000000|        0.0|         0.0|        0.0|          0.0|         0.0|           0.0|         0.0|          0.0|\n",
            "|51003| 43|-96|         Alton|      IA|      Iowa|        Sioux|263.4875000000000...|1013.162500000000...|80.39500000000000...|0.015000000000000000|        0.0|         0.0|        0.0|          0.0|         0.0|           0.0|         0.0|          0.0|\n",
            "|51004| 42|-96|        Anthon|      IA|      Iowa|     Woodbury|266.6700000000000...|1020.350000000000...|75.49750000000000...|0.010000000000000000|        0.0|         0.0|        0.0|          0.0|         0.0|           0.0|         0.0|          0.0|\n",
            "|51006| 42|-96|  Battle Creek|      IA|      Iowa|          Ida|266.6700000000000...|1020.350000000000...|75.49750000000000...|0.010000000000000000|        0.0|         0.0|        0.0|          0.0|         0.0|           0.0|         0.0|          0.0|\n",
            "|51009| 43|-96|       Calumet|      IA|      Iowa|      O'Brien|263.4875000000000...|1013.162500000000...|80.39500000000000...|0.015000000000000000|        0.0|         0.0|        0.0|          0.0|         0.0|           0.0|         0.0|          0.0|\n",
            "|51010| 42|-96|       Castana|      IA|      Iowa|       Monona|266.6700000000000...|1020.350000000000...|75.49750000000000...|0.010000000000000000|        0.0|         0.0|        0.0|          0.0|         0.0|           0.0|         0.0|          0.0|\n",
            "|51501| 41|-96|Council Bluffs|      IA|      Iowa|Pottawattamie|266.6700000000000...|1020.350000000000...|75.49750000000000...|0.010000000000000000|        0.0|         0.0|        0.0|          0.0|         0.0|           0.0|         0.0|          0.0|\n",
            "|51533| 41|-95|       Emerson|      IA|      Iowa|        Mills|266.6700000000000...|1020.350000000000...|75.49750000000000...|0.010000000000000000|        0.0|         0.0|        0.0|          0.0|         0.0|           0.0|         0.0|          0.0|\n",
            "|51639| 41|-95|      Farragut|      IA|      Iowa|      Fremont|266.6700000000000...|1020.350000000000...|75.49750000000000...|0.010000000000000000|        0.0|         0.0|        0.0|          0.0|         0.0|           0.0|         0.0|          0.0|\n",
            "|52001| 43|-91|       Dubuque|      IA|      Iowa|      Dubuque|266.1775000000000...|1018.550000000000...|79.09250000000000...|0.007500000000000000|        0.0|         0.0|        0.0|          0.0|         0.0|           0.0|         0.0|          0.0|\n",
            "|52101| 43|-92|       Decorah|      IA|      Iowa|   Winneshiek|263.9475000000000...|1017.077500000000...|83.02250000000000...|0.012500000000000000|        0.0|         0.0|        0.0|          0.0|         0.0|           0.0|         0.0|          0.0|\n",
            "|52140| 43|-92|    Dorchester|      IA|      Iowa|    Allamakee|263.9475000000000...|1017.077500000000...|83.02250000000000...|0.012500000000000000|        0.0|         0.0|        0.0|          0.0|         0.0|           0.0|         0.0|          0.0|\n",
            "|52202| 42|-92|     Alburnett|      IA|      Iowa|         Linn|266.1775000000000...|1018.550000000000...|79.09250000000000...|0.007500000000000000|        0.0|         0.0|        0.0|          0.0|         0.0|           0.0|         0.0|          0.0|\n",
            "|52203| 42|-92|         Amana|      IA|      Iowa|         Iowa|266.1775000000000...|1018.550000000000...|79.09250000000000...|0.007500000000000000|        0.0|         0.0|        0.0|          0.0|         0.0|           0.0|         0.0|          0.0|\n",
            "|52216| 42|-91|      Clarence|      IA|      Iowa|        Cedar|266.1775000000000...|1018.550000000000...|79.09250000000000...|0.007500000000000000|        0.0|         0.0|        0.0|          0.0|         0.0|           0.0|         0.0|          0.0|\n",
            "|52501| 41|-92|       Ottumwa|      IA|      Iowa|      Wapello|266.6625000000000...|1019.822500000000...|74.75750000000000...|0.005000000000000000|        0.0|         0.0|        0.0|          0.0|         0.0|           0.0|         0.0|          0.0|\n",
            "+-----+---+---+--------------+--------+----------+-------------+--------------------+--------------------+--------------------+--------------------+-----------+------------+-----------+-------------+------------+--------------+------------+-------------+\n",
            "only showing top 20 rows\n",
            "\n"
          ],
          "name": "stdout"
        }
      ]
    },
    {
      "cell_type": "code",
      "metadata": {
        "colab": {
          "base_uri": "https://localhost:8080/"
        },
        "id": "3_DHlPOh1O-o",
        "outputId": "a386e789-f561-484f-a219-409e97a9499b"
      },
      "source": [
        "sparked_preds.where(sparked_preds.mer._success == 1).count()"
      ],
      "execution_count": null,
      "outputs": [
        {
          "output_type": "execute_result",
          "data": {
            "text/plain": [
              "48"
            ]
          },
          "metadata": {
            "tags": []
          },
          "execution_count": 83
        }
      ]
    }
  ]
}