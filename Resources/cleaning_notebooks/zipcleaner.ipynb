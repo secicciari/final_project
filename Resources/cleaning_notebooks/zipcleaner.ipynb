{
  "nbformat": 4,
  "nbformat_minor": 0,
  "metadata": {
    "colab": {
      "name": "zipcleaner.ipynb",
      "provenance": [],
      "collapsed_sections": []
    },
    "kernelspec": {
      "name": "python3",
      "display_name": "Python 3"
    },
    "language_info": {
      "name": "python"
    }
  },
  "cells": [
    {
      "cell_type": "code",
      "metadata": {
        "id": "_JTHAN8z_WNd"
      },
      "source": [
        "import pandas as pd\n",
        "import numpy as np"
      ],
      "execution_count": 1,
      "outputs": []
    },
    {
      "cell_type": "code",
      "metadata": {
        "colab": {
          "base_uri": "https://localhost:8080/",
          "height": 333
        },
        "id": "X4u7EXmC_hRu",
        "outputId": "6f7db3be-2a8f-4969-8ca6-77e9649920c7"
      },
      "source": [
        "zipcodes = '/content/uszips.csv'\n",
        "zips_df = pd.read_csv(zipcodes)\n",
        "zips_df.head()"
      ],
      "execution_count": 2,
      "outputs": [
        {
          "output_type": "execute_result",
          "data": {
            "text/html": [
              "<div>\n",
              "<style scoped>\n",
              "    .dataframe tbody tr th:only-of-type {\n",
              "        vertical-align: middle;\n",
              "    }\n",
              "\n",
              "    .dataframe tbody tr th {\n",
              "        vertical-align: top;\n",
              "    }\n",
              "\n",
              "    .dataframe thead th {\n",
              "        text-align: right;\n",
              "    }\n",
              "</style>\n",
              "<table border=\"1\" class=\"dataframe\">\n",
              "  <thead>\n",
              "    <tr style=\"text-align: right;\">\n",
              "      <th></th>\n",
              "      <th>zip</th>\n",
              "      <th>lat</th>\n",
              "      <th>lng</th>\n",
              "      <th>city</th>\n",
              "      <th>state_id</th>\n",
              "      <th>state_name</th>\n",
              "      <th>zcta</th>\n",
              "      <th>parent_zcta</th>\n",
              "      <th>population</th>\n",
              "      <th>density</th>\n",
              "      <th>county_fips</th>\n",
              "      <th>county_name</th>\n",
              "      <th>county_weights</th>\n",
              "      <th>county_names_all</th>\n",
              "      <th>county_fips_all</th>\n",
              "      <th>imprecise</th>\n",
              "      <th>military</th>\n",
              "      <th>timezone</th>\n",
              "    </tr>\n",
              "  </thead>\n",
              "  <tbody>\n",
              "    <tr>\n",
              "      <th>0</th>\n",
              "      <td>601</td>\n",
              "      <td>18.18005</td>\n",
              "      <td>-66.75218</td>\n",
              "      <td>Adjuntas</td>\n",
              "      <td>PR</td>\n",
              "      <td>Puerto Rico</td>\n",
              "      <td>True</td>\n",
              "      <td>NaN</td>\n",
              "      <td>17113.0</td>\n",
              "      <td>102.7</td>\n",
              "      <td>72001</td>\n",
              "      <td>Adjuntas</td>\n",
              "      <td>{\"72001\": \"99.43\", \"72141\": \"0.57\"}</td>\n",
              "      <td>Adjuntas|Utuado</td>\n",
              "      <td>72001|72141</td>\n",
              "      <td>False</td>\n",
              "      <td>False</td>\n",
              "      <td>America/Puerto_Rico</td>\n",
              "    </tr>\n",
              "    <tr>\n",
              "      <th>1</th>\n",
              "      <td>602</td>\n",
              "      <td>18.36074</td>\n",
              "      <td>-67.17519</td>\n",
              "      <td>Aguada</td>\n",
              "      <td>PR</td>\n",
              "      <td>Puerto Rico</td>\n",
              "      <td>True</td>\n",
              "      <td>NaN</td>\n",
              "      <td>37751.0</td>\n",
              "      <td>476.0</td>\n",
              "      <td>72003</td>\n",
              "      <td>Aguada</td>\n",
              "      <td>{\"72003\": \"100\"}</td>\n",
              "      <td>Aguada</td>\n",
              "      <td>72003</td>\n",
              "      <td>False</td>\n",
              "      <td>False</td>\n",
              "      <td>America/Puerto_Rico</td>\n",
              "    </tr>\n",
              "    <tr>\n",
              "      <th>2</th>\n",
              "      <td>603</td>\n",
              "      <td>18.45440</td>\n",
              "      <td>-67.12201</td>\n",
              "      <td>Aguadilla</td>\n",
              "      <td>PR</td>\n",
              "      <td>Puerto Rico</td>\n",
              "      <td>True</td>\n",
              "      <td>NaN</td>\n",
              "      <td>47081.0</td>\n",
              "      <td>574.9</td>\n",
              "      <td>72005</td>\n",
              "      <td>Aguadilla</td>\n",
              "      <td>{\"72005\": \"100\"}</td>\n",
              "      <td>Aguadilla</td>\n",
              "      <td>72005</td>\n",
              "      <td>False</td>\n",
              "      <td>False</td>\n",
              "      <td>America/Puerto_Rico</td>\n",
              "    </tr>\n",
              "    <tr>\n",
              "      <th>3</th>\n",
              "      <td>606</td>\n",
              "      <td>18.16721</td>\n",
              "      <td>-66.93828</td>\n",
              "      <td>Maricao</td>\n",
              "      <td>PR</td>\n",
              "      <td>Puerto Rico</td>\n",
              "      <td>True</td>\n",
              "      <td>NaN</td>\n",
              "      <td>6392.0</td>\n",
              "      <td>58.3</td>\n",
              "      <td>72093</td>\n",
              "      <td>Maricao</td>\n",
              "      <td>{\"72093\": \"94.88\", \"72153\": \"3.78\", \"72121\": \"...</td>\n",
              "      <td>Maricao|Yauco|Sabana Grande</td>\n",
              "      <td>72093|72153|72121</td>\n",
              "      <td>False</td>\n",
              "      <td>False</td>\n",
              "      <td>America/Puerto_Rico</td>\n",
              "    </tr>\n",
              "    <tr>\n",
              "      <th>4</th>\n",
              "      <td>610</td>\n",
              "      <td>18.29032</td>\n",
              "      <td>-67.12244</td>\n",
              "      <td>Anasco</td>\n",
              "      <td>PR</td>\n",
              "      <td>Puerto Rico</td>\n",
              "      <td>True</td>\n",
              "      <td>NaN</td>\n",
              "      <td>26686.0</td>\n",
              "      <td>286.9</td>\n",
              "      <td>72011</td>\n",
              "      <td>Añasco</td>\n",
              "      <td>{\"72011\": \"99.45\", \"72003\": \"0.55\"}</td>\n",
              "      <td>Añasco|Aguada</td>\n",
              "      <td>72011|72003</td>\n",
              "      <td>False</td>\n",
              "      <td>False</td>\n",
              "      <td>America/Puerto_Rico</td>\n",
              "    </tr>\n",
              "  </tbody>\n",
              "</table>\n",
              "</div>"
            ],
            "text/plain": [
              "   zip       lat       lng  ... imprecise military             timezone\n",
              "0  601  18.18005 -66.75218  ...     False    False  America/Puerto_Rico\n",
              "1  602  18.36074 -67.17519  ...     False    False  America/Puerto_Rico\n",
              "2  603  18.45440 -67.12201  ...     False    False  America/Puerto_Rico\n",
              "3  606  18.16721 -66.93828  ...     False    False  America/Puerto_Rico\n",
              "4  610  18.29032 -67.12244  ...     False    False  America/Puerto_Rico\n",
              "\n",
              "[5 rows x 18 columns]"
            ]
          },
          "metadata": {
            "tags": []
          },
          "execution_count": 2
        }
      ]
    },
    {
      "cell_type": "code",
      "metadata": {
        "colab": {
          "base_uri": "https://localhost:8080/",
          "height": 284
        },
        "id": "Wl1g8dvA_hVo",
        "outputId": "f607821b-50d1-4707-be4c-b13ebf769b04"
      },
      "source": [
        "zips_trunc = zips_df.drop(columns=['zcta','parent_zcta','population','density','county_fips','county_weights','county_names_all','county_fips_all','imprecise','military','timezone'])\n",
        "zips_trunc.head(8)"
      ],
      "execution_count": 3,
      "outputs": [
        {
          "output_type": "execute_result",
          "data": {
            "text/html": [
              "<div>\n",
              "<style scoped>\n",
              "    .dataframe tbody tr th:only-of-type {\n",
              "        vertical-align: middle;\n",
              "    }\n",
              "\n",
              "    .dataframe tbody tr th {\n",
              "        vertical-align: top;\n",
              "    }\n",
              "\n",
              "    .dataframe thead th {\n",
              "        text-align: right;\n",
              "    }\n",
              "</style>\n",
              "<table border=\"1\" class=\"dataframe\">\n",
              "  <thead>\n",
              "    <tr style=\"text-align: right;\">\n",
              "      <th></th>\n",
              "      <th>zip</th>\n",
              "      <th>lat</th>\n",
              "      <th>lng</th>\n",
              "      <th>city</th>\n",
              "      <th>state_id</th>\n",
              "      <th>state_name</th>\n",
              "      <th>county_name</th>\n",
              "    </tr>\n",
              "  </thead>\n",
              "  <tbody>\n",
              "    <tr>\n",
              "      <th>0</th>\n",
              "      <td>601</td>\n",
              "      <td>18.18005</td>\n",
              "      <td>-66.75218</td>\n",
              "      <td>Adjuntas</td>\n",
              "      <td>PR</td>\n",
              "      <td>Puerto Rico</td>\n",
              "      <td>Adjuntas</td>\n",
              "    </tr>\n",
              "    <tr>\n",
              "      <th>1</th>\n",
              "      <td>602</td>\n",
              "      <td>18.36074</td>\n",
              "      <td>-67.17519</td>\n",
              "      <td>Aguada</td>\n",
              "      <td>PR</td>\n",
              "      <td>Puerto Rico</td>\n",
              "      <td>Aguada</td>\n",
              "    </tr>\n",
              "    <tr>\n",
              "      <th>2</th>\n",
              "      <td>603</td>\n",
              "      <td>18.45440</td>\n",
              "      <td>-67.12201</td>\n",
              "      <td>Aguadilla</td>\n",
              "      <td>PR</td>\n",
              "      <td>Puerto Rico</td>\n",
              "      <td>Aguadilla</td>\n",
              "    </tr>\n",
              "    <tr>\n",
              "      <th>3</th>\n",
              "      <td>606</td>\n",
              "      <td>18.16721</td>\n",
              "      <td>-66.93828</td>\n",
              "      <td>Maricao</td>\n",
              "      <td>PR</td>\n",
              "      <td>Puerto Rico</td>\n",
              "      <td>Maricao</td>\n",
              "    </tr>\n",
              "    <tr>\n",
              "      <th>4</th>\n",
              "      <td>610</td>\n",
              "      <td>18.29032</td>\n",
              "      <td>-67.12244</td>\n",
              "      <td>Anasco</td>\n",
              "      <td>PR</td>\n",
              "      <td>Puerto Rico</td>\n",
              "      <td>Añasco</td>\n",
              "    </tr>\n",
              "    <tr>\n",
              "      <th>5</th>\n",
              "      <td>612</td>\n",
              "      <td>18.40699</td>\n",
              "      <td>-66.70805</td>\n",
              "      <td>Arecibo</td>\n",
              "      <td>PR</td>\n",
              "      <td>Puerto Rico</td>\n",
              "      <td>Arecibo</td>\n",
              "    </tr>\n",
              "    <tr>\n",
              "      <th>6</th>\n",
              "      <td>616</td>\n",
              "      <td>18.41752</td>\n",
              "      <td>-66.66814</td>\n",
              "      <td>Bajadero</td>\n",
              "      <td>PR</td>\n",
              "      <td>Puerto Rico</td>\n",
              "      <td>Arecibo</td>\n",
              "    </tr>\n",
              "    <tr>\n",
              "      <th>7</th>\n",
              "      <td>617</td>\n",
              "      <td>18.44125</td>\n",
              "      <td>-66.55916</td>\n",
              "      <td>Barceloneta</td>\n",
              "      <td>PR</td>\n",
              "      <td>Puerto Rico</td>\n",
              "      <td>Barceloneta</td>\n",
              "    </tr>\n",
              "  </tbody>\n",
              "</table>\n",
              "</div>"
            ],
            "text/plain": [
              "   zip       lat       lng         city state_id   state_name  county_name\n",
              "0  601  18.18005 -66.75218     Adjuntas       PR  Puerto Rico     Adjuntas\n",
              "1  602  18.36074 -67.17519       Aguada       PR  Puerto Rico       Aguada\n",
              "2  603  18.45440 -67.12201    Aguadilla       PR  Puerto Rico    Aguadilla\n",
              "3  606  18.16721 -66.93828      Maricao       PR  Puerto Rico      Maricao\n",
              "4  610  18.29032 -67.12244       Anasco       PR  Puerto Rico       Añasco\n",
              "5  612  18.40699 -66.70805      Arecibo       PR  Puerto Rico      Arecibo\n",
              "6  616  18.41752 -66.66814     Bajadero       PR  Puerto Rico      Arecibo\n",
              "7  617  18.44125 -66.55916  Barceloneta       PR  Puerto Rico  Barceloneta"
            ]
          },
          "metadata": {
            "tags": []
          },
          "execution_count": 3
        }
      ]
    },
    {
      "cell_type": "code",
      "metadata": {
        "id": "rErzreC3_hYD"
      },
      "source": [
        "states = zips_trunc['state_name'].unique()"
      ],
      "execution_count": 4,
      "outputs": []
    },
    {
      "cell_type": "code",
      "metadata": {
        "colab": {
          "base_uri": "https://localhost:8080/"
        },
        "id": "wrth2jeY_hcK",
        "outputId": "f5ebe99e-a9c2-4bee-dcf1-48dab88c11b0"
      },
      "source": [
        "states"
      ],
      "execution_count": 5,
      "outputs": [
        {
          "output_type": "execute_result",
          "data": {
            "text/plain": [
              "array(['Puerto Rico', 'Virgin Islands', 'Massachusetts', 'Rhode Island',\n",
              "       'New Hampshire', 'Maine', 'Vermont', 'Connecticut', 'New York',\n",
              "       'New Jersey', 'Pennsylvania', 'Delaware', 'District of Columbia',\n",
              "       'Virginia', 'Maryland', 'West Virginia', 'North Carolina',\n",
              "       'South Carolina', 'Georgia', 'Florida', 'Alabama', 'Tennessee',\n",
              "       'Mississippi', 'Kentucky', 'Ohio', 'Indiana', 'Michigan', 'Iowa',\n",
              "       'Wisconsin', 'Minnesota', 'South Dakota', 'North Dakota',\n",
              "       'Montana', 'Illinois', 'Missouri', 'Kansas', 'Nebraska',\n",
              "       'Louisiana', 'Arkansas', 'Oklahoma', 'Texas', 'Colorado',\n",
              "       'Wyoming', 'Idaho', 'Utah', 'Arizona', 'New Mexico', 'Nevada',\n",
              "       'California', 'Hawaii', 'American Samoa', 'Guam',\n",
              "       'Northern Mariana Islands', 'Oregon', 'Washington', 'Alaska'],\n",
              "      dtype=object)"
            ]
          },
          "metadata": {
            "tags": []
          },
          "execution_count": 5
        }
      ]
    },
    {
      "cell_type": "code",
      "metadata": {
        "id": "Yn8jE3BX_hhN"
      },
      "source": [
        "want = ['Massachusetts', 'Rhode Island',\n",
        "       'New Hampshire', 'Maine', 'Vermont', 'Connecticut', 'New York',\n",
        "       'New Jersey', 'Pennsylvania', 'Delaware',\n",
        "       'Virginia', 'Maryland', 'West Virginia', 'North Carolina',\n",
        "       'South Carolina', 'Georgia', 'Florida', 'Alabama', 'Tennessee',\n",
        "       'Mississippi', 'Kentucky', 'Ohio', 'Indiana', 'Michigan', 'Iowa',\n",
        "       'Wisconsin', 'Minnesota', 'South Dakota', 'North Dakota',\n",
        "       'Montana', 'Illinois', 'Missouri', 'Kansas', 'Nebraska',\n",
        "       'Louisiana', 'Arkansas', 'Oklahoma', 'Texas', 'Colorado',\n",
        "       'Wyoming', 'Idaho', 'Utah', 'Arizona', 'New Mexico', 'Nevada',\n",
        "       'California','Oregon', 'Washington']"
      ],
      "execution_count": 6,
      "outputs": []
    },
    {
      "cell_type": "code",
      "metadata": {
        "colab": {
          "base_uri": "https://localhost:8080/",
          "height": 195
        },
        "id": "oLS8g7Hf_hmm",
        "outputId": "b61695c0-d430-4662-f3f6-1a19db27d3f1"
      },
      "source": [
        "contig_df = zips_trunc[zips_trunc['state_name'].isin(want)]\n",
        "contig_df = contig_df.reset_index()\n",
        "contig_df = contig_df.drop(columns='index')\n",
        "contig_df.head()\n"
      ],
      "execution_count": 7,
      "outputs": [
        {
          "output_type": "execute_result",
          "data": {
            "text/html": [
              "<div>\n",
              "<style scoped>\n",
              "    .dataframe tbody tr th:only-of-type {\n",
              "        vertical-align: middle;\n",
              "    }\n",
              "\n",
              "    .dataframe tbody tr th {\n",
              "        vertical-align: top;\n",
              "    }\n",
              "\n",
              "    .dataframe thead th {\n",
              "        text-align: right;\n",
              "    }\n",
              "</style>\n",
              "<table border=\"1\" class=\"dataframe\">\n",
              "  <thead>\n",
              "    <tr style=\"text-align: right;\">\n",
              "      <th></th>\n",
              "      <th>zip</th>\n",
              "      <th>lat</th>\n",
              "      <th>lng</th>\n",
              "      <th>city</th>\n",
              "      <th>state_id</th>\n",
              "      <th>state_name</th>\n",
              "      <th>county_name</th>\n",
              "    </tr>\n",
              "  </thead>\n",
              "  <tbody>\n",
              "    <tr>\n",
              "      <th>0</th>\n",
              "      <td>1001</td>\n",
              "      <td>42.06259</td>\n",
              "      <td>-72.62589</td>\n",
              "      <td>Agawam</td>\n",
              "      <td>MA</td>\n",
              "      <td>Massachusetts</td>\n",
              "      <td>Hampden</td>\n",
              "    </tr>\n",
              "    <tr>\n",
              "      <th>1</th>\n",
              "      <td>1002</td>\n",
              "      <td>42.37492</td>\n",
              "      <td>-72.46210</td>\n",
              "      <td>Amherst</td>\n",
              "      <td>MA</td>\n",
              "      <td>Massachusetts</td>\n",
              "      <td>Hampshire</td>\n",
              "    </tr>\n",
              "    <tr>\n",
              "      <th>2</th>\n",
              "      <td>1003</td>\n",
              "      <td>42.39192</td>\n",
              "      <td>-72.52479</td>\n",
              "      <td>Amherst</td>\n",
              "      <td>MA</td>\n",
              "      <td>Massachusetts</td>\n",
              "      <td>Hampshire</td>\n",
              "    </tr>\n",
              "    <tr>\n",
              "      <th>3</th>\n",
              "      <td>1005</td>\n",
              "      <td>42.42017</td>\n",
              "      <td>-72.10615</td>\n",
              "      <td>Barre</td>\n",
              "      <td>MA</td>\n",
              "      <td>Massachusetts</td>\n",
              "      <td>Worcester</td>\n",
              "    </tr>\n",
              "    <tr>\n",
              "      <th>4</th>\n",
              "      <td>1007</td>\n",
              "      <td>42.27875</td>\n",
              "      <td>-72.40036</td>\n",
              "      <td>Belchertown</td>\n",
              "      <td>MA</td>\n",
              "      <td>Massachusetts</td>\n",
              "      <td>Hampshire</td>\n",
              "    </tr>\n",
              "  </tbody>\n",
              "</table>\n",
              "</div>"
            ],
            "text/plain": [
              "    zip       lat       lng         city state_id     state_name county_name\n",
              "0  1001  42.06259 -72.62589       Agawam       MA  Massachusetts     Hampden\n",
              "1  1002  42.37492 -72.46210      Amherst       MA  Massachusetts   Hampshire\n",
              "2  1003  42.39192 -72.52479      Amherst       MA  Massachusetts   Hampshire\n",
              "3  1005  42.42017 -72.10615        Barre       MA  Massachusetts   Worcester\n",
              "4  1007  42.27875 -72.40036  Belchertown       MA  Massachusetts   Hampshire"
            ]
          },
          "metadata": {
            "tags": []
          },
          "execution_count": 7
        }
      ]
    },
    {
      "cell_type": "code",
      "metadata": {
        "colab": {
          "base_uri": "https://localhost:8080/"
        },
        "id": "GdCYmX5f_hrT",
        "outputId": "3bc192ed-5a90-4404-e881-58405240eb21"
      },
      "source": [
        "len(contig_df['county_name'].unique())"
      ],
      "execution_count": 10,
      "outputs": [
        {
          "output_type": "execute_result",
          "data": {
            "text/plain": [
              "1797"
            ]
          },
          "metadata": {
            "tags": []
          },
          "execution_count": 10
        }
      ]
    },
    {
      "cell_type": "code",
      "metadata": {
        "id": "YI6KrWTYOpDg"
      },
      "source": [
        "contig_df.to_csv('/content/contigzips.csv', index = False, header=True)\n"
      ],
      "execution_count": 9,
      "outputs": []
    },
    {
      "cell_type": "code",
      "metadata": {
        "id": "1K1pEtbAOpGw",
        "colab": {
          "base_uri": "https://localhost:8080/",
          "height": 195
        },
        "outputId": "c6cd7db7-35c0-47b2-aa71-620a70b3ae6a"
      },
      "source": [
        "onecit_contigdf = contig_df.drop_duplicates(subset='county_name')\n",
        "onecit_contigdf.head()"
      ],
      "execution_count": 11,
      "outputs": [
        {
          "output_type": "execute_result",
          "data": {
            "text/html": [
              "<div>\n",
              "<style scoped>\n",
              "    .dataframe tbody tr th:only-of-type {\n",
              "        vertical-align: middle;\n",
              "    }\n",
              "\n",
              "    .dataframe tbody tr th {\n",
              "        vertical-align: top;\n",
              "    }\n",
              "\n",
              "    .dataframe thead th {\n",
              "        text-align: right;\n",
              "    }\n",
              "</style>\n",
              "<table border=\"1\" class=\"dataframe\">\n",
              "  <thead>\n",
              "    <tr style=\"text-align: right;\">\n",
              "      <th></th>\n",
              "      <th>zip</th>\n",
              "      <th>lat</th>\n",
              "      <th>lng</th>\n",
              "      <th>city</th>\n",
              "      <th>state_id</th>\n",
              "      <th>state_name</th>\n",
              "      <th>county_name</th>\n",
              "    </tr>\n",
              "  </thead>\n",
              "  <tbody>\n",
              "    <tr>\n",
              "      <th>0</th>\n",
              "      <td>1001</td>\n",
              "      <td>42.06259</td>\n",
              "      <td>-72.62589</td>\n",
              "      <td>Agawam</td>\n",
              "      <td>MA</td>\n",
              "      <td>Massachusetts</td>\n",
              "      <td>Hampden</td>\n",
              "    </tr>\n",
              "    <tr>\n",
              "      <th>1</th>\n",
              "      <td>1002</td>\n",
              "      <td>42.37492</td>\n",
              "      <td>-72.46210</td>\n",
              "      <td>Amherst</td>\n",
              "      <td>MA</td>\n",
              "      <td>Massachusetts</td>\n",
              "      <td>Hampshire</td>\n",
              "    </tr>\n",
              "    <tr>\n",
              "      <th>3</th>\n",
              "      <td>1005</td>\n",
              "      <td>42.42017</td>\n",
              "      <td>-72.10615</td>\n",
              "      <td>Barre</td>\n",
              "      <td>MA</td>\n",
              "      <td>Massachusetts</td>\n",
              "      <td>Worcester</td>\n",
              "    </tr>\n",
              "    <tr>\n",
              "      <th>16</th>\n",
              "      <td>1029</td>\n",
              "      <td>42.19632</td>\n",
              "      <td>-73.04836</td>\n",
              "      <td>East Otis</td>\n",
              "      <td>MA</td>\n",
              "      <td>Massachusetts</td>\n",
              "      <td>Berkshire</td>\n",
              "    </tr>\n",
              "    <tr>\n",
              "      <th>30</th>\n",
              "      <td>1054</td>\n",
              "      <td>42.47363</td>\n",
              "      <td>-72.48746</td>\n",
              "      <td>Leverett</td>\n",
              "      <td>MA</td>\n",
              "      <td>Massachusetts</td>\n",
              "      <td>Franklin</td>\n",
              "    </tr>\n",
              "  </tbody>\n",
              "</table>\n",
              "</div>"
            ],
            "text/plain": [
              "     zip       lat       lng       city state_id     state_name county_name\n",
              "0   1001  42.06259 -72.62589     Agawam       MA  Massachusetts     Hampden\n",
              "1   1002  42.37492 -72.46210    Amherst       MA  Massachusetts   Hampshire\n",
              "3   1005  42.42017 -72.10615      Barre       MA  Massachusetts   Worcester\n",
              "16  1029  42.19632 -73.04836  East Otis       MA  Massachusetts   Berkshire\n",
              "30  1054  42.47363 -72.48746   Leverett       MA  Massachusetts    Franklin"
            ]
          },
          "metadata": {
            "tags": []
          },
          "execution_count": 11
        }
      ]
    },
    {
      "cell_type": "code",
      "metadata": {
        "id": "PM6SMEvCOpLO",
        "colab": {
          "base_uri": "https://localhost:8080/"
        },
        "outputId": "06716d2b-e7ca-4115-bbcb-f0680c4d34e0"
      },
      "source": [
        "len(onecit_contigdf)"
      ],
      "execution_count": 12,
      "outputs": [
        {
          "output_type": "execute_result",
          "data": {
            "text/plain": [
              "1797"
            ]
          },
          "metadata": {
            "tags": []
          },
          "execution_count": 12
        }
      ]
    },
    {
      "cell_type": "code",
      "metadata": {
        "id": "p_HC2fh987Js"
      },
      "source": [
        "onecit_contigdf.to_csv('/content/onecit_zips.csv', index = False, header=True)\n"
      ],
      "execution_count": 13,
      "outputs": []
    }
  ]
}